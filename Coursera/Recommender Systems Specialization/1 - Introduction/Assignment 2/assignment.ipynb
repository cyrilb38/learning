{
 "cells": [
  {
   "cell_type": "code",
   "execution_count": 58,
   "metadata": {},
   "outputs": [],
   "source": [
    "import pandas as pd"
   ]
  },
  {
   "cell_type": "code",
   "execution_count": 59,
   "metadata": {},
   "outputs": [],
   "source": [
    "df = pd.read_excel(\"Assignment 2.xlsx\")"
   ]
  },
  {
   "cell_type": "code",
   "execution_count": 60,
   "metadata": {},
   "outputs": [],
   "source": [
    "df_count = df.loc[:,\"baseball\":\"family\"]"
   ]
  },
  {
   "cell_type": "code",
   "execution_count": 61,
   "metadata": {},
   "outputs": [],
   "source": [
    "df_user = df[df.columns[df.columns.str.contains(\"User\")]]"
   ]
  },
  {
   "cell_type": "markdown",
   "metadata": {},
   "source": [
    "Creation of profiles"
   ]
  },
  {
   "cell_type": "code",
   "execution_count": 62,
   "metadata": {},
   "outputs": [],
   "source": [
    "profiles = {}\n",
    "for user in df_user.columns:\n",
    "    profiles[user] = pd.DataFrame()\n",
    "    for c in df_count.columns:\n",
    "        profiles[user][c] = df_count[c] * df_user[user]\n",
    "    profiles[user] = profiles[user].sum().reset_index().rename(columns={0:user})"
   ]
  },
  {
   "cell_type": "code",
   "execution_count": 63,
   "metadata": {},
   "outputs": [
    {
     "data": {
      "text/html": [
       "<div>\n",
       "<style scoped>\n",
       "    .dataframe tbody tr th:only-of-type {\n",
       "        vertical-align: middle;\n",
       "    }\n",
       "\n",
       "    .dataframe tbody tr th {\n",
       "        vertical-align: top;\n",
       "    }\n",
       "\n",
       "    .dataframe thead th {\n",
       "        text-align: right;\n",
       "    }\n",
       "</style>\n",
       "<table border=\"1\" class=\"dataframe\">\n",
       "  <thead>\n",
       "    <tr style=\"text-align: right;\">\n",
       "      <th></th>\n",
       "      <th>index</th>\n",
       "      <th>User 1</th>\n",
       "    </tr>\n",
       "  </thead>\n",
       "  <tbody>\n",
       "    <tr>\n",
       "      <th>0</th>\n",
       "      <td>baseball</td>\n",
       "      <td>3.0</td>\n",
       "    </tr>\n",
       "    <tr>\n",
       "      <th>1</th>\n",
       "      <td>economics</td>\n",
       "      <td>-2.0</td>\n",
       "    </tr>\n",
       "    <tr>\n",
       "      <th>2</th>\n",
       "      <td>politics</td>\n",
       "      <td>-1.0</td>\n",
       "    </tr>\n",
       "    <tr>\n",
       "      <th>3</th>\n",
       "      <td>Europe</td>\n",
       "      <td>0.0</td>\n",
       "    </tr>\n",
       "    <tr>\n",
       "      <th>4</th>\n",
       "      <td>Asia</td>\n",
       "      <td>0.0</td>\n",
       "    </tr>\n",
       "    <tr>\n",
       "      <th>5</th>\n",
       "      <td>soccer</td>\n",
       "      <td>2.0</td>\n",
       "    </tr>\n",
       "    <tr>\n",
       "      <th>6</th>\n",
       "      <td>war</td>\n",
       "      <td>-1.0</td>\n",
       "    </tr>\n",
       "    <tr>\n",
       "      <th>7</th>\n",
       "      <td>security</td>\n",
       "      <td>-1.0</td>\n",
       "    </tr>\n",
       "    <tr>\n",
       "      <th>8</th>\n",
       "      <td>shopping</td>\n",
       "      <td>1.0</td>\n",
       "    </tr>\n",
       "    <tr>\n",
       "      <th>9</th>\n",
       "      <td>family</td>\n",
       "      <td>0.0</td>\n",
       "    </tr>\n",
       "  </tbody>\n",
       "</table>\n",
       "</div>"
      ],
      "text/plain": [
       "       index  User 1\n",
       "0   baseball     3.0\n",
       "1  economics    -2.0\n",
       "2   politics    -1.0\n",
       "3     Europe     0.0\n",
       "4       Asia     0.0\n",
       "5     soccer     2.0\n",
       "6        war    -1.0\n",
       "7   security    -1.0\n",
       "8   shopping     1.0\n",
       "9     family     0.0"
      ]
     },
     "execution_count": 63,
     "metadata": {},
     "output_type": "execute_result"
    }
   ],
   "source": [
    "profiles[\"User 1\"]"
   ]
  },
  {
   "cell_type": "code",
   "execution_count": 64,
   "metadata": {},
   "outputs": [],
   "source": [
    "profiles = pd.merge(profiles[\"User 1\"], profiles[\"User 2\"], on=\"index\").set_index(\"index\")"
   ]
  },
  {
   "cell_type": "code",
   "execution_count": 65,
   "metadata": {},
   "outputs": [
    {
     "data": {
      "text/plain": [
       "index\n",
       "baseball     3.0\n",
       "economics   -2.0\n",
       "politics    -1.0\n",
       "Europe       0.0\n",
       "Asia         0.0\n",
       "soccer       2.0\n",
       "war         -1.0\n",
       "security    -1.0\n",
       "shopping     1.0\n",
       "family       0.0\n",
       "Name: User 1, dtype: float64"
      ]
     },
     "execution_count": 65,
     "metadata": {},
     "output_type": "execute_result"
    }
   ],
   "source": [
    "profiles[\"User 1\"]"
   ]
  },
  {
   "cell_type": "code",
   "execution_count": 66,
   "metadata": {},
   "outputs": [
    {
     "data": {
      "text/plain": [
       "1    -4.0\n",
       "16   -4.0\n",
       "18   -4.0\n",
       "9    -3.0\n",
       "3    -3.0\n",
       "13   -2.0\n",
       "12   -2.0\n",
       "7    -2.0\n",
       "19   -1.0\n",
       "6    -1.0\n",
       "4    -1.0\n",
       "10    0.0\n",
       "14    0.0\n",
       "17    1.0\n",
       "2     2.0\n",
       "5     3.0\n",
       "8     3.0\n",
       "11    4.0\n",
       "0     4.0\n",
       "15    6.0\n",
       "dtype: float64"
      ]
     },
     "execution_count": 66,
     "metadata": {},
     "output_type": "execute_result"
    }
   ],
   "source": [
    "df_count.apply(lambda x: x * profiles[\"User 1\"], axis=1).sum(axis=1).sort_values()"
   ]
  },
  {
   "cell_type": "code",
   "execution_count": 78,
   "metadata": {},
   "outputs": [
    {
     "data": {
      "text/plain": [
       "4"
      ]
     },
     "execution_count": 78,
     "metadata": {},
     "output_type": "execute_result"
    }
   ],
   "source": [
    "(df_count.apply(lambda x: x * profiles[\"User 2\"], axis=1).sum(axis=1).sort_values() < 0).sum()"
   ]
  },
  {
   "cell_type": "markdown",
   "metadata": {},
   "source": [
    "Part 2"
   ]
  },
  {
   "cell_type": "code",
   "execution_count": 68,
   "metadata": {},
   "outputs": [],
   "source": [
    "df_count_norm2 = df_count.apply(lambda x: x / (x.sum() ** 0.5), axis=1)"
   ]
  },
  {
   "cell_type": "code",
   "execution_count": 69,
   "metadata": {},
   "outputs": [],
   "source": [
    "profiles_norm2 = {}\n",
    "for user in df_user.columns:\n",
    "    profiles_norm2[user] = pd.DataFrame()\n",
    "    for c in df_count_norm2.columns:\n",
    "        profiles_norm2[user][c] = df_count_norm2[c] * df_user[user]\n",
    "    profiles_norm2[user] = profiles_norm2[user].sum().reset_index().rename(columns={0:user})"
   ]
  },
  {
   "cell_type": "code",
   "execution_count": 70,
   "metadata": {},
   "outputs": [],
   "source": [
    "profiles_norm2 = pd.merge(profiles_norm2[\"User 1\"], profiles_norm2[\"User 2\"], on=\"index\").set_index(\"index\")"
   ]
  },
  {
   "cell_type": "code",
   "execution_count": 71,
   "metadata": {},
   "outputs": [
    {
     "data": {
      "text/plain": [
       "1    -0.870053\n",
       "16   -0.870053\n",
       "18   -0.847214\n",
       "9    -0.805073\n",
       "3    -0.620053\n",
       "12   -0.396447\n",
       "7    -0.370053\n",
       "6    -0.353553\n",
       "13   -0.331378\n",
       "4    -0.213541\n",
       "19   -0.081378\n",
       "10    0.044658\n",
       "14    0.142229\n",
       "17    0.554695\n",
       "2     0.711105\n",
       "0     1.009019\n",
       "8     1.132724\n",
       "11    1.333114\n",
       "5     1.370923\n",
       "15    1.924646\n",
       "dtype: float64"
      ]
     },
     "execution_count": 71,
     "metadata": {},
     "output_type": "execute_result"
    }
   ],
   "source": [
    "df_count_norm2.apply(lambda x: x * profiles_norm2[\"User 1\"], axis=1).sum(axis=1).sort_values()"
   ]
  },
  {
   "cell_type": "code",
   "execution_count": 72,
   "metadata": {},
   "outputs": [
    {
     "data": {
      "text/plain": [
       "11   -1.227723\n",
       "15   -1.183064\n",
       "0    -0.845577\n",
       "8    -0.724476\n",
       "2     0.016294\n",
       "9     0.274493\n",
       "4     0.319151\n",
       "5     0.336184\n",
       "10    0.349628\n",
       "18    0.483442\n",
       "6     0.744432\n",
       "14    0.949043\n",
       "7     1.014111\n",
       "17    1.060660\n",
       "19    1.237718\n",
       "13    1.776393\n",
       "12    1.802786\n",
       "3     1.987718\n",
       "1     2.526393\n",
       "16    2.526393\n",
       "dtype: float64"
      ]
     },
     "execution_count": 72,
     "metadata": {},
     "output_type": "execute_result"
    }
   ],
   "source": [
    "df_count_norm2.apply(lambda x: x * profiles_norm2[\"User 2\"], axis=1).sum(axis=1).sort_values()"
   ]
  },
  {
   "cell_type": "markdown",
   "metadata": {},
   "source": [
    "### Part 3"
   ]
  },
  {
   "cell_type": "code",
   "execution_count": 76,
   "metadata": {},
   "outputs": [],
   "source": [
    "idf = 1 / df_count.sum()"
   ]
  },
  {
   "cell_type": "code",
   "execution_count": 77,
   "metadata": {},
   "outputs": [
    {
     "data": {
      "text/plain": [
       "1    -0.136187\n",
       "16   -0.136187\n",
       "9    -0.128031\n",
       "18   -0.121533\n",
       "3    -0.089197\n",
       "6    -0.058926\n",
       "12   -0.057253\n",
       "13   -0.053281\n",
       "7    -0.047530\n",
       "4    -0.043527\n",
       "19   -0.006291\n",
       "10    0.018752\n",
       "14    0.021184\n",
       "17    0.071635\n",
       "2     0.109459\n",
       "8     0.179067\n",
       "0     0.247612\n",
       "11    0.311648\n",
       "5     0.319432\n",
       "15    0.396153\n",
       "dtype: float64"
      ]
     },
     "execution_count": 77,
     "metadata": {},
     "output_type": "execute_result"
    }
   ],
   "source": [
    "df_count_norm2.apply(lambda x: x * profiles_norm2[\"User 1\"] * idf, axis=1).sum(axis=1).sort_values()"
   ]
  },
  {
   "cell_type": "code",
   "execution_count": null,
   "metadata": {},
   "outputs": [],
   "source": []
  }
 ],
 "metadata": {
  "kernelspec": {
   "display_name": "base",
   "language": "python",
   "name": "python3"
  },
  "language_info": {
   "codemirror_mode": {
    "name": "ipython",
    "version": 3
   },
   "file_extension": ".py",
   "mimetype": "text/x-python",
   "name": "python",
   "nbconvert_exporter": "python",
   "pygments_lexer": "ipython3",
   "version": "3.10.9"
  }
 },
 "nbformat": 4,
 "nbformat_minor": 2
}
