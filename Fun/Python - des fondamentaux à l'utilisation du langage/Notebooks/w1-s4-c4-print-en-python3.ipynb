{
 "cells": [
  {
   "cell_type": "markdown",
   "metadata": {},
   "source": [
    "<span style=\"float:left;\">Licence CC BY-NC-ND</span><span style=\"float:right;\">Thierry Parmentelat &amp; Arnaud Legout&nbsp;<img src=\"media/inria-25.png\" style=\"display:inline\"></span><br/>"
   ]
  },
  {
   "cell_type": "markdown",
   "metadata": {},
   "source": [
    "# `print` entre python2 et python3"
   ]
  },
  {
   "cell_type": "markdown",
   "metadata": {},
   "source": [
    "## Complément - niveau avancé"
   ]
  },
  {
   "cell_type": "markdown",
   "metadata": {},
   "source": [
    "Ce complément est destiné aux étudiants qui s'intéressent à python3, et qui voudraient dès le départ prendre l'habitude d'utiliser `print` comme elle existe en python3, c'est-à-dire comme une fonction.\n",
    "\n",
    "N'hésitez pas à passer ce complément si vous n'êtes pas concerné par ce sujet."
   ]
  },
  {
   "cell_type": "markdown",
   "metadata": {},
   "source": [
    "**Notez toutefois** que les différences entre python2 et python3 ne se limitent pas à `print`. Si vous commencez python aujourd'hui, il peut en effet être une bonne idée d'utiliser `print` comme une fonction, mais restez conscient que ce cours est sur python2, et qu'il ne suffit pas de mettre des parenthèses autour de `print` pour transformer votre code en python3."
   ]
  },
  {
   "cell_type": "markdown",
   "metadata": {},
   "source": [
    "### Les comportements de `print`"
   ]
  },
  {
   "cell_type": "markdown",
   "metadata": {},
   "source": [
    "Après ce préambule, sachez que la différence la plus visible entre python2 et python3 est certainement avec `print`:"
   ]
  },
  {
   "cell_type": "markdown",
   "metadata": {},
   "source": [
    "##### python2"
   ]
  },
  {
   "cell_type": "markdown",
   "metadata": {},
   "source": [
    "En python2 `print` est une **instruction**"
   ]
  },
  {
   "cell_type": "markdown",
   "metadata": {},
   "source": [
    "    >>> import sys\n",
    "    >>> sys.version\n",
    "    '2.7.8 (default, Jul 13 2014, 17:11:32) \\n[GCC 4.2.1 Compatible Apple LLVM 5.1 (clang-503.0.40)]'\n",
    "    >>> print \"Hello\", \"World\"\n",
    "    Hello World"
   ]
  },
  {
   "cell_type": "markdown",
   "metadata": {},
   "source": [
    "et comme c'est une instruction on ne peut pas comparer son résultat avec autre chose - ici 0"
   ]
  },
  {
   "cell_type": "markdown",
   "metadata": {},
   "source": [
    "    >>> 0 == print \"Hello\", \"World\"\n",
    "      File \"<stdin>\", line 1\n",
    "        0 == print \"Hello\", \"World\"\n",
    "                 ^\n",
    "    SyntaxError: invalid syntax"
   ]
  },
  {
   "cell_type": "markdown",
   "metadata": {},
   "source": [
    "##### python3"
   ]
  },
  {
   "cell_type": "markdown",
   "metadata": {},
   "source": [
    "Alors qu'en python3 `print` est une **fonction** (et donc une **expression**)"
   ]
  },
  {
   "cell_type": "markdown",
   "metadata": {},
   "source": [
    "    >>> import sys\n",
    "    >>> sys.version\n",
    "    '3.4.1 (default, Sep 20 2014, 19:44:17) \\n[GCC 4.2.1 Compatible Apple LLVM 5.1 (clang-503.0.40)]'\n",
    "    >>> print(\"Hello\",\"World\")\n",
    "    Hello World"
   ]
  },
  {
   "cell_type": "markdown",
   "metadata": {},
   "source": [
    "et comme toute expression elle retourne une valeur qu'on peut comparer - ici encore avec 0"
   ]
  },
  {
   "cell_type": "markdown",
   "metadata": {},
   "source": [
    "    >>> 0 == print(\"Hello\",\"World\")\n",
    "    Hello World\n",
    "    False"
   ]
  },
  {
   "cell_type": "markdown",
   "metadata": {},
   "source": [
    "### Compatibilité avec `__future__`"
   ]
  },
  {
   "cell_type": "markdown",
   "metadata": {},
   "source": [
    "Il existe en python2 une couche de compatibilité, le module `__future__`, dont le but est de gommer les différences entre les deux versions. Ainsi si vous le souhaitez vous pouvez écrire du code python2 qui \"voit\" `print` comme une fonction en important ceci"
   ]
  },
  {
   "cell_type": "markdown",
   "metadata": {},
   "source": [
    "    from __future__ import print_function"
   ]
  },
  {
   "cell_type": "markdown",
   "metadata": {},
   "source": [
    "Après quoi vous pouver utilisez `print` comme si vous écriviez du python3"
   ]
  },
  {
   "cell_type": "markdown",
   "metadata": {},
   "source": [
    "    >>> import sys\n",
    "    >>> sys.version\n",
    "    '2.7.8 (default, Jul 13 2014, 17:11:32) \\n[GCC 4.2.1 Compatible Apple LLVM 5.1 (clang-503.0.40)]'\n",
    "    >>>\n",
    "    >>> from __future__ import print_function\n",
    "    >>>\n",
    "    >>> print(\"Hello\",\"World\")\n",
    "    Hello World"
   ]
  },
  {
   "cell_type": "markdown",
   "metadata": {},
   "source": [
    "### Remarque"
   ]
  },
  {
   "cell_type": "markdown",
   "metadata": {},
   "source": [
    "Si vous utilisez python2 et que **vous ne mentionnez pas cet import**, vous pouvez avoir l'**impression** qu'il est inutile:"
   ]
  },
  {
   "cell_type": "markdown",
   "metadata": {},
   "source": [
    "    >>> import sys\n",
    "    >>> sys.version\n",
    "    '2.7.8 (default, Jul 13 2014, 17:11:32) \\n[GCC 4.2.1 Compatible Apple LLVM 5.1 (clang-503.0.40)]'\n",
    "    >>>\n",
    "    >>> print(\"Hello\")\n",
    "    Hello"
   ]
  },
  {
   "cell_type": "markdown",
   "metadata": {},
   "source": [
    "En fait ce qui se passe ici, c'est que les parenthèses sont considérées dans leur rôle habituel de groupement dans les expressions; cela rejoint la discussion que l'on aura sur les tuples; en fait les parenthèses ne jouent aucun rôle ici, exactement comme dans"
   ]
  },
  {
   "cell_type": "code",
   "execution_count": null,
   "metadata": {
    "collapsed": false
   },
   "outputs": [],
   "source": [
    "(\"Hello\")"
   ]
  },
  {
   "cell_type": "markdown",
   "metadata": {},
   "source": [
    "Si bien qu'avec plusieurs arguments - plus exactement avec l'illusion d'appeler `print` avec plusieurs arguments:"
   ]
  },
  {
   "cell_type": "code",
   "execution_count": null,
   "metadata": {
    "collapsed": false
   },
   "outputs": [],
   "source": [
    "print(\"Hello\", \"World\")"
   ]
  },
  {
   "cell_type": "markdown",
   "metadata": {},
   "source": [
    "les parenthèses présentes dans la sortie vous indiquent qu'en fait on a construit un objet qui est un tuple, et qu'on l'a passé à l'**instruction** `print`; bref, on ne peut pas utiliser `print` dans une expression"
   ]
  },
  {
   "cell_type": "code",
   "execution_count": null,
   "metadata": {
    "collapsed": false
   },
   "outputs": [],
   "source": [
    "0 == print(\"Hello\", \"World\")"
   ]
  },
  {
   "cell_type": "markdown",
   "metadata": {},
   "source": [
    "Une fois l'import chargé, tout fonctionne vraiment comme en python3"
   ]
  },
  {
   "cell_type": "code",
   "execution_count": null,
   "metadata": {
    "collapsed": false
   },
   "outputs": [],
   "source": [
    "from __future__ import print_function\n",
    "\n",
    "0 == print(\"Hello\", \"World\")"
   ]
  }
 ],
 "metadata": {
  "kernelspec": {
   "display_name": "Python 2",
   "language": "python",
   "name": "python2"
  },
  "language_info": {
   "codemirror_mode": {
    "name": "ipython",
    "version": 2
   },
   "file_extension": ".py",
   "mimetype": "text/x-python",
   "name": "python",
   "nbconvert_exporter": "python",
   "pygments_lexer": "ipython2",
   "version": "2.7.12"
  },
  "notebookname": "print en python-2 et -3",
  "version": "2.0"
 },
 "nbformat": 4,
 "nbformat_minor": 0
}