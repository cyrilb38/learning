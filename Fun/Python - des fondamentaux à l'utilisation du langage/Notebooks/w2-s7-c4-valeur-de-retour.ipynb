{
 "cells": [
  {
   "cell_type": "markdown",
   "metadata": {},
   "source": [
    "<span style=\"float:left;\">Licence CC BY-NC-ND</span><span style=\"float:right;\">Thierry Parmentelat &amp; Arnaud Legout&nbsp;<img src=\"media/inria-25.png\" style=\"display:inline\"></span><br/>"
   ]
  },
  {
   "cell_type": "markdown",
   "metadata": {},
   "source": [
    "# Fonctions avec ou sans valeur de retour"
   ]
  },
  {
   "cell_type": "markdown",
   "metadata": {},
   "source": [
    "## Complément - niveau basique"
   ]
  },
  {
   "cell_type": "markdown",
   "metadata": {},
   "source": [
    "### Le style procédural"
   ]
  },
  {
   "cell_type": "markdown",
   "metadata": {},
   "source": [
    "Une procédure est une fonction qui se contente de dérouler des instructions. Prenons un exemple d'une telle fonction"
   ]
  },
  {
   "cell_type": "code",
   "execution_count": null,
   "metadata": {
    "collapsed": false
   },
   "outputs": [],
   "source": [
    "def affiche_carre(n):\n",
    "    print \"le carre de\", n, \"vaut\", n*n"
   ]
  },
  {
   "cell_type": "markdown",
   "metadata": {},
   "source": [
    "qui s'utiliserait comme ceci"
   ]
  },
  {
   "cell_type": "code",
   "execution_count": null,
   "metadata": {
    "collapsed": false
   },
   "outputs": [],
   "source": [
    "affiche_carre(12)"
   ]
  },
  {
   "cell_type": "markdown",
   "metadata": {},
   "source": [
    "### Le style fonctionnel"
   ]
  },
  {
   "cell_type": "markdown",
   "metadata": {},
   "source": [
    "Mais en fait, il serait dans notre cas beaucoup plus commode de définir une fonction qui retourne le carré d'un nombre, afin de pouvoir écrire quelque chose comme"
   ]
  },
  {
   "cell_type": "markdown",
   "metadata": {},
   "source": [
    "    carre15 = carre(15)"
   ]
  },
  {
   "cell_type": "markdown",
   "metadata": {},
   "source": [
    "quitte à imprimer cette valeur ensuite si nécessaire - même si jusqu'ici nous avons fait beaucoup appel à `print`, dans la pratique, imprimer n'est pas un but en soi, au contraire bien souvent."
   ]
  },
  {
   "cell_type": "markdown",
   "metadata": {},
   "source": [
    "### L'instruction `return`"
   ]
  },
  {
   "cell_type": "markdown",
   "metadata": {},
   "source": [
    "Voici comment on pourrait écrire une fonction `carre` qui renvoie le carré de son argument:"
   ]
  },
  {
   "cell_type": "code",
   "execution_count": null,
   "metadata": {
    "collapsed": false
   },
   "outputs": [],
   "source": [
    "def carre(n):\n",
    "    return n*n\n",
    "\n",
    "if carre(8) <= 100: \n",
    "    print 'petit appartement'"
   ]
  },
  {
   "cell_type": "markdown",
   "metadata": {},
   "source": [
    "La sémantique (le mot savant pour \"comportement\") de l'instruction `return` est assez simple. La fonction qui est en cours d'exécution s'achève tout de suite, et l'objet passé en argument à `return` est retourné à l'appelant, qui peut utiliser cette valeur comme n'importe quelle expression. "
   ]
  },
  {
   "cell_type": "markdown",
   "metadata": {},
   "source": [
    "### Le singleton `None`"
   ]
  },
  {
   "cell_type": "markdown",
   "metadata": {},
   "source": [
    "Le terme même de fonction, si vous vous rappelez vos souvenirs de mathématiques, suggère qu'on calcule un résultat à partir de valeurs d'entrée. Dans la pratique il est assez rare qu'on définisse une fonction qui ne retourne rien."
   ]
  },
  {
   "cell_type": "markdown",
   "metadata": {},
   "source": [
    "En fait **toutes** les fonctions retournent quelque chose. Lorsque le programmeur n'a pas prévu d'instruction `return`, python retourne un objet spécial, baptisé `None`. Voici par exemple ce qu'on obtient si on essaie d'afficher la valeur de retour de notre première fonction, qui, on le rappelle, ne retourne rien:"
   ]
  },
  {
   "cell_type": "code",
   "execution_count": null,
   "metadata": {
    "collapsed": false
   },
   "outputs": [],
   "source": [
    "carre15 = affiche_carre(15)\n",
    "print 'carre15=', carre15"
   ]
  },
  {
   "cell_type": "markdown",
   "metadata": {},
   "source": [
    "Ceci est notre première rencontre avec l'objet `None`, qui est un singleton prédéfini par python, un peu comme `True` et `False`. Ce n'est pas par contre une valeur booléenne, nous aurons l'occasion d'en reparler."
   ]
  },
  {
   "cell_type": "markdown",
   "metadata": {},
   "source": [
    "### Un exemple un peu plus réaliste"
   ]
  },
  {
   "cell_type": "markdown",
   "metadata": {},
   "source": [
    "Pour illustrer l'utilisation de `return` sur un exemple plus utile, voyons le code suivant"
   ]
  },
  {
   "cell_type": "code",
   "execution_count": null,
   "metadata": {
    "collapsed": false
   },
   "outputs": [],
   "source": [
    "def premier(n):\n",
    "    \"\"\"Retourne un booléen selon que n est premier ou non\n",
    "Retourne None pour les entrées négatives ou nulles\"\"\"\n",
    "    # retourner None pour les entrées non valides\n",
    "    if n <= 0:\n",
    "        return\n",
    "    # traiter le cas singulier\n",
    "    elif n == 1:\n",
    "        return False\n",
    "    # chercher un diviseur dans [2..n-1]\n",
    "    else:\n",
    "        for i in range(2,n):\n",
    "            if n%i == 0:\n",
    "                # on a trouve un diviseur\n",
    "                return False\n",
    "    # a ce stade c'est que le nombre est bien premier\n",
    "    return True"
   ]
  },
  {
   "cell_type": "markdown",
   "metadata": {},
   "source": [
    "Cette fonction teste si un entier est premier ou non; il s'agit naturellement d'une version d'école, il existe bien entendu d'autres méthodes beaucoup plus adaptées à cette tâche. On peut toutefois vérifier que cette version est fonctionnelle pour de petits entiers comme suit. On rappelle que 1 n'est pas considéré comme un nombre premier:"
   ]
  },
  {
   "cell_type": "code",
   "execution_count": null,
   "metadata": {
    "collapsed": false
   },
   "outputs": [],
   "source": [
    "for test in [-2, 1, 2, 4, 19, 35]:\n",
    "    print \"n\", test, \"premier\", premier(test)"
   ]
  },
  {
   "cell_type": "markdown",
   "metadata": {},
   "source": [
    "##### `return` sans valeur "
   ]
  },
  {
   "cell_type": "markdown",
   "metadata": {},
   "source": [
    "Pour les besoins de cette discussion, nous avons choisi de retourner `None` pour les entiers négatifs ou nuls, une manière comme une autre de signaler que la valeur en entrée n'est pas valide. \n",
    "\n",
    "Ceci n'est pas forcément une bonne pratique, mais elle nous permet ici d'illustrer que dans le cas ou on ne mentionne pas de valeur de retour, python retourne `None`. "
   ]
  },
  {
   "cell_type": "markdown",
   "metadata": {},
   "source": [
    "##### `return` interrompt la fonction"
   ]
  },
  {
   "cell_type": "markdown",
   "metadata": {},
   "source": [
    "Comme on peut s'en convaincre en instrumentant le code - que vous pouvez faire à titre d'exercice, dans le cas d'un nombre qui n'est pas premier la boucle for ne va pas jusqu'à son terme"
   ]
  },
  {
   "cell_type": "markdown",
   "metadata": {},
   "source": [
    "On aurait pu d'ailleurs tirer profit de cette propriété pour écrire la fonction de manière légèrement différente comme ceci"
   ]
  },
  {
   "cell_type": "code",
   "execution_count": null,
   "metadata": {
    "collapsed": false
   },
   "outputs": [],
   "source": [
    "def premier_bis(n):\n",
    "    \"\"\"Retourne un booléen selon que n est premier ou non\n",
    "Retourne None pour les entrées négatives ou nulles\"\"\"\n",
    "    # retourner None pour les entrées non valides\n",
    "    if n <= 0:\n",
    "        return\n",
    "    # traiter le cas singulier\n",
    "    if n == 1:\n",
    "        return False\n",
    "    # chercher un diviseur dans [2..n-1]\n",
    "    for i in range(2, n):\n",
    "        if n%i == 0:\n",
    "            # on a trouve un diviseur\n",
    "            return False\n",
    "    # a ce stade c'est que le nombre est bien premier\n",
    "    return True"
   ]
  },
  {
   "cell_type": "markdown",
   "metadata": {},
   "source": [
    "Ici encore c'est une question de style et de goût. En tous cas, les deux versions sont tout à fait équivalentes, comme on le voit ici"
   ]
  },
  {
   "cell_type": "code",
   "execution_count": null,
   "metadata": {
    "collapsed": false
   },
   "outputs": [],
   "source": [
    "for test in [-2, 2, 4, 19, 35]:\n",
    "    print \"n\", test, premier(test) == premier_bis(test)"
   ]
  }
 ],
 "metadata": {
  "kernelspec": {
   "display_name": "Python 2",
   "language": "python",
   "name": "python2"
  },
  "notebookname": "Valeurs de retour",
  "version": "2.0"
 },
 "nbformat": 4,
 "nbformat_minor": 0
}