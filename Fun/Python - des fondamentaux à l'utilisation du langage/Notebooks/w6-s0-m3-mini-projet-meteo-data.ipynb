{
 "cells": [
  {
   "cell_type": "markdown",
   "metadata": {},
   "source": [
    "<span style=\"float:left;\">Licence CC BY-NC-ND</span><span style=\"float:right;\">Thierry Parmentelat &amp; Arnaud Legout&nbsp;<img src=\"media/inria-25.png\" style=\"display:inline\"></span><br/>"
   ]
  },
  {
   "cell_type": "markdown",
   "metadata": {},
   "source": [
    "# Visualisation de données météo"
   ]
  },
  {
   "cell_type": "markdown",
   "metadata": {},
   "source": [
    "## Mini-Projet"
   ]
  },
  {
   "cell_type": "markdown",
   "metadata": {},
   "source": [
    "### Introduction"
   ]
  },
  {
   "cell_type": "markdown",
   "metadata": {},
   "source": [
    "Ce mini-projet vise à vous donner accès à des données assez riches pour vous permettre d'expérimenter avec `matplotlib`, et mettre en oeuvre une visualisation de données en 2D et en 3D."
   ]
  },
  {
   "cell_type": "markdown",
   "metadata": {},
   "source": [
    "Nous allons pour cela travailler avec des données obtenues auprès de [OpenWeatherMap](https://openweathermap.desk.com). \n",
    "\n",
    "Spécifiquement, ce site publie un échantillon statique de données qui est disponible à cette URL \n",
    "\n",
    "    http://78.46.48.103/sample/daily_14.json.gz\n",
    "    \n",
    "Comme nous le verrons plus bas, il n'est pas nécessaire pour vous d'aller chercher ces données chez OpenWeatherMap, nous les republions à plusieurs échelles. L'échantillon complet couvre le monde entier et expose des données météo sur une période d'environ deux semaines en Mars 2014. "
   ]
  },
  {
   "cell_type": "markdown",
   "metadata": {},
   "source": [
    "***"
   ]
  },
  {
   "cell_type": "markdown",
   "metadata": {},
   "source": [
    "### `matplotlib`"
   ]
  },
  {
   "cell_type": "markdown",
   "metadata": {},
   "source": [
    "Par manque de temps nous n'avons pas pu introduire `matplotlib` dans une vidéo ou un complément. Nous allons en dire quelques mots (très rapides), si vous n'avez aucune idée de comment l'utiliser."
   ]
  },
  {
   "cell_type": "markdown",
   "metadata": {},
   "source": [
    "Que vous choisissiez ce sujet ou non, le point important ici est qu'une fois que vous avez obtenu des données avec votre programme python - et pourvu que vous ayez installé `matplotlib` qui ne fait pas partie de la librairie standard -, vous avez à votre disposition un outil très puissant et vraiment très simple pour visualiser très rapidement ces données sous des formes diverses.\n"
   ]
  },
  {
   "cell_type": "markdown",
   "metadata": {},
   "source": [
    "Pour toute la suite je vous recommande d'avoir sous la main\n",
    " * [le tutoriel matplotlib](http://matplotlib.org/users/pyplot_tutorial.html)\n",
    " * [la documentation `matplotlib`](http://matplotlib.org/api/pyplot_api.html)\n",
    " * [le tutorial pour les visualisation 3D](http://matplotlib.org/mpl_toolkits/mplot3d/tutorial.html)"
   ]
  },
  {
   "cell_type": "markdown",
   "metadata": {},
   "source": [
    "Toutes les fonctions de visualisation attendent en argument des listes de valeurs pour X, pour Y, et le cas échéant pour Z. La plupart du temps vous pouvez obtenir une visualisation simplement en choissisant la fonction (par exemple `plot` affiche les données avec une courbe standard, `bar` affiche les données en barres ..) et en passant X et Y; voyons cela&nbsp;:"
   ]
  },
  {
   "cell_type": "code",
   "execution_count": null,
   "metadata": {
    "collapsed": false
   },
   "outputs": [],
   "source": [
    "import matplotlib.pyplot as plot\n",
    "\n",
    "import math"
   ]
  },
  {
   "cell_type": "code",
   "execution_count": null,
   "metadata": {
    "collapsed": false
   },
   "outputs": [],
   "source": [
    "# on découpe à la main l'intervalle [0, 6.3] en pas de 0.1\n",
    "X = [ 0.1 * x for x in range (64)]\n",
    "# les valeurs de sin() correspondantes\n",
    "Y = [ math.sin(x) for x in X]\n",
    "\n",
    "# une courbe qui représente sin(x) entre 0 et 2.pi\n",
    "plot.plot(X, Y)"
   ]
  },
  {
   "cell_type": "markdown",
   "metadata": {},
   "source": [
    "Vous voyez que `matplotlib` s'occupe de montrer les échelles, etc... Vous avez la possiblité de modifier ce rendu par défaut mais dans la plupart des cas, vous obtenez de cette façon quelque chose de raisonnablement bien présenté."
   ]
  },
  {
   "cell_type": "markdown",
   "metadata": {},
   "source": [
    "##### `show()`"
   ]
  },
  {
   "cell_type": "markdown",
   "metadata": {},
   "source": [
    "Dans le contexte des notebooks cela n'est pas nécessaire mais dans votre application n'oubliez pas d'invoquer la méthode `matplotlib.pyplot.show()` pour que votre illustration s'affiche."
   ]
  },
  {
   "cell_type": "markdown",
   "metadata": {},
   "source": [
    "### `numpy`"
   ]
  },
  {
   "cell_type": "markdown",
   "metadata": {},
   "source": [
    "Comme vous le voyez il n'est pas nécessaire d'utiliser `numpy` pour visualiser des données.\n",
    "\n",
    "Nous n'utilisons pas du tout `numpy` dans cet exercice, mais sachez tout de même, si par ailleurs vous utilisez déjà `numpy`, que le mécanisme de passage de données est très commode avec `numpy`, qui manipule déjà nativement les données sous cette forme."
   ]
  },
  {
   "cell_type": "code",
   "execution_count": null,
   "metadata": {
    "collapsed": false
   },
   "outputs": [],
   "source": [
    "import numpy"
   ]
  },
  {
   "cell_type": "code",
   "execution_count": null,
   "metadata": {
    "collapsed": false
   },
   "outputs": [],
   "source": [
    "# avec la méthode `numpy.linspace` \n",
    "# on peut facilement découper \n",
    "# un intervalle en morceaux\n",
    "numpy.linspace(0, 10, 21)"
   ]
  },
  {
   "cell_type": "code",
   "execution_count": null,
   "metadata": {
    "collapsed": false
   },
   "outputs": [],
   "source": [
    "# aussi pour afficher une fonction\n",
    "# sur un intervalle c'est extrêmement simple\n",
    "\n",
    "X = numpy.linspace (0, 2*numpy.pi, 101 )\n",
    "\n",
    "# d'autant que les fonctions numpy \n",
    "# font implicitement l'équivalent de `map`\n",
    "# sur la liste d'entrée\n",
    "\n",
    "plot.plot (X, numpy.sin(X))"
   ]
  },
  {
   "cell_type": "markdown",
   "metadata": {},
   "source": [
    "### En 3D"
   ]
  },
  {
   "cell_type": "markdown",
   "metadata": {},
   "source": [
    "On peut tout aussi simplement visualiser des données en 3D, voici un exemple de visualisation en 3D d'une gaussienne, que nous montrons ici à une échelle 6 pour simplifier le code\n",
    "\n",
    "$ z = e^{-(x^2+y^2)/36}$\n"
   ]
  },
  {
   "cell_type": "code",
   "execution_count": null,
   "metadata": {
    "collapsed": false
   },
   "outputs": [],
   "source": [
    "import math\n",
    "from itertools import product\n",
    "\n",
    "# la grille de départ en X et en Y\n",
    "xscale = range ( -10, 11 )\n",
    "yscale = range ( -10, 11 )\n",
    "\n",
    "# tous les points X,Y (soit 21 x 21 = 441 au total )\n",
    "# il faut recréer un itérateur pour chaque boucle\n",
    "def XY():\n",
    "    return product(xscale, yscale)\n",
    "\n",
    "# on calcule les tableaux d'entrée pour matplotlib\n",
    "X = [ x for x, y in XY() ]\n",
    "Y = [ y for x, y in XY() ]\n",
    "Z = [ math.exp(-(x**2+y**2)/36.) for x, y in XY() ]\n"
   ]
  },
  {
   "cell_type": "markdown",
   "metadata": {},
   "source": [
    "Ici encore, il y a une différence de comportement entre le rendu dans un notebook qui est statique, et ce que vous obtenez sur votre ordinateur; dans ce dernier cas vous pouvez \"faire tourner\" la figure en 3D pour la voir sous l'angle que vous voulez."
   ]
  },
  {
   "cell_type": "code",
   "execution_count": null,
   "metadata": {
    "collapsed": false
   },
   "outputs": [],
   "source": [
    "### la visu \n",
    "from mpl_toolkits.mplot3d import Axes3D\n",
    "from matplotlib import cm\n",
    "import matplotlib.pyplot as plot\n",
    "\n",
    "figure = plot.figure()\n",
    "axes = figure.gca(projection='3d')\n",
    "\n",
    "# on fixe cmap pour des couleurs plus gaies\n",
    "axes.plot_trisurf(X, Y, Z, cmap=cm.jet, linewidth=0.2)\n",
    "\n",
    "plot.show()"
   ]
  },
  {
   "cell_type": "markdown",
   "metadata": {},
   "source": [
    "***"
   ]
  },
  {
   "cell_type": "markdown",
   "metadata": {},
   "source": [
    "### `matplotlib` *vs* `gnuplot`"
   ]
  },
  {
   "cell_type": "markdown",
   "metadata": {},
   "source": [
    "En guise de digression, signalons que `gnuplot` est un outil de visualisation assez ancien et qui a fait ses preuves. Si vous connaissez et maîtrisez bien cet outil, vous pouvez parfaitement faire le miniprojet en utilisant `gnuplot` plutôt que `matplotlib`. je vous invite à regarder [`Gnuplot.py`](http://gnuplot-py.sourceforge.net), vous éviterez ainsi l'erreur qui consiste à générer directement des fichiers pour `gnuplot`. Par ailleurs `gnuplot` est un programme indépendant de python, qu'il faut naturellement donc avoir installé séparément."
   ]
  },
  {
   "cell_type": "markdown",
   "metadata": {},
   "source": [
    "***"
   ]
  },
  {
   "cell_type": "markdown",
   "metadata": {},
   "source": [
    "### Les données"
   ]
  },
  {
   "cell_type": "markdown",
   "metadata": {},
   "source": [
    "Pour revenir à l'échantillon de OpenWeatherMap, une fois décompressé et décodé, il contient, pour un grand nombre de villes (22631 exactement), des données de type&nbsp;:\n",
    " * champ `city` : position géographique, nom, etc..\n",
    " * champ `time` : date (vous pouvez ignorer ce champ pour l'exercice)\n",
    " * champ `data` : une liste de mesures disponibles concernant ce point, sous la forme d'une liste de mesures; l'échantillon contient en moyenne 16 mesures par point;\n",
    " * élément de `data` : une mesure correspond à un jour donné, et vient comme un dictionnaire contenant typiquement une valeur pour \n",
    "   * l'heure des mesures (champ `dt`, pour data time) - voir aussi plus bas, \n",
    "   * la vitesse et la direction du vent (`speed` et `deg`)\n",
    "   * l'humidité et la pression\n",
    "   * et s'agissant de la température, à nouveau un dictionnaire pour décrire les températures à divers moments de la journée\n",
    "   \n",
    "Je vous laisse deviner les unités utilisées - je rappelle juste que \n",
    "\n",
    "$ 0°C = 273.15°K $\n",
    " "
   ]
  },
  {
   "cell_type": "markdown",
   "metadata": {},
   "source": [
    "Pour être plus explicite encore, voici un pretty-print d'un objet correspondant à une ville (Cayenne en Guyanne), en ne montrant que la première mesure&nbsp;:"
   ]
  },
  {
   "cell_type": "markdown",
   "metadata": {},
   "source": [
    "    {u'city': {u'coord': {u'lat': 49.558578, u'lon': 1.62803},\n",
    "               u'country': u'FR',\n",
    "               u'id': 3028097,\n",
    "               u'name': u'Cayenne'},\n",
    "     u'data': [{u'clouds': 80,\n",
    "                u'deg': 330,\n",
    "                u'dt': 1394884800,\n",
    "                u'humidity': 85,\n",
    "                u'pressure': 1028.47,\n",
    "                u'speed': 5.41,\n",
    "                u'temp': {u'day': 282.3,\n",
    "                          u'eve': 282.86,\n",
    "                          u'max': 283.22,\n",
    "                          u'min': 279.7,\n",
    "                          u'morn': 279.7,\n",
    "                          u'night': 281.96},\n",
    "                u'weather': [{u'description': u'broken clouds',\n",
    "                              u'icon': u'04d',\n",
    "                              u'id': 803,\n",
    "                              u'main': u'Clouds'}]},\n",
    "               '... other similar dicts ...'],\n",
    "     u'time': 1394865585}"
   ]
  },
  {
   "cell_type": "markdown",
   "metadata": {},
   "source": [
    "##### Format concret"
   ]
  },
  {
   "cell_type": "markdown",
   "metadata": {},
   "source": [
    "L'échantillon complet décompressé contient autant de lignes que de villes (22631 lignes donc), et chaque ligne est un encodage JSON de la structure que nous venons de voir. \n",
    "Vous pouvez donc charger un fichier en quelques lignes de code qui combinent \n",
    " * un fichier d'entrée considéré comme un itérable,\n",
    " * et les fonctions du module `json`; vous remarquerez à cet égard la différence entre `load` et `loads`"
   ]
  },
  {
   "cell_type": "markdown",
   "metadata": {},
   "source": [
    "##### Rappel sur les dates"
   ]
  },
  {
   "cell_type": "markdown",
   "metadata": {},
   "source": [
    "S'agissant des dates, on retrouve ici notre nombre de secondes depuis le $1^{er}$ Janvier 1970, et voici comment vous pouvez afficher ce genre de valeurs."
   ]
  },
  {
   "cell_type": "code",
   "execution_count": null,
   "metadata": {
    "collapsed": false
   },
   "outputs": [],
   "source": [
    "import time\n",
    "# *Y*ear *m*onth *d*ay *H*our *M*inute\n",
    "date_format=\"%Y-%m-%d:%H-%M UTC\"\n",
    "\n",
    "# city['city']['data'][0]['dt']\n",
    "dt = 1394884800\n",
    "\n",
    "# gmtime pour afficher en heure UTC (formerly GMT)\n",
    "print 'champ dt', time.strftime(date_format, time.gmtime(dt))\n"
   ]
  },
  {
   "cell_type": "markdown",
   "metadata": {},
   "source": [
    "### Mise en place"
   ]
  },
  {
   "cell_type": "markdown",
   "metadata": {},
   "source": [
    "Comme l'échantillon est très gros, je vous ai préparé des versions de plus en plus petites&nbsp;:\n",
    "\n",
    " * Monde entier (échantillon complet) \n",
    "   * [cities_world.json.gz](data/cities_world.json.gz) (11 Mb)\n",
    "   * [cities_world.json](data/cities_world.json) (98 Mb)\n",
    " * Europe (62, 33, 34, -11) (limites nord, est, sud, et ouest)\n",
    "   * [cities_europe.json.gz](data/cities_europe.json.gz) (3 Mb)\n",
    "   * [cities_europe.json](data/cities_europe.json) (31 Mb)\n",
    " * France (51.2, 8.3, 42.3, -5.3) \n",
    "   * [cities_france.json.gz](data/cities_france.json.gz) (480 kb)\n",
    "   * [cities_france.json](data/cities_france.json) (6 Mb)\n",
    " * Ile-de-France (49, 2.75, 48.5, 2) \n",
    "   * [cities_idf.json.gz](data/cities_idf.json.gz) (17 kb)\n",
    "   * [cities_idf.json](data/cities_idf.json) (900 kb)\n",
    "   \n",
    "En cas de souci notamment sur windows, essayez aussi ce zip qui contient les 4 json\n",
    "\n",
    "  * [all-cities.zip](data/all-cities.zip)"
   ]
  },
  {
   "cell_type": "markdown",
   "metadata": {},
   "source": [
    "Sachant que pour mette au point il est très conseillé de commencer avec un petit fichier car le chargement du fichier complet peut prendre dans les 10 secondes."
   ]
  },
  {
   "cell_type": "markdown",
   "metadata": {},
   "source": [
    "***"
   ]
  },
  {
   "cell_type": "markdown",
   "metadata": {},
   "source": [
    "### Le sujet"
   ]
  },
  {
   "cell_type": "markdown",
   "metadata": {},
   "source": [
    "Le programme que nous avons écrit s'utilise de la manière suivante&nbsp;:\n",
    "\n",
    "$ ./meteodata.py --help\n",
    "usage: meteodata.py [-h] [-c CROP] [-n SELECT_NAMES] [-a] [-l] \\\n",
    "                         [-1] [-2] [-3] filename\n",
    "\n",
    "positional arguments:\n",
    "  filename              input JSON file - might be gzipped\n",
    "\n",
    "optional arguments:\n",
    "  -h, --help            show this help message and exit\n",
    "  -c CROP, --crop CROP  specify a region for cropping regions are rectangular\n",
    "                        areas and can be specified as a comma-separated list\n",
    "                        of 4 numbers for north, east, south, west\n",
    "  -n SELECT_NAMES, --name SELECT_NAMES\n",
    "                        cumulative - select cities by this name(s)\n",
    "  -a, --all             select all cities\n",
    "  -l, --list            If set, selected city names get listed\n",
    "\n",
    "  -1, --1d              Display a bar chart for the pressure in the first\n",
    "                        selected city\n",
    "  -2, --2d              Display a 2D diagram of the positions of selected\n",
    "                        cities\n",
    "  -3, --3d              Display a 3D diagram of the pressure in all cities"
   ]
  },
  {
   "cell_type": "markdown",
   "metadata": {},
   "source": [
    "### Entrées"
   ]
  },
  {
   "cell_type": "markdown",
   "metadata": {},
   "source": [
    " * il faut donner au programme un des fichiers d'entrée (le paramètre obligatoire `filename`)\n",
    " * on peut aussi avec l'option `-c` restreindre à un rectangle, ici par exemple les USA (on y reviendra); lorsqu'on utilise cette option les villes qui ne sont pas dans la zone sont **complètement ignorées**&nbsp;:\n",
    " \n",
    "     $ ./meteodata.py -c 50,-70,25,-125 data/cities_world.json\n",
    "    ---------- From data/cities_world.json\n",
    "    \tdealing with 22631 cities\n",
    "    ---------- After cropping with Top 50.0 Right -70.0 Bottom 25.0 Left -125.0\n",
    "    \tdealing with 3146 cities\n",
    "    ---------- No city selected\n",
    "\n",
    " * avec l'option -n (que vous pouvez répéter) vous pouvez **sélectionner** des villes par leur nom; vous pouvez répéter l'option pour en sélectionner plusieurs; \n",
    " \n",
    "Les deux mécanismes sont indépendants; on considère toutes les villes qui sont dans la région, et parmi elles celles qui sont sélectionnées seront mises en évidence&nbsp;:\n",
    "\n",
    "    $ ./meteodata.py -c 50,-70,25,-125 -n 'new york' -n dallas data/cities_world.json\n",
    "    ---------- From data/cities_world.json\n",
    "    \tdealing with 22631 cities\n",
    "    ---------- After cropping with Top 50.0 Right -70.0 Bottom 25.0 Left -125.0\n",
    "    \tdealing with 3146 cities\n",
    "    ---------- Selected 3 cities\n",
    "    \t[u'New York', u'New York', u'Dallas']        \n",
    "Dans cet exemple on va travailler sur un total de 3146 villes, dont trois sont sélectionnées (deux s'appellent 'New York' et une s'appelle 'Dallas')\n",
    "\n",
    "Les options `-a` et `-l` sont très accessoires vous n'êtes pas obligés de vous en occuper.\n"
   ]
  },
  {
   "cell_type": "markdown",
   "metadata": {},
   "source": [
    "### Visualisations"
   ]
  },
  {
   "cell_type": "markdown",
   "metadata": {},
   "source": [
    "Les 3 autres options (-1, -2 et -3) correspondent à trois modes de visualisation. Comme vous allez le voir ce sont des choix très arbitraires, n'hésitez pas à broder et à changer les spécifications."
   ]
  },
  {
   "cell_type": "markdown",
   "metadata": {},
   "source": [
    "##### Visualiser les températeures dans une ville donnée (option -1)"
   ]
  },
  {
   "cell_type": "markdown",
   "metadata": {},
   "source": [
    "Avec l'option -1, le programme affiche sous forme de diagramme à barres, les températures de la première ville sélectionnée, et ce sur l'ensemble de la période.\n",
    "\n",
    "Pour chaque date on affiche, dans l'ordre, les champs suivants de `temp` dans `data`\n",
    "\n",
    "    'morn', 'day', 'eve', 'night'\n",
    "    \n",
    "Ainsi par exemple\n",
    "\n",
    "    ./meteodata.py -1 -n brest data/cities_france.json\n",
    "    \n",
    "affiche le diagramme\n",
    "\n",
    "<img src='media/meteodata-1.png'>\n"
   ]
  },
  {
   "cell_type": "markdown",
   "metadata": {},
   "source": [
    "Pour l'implémentation de l'option -1 nous avons utilisé [matplotlib.pyplot.bar](http://matplotlib.org/api/pyplot_api.html#matplotlib.pyplot.bar)"
   ]
  },
  {
   "cell_type": "markdown",
   "metadata": {},
   "source": [
    "***"
   ]
  },
  {
   "cell_type": "markdown",
   "metadata": {},
   "source": [
    "##### Visualiser les villes par leur position en 2 dimensions"
   ]
  },
  {
   "cell_type": "markdown",
   "metadata": {},
   "source": [
    "Avec l'option -2, le programme affiche l'ensemble des villes par leur position, en mettant en évidence les villes sélectionnées avec une taille plus importante et une couleur différente.\n",
    "\n",
    "Ainsi par exemple\n",
    "\n",
    "    ./meteodata.py -2 -n nice -n toulouse -n bordeaux -n brest -n 'le havre'  -n strasbourg data/cities_france.json\n",
    "    \n",
    "montre ceci\n",
    "\n",
    "<img src=\"media/meteodata-2-1.png\">\n",
    "\n",
    "alors que\n",
    "\n",
    "    ./meteodata.py -2 -n paris -n berlin -n roma  data/cities_europe.json\n",
    "    \n",
    "affiche ceci\n",
    "\n",
    "<img src=\"media/meteodata-2-2.png\">\n",
    "\n",
    "où vous pouvez voir que la densité de couverture n'est pas uniforme dans tous les pays européens - ni sur tout le territoire français d'ailleurs."
   ]
  },
  {
   "cell_type": "markdown",
   "metadata": {},
   "source": [
    "Pour l'implémentation de l'option -2 nous avons utilisé [matplotlib.pyplot.scatter](http://matplotlib.org/api/pyplot_api.html#matplotlib.pyplot.scatter)"
   ]
  },
  {
   "cell_type": "markdown",
   "metadata": {},
   "source": [
    "***"
   ]
  },
  {
   "cell_type": "markdown",
   "metadata": {},
   "source": [
    "##### Visualiser la pression en 3D"
   ]
  },
  {
   "cell_type": "markdown",
   "metadata": {},
   "source": [
    "Enfin avec l'option -3 notre programme affiche la pression mesurée sur la zone en 3D. Il n'y a dans ces données aucune garantie que toutes les villes ont des mesures pour exactement les mêmes dates. Cependant pour faire simple et comme notre but ici est uniquement d'expérimenter avec la visualisaion&nbsp;:\n",
    " * on a pris pour chaque ville la pression dans la première mesure listée,\n",
    " * et on a calculé la date sur la base de la première mesure de la première ville listée.\n",
    " \n",
    "Par exemple si on lance\n",
    "\n",
    "    ./meteodata.py -3 data/cities_europe.json\n",
    "    \n",
    "on obtient une visu en 3D qui selon le point de vue ressemble à ceci \n",
    "\n",
    "<img src=\"media/meteodata-3-1.png\">\n",
    "\n",
    "ceci\n",
    "\n",
    "<img src=\"media/meteodata-3-2.png\">\n",
    "\n",
    "où vous devinez les contours de l'Europe avec, à nouveau, un peu d'imagination et de bonne volonté, sachant que la zone en bleu correspond aux Alpes, où la pression est plus faible très vraisemblablement à cause de l'altitude.\n"
   ]
  },
  {
   "cell_type": "markdown",
   "metadata": {},
   "source": [
    "Pour l'implémentation de l'option -3 nous avons utilisé [plot_trisurf](http://matplotlib.org/mpl_toolkits/mplot3d/api.html)"
   ]
  },
  {
   "cell_type": "markdown",
   "metadata": {},
   "source": [
    "***"
   ]
  },
  {
   "cell_type": "markdown",
   "metadata": {},
   "source": [
    "### Épilogue : le visuel du MOOC"
   ]
  },
  {
   "cell_type": "markdown",
   "metadata": {},
   "source": [
    "Le visuel du MOOC a été réalisé entièrement en `matplotlib`. Si cela vous intéresse vous pouvez voir le code ci-dessous. \n",
    "\n",
    "Remarquez notamment [le style `xkcd`](http://matplotlib.org/xkcd/examples/showcase/xkcd.html) qui donne le petit coté amusant. Pour que cela rende correctement toutefois, il faut avoir installé les bonnes fontes sur son ordinateur - ce qui n'est pas le cas de la plateforme qui héberge les notebooks malheureusement :)"
   ]
  },
  {
   "cell_type": "code",
   "execution_count": null,
   "metadata": {
    "collapsed": false
   },
   "outputs": [],
   "source": [
    "import xkcd"
   ]
  },
  {
   "cell_type": "code",
   "execution_count": null,
   "metadata": {
    "collapsed": false
   },
   "outputs": [],
   "source": [
    "from inspect import getsource\n",
    "\n",
    "for line in getsource(xkcd).split(\"\\n\"): \n",
    "    print line"
   ]
  },
  {
   "cell_type": "markdown",
   "metadata": {},
   "source": [
    "***"
   ]
  }
 ],
 "metadata": {
  "kernelspec": {
   "display_name": "Python 2",
   "language": "python",
   "name": "python2"
  },
  "language_info": {
   "codemirror_mode": {
    "name": "ipython",
    "version": 2
   },
   "file_extension": ".py",
   "mimetype": "text/x-python",
   "name": "python",
   "nbconvert_exporter": "python",
   "pygments_lexer": "ipython2",
   "version": "2.7.12"
  },
  "notebookname": "Données météo",
  "version": "2.0"
 },
 "nbformat": 4,
 "nbformat_minor": 0
}