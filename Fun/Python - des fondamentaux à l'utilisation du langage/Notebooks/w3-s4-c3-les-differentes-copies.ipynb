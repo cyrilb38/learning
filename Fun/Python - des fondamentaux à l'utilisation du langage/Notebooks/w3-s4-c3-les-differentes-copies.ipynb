{
 "cells": [
  {
   "cell_type": "markdown",
   "metadata": {},
   "source": [
    "<span style=\"float:left;\">Licence CC BY-NC-ND</span><span style=\"float:right;\">Thierry Parmentelat &amp; Arnaud Legout&nbsp;<img src=\"media/inria-25.png\" style=\"display:inline\"></span><br/>"
   ]
  },
  {
   "cell_type": "markdown",
   "metadata": {},
   "source": [
    "# Les différentes copies"
   ]
  },
  {
   "cell_type": "markdown",
   "metadata": {},
   "source": [
    "## Complément - niveau basique"
   ]
  },
  {
   "cell_type": "markdown",
   "metadata": {},
   "source": [
    "### Deux types de copie"
   ]
  },
  {
   "cell_type": "markdown",
   "metadata": {},
   "source": [
    "Pour résumer les deux grands types de copie que l'on a vues dans la vidéo: \n",
    " * La *shallow copy* - de l'anglais *shallow* qui signifie superficiel\n",
    " * La *deep copy* - de *deep* qui signifie profond"
   ]
  },
  {
   "cell_type": "markdown",
   "metadata": {},
   "source": [
    "### Le module `copy`"
   ]
  },
  {
   "cell_type": "markdown",
   "metadata": {},
   "source": [
    "Pour réaliser une copie, la méthode la plus simple, en ceci qu'elle fonctionne avec tous les types de manière identique, consiste à utiliser [le module standard `copy`](https://docs.python.org/2/library/copy.html), et notamment\n",
    " * `copy.copy` pour une copie superficielle\n",
    " * `copy.deepcopy` pour une copie en profondeur"
   ]
  },
  {
   "cell_type": "code",
   "execution_count": null,
   "metadata": {
    "collapsed": false
   },
   "outputs": [],
   "source": [
    "import copy\n",
    "#help(copy.copy)\n",
    "#help(copy.deepcopy)"
   ]
  },
  {
   "cell_type": "markdown",
   "metadata": {},
   "source": [
    "### Un exemple"
   ]
  },
  {
   "cell_type": "code",
   "execution_count": null,
   "metadata": {
    "collapsed": false
   },
   "outputs": [],
   "source": [
    "# On se donne un objet de départ\n",
    "\n",
    "source = [ \n",
    "    [1, 2, 3],  # le premier élément est une liste\n",
    "    {1, 2, 3},  # un ensemble\n",
    "    (1, 2, 3),  # un tuple\n",
    "    '123',       # un string\n",
    "    123,         # un entier\n",
    "]\n",
    "\n",
    "# et on en fait deux copies\n",
    "shallow_copy = copy.copy(source)\n",
    "deep_copy = copy.deepcopy(source)"
   ]
  },
  {
   "cell_type": "markdown",
   "metadata": {},
   "source": [
    "## Complément - niveau intermédiaire"
   ]
  },
  {
   "cell_type": "markdown",
   "metadata": {},
   "source": [
    "### Objets *égaux* au sens logique"
   ]
  },
  {
   "cell_type": "markdown",
   "metadata": {},
   "source": [
    "Bien sûr ces trois objets se ressemblent si on fait une comparaison *logique*"
   ]
  },
  {
   "cell_type": "code",
   "execution_count": null,
   "metadata": {
    "collapsed": false
   },
   "outputs": [],
   "source": [
    "print 'source == shallow_copy:', source == shallow_copy\n",
    "print 'source == deep_copy:', source == deep_copy"
   ]
  },
  {
   "cell_type": "markdown",
   "metadata": {},
   "source": [
    "### Inspectons les objets de premier niveau"
   ]
  },
  {
   "cell_type": "markdown",
   "metadata": {},
   "source": [
    "Mais par contre si on compare **l'identité** des objets de premier niveau, on voit que `source` et `shallow_copy` partagent leurs objets:"
   ]
  },
  {
   "cell_type": "code",
   "execution_count": null,
   "metadata": {
    "collapsed": false
   },
   "outputs": [],
   "source": [
    "for i in range(len(source)):\n",
    "    print \"source[{}] is shallow_copy[{}]\".format(i, i),\\\n",
    "           source[i] is shallow_copy[i]"
   ]
  },
  {
   "cell_type": "markdown",
   "metadata": {},
   "source": [
    "Alors que naturellement ce **n'est pas le cas** avec la copie en profondeur"
   ]
  },
  {
   "cell_type": "code",
   "execution_count": null,
   "metadata": {
    "collapsed": false
   },
   "outputs": [],
   "source": [
    "for i in range(len(source)):\n",
    "    print \"source[{}] is deep_copy[{}]\".format(i, i),\\\n",
    "           source[i] is deep_copy[i]"
   ]
  },
  {
   "cell_type": "markdown",
   "metadata": {},
   "source": [
    "On remarque  tout de suite que les trois derniers objets n'ont pas été dupliqués comme on aurait pu s'y attendre; cela est dû, ici encore, à l'optimisation qui est mise en place dans python pour implémenter les types immuables comme des singletons lorsque c'est possible. Cela a été vu en détail dans le complément consacré à l'opérateur `is`."
   ]
  },
  {
   "cell_type": "markdown",
   "metadata": {},
   "source": [
    "### On modifie la source"
   ]
  },
  {
   "cell_type": "markdown",
   "metadata": {},
   "source": [
    "Il doit être clair à présent que, précisément parce que `deep_copy` est une copie en profondeur, on peut modifier `source` sans impacter du tout `deep_copy`."
   ]
  },
  {
   "cell_type": "markdown",
   "metadata": {},
   "source": [
    "S'agissant de `shallow_copy`, par contre, seuls les éléments de premier niveau ont été copiés. Aussi si on fait une modification par exemple **à l'intérieur** de la liste qui est le premier fils de `source`, cela sera **répercuté** dans `shallow_copy`"
   ]
  },
  {
   "cell_type": "code",
   "execution_count": null,
   "metadata": {
    "collapsed": false
   },
   "outputs": [],
   "source": [
    "print \"avant, source      \", source\n",
    "print \"avant, shallow_copy\", shallow_copy\n",
    "source[0].append(4)\n",
    "print \"après, source      \", source\n",
    "print \"après, shallow_copy\", shallow_copy"
   ]
  },
  {
   "cell_type": "markdown",
   "metadata": {},
   "source": [
    "Si par contre on remplace complètement un élément de premier niveau dans la source, cela ne sera pas répercuté dans la copie superficielle"
   ]
  },
  {
   "cell_type": "code",
   "execution_count": null,
   "metadata": {
    "collapsed": false
   },
   "outputs": [],
   "source": [
    "print \"avant, source      \", source\n",
    "print \"avant, shallow_copy\", shallow_copy\n",
    "source[0] = 'remplacement'\n",
    "print \"après, source      \", source\n",
    "print \"après, shallow_copy\", shallow_copy"
   ]
  },
  {
   "cell_type": "markdown",
   "metadata": {},
   "source": [
    "### Copie et circularité"
   ]
  },
  {
   "cell_type": "markdown",
   "metadata": {},
   "source": [
    " Le module `copy` est semble-t-il capable de copier - même en profondeur - des objets contenant des références circulaires."
   ]
  },
  {
   "cell_type": "code",
   "execution_count": null,
   "metadata": {
    "collapsed": false
   },
   "outputs": [],
   "source": [
    "l = [None] \n",
    "l[0] = l\n",
    "l"
   ]
  },
  {
   "cell_type": "code",
   "execution_count": null,
   "metadata": {
    "collapsed": false
   },
   "outputs": [],
   "source": [
    "copy.copy(l)"
   ]
  },
  {
   "cell_type": "code",
   "execution_count": null,
   "metadata": {
    "collapsed": false
   },
   "outputs": [],
   "source": [
    "copy.deepcopy(l)"
   ]
  },
  {
   "cell_type": "markdown",
   "metadata": {},
   "source": [
    "### Pour en savoir plus"
   ]
  },
  {
   "cell_type": "markdown",
   "metadata": {},
   "source": [
    "On peut se reporter à [la section sur le module `copy`](https://docs.python.org/2/library/copy.html) dans la documentation python.\n",
    "\n",
    "Signalons également [pythontutor.com](http://www.pythontutor.com) qui est un site très utile pour comprendre comment python implémente les objets, les références et les partages. \n",
    "Toutefois `pythontutor.com` ne supporte pas le module `copy` ce qui est un peu dommage.\n",
    "On peut toutefois expérimenter avec des listes en utilisant le slicing `[:]` pour des copies superficielles.\n",
    "\n",
    "<img src=\"media/pt_shallow_copy.png\" />"
   ]
  }
 ],
 "metadata": {
  "kernelspec": {
   "display_name": "Python 2",
   "language": "python",
   "name": "python2"
  },
  "notebookname": "Les différentes copies",
  "version": "2.0"
 },
 "nbformat": 4,
 "nbformat_minor": 0
}