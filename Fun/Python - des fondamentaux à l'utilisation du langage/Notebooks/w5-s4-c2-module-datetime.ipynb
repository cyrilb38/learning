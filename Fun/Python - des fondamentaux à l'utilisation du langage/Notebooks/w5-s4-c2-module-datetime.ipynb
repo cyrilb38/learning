{
 "cells": [
  {
   "cell_type": "markdown",
   "metadata": {},
   "source": [
    "<span style=\"float:left;\">Licence CC BY-NC-ND</span><span style=\"float:right;\">Thierry Parmentelat &amp; Arnaud Legout&nbsp;<img src=\"media/inria-25.png\" style=\"display:inline\"></span><br/>"
   ]
  },
  {
   "cell_type": "markdown",
   "metadata": {},
   "source": [
    "# Un exemple de classes de la librairie standard"
   ]
  },
  {
   "cell_type": "markdown",
   "metadata": {},
   "source": [
    "## Complément - niveau basique"
   ]
  },
  {
   "cell_type": "markdown",
   "metadata": {},
   "source": [
    "### Le module `time`"
   ]
  },
  {
   "cell_type": "markdown",
   "metadata": {},
   "source": [
    "En semaine 3, lorsque nous avons étudié la performance des itérateurs, nous avions introduit le module `time`. Il s'agit d'une interface de très bas niveau avec l'OS, et en guise de rappel :"
   ]
  },
  {
   "cell_type": "code",
   "execution_count": null,
   "metadata": {
    "collapsed": false
   },
   "outputs": [],
   "source": [
    "import time\n",
    "\n",
    "# on obtient l'heure courante sous la forme d'un flottant\n",
    "t_now = time.time()\n",
    "# et pour calculer l'heure qu'il sera dans trois heures on fait\n",
    "t_later = t_now + 3 * 3600"
   ]
  },
  {
   "cell_type": "markdown",
   "metadata": {},
   "source": [
    "Nous sommes donc ici clairement dans une approche non orientée objet; on manipule des types de base, ici le type flottant :"
   ]
  },
  {
   "cell_type": "code",
   "execution_count": null,
   "metadata": {
    "collapsed": false
   },
   "outputs": [],
   "source": [
    "print 'dans trois heures', t_later"
   ]
  },
  {
   "cell_type": "markdown",
   "metadata": {},
   "source": [
    "Et comme on le voit, les calculs se font sous une forme pas très lisible. En effet, la méthode `time` retourne le nombre de secondes écoulées depuis le 1 janvier 1970 à l'instant de l'appel. Pour rendre ce nombre de secondes plus lisible, on utilise des conversions, pas vraiment explicites non plus; voici par exemple un appel à `gmtime` qui convertit le flottant obtenu par la méthode `time()` en heure UTC (`gm` est pour Greenwhich Meridian) :"
   ]
  },
  {
   "cell_type": "code",
   "execution_count": null,
   "metadata": {
    "collapsed": false
   },
   "outputs": [],
   "source": [
    "struct_later = time.gmtime(t_later)\n",
    "print struct_later"
   ]
  },
  {
   "cell_type": "markdown",
   "metadata": {},
   "source": [
    "Et on met en forme ce résultat en utilisant des méthodes comme, par exemple, `strftime()` pour afficher l'heure UTC dans 3 heures :"
   ]
  },
  {
   "cell_type": "code",
   "execution_count": null,
   "metadata": {
    "collapsed": false
   },
   "outputs": [],
   "source": [
    "print 'heure UTC dans trois heures', time.strftime(\"%Y-%m-%d at %H:%M\", struct_later)"
   ]
  },
  {
   "cell_type": "markdown",
   "metadata": {},
   "source": [
    "---"
   ]
  },
  {
   "cell_type": "markdown",
   "metadata": {},
   "source": [
    "### Le module datetime"
   ]
  },
  {
   "cell_type": "markdown",
   "metadata": {},
   "source": [
    "Voyons à présent, par comparaison, comment ce genre de calculs se présente lorsqu'on utilise la programmation par objets.\n",
    "\n",
    "Le [module `datetime`](https://docs.python.org/2/library/datetime.html) expose un certain nombre de classes, que nous illustrons brièvement avec les classes `datetime` (qui modélise la date et l'heure d'un instant) et `timedelta` (qui modélise une durée).\n",
    "\n",
    "La première remarque qu'on peut faire, c'est qu'avec le module `time` on manipulait un flottant pour représenter ces deux sortes d'objets (instant et durée); avec deux classes différentes notre code va être plus clair quant à ce qui est réellement représenté."
   ]
  },
  {
   "cell_type": "markdown",
   "metadata": {},
   "source": [
    "Le code ci-dessus s'écrirait alors, en utilisant le module `datetime`"
   ]
  },
  {
   "cell_type": "code",
   "execution_count": null,
   "metadata": {
    "collapsed": false
   },
   "outputs": [],
   "source": [
    "from datetime import datetime, timedelta\n",
    "\n",
    "dt_now = datetime.now()\n",
    "dt_later = dt_now + timedelta(hours=3)"
   ]
  },
  {
   "cell_type": "markdown",
   "metadata": {},
   "source": [
    "Vous remarquez que c'est déjà un peu plus clair.\n",
    "\n",
    "Voyez aussi qu'on n'a déjà moins besoin de s'escrimer pour en avoir un aperçu lisible"
   ]
  },
  {
   "cell_type": "code",
   "execution_count": null,
   "metadata": {
    "collapsed": false
   },
   "outputs": [],
   "source": [
    "print 'maintenant', dt_now"
   ]
  },
  {
   "cell_type": "code",
   "execution_count": null,
   "metadata": {
    "collapsed": false
   },
   "outputs": [],
   "source": [
    "print 'dans trois heures',dt_later.strftime(\"%Y-%m-%d at %H:%M\")"
   ]
  },
  {
   "cell_type": "markdown",
   "metadata": {},
   "source": [
    "Je vous renvoie au détail du module, et [notamment  ici](https://docs.python.org/2/library/datetime.html#strftime-and-strptime-behavior), pour le détail des options de formatage disponibles au travers de `strftime`."
   ]
  },
  {
   "cell_type": "markdown",
   "metadata": {},
   "source": [
    "### Conclusion"
   ]
  },
  {
   "cell_type": "markdown",
   "metadata": {},
   "source": [
    "Une partie des inconvénients du module `time` vient certainement du parti-pris de l'efficacité. De plus, c'est un module très ancien, mais auquel on ne peut guère toucher pour des raisons de compatibilité ascendante.\n",
    "\n",
    "Par contre, le module `datetime`, tout en vous procurant un premier exemple de classes exposées par la librairie standard, vous montre, nous l'espérons, certains des avantages de la programmation orientée objet en général, et des classes de python en particulier.\n",
    "\n",
    "Si vous devez manipuler des dates ou des heures, le module `datetime` constitue très certainement un bon candidat; voyez la [documentation complète du module](https://docs.python.org/2/library/datetime.html) pour plus de précisions sur ses possibilités."
   ]
  },
  {
   "cell_type": "markdown",
   "metadata": {},
   "source": [
    "## Complément - niveau intermédiaire"
   ]
  },
  {
   "cell_type": "markdown",
   "metadata": {},
   "source": [
    "### Fuseaux horaires et temps local"
   ]
  },
  {
   "cell_type": "markdown",
   "metadata": {},
   "source": [
    "Le temps nous manque pour traiter ce sujet dans toute sa profondeur.\n",
    "\n",
    "En substance, c'est un sujet assez voisin de celui des accents, en ce sens que lors d'échanges d'informations de type *timestamp* entre deux ordinateurs, il faut échanger d'une part une valeur (l'heure et la date), et d'autre part le référentiel (s'agit-il de temps UTC, ou bien de l'heure dans un fuseau horaire, et si oui lequel).\n",
    "\n",
    "La complexité est tout de même moindre que dans le cas des accents; on s'en sort en général en convenant d'échanger systématiquement des heures UTC. Par contre, il existe une réelle diversité quant au format utilisé pour échanger ce type d'information, et cela reste une source d'erreurs assez fréquente."
   ]
  },
  {
   "cell_type": "markdown",
   "metadata": {},
   "source": [
    "## Complément - niveau avancé"
   ]
  },
  {
   "cell_type": "markdown",
   "metadata": {},
   "source": [
    "### Classes et *marshalling*"
   ]
  },
  {
   "cell_type": "markdown",
   "metadata": {},
   "source": [
    "Ceci nous procure une transition pour un sujet beaucoup plus général.\n",
    "\n",
    "Nous avons évoqué, en début de semaine 4, les formats comme JSON pour échanger les données entre applications, au travers de fichiers ou d'un réseau.\n",
    "\n",
    "On a vu, par exemple, que JSON est un format \"proche des langages\" en ce sens qu'il est capable d'échanger des objets de base comme des listes ou des dictionnaires entre plusieurs langages comme, par exemple, JavaScript, python ou ruby. En XML, on a davantage de flexibilité puisqu'on peut définir une syntaxe sur les données échangées.\n",
    "\n",
    "Mais il faut être bien lucide sur le fait que, aussi bien pour JSON que pour XML, il n'est **pas  possible** d'échanger entre applications des **objets** en tant que tel. Ce que nous voulons dire, c'est que ces technologies de *marshalling* prennent bien en charge le *contenu* en termes de données, mais pas les informations de type, et *a fortiori* pas non plus le code qui appartient à la classe.\n",
    "\n",
    "Il est important d'être conscient de cette limitation lorsqu'on fait des choix de conception, notamment lorsqu'on est amené à choisir entre classe et dictionnaire pour l'implémentation de telle ou telle abstraction."
   ]
  },
  {
   "cell_type": "markdown",
   "metadata": {},
   "source": [
    "Voyons cela sur un exemple inspiré de notre fichier de données liées au trafic maritime. En version simplifiée, un bateau est décrit par trois valeurs, son identité (id), son nom et son pays d'attachement. \n",
    "\n",
    "Nous allons voir comment on peut échanger ces informations entre, disons, deux programmes dont l'un est en python, via un support réseau ou disque."
   ]
  },
  {
   "cell_type": "markdown",
   "metadata": {},
   "source": [
    "Si on choisit de se contenter de manipuler un dictionnaire standard, avec trois couples *(\"id\", 1000), (\"name\", \"Toccata\"), (\"country\", \"FRA\")*, on peut utiliser essentiellement tels quels les mécanismes d'encodage et décodage de, disons, JSON. En effet c'est exactement ce genre d'informations que sait gérer la couche JSON (ou XMLRPC par exemple)."
   ]
  },
  {
   "cell_type": "markdown",
   "metadata": {},
   "source": [
    "Si au contraire on choisit de manipuler les données sous forme d'une classe on pourrait avoir envie d'écrire quelque chose comme ceci&nbsp;:"
   ]
  },
  {
   "cell_type": "code",
   "execution_count": null,
   "metadata": {
    "collapsed": false
   },
   "outputs": [],
   "source": [
    "class Bateau:\n",
    "    def __init__(self, id, name, country):\n",
    "        self.id = id\n",
    "        self.name = name\n",
    "        self.country = country\n",
    "        \n",
    "bateau = Bateau(1000, \"Toccata\", \"FRA\")"
   ]
  },
  {
   "cell_type": "markdown",
   "metadata": {},
   "source": [
    "Maintenant, si vous avez besoin d'échanger cet objet avec le reste du monde, en utilisant par exemple JSON, tout ce que vous allez pouvoir faire passer par ce médium, c'est la valeur des trois champs, dans un dictionnaire. Vous pouvez facilement obtenir le dictionnaire en question pour le passer à la couche d'encodage&nbsp;:"
   ]
  },
  {
   "cell_type": "code",
   "execution_count": null,
   "metadata": {
    "collapsed": false
   },
   "outputs": [],
   "source": [
    "vars(bateau)"
   ]
  },
  {
   "cell_type": "markdown",
   "metadata": {},
   "source": [
    "Mais à l'autre bout de la communication il va vous falloir&nbsp;:\n",
    " * déterminer d'une manière ou d'une autre que les données échangées sont en rapport avec la classe `Bateau`,\n",
    " * et construire vous même un objet de cette classe, par exemple avec un code comme&nbsp;:"
   ]
  },
  {
   "cell_type": "code",
   "execution_count": null,
   "metadata": {
    "collapsed": false
   },
   "outputs": [],
   "source": [
    "class Bateau:\n",
    "    def __init__(self, *args):\n",
    "        if len(args) == 1 and isinstance(args[0], dict):\n",
    "            self.__dict__ = args[0]\n",
    "        elif len(args) == 3:\n",
    "            id, name, country = args\n",
    "            self.id = id\n",
    "            self.name = name\n",
    "            self.country = country\n",
    "            \n",
    "bateau1 = Bateau({'id': 1000, 'name': 'Leon', 'country': 'France'})\n",
    "bateau2 = Bateau(1001, 'Maluba', 'SUI' )"
   ]
  },
  {
   "cell_type": "markdown",
   "metadata": {},
   "source": [
    "### Conclusion"
   ]
  },
  {
   "cell_type": "markdown",
   "metadata": {},
   "source": [
    "Pour reformuler ce dernier point, il n'y a pas en python l'équivalent de [jmi (Java Metadata Interface)](https://en.wikipedia.org/wiki/Java_Metadata_Interface) intégré à la distribution standard. \n",
    "\n",
    "Et, là aussi, contrairement à Java, on peut écrire du code en dehors des classes. On n'est pas forcément obligé d'écrire une classe pour tout. Chaque situation doit être jugée dans son contexte naturellement, mais, de manière générale, la classe n'est pas la solution universelle&nbsp;; il peut y avoir des mérites dans le fait de manipuler certaines données sous une forme allégée comme un type natif."
   ]
  }
 ],
 "metadata": {
  "kernelspec": {
   "display_name": "Python 2",
   "language": "python",
   "name": "python2"
  },
  "notebookname": "Le module datetime",
  "version": "2.0"
 },
 "nbformat": 4,
 "nbformat_minor": 0
}