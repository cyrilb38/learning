{
 "cells": [
  {
   "cell_type": "markdown",
   "metadata": {},
   "source": [
    "<span style=\"float:left;\">Licence CC BY-NC-ND</span><span style=\"float:right;\">Thierry Parmentelat &amp; Arnaud Legout&nbsp;<img src=\"media/inria-25.png\" style=\"display:inline\"></span><br/>"
   ]
  },
  {
   "cell_type": "markdown",
   "metadata": {},
   "source": [
    "# Séquences"
   ]
  },
  {
   "cell_type": "markdown",
   "metadata": {},
   "source": [
    "## Exercice - niveau basique"
   ]
  },
  {
   "cell_type": "markdown",
   "metadata": {},
   "source": [
    "### Slicing"
   ]
  },
  {
   "cell_type": "markdown",
   "metadata": {},
   "source": [
    "Commençons par créer une chaîne de caractères. Ne vous inquiétez pas si vous ne comprenez pas encore le code d'initialisation présenté ci-dessous. \n",
    "\n",
    "Pour les plus curieux, l'instruction `import`  permet de charger dans votre programme une boîte à outils que l'on appelle un module. Python vient avec de nombreux modules qui forment la librairie standard. Le plus difficile avec les modules de la librairie standard est de savoir qu'ils existent. En effet, il y en a un grand nombre et bien souvent il existe un module pour faire ce que vous souhaitez. \n",
    "\n",
    "Pour vous familiariser avec les modules de la librairie standard et vous montrer qu'ils peuvent vous faire gagner du temps, nous en introduisons très tôt certains. N'hésitez pas à regarder l'aide Python qui décrit en détail tous les modules de la librairie standard, et en particulier le module `string` que l'on utilise ci-dessous."
   ]
  },
  {
   "cell_type": "code",
   "execution_count": null,
   "metadata": {
    "collapsed": false
   },
   "outputs": [],
   "source": [
    "import string\n",
    "chaine = string.ascii_lowercase\n",
    "print chaine"
   ]
  },
  {
   "cell_type": "markdown",
   "metadata": {},
   "source": [
    "Pour chacune des sous-chaînes ci-dessous, écrire une expression de slicing sur `chaine` qui renvoie la sous-chaîne. La cellule de code doit retourner `True`"
   ]
  },
  {
   "cell_type": "markdown",
   "metadata": {},
   "source": [
    "Par exemple pour obtenir \"def\":"
   ]
  },
  {
   "cell_type": "code",
   "execution_count": null,
   "metadata": {
    "collapsed": false
   },
   "outputs": [],
   "source": [
    "chaine[3:6] == \"def\""
   ]
  },
  {
   "cell_type": "markdown",
   "metadata": {},
   "source": [
    "1) Pour obtenir \"vwx\" (n'hésitez pas à utiliser les indices négatifs)"
   ]
  },
  {
   "cell_type": "code",
   "execution_count": null,
   "metadata": {
    "collapsed": false
   },
   "outputs": [],
   "source": [
    "chaine[ <votre_code> ] == \"vwx\""
   ]
  },
  {
   "cell_type": "markdown",
   "metadata": {},
   "source": [
    "2) Pour obtenir \"wxyz\" (avec une seule constante)"
   ]
  },
  {
   "cell_type": "code",
   "execution_count": null,
   "metadata": {
    "collapsed": false
   },
   "outputs": [],
   "source": [
    "chaine[ <votre_code> ] == \"wxyz\""
   ]
  },
  {
   "cell_type": "markdown",
   "metadata": {},
   "source": [
    "3) Pour obtenir \"dfhjlnprtvxz\" (avec deux constantes)"
   ]
  },
  {
   "cell_type": "code",
   "execution_count": null,
   "metadata": {
    "collapsed": false
   },
   "outputs": [],
   "source": [
    "chaine[ <votre_code> ] == \"dfhjlnprtvxz\""
   ]
  },
  {
   "cell_type": "markdown",
   "metadata": {},
   "source": [
    "4) Pour obtenir \"xurolifc\" (avec deux constantes)"
   ]
  },
  {
   "cell_type": "code",
   "execution_count": null,
   "metadata": {
    "collapsed": false
   },
   "outputs": [],
   "source": [
    "chaine[ <votre_code> ] == \"xurolifc\""
   ]
  },
  {
   "cell_type": "markdown",
   "metadata": {},
   "source": [
    "## Exercice - niveau intermédiaire"
   ]
  },
  {
   "cell_type": "markdown",
   "metadata": {},
   "source": [
    "### Longueur"
   ]
  },
  {
   "cell_type": "code",
   "execution_count": null,
   "metadata": {
    "collapsed": false
   },
   "outputs": [],
   "source": [
    "# pour charger l'exercice\n",
    "from corrections.w2s3_slicing import exo_inconnue"
   ]
  },
  {
   "cell_type": "markdown",
   "metadata": {},
   "source": [
    "On vous donne une chaîne `composite` dont on sait qu'elle a été calculée à partir de deux chaînes `inconnue` et `connue` comme ceci:"
   ]
  },
  {
   "cell_type": "markdown",
   "metadata": {},
   "source": [
    "    composite = connue + inconnue + connue"
   ]
  },
  {
   "cell_type": "markdown",
   "metadata": {},
   "source": [
    "On vous donne également la chaîne `connue`. Imaginez par exemple que vous avez (ce ne sont pas les vraies valeurs):\n",
    "\n",
    "    connue = 0bf1\n",
    "    composite = 0bf1a9730e150bf1\n",
    "\n"
   ]
  },
  {
   "cell_type": "markdown",
   "metadata": {},
   "source": [
    "L'exercice consiste à retrouver la valeur de `inconnue` à partir de celles de `composite` et `connue`."
   ]
  },
  {
   "cell_type": "code",
   "execution_count": null,
   "metadata": {
    "collapsed": false
   },
   "outputs": [],
   "source": [
    "# charger la valeur des deux chaînes 'connue' et 'composite'\n",
    "from corrections.w2s3_slicing import connue, composite"
   ]
  },
  {
   "cell_type": "markdown",
   "metadata": {},
   "source": [
    "À vous d'écrire du code pour retrouver `inconnue` à partir de `composite` et `connue`. Vous pouvez utiliser du *slicing*, et la fonction `len()`. \n",
    "\n",
    "Pour être parfaitement clair, dans l'esprit, votre calcul doit pouvoir fonctionner avec n'importe quelles valeurs de `composite` et `connue`, pas seulement celle que vous propose l'exercice. Donc par exemple écrire `inconnue = \"61538\"` ou même `inconnue = composite[4:12]` ne sont pas des réponses valables."
   ]
  },
  {
   "cell_type": "code",
   "execution_count": null,
   "metadata": {
    "collapsed": false
   },
   "outputs": [],
   "source": [
    "# vous pouvez bien sûr utiliser plusieurs lignes\n",
    "inconnue = \"votre code\""
   ]
  },
  {
   "cell_type": "markdown",
   "metadata": {},
   "source": [
    "Une fois votre code évalué, vous pouvez évaluer la cellule suivante pour vérifier votre résultat."
   ]
  },
  {
   "cell_type": "code",
   "execution_count": null,
   "metadata": {
    "collapsed": false
   },
   "outputs": [],
   "source": [
    "# correction\n",
    "exo_inconnue.correction(inconnue)"
   ]
  },
  {
   "cell_type": "markdown",
   "metadata": {},
   "source": [
    "La correction vous montre:\n",
    " * dans la première colonne la valeur que vous avez trouvée pour `inconnue`,\n",
    " * dans la seconde colonne la vraie valeur de `composite`\n",
    " * dans la colonne de droite ce que donnerait `connue + inconnue + connue` avec votre valeur de `inconnue`.\n",
    " \n",
    "Si la ligne de couleur est en vert c'est que vous avez réussi cet exercice.\n",
    " \n",
    "Dans le cas contraire, et si votre variable `inconnue` est fausse au point par exemple de ne même pas être une chaîne, vous pouvez voir apparaître le texte d'une exception dans la colonne de droite."
   ]
  }
 ],
 "metadata": {
  "kernelspec": {
   "display_name": "Python 2",
   "language": "python",
   "name": "python2"
  },
  "notebookname": "Séquences",
  "version": "2.0"
 },
 "nbformat": 4,
 "nbformat_minor": 0
}