{
 "cells": [
  {
   "cell_type": "markdown",
   "metadata": {},
   "source": [
    "<span style=\"float:left;\">Licence CC BY-NC-ND</span><span style=\"float:right;\">Thierry Parmentelat &amp; Arnaud Legout&nbsp;<img src=\"media/inria-25.png\" style=\"display:inline\"></span><br/>"
   ]
  },
  {
   "cell_type": "markdown",
   "metadata": {},
   "source": [
    "# Passage d'arguments"
   ]
  },
  {
   "cell_type": "markdown",
   "metadata": {},
   "source": [
    "## Exercice - niveau basique"
   ]
  },
  {
   "cell_type": "code",
   "execution_count": null,
   "metadata": {
    "collapsed": false
   },
   "outputs": [],
   "source": [
    "# pour charger l'exercice\n",
    "from corrections.w4s8_fun_args import exo_distance"
   ]
  },
  {
   "cell_type": "markdown",
   "metadata": {},
   "source": [
    "Vous devez écrire une fonction `distance` qui prend un nombre quelconque d'arguments numériques non complexes, et qui retourne la racine carrée de la somme des carrés des arguments. \n",
    "\n",
    "Plus précisément :\n",
    "$distance$ ($x_1$, ..., $x_n$) = $\\sqrt{\\sum x_i^2}$\n",
    "\n",
    "Par convention on fixe que $ distance() = 0 $"
   ]
  },
  {
   "cell_type": "code",
   "execution_count": null,
   "metadata": {
    "collapsed": false
   },
   "outputs": [],
   "source": [
    "# des exemples\n",
    "exo_distance.example()"
   ]
  },
  {
   "cell_type": "code",
   "execution_count": null,
   "metadata": {
    "collapsed": false
   },
   "outputs": [],
   "source": [
    "# ATTENTION vous devez aussi définir les arguments de la fonction\n",
    "def distance(votre, signature):\n",
    "    \"<votre code>\""
   ]
  },
  {
   "cell_type": "code",
   "execution_count": null,
   "metadata": {
    "collapsed": false
   },
   "outputs": [],
   "source": [
    "# la correction\n",
    "exo_distance.correction(distance)"
   ]
  },
  {
   "cell_type": "markdown",
   "metadata": {},
   "source": [
    "## Exercice - niveau intermédaire"
   ]
  },
  {
   "cell_type": "code",
   "execution_count": null,
   "metadata": {
    "collapsed": false
   },
   "outputs": [],
   "source": [
    "# pour charger l'exercice\n",
    "from corrections.w4s8_fun_args import exo_doubler_premier"
   ]
  },
  {
   "cell_type": "markdown",
   "metadata": {},
   "source": [
    "On vous demande d'écrire une fonction qui prend en argument\n",
    " * une fonction `f`, dont vous savez seulement que le premier argument est numérique, et qu'elle ne prend **que des arguments positionnels** (sans valeur par défaut)\n",
    " * un nombre quelconque - mais au moins 1 - d'arguments positionnels `args`, dont on sait qu'ils pourraient être passés à `f`\n",
    " \n",
    "Et on attend en retour le résultat de `f` appliqués à tous ces arguments, mais avec le premier d'entre eux multiplé par deux.\n",
    "\n",
    "Formellement: doubler_premier(f, $x_1$, $x_2$,..., $x_n$) = f($2*x_1$, $x_2$,..., $x_n$)"
   ]
  },
  {
   "cell_type": "code",
   "execution_count": null,
   "metadata": {
    "collapsed": false
   },
   "outputs": [],
   "source": [
    "# quelques exemples de ce qui est attendu.\n",
    "# add et mul sont les opérateurs binaires du module operator, \n",
    "# soit l'addition et la multiplication respectivement.\n",
    "# distance est la fonction de l'exercice précédent.\n",
    "exo_doubler_premier.example()"
   ]
  },
  {
   "cell_type": "code",
   "execution_count": null,
   "metadata": {
    "collapsed": false
   },
   "outputs": [],
   "source": [
    "# ATTENTION vous devez aussi définir les arguments de la fonction\n",
    "def doubler_premier(votre, signature):\n",
    "    \"<votre_code>\""
   ]
  },
  {
   "cell_type": "code",
   "execution_count": null,
   "metadata": {
    "collapsed": false
   },
   "outputs": [],
   "source": [
    "exo_doubler_premier.correction(doubler_premier)"
   ]
  },
  {
   "cell_type": "markdown",
   "metadata": {},
   "source": [
    "## Exercice - niveau intermédaire"
   ]
  },
  {
   "cell_type": "code",
   "execution_count": null,
   "metadata": {
    "collapsed": false
   },
   "outputs": [],
   "source": [
    "# Pour charger l'exercice\n",
    "from corrections.w4s8_fun_args import exo_doubler_premier_kwds"
   ]
  },
  {
   "cell_type": "markdown",
   "metadata": {},
   "source": [
    "Vous devez maintenant écrire une deuxième version qui peut fonctionner avec une fonction quelconque (elle peut avoir des arguments nommés avec valeurs par défaut).\n",
    "\n",
    "La fonction `doubler_premier_kwds` que l'on vous demande d'écrire maintenant prend donc un premier arguments `f` qui est une fonction, un second argument positionnel qui est le premier argument à `f` (et donc qu'il faut doubler), et le reste des arguments à f, qui donc, à nouveau, peuvent être nommés ou non."
   ]
  },
  {
   "cell_type": "code",
   "execution_count": null,
   "metadata": {
    "collapsed": false
   },
   "outputs": [],
   "source": [
    "# quelques exemples de ce qui est attendu\n",
    "# avec ces deux fonctions \n",
    "\n",
    "def add3(x, y=0, z=0):\n",
    "    return x + y + z\n",
    "\n",
    "def mul3(x=1, y=1, z=1):\n",
    "    return x * y * z\n",
    "\n",
    "exo_doubler_premier_kwds.example()"
   ]
  },
  {
   "cell_type": "markdown",
   "metadata": {},
   "source": [
    "Vous remarquerez que l'on n'a pas mentionné dans cette liste d'exemples\n",
    "\n",
    "    doubler_premier_kwds (muln, x=1, y=1)\n",
    "   \n",
    "que l'on ne demande pas de supporter puisqu'il est bien précisé que doubler_premier a deux arguments positionnels."
   ]
  },
  {
   "cell_type": "code",
   "execution_count": null,
   "metadata": {
    "collapsed": false
   },
   "outputs": [],
   "source": [
    "# ATTENTION vous devez aussi définir les arguments de la fonction\n",
    "def doubler_premier_kwds(votre, signature):\n",
    "    \"<votre code>\""
   ]
  },
  {
   "cell_type": "code",
   "execution_count": null,
   "metadata": {
    "collapsed": false
   },
   "outputs": [],
   "source": [
    "exo_doubler_premier_kwds.correction(doubler_premier_kwds)"
   ]
  },
  {
   "cell_type": "markdown",
   "metadata": {},
   "source": [
    "## Exercice - niveau avancé"
   ]
  },
  {
   "cell_type": "code",
   "execution_count": null,
   "metadata": {
    "collapsed": false
   },
   "outputs": [],
   "source": [
    "# Pour charger l'exercice\n",
    "from corrections.w4s8_fun_args import exo_compare_args"
   ]
  },
  {
   "cell_type": "markdown",
   "metadata": {},
   "source": [
    "### `compare` revisitée"
   ]
  },
  {
   "cell_type": "markdown",
   "metadata": {},
   "source": [
    "Nous avons déjà fait un peu plus tôt cette semaine, au sujet de la programmation fonctionnelle, un exercice au sujet d'une fonction `compare` qui comparait le résultat de deux fonctions, toutes deux à un argument, sur une liste de valeurs d'entrée."
   ]
  },
  {
   "cell_type": "markdown",
   "metadata": {},
   "source": [
    "Nous reprenons ici la même idée, mais en levant l'hypothèse que les deux fonctions attendent un seul argument. Il faut écrire une nouvelle fonction `compare_args` qui prend en entrée\n",
    " * deux fonctions `f` et `g` comme la dernière fois,\n",
    " * mais cette fois une liste (ou un tuple) `argument_tuples` de **tuples** d'arguments d'entrée\n",
    " \n",
    " Et comme la fois précédente on attend en retour une liste `retour` de booléens, de même taille que `argument_tuples`, telle que, si `len(argument_tuples)` vaut $n$:\n",
    " \n",
    "$\\forall i \\in \\{1,...,n\\}$, si `argument_tuples[i]` == [ $a_1$,...,$a_j$ ], alors\n",
    "\n",
    "`retour(i) == True` $\\Longleftrightarrow$  f ($a_1$,...,$a_j$) == g ($a_1$,...,$a_j$)"
   ]
  },
  {
   "cell_type": "markdown",
   "metadata": {},
   "source": [
    "Pour information, dans tout cet exercice:\n",
    " * `factorial` correspond à `math.factorial`\n",
    " * `fact` et `broken_fact` sont des fonctions implémentées par nos soins, la première est correcte alors que la seconde retourne 0 au lieu de 1 pour l'entrée 0.\n",
    " * `add` correspond à l'addition binaire `operator.add`\n",
    " * `plus` et `broken_plus` sont des additions binaires écrites par nous, l'une étant correcte et l'autre étant fausse lorsque le premier argument est nul."
   ]
  },
  {
   "cell_type": "code",
   "execution_count": null,
   "metadata": {
    "collapsed": false
   },
   "outputs": [],
   "source": [
    "exo_compare_args.example()"
   ]
  },
  {
   "cell_type": "code",
   "execution_count": null,
   "metadata": {
    "collapsed": false
   },
   "outputs": [],
   "source": [
    "# ATTENTION vous devez aussi définir les arguments de la fonction\n",
    "def compare_args(votre, signature):\n",
    "    \"<votre_code>\""
   ]
  },
  {
   "cell_type": "code",
   "execution_count": null,
   "metadata": {
    "collapsed": true
   },
   "outputs": [],
   "source": [
    "exo_compare_args.correction(compare_args)"
   ]
  }
 ],
 "metadata": {
  "kernelspec": {
   "display_name": "Python 2",
   "language": "python",
   "name": "python2"
  },
  "language_info": {
   "codemirror_mode": {
    "name": "ipython",
    "version": 2
   },
   "file_extension": ".py",
   "mimetype": "text/x-python",
   "name": "python",
   "nbconvert_exporter": "python",
   "pygments_lexer": "ipython2",
   "version": "2.7.12"
  },
  "notebookname": "Passage d'arguments",
  "version": "2.0"
 },
 "nbformat": 4,
 "nbformat_minor": 0
}