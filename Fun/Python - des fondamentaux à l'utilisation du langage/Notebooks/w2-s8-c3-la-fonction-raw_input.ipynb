{
 "cells": [
  {
   "cell_type": "markdown",
   "metadata": {},
   "source": [
    "<span style=\"float:left;\">Licence CC BY-NC-ND</span><span style=\"float:right;\">Thierry Parmentelat &amp; Arnaud Legout&nbsp;<img src=\"media/inria-25.png\" style=\"display:inline\"></span><br/>"
   ]
  },
  {
   "cell_type": "markdown",
   "metadata": {},
   "source": [
    "# Obtenir une réponse de l'utilisateur"
   ]
  },
  {
   "cell_type": "markdown",
   "metadata": {},
   "source": [
    "## Complément - niveau basique"
   ]
  },
  {
   "cell_type": "markdown",
   "metadata": {},
   "source": [
    "Occasionnellement, il peut être utile de poser une question à l'utilisateur."
   ]
  },
  {
   "cell_type": "markdown",
   "metadata": {},
   "source": [
    "### La fonction raw_input()"
   ]
  },
  {
   "cell_type": "markdown",
   "metadata": {},
   "source": [
    "C'est le propos de la fonction `raw_input`. Par exemple:"
   ]
  },
  {
   "cell_type": "code",
   "execution_count": null,
   "metadata": {
    "collapsed": false
   },
   "outputs": [],
   "source": [
    "nom_ville = raw_input(\"entrez le nom de la ville : \")\n",
    "print \"nom_ville\", nom_ville"
   ]
  },
  {
   "cell_type": "markdown",
   "metadata": {},
   "source": [
    "Vous pouvez voir ici comment cette fonction est implémentée dans un notebook."
   ]
  },
  {
   "cell_type": "markdown",
   "metadata": {},
   "source": [
    "### Utilitaire `readline`"
   ]
  },
  {
   "cell_type": "markdown",
   "metadata": {},
   "source": [
    "Nous vous conseillons d'essayer également cette fonction dans un terminal avec l'interpréteur python."
   ]
  },
  {
   "cell_type": "markdown",
   "metadata": {},
   "source": [
    "Lorsqu'elle est utilisée dans un terminal, il est utile d'associer à `raw_input` le module `readline`, ainsi l'utilisateur peut utiliser les flêches pour éditer sa réponse, pour revenir en arrière ou remonter dans l'historique de ses réponses, comme ceci"
   ]
  },
  {
   "cell_type": "code",
   "execution_count": null,
   "metadata": {
    "collapsed": false
   },
   "outputs": [],
   "source": [
    "# utile seulement dans un terminal\n",
    "import readline\n",
    "\n",
    "entree = range(3)\n",
    "for i in range(3):\n",
    "    entree[i] = int(raw_input(\"entrez le nombre numéro {} \".format(i)))\n",
    "print \"entree\", entree"
   ]
  },
  {
   "cell_type": "markdown",
   "metadata": {},
   "source": [
    "### Attention à bien vérifier/convertir"
   ]
  },
  {
   "cell_type": "markdown",
   "metadata": {},
   "source": [
    "Notez bien que `raw_input` renvoie **une chaîne**; c'est assez évident, mais il est très facile de l'oublier et de passer cette chaîne directement à une fonction qui s'attend à recevoir, par exemple, un nombre entier, auquel cas les choses se passent mal:"
   ]
  },
  {
   "cell_type": "markdown",
   "metadata": {},
   "source": [
    "    >>> range(raw_input(\"nombre de lignes: \"))\n",
    "    nombre de lignes: 4\n",
    "    Traceback (most recent call last):\n",
    "      File \"<stdin>\", line 1, in <module>\n",
    "    TypeError: range() integer end argument expected, got str."
   ]
  },
  {
   "cell_type": "markdown",
   "metadata": {},
   "source": [
    "Dans ce cas il faut appeler la fonction `int` pour convertir le résultat en un entier:"
   ]
  },
  {
   "cell_type": "code",
   "execution_count": null,
   "metadata": {
    "collapsed": false
   },
   "outputs": [],
   "source": [
    "range(int(raw_input( \"nombre de lignes: \" )))"
   ]
  },
  {
   "cell_type": "markdown",
   "metadata": {},
   "source": [
    "### Limitations"
   ]
  },
  {
   "cell_type": "markdown",
   "metadata": {},
   "source": [
    "Cette fonction nous sera utile pour nos premiers pas en python.\n",
    "\n",
    "En pratique toutefois, on utilise assez peu cette fonction, car les applications \"réelles\" viennent avec leur propre interface utilisateur, souvent graphique, et disposent donc d'autres moyens que celui-ci pour interagir avec l'utilisateur.\n",
    "\n",
    "Les applications destinées à fonctionner dans un terminal, quant à elle, reçoivent traditionnellement leurs données de la ligne de commande. C'est le propos du module `argparse` que nous verrons ultérieurement."
   ]
  }
 ],
 "metadata": {
  "kernelspec": {
   "display_name": "Python 2",
   "language": "python",
   "name": "python2"
  },
  "notebookname": "La fonction raw_input",
  "version": "2.0"
 },
 "nbformat": 4,
 "nbformat_minor": 0
}