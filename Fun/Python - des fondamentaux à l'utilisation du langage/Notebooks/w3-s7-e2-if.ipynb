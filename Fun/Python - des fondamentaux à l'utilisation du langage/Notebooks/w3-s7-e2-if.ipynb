{
 "cells": [
  {
   "cell_type": "markdown",
   "metadata": {},
   "source": [
    "<span style=\"float:left;\">Licence CC BY-NC-ND</span><span style=\"float:right;\">Thierry Parmentelat &amp; Arnaud Legout&nbsp;<img src=\"media/inria-25.png\" style=\"display:inline\"></span><br/>"
   ]
  },
  {
   "cell_type": "markdown",
   "metadata": {},
   "source": [
    "# L'instruction `if`"
   ]
  },
  {
   "cell_type": "markdown",
   "metadata": {},
   "source": [
    "## Exercice - niveau basique"
   ]
  },
  {
   "cell_type": "markdown",
   "metadata": {},
   "source": [
    "### Répartiteur (1)"
   ]
  },
  {
   "cell_type": "code",
   "execution_count": null,
   "metadata": {
    "collapsed": false
   },
   "outputs": [],
   "source": [
    "# on charge l'exercice\n",
    "from corrections.w3s7_if import exo_dispatch1"
   ]
  },
  {
   "cell_type": "markdown",
   "metadata": {},
   "source": [
    "On vous demande d'écrire une fonction `dispatch1` qui prend en argument deux entiers `a` et `b` et qui renvoie selon les cas"
   ]
  },
  {
   "cell_type": "markdown",
   "metadata": {},
   "source": [
    "$\\begin{array}{c|c|c}\n",
    "\\ & a\\  pair & a\\ impair \\\\\n",
    "\\hline\n",
    "b\\ pair & a^2+b^2 & (a-1)*b\\\\\n",
    "\\hline\n",
    "b\\ impair & a*(b-1)& a^2-b^2\\\\\n",
    "\\end{array}\n",
    "$"
   ]
  },
  {
   "cell_type": "code",
   "execution_count": null,
   "metadata": {
    "collapsed": false
   },
   "outputs": [],
   "source": [
    "# un petit exemples\n",
    "exo_dispatch1.example()"
   ]
  },
  {
   "cell_type": "code",
   "execution_count": null,
   "metadata": {
    "collapsed": false
   },
   "outputs": [],
   "source": [
    "def dispatch1(a, b):\n",
    "    \"<votre_code>\""
   ]
  },
  {
   "cell_type": "code",
   "execution_count": null,
   "metadata": {
    "collapsed": false
   },
   "outputs": [],
   "source": [
    "# pour vérifier votre code\n",
    "exo_dispatch1.correction(dispatch1)"
   ]
  },
  {
   "cell_type": "markdown",
   "metadata": {},
   "source": [
    "## Exercice - niveau basique"
   ]
  },
  {
   "cell_type": "markdown",
   "metadata": {},
   "source": [
    "### Répartiteur (2)"
   ]
  },
  {
   "cell_type": "code",
   "execution_count": null,
   "metadata": {
    "collapsed": false
   },
   "outputs": [],
   "source": [
    "# chargement de l'exercice\n",
    "from corrections.w3s7_if import exo_dispatch2"
   ]
  },
  {
   "cell_type": "markdown",
   "metadata": {},
   "source": [
    "Dans une seconde version de cet exercice, on vous demande d'écrire une fonction `dispatch2` qui prend en arguments\n",
    " * `a` et `b` deux entiers\n",
    " * `A` et `B` deux ensembles (chacun pouvant être matérialisé par un ensemble, une liste ou un tuple)\n",
    "\n",
    "et qui renvoie selons les cas\n",
    "\n",
    "$\\begin{array}{c|c|c}\n",
    "\\ & a \\in A & a\\notin A \\\\\n",
    "\\hline\n",
    "b\\in B & a^2+b^2 & (a-1)*b\\\\\n",
    "\\hline\n",
    "b\\notin B & a*(b-1)& a^2+b^2\\\\\n",
    "\\end{array}\n",
    "$"
   ]
  },
  {
   "cell_type": "code",
   "execution_count": null,
   "metadata": {
    "collapsed": false
   },
   "outputs": [],
   "source": [
    "def dispatch2(a, b, A, B):\n",
    "    \"<votre_code>\""
   ]
  },
  {
   "cell_type": "code",
   "execution_count": null,
   "metadata": {
    "collapsed": false
   },
   "outputs": [],
   "source": [
    "# pour vérifier votre code\n",
    "exo_dispatch2.correction(dispatch2)"
   ]
  }
 ],
 "metadata": {
  "kernelspec": {
   "display_name": "Python 2",
   "language": "python",
   "name": "python2"
  },
  "notebookname": "exercices sur if",
  "version": "2.0"
 },
 "nbformat": 4,
 "nbformat_minor": 0
}