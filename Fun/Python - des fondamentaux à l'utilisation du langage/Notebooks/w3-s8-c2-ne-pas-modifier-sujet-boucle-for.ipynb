{
 "cells": [
  {
   "cell_type": "markdown",
   "metadata": {},
   "source": [
    "<span style=\"float:left;\">Licence CC BY-NC-ND</span><span style=\"float:right;\">Thierry Parmentelat &amp; Arnaud Legout&nbsp;<img src=\"media/inria-25.png\" style=\"display:inline\"></span><br/>"
   ]
  },
  {
   "cell_type": "markdown",
   "metadata": {},
   "source": [
    "# Une limite de la boucle `for`"
   ]
  },
  {
   "cell_type": "markdown",
   "metadata": {},
   "source": [
    "## Complément - niveau basique"
   ]
  },
  {
   "cell_type": "markdown",
   "metadata": {},
   "source": [
    "Pour ceux qui veulent suivre le cours au niveau basique, retenez seulement que dans une boucle `for` sur un objet mutable, **il ne faut pas modifier le sujet** de la boucle.\n",
    "\n",
    "Ainsi par exemple il ne **faut pas faire** quelque chose comme ceci:"
   ]
  },
  {
   "cell_type": "code",
   "execution_count": 1,
   "metadata": {
    "collapsed": false
   },
   "outputs": [
    {
     "ename": "RuntimeError",
     "evalue": "Set changed size during iteration",
     "output_type": "error",
     "traceback": [
      "\u001b[1;31m---------------------------------------------------------------------------\u001b[0m",
      "\u001b[1;31mRuntimeError\u001b[0m                              Traceback (most recent call last)",
      "\u001b[1;32m<ipython-input-1-779388f2308c>\u001b[0m in \u001b[0;36m<module>\u001b[1;34m()\u001b[0m\n\u001b[0;32m      4\u001b[0m \u001b[1;33m\u001b[0m\u001b[0m\n\u001b[0;32m      5\u001b[0m \u001b[1;31m# ceci semble une bonne idée mais ne fonctionne pas\u001b[0m\u001b[1;33m\u001b[0m\u001b[1;33m\u001b[0m\u001b[0m\n\u001b[1;32m----> 6\u001b[1;33m \u001b[1;32mfor\u001b[0m \u001b[0mvaleur\u001b[0m \u001b[1;32min\u001b[0m \u001b[0mensemble\u001b[0m\u001b[1;33m:\u001b[0m\u001b[1;33m\u001b[0m\u001b[0m\n\u001b[0m\u001b[0;32m      7\u001b[0m     \u001b[1;32mif\u001b[0m \u001b[0mvaleur\u001b[0m\u001b[1;33m[\u001b[0m\u001b[1;36m0\u001b[0m\u001b[1;33m]\u001b[0m \u001b[1;33m!=\u001b[0m \u001b[1;34m'a'\u001b[0m\u001b[1;33m:\u001b[0m\u001b[1;33m\u001b[0m\u001b[0m\n\u001b[0;32m      8\u001b[0m         \u001b[0mensemble\u001b[0m\u001b[1;33m.\u001b[0m\u001b[0mdiscard\u001b[0m\u001b[1;33m(\u001b[0m\u001b[0mvaleur\u001b[0m\u001b[1;33m)\u001b[0m\u001b[1;33m\u001b[0m\u001b[0m\n",
      "\u001b[1;31mRuntimeError\u001b[0m: Set changed size during iteration"
     ]
    }
   ],
   "source": [
    "# on veut enlever de l'ensemble toutes les chaines \n",
    "# qui ne commencent pas par 'a'\n",
    "ensemble = {'marc', 'albert'}\n",
    "\n",
    "# ceci semble une bonne idée mais ne fonctionne pas\n",
    "for valeur in ensemble:\n",
    "    if valeur[0] != 'a':\n",
    "        ensemble.discard(valeur)"
   ]
  },
  {
   "cell_type": "markdown",
   "metadata": {},
   "source": [
    "### Comment faire alors ?"
   ]
  },
  {
   "cell_type": "markdown",
   "metadata": {},
   "source": [
    "Lorsqu'on est dans ce cas de figure, il suffit de faire la boucle sur une *shallow copy* de l'objet."
   ]
  },
  {
   "cell_type": "code",
   "execution_count": 2,
   "metadata": {
    "collapsed": false
   },
   "outputs": [
    {
     "name": "stdout",
     "output_type": "stream",
     "text": [
      "set(['albert'])\n"
     ]
    }
   ],
   "source": [
    "from copy import copy\n",
    "# on veut enlever de l'ensemble toutes les chaines \n",
    "# qui ne commencent pas par 'a'\n",
    "ensemble = {'marc', 'albert'}\n",
    "\n",
    "# si on fait d'abord une copie tout va bien\n",
    "for valeur in copy(ensemble):\n",
    "    if valeur[0] != 'a':\n",
    "        ensemble.discard(valeur)\n",
    "        \n",
    "print ensemble"
   ]
  },
  {
   "cell_type": "markdown",
   "metadata": {},
   "source": [
    "### Avertissement"
   ]
  },
  {
   "cell_type": "markdown",
   "metadata": {},
   "source": [
    "Dans l'exemple ci-dessus, on voit que l'interpréteur se rend compte que l'on est en train de modifier l'objet de la boucle, et nous le signifie.\n",
    "\n",
    "Ne vous fiez pas forcément à cet exemple, il existe des cas -- nous en verrons plus loin dans ce document -- où l'interpréteur peut accepter votre code alors qu'il n'obéit pas à cette règle, et du coup essentiellement se mettre à faire n'importe quoi."
   ]
  },
  {
   "cell_type": "markdown",
   "metadata": {},
   "source": [
    "### Précisons bien la limite"
   ]
  },
  {
   "cell_type": "markdown",
   "metadata": {},
   "source": [
    "Pour être tout à fait clair, lorsqu'on dit qu'il ne faut pas modifier l'objet de la boucle `for`, il ne s'agit que du premier niveau. \n",
    "\n",
    "On ne doit pas modifier la **composition de l'objet en tant qu'itérable**, mais on peut sans souci modifier chacun des objets qui constituent l'itération.\n",
    "\n",
    "Ainsi par exemple cette construction par contre est tout à fait valide"
   ]
  },
  {
   "cell_type": "code",
   "execution_count": 3,
   "metadata": {
    "collapsed": false
   },
   "outputs": [
    {
     "name": "stdout",
     "output_type": "stream",
     "text": [
      "avant [[0], [1], [2]]\n",
      "après [[0, None], [1, None], [2, None]]\n"
     ]
    }
   ],
   "source": [
    "liste = [[i] for i in range(3)]\n",
    "print 'avant', liste\n",
    "for sous_liste in liste:\n",
    "    sous_liste.append(None)\n",
    "print 'après', liste"
   ]
  },
  {
   "cell_type": "markdown",
   "metadata": {},
   "source": [
    "Dans cet exemple, les modifications ont lieu sur les éléments de `liste`, et non sur l'objet `liste` lui-même, c'est donc tout à fait légal."
   ]
  },
  {
   "cell_type": "markdown",
   "metadata": {},
   "source": [
    "## Complément - niveau intermédiaire"
   ]
  },
  {
   "cell_type": "markdown",
   "metadata": {},
   "source": [
    "Pour bien comprendre la nature de cette limitation, il faut bien voir que cela soulève deux types de problèmes distincts."
   ]
  },
  {
   "cell_type": "markdown",
   "metadata": {},
   "source": [
    "### Difficulté d'ordre sémantique"
   ]
  },
  {
   "cell_type": "markdown",
   "metadata": {},
   "source": [
    "D'un point de vue sémantique, si l'on voulait autoriser ce genre de choses, il faudrait définir très précisément le comportement attendu.\n",
    "\n",
    "Considérons par exemple la situation d'une liste qui a 10 éléments, sur laquelle on ferait une boucle et que, par exemple au 5ème élément, on enlève le 8ème élément. Quel serait le comportement attendu dans ce cas ? Faut-il ou non que la boucle envisage alors le 8-ème élément ?\n",
    "\n",
    "La situation serait encore pire pour les dictionnaires et ensembles pour lesquels l'ordre de parcours n'est pas spécifié; ainsi on pourrait écrire du code totalement indéterministe si le parcours d'un ensemble essayait:\n",
    " * d'enlever l'élément 'b' lorsqu'on parcourt l'élément 'a'\n",
    " * d'enlever l'élément 'a' lorsqu'on parcourt l'élément 'b'\n",
    " \n",
    "On le voit, il n'est déjà pas très simple d'expliciter sans ambiguïté le comportement attendu d'une boucle for qui serait autorisée à modifier son propre sujet. En fait, l'apparente limitation qui consiste à interdir de modifier l'objet sur lequel on itère permet d'avoir un comportement plus facile à comprendre. "
   ]
  },
  {
   "cell_type": "markdown",
   "metadata": {},
   "source": [
    "### Difficulté d'implémentation"
   ]
  },
  {
   "cell_type": "markdown",
   "metadata": {},
   "source": [
    "Voyons maintenant un exemple de code qui ne respecte pas la règle, et qui modifie le sujet de la boucle en lui ajoutant des valeurs"
   ]
  },
  {
   "cell_type": "markdown",
   "metadata": {},
   "source": [
    "    # cette boucle ne termine pas\n",
    "    liste = [1, 2, 3]\n",
    "    for c in liste:\n",
    "        if c == 3:\n",
    "            liste.append(c)"
   ]
  },
  {
   "cell_type": "markdown",
   "metadata": {},
   "source": [
    "Nous avons volontairement mis ce code **dans une cellule de texte** et non de code: vous **ne pouvez pas l'exécuter** dans le notebook. Si vous essayez de l'exécuter sur votre ordinateur vous constaterez qu'elle ne termine pas, en fait à chaque itération on ajoute un nouvel élément dans la liste, et du coup la boucle a un élément de plus à balayer; ce programme ne termine jamais."
   ]
  }
 ],
 "metadata": {
  "kernelspec": {
   "display_name": "Python 2",
   "language": "python",
   "name": "python2"
  },
  "language_info": {
   "codemirror_mode": {
    "name": "ipython",
    "version": 2
   },
   "file_extension": ".py",
   "mimetype": "text/x-python",
   "name": "python",
   "nbconvert_exporter": "python",
   "pygments_lexer": "ipython2",
   "version": "2.7.11"
  },
  "notebookname": "Limite de la boucle for",
  "version": "2.0"
 },
 "nbformat": 4,
 "nbformat_minor": 0
}
