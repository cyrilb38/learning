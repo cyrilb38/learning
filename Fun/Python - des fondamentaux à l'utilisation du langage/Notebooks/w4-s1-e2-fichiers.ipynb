{
 "cells": [
  {
   "cell_type": "markdown",
   "metadata": {},
   "source": [
    "<span style=\"float:left;\">Licence CC BY-NC-ND</span><span style=\"float:right;\">Thierry Parmentelat &amp; Arnaud Legout&nbsp;<img src=\"media/inria-25.png\" style=\"display:inline\"></span><br/>"
   ]
  },
  {
   "cell_type": "markdown",
   "metadata": {},
   "source": [
    "# Fichiers"
   ]
  },
  {
   "cell_type": "markdown",
   "metadata": {},
   "source": [
    "## Exercice - niveau basique"
   ]
  },
  {
   "cell_type": "markdown",
   "metadata": {},
   "source": [
    "### Calcul du nombre de lignes, de mots et de caractères"
   ]
  },
  {
   "cell_type": "code",
   "execution_count": null,
   "metadata": {
    "collapsed": false
   },
   "outputs": [],
   "source": [
    "# chargement de l'exercice\n",
    "from corrections.w4s1_files import exo_comptage"
   ]
  },
  {
   "cell_type": "markdown",
   "metadata": {},
   "source": [
    "On se propose d'écrire une * moulinette* qui annote un fichier avec des nombres de lignes, de mots et de caractères.\n",
    "\n",
    "Le but de l'exercice est d'écrire une fonction `comptage`:\n",
    " * qui prenne en argument un nom de fichier d'entrée (on suppose qu'il existe) et un nom de fichier de sortie (on suppose qu'on a le droit de l'écrire);\n",
    " * le fichier d'entrée est laissé intact;\n",
    " *  pour chaque ligne en entrée, le fichier de sortie comporte une ligne qui donne le numéro de ligne, le nombre de mots (**séparés par des espaces**), le nombre de caractères (y compris la fin de ligne), et la ligne d'origine;\n",
    " * et enfin le fichier de sortie comporte une dernière ligne avec les nombres totaux de lignes, de mots et de caractères, **suivi d'une dernière fin de ligne**.\n",
    " \n",
    "Dans sa version simple, cet exercice ne s'occupe que de **fichiers sans caractères accentués**."
   ]
  },
  {
   "cell_type": "code",
   "execution_count": null,
   "metadata": {
    "collapsed": false
   },
   "outputs": [],
   "source": [
    "# un exemple de ce qui est attendu\n",
    "exo_comptage.example()"
   ]
  },
  {
   "cell_type": "code",
   "execution_count": null,
   "metadata": {
    "collapsed": false
   },
   "outputs": [],
   "source": [
    "# votre code\n",
    "def comptage(in_filename, out_filename):\n",
    "#    print 'in',in_filename\n",
    "#    print 'out',out_filename\n",
    "    \"<votre_code>\""
   ]
  },
  {
   "cell_type": "markdown",
   "metadata": {},
   "source": [
    "**N'oubliez pas de vérifier** que vous ajoutez bien la **dernière fin de ligne**."
   ]
  },
  {
   "cell_type": "code",
   "execution_count": null,
   "metadata": {
    "collapsed": false
   },
   "outputs": [],
   "source": [
    "# pour vérifier votre code\n",
    "\n",
    "exo_comptage.correction(comptage)"
   ]
  },
  {
   "cell_type": "markdown",
   "metadata": {},
   "source": [
    "La méthode `debug` applique votre fonction au premier fichier d'entrée, et affiche le résultat comme dans l'exemple ci-dessus. "
   ]
  },
  {
   "cell_type": "code",
   "execution_count": null,
   "metadata": {
    "collapsed": false
   },
   "outputs": [],
   "source": [
    "# debugging\n",
    "exo_comptage.debug(comptage)"
   ]
  },
  {
   "cell_type": "markdown",
   "metadata": {},
   "source": [
    "### Accès aux fichiers d'exemples"
   ]
  },
  {
   "cell_type": "markdown",
   "metadata": {},
   "source": [
    "Vous pouvez télécharger les fichiers d'exemples&nbsp;:\n",
    " * [Romeo and Juliet](data/romeo_and_juliet.txt)\n",
    " * [Lorem Ipsum](data/lorem_ipsum.txt)\n",
    "\n",
    "Ainsi que pour les courageux, des fichiers avec accents&nbsp;:\n",
    " * [\"Une charogne\" en Unicode](data/une_charogne_unicode.txt)\n",
    " * [\"Une charogne\" en Iso-latin-15](data/une_charogne_iso15.txt)\n",
    "\n",
    "À nouveau ces deux fichiers ne sont pas à prendre en compte dans la version basique de l'exercice. Vous pourrez même vous rendre compte qu'avec python-2, il est assez compliqué d'écrire une fonction `comptage` qui fonctionne correctement avec des entrées mixtes (c'est-à-dire indifféremment avec un fichier unicode ou isolatin) en ce qui concerne le nombre de caractères."
   ]
  }
 ],
 "metadata": {
  "kernelspec": {
   "display_name": "Python 2",
   "language": "python",
   "name": "python2"
  },
  "notebookname": "Fichiers",
  "version": "2.0"
 },
 "nbformat": 4,
 "nbformat_minor": 0
}