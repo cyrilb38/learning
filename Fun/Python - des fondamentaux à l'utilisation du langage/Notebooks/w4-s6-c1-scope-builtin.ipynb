{
 "cells": [
  {
   "cell_type": "markdown",
   "metadata": {},
   "source": [
    "<span style=\"float:left;\">Licence CC BY-NC-ND</span><span style=\"float:right;\">Thierry Parmentelat &amp; Arnaud Legout&nbsp;<img src=\"media/inria-25.png\" style=\"display:inline\"></span><br/>"
   ]
  },
  {
   "cell_type": "markdown",
   "metadata": {},
   "source": [
    "# Le scope `builtin`"
   ]
  },
  {
   "cell_type": "markdown",
   "metadata": {},
   "source": [
    "## Complément - niveau avancé"
   ]
  },
  {
   "cell_type": "markdown",
   "metadata": {},
   "source": [
    "### Ces noms qui viennent de nulle part"
   ]
  },
  {
   "cell_type": "markdown",
   "metadata": {},
   "source": [
    "Nous avons vu déja un certain nombre de **fonctions *built-in*** comme par exemple"
   ]
  },
  {
   "cell_type": "code",
   "execution_count": null,
   "metadata": {
    "collapsed": false
   },
   "outputs": [],
   "source": [
    "open, len, zip"
   ]
  },
  {
   "cell_type": "markdown",
   "metadata": {},
   "source": [
    "Ces noms font partie du **module `__buitin__`**. Il est cependant particulier puisque tout se passe **comme si** on avait fait avant toute chose:\n",
    "\n",
    "    from __builtin__ import *\n",
    "    \n",
    "sauf que cet import est implicite."
   ]
  },
  {
   "cell_type": "markdown",
   "metadata": {},
   "source": [
    "### On peut réaffecter un nom *builtin*"
   ]
  },
  {
   "cell_type": "markdown",
   "metadata": {},
   "source": [
    "Quoique ce soit une pratique déconseillée, il est tout à fait possible de redéfinir ces noms; on peut faire par exemple"
   ]
  },
  {
   "cell_type": "code",
   "execution_count": null,
   "metadata": {
    "collapsed": false
   },
   "outputs": [],
   "source": [
    "def open():\n",
    "    pass"
   ]
  },
  {
   "cell_type": "markdown",
   "metadata": {},
   "source": [
    "Ceci est déconseillé car le code en aval de cette définition risque de ne pas faire ce qui est attendu; immaginez par exemple qu'on essaie maintenant de faire"
   ]
  },
  {
   "cell_type": "code",
   "execution_count": null,
   "metadata": {
    "collapsed": false
   },
   "outputs": [],
   "source": [
    "# on a modifié le nom 'open', attention aux surprises\n",
    "with open(\"builtin.txt\", \"w\") as f:\n",
    "    f.write(\"quelque chose\")"
   ]
  },
  {
   "cell_type": "markdown",
   "metadata": {},
   "source": [
    "### On ne peut pas réaffecter un mot clé"
   ]
  },
  {
   "cell_type": "markdown",
   "metadata": {},
   "source": [
    "À titre de digression, rappelons que les noms prédéfinis sont, à cet égard aussi, très différents des mots-clés comme `if`, `def`, `with` et autres `for` qui eux, ne peuvent pas être modifiés en aucune manière."
   ]
  },
  {
   "cell_type": "markdown",
   "metadata": {},
   "source": [
    "### Que faire alors ?"
   ]
  },
  {
   "cell_type": "markdown",
   "metadata": {},
   "source": [
    "Même quand on sait qu'il faut éviter cette pratique, on n'a pas toujours en tête la liste exhaustive des noms prédéfinis, aussi il arrive qu'on le fasse involontairement. Rappelons, cependant, qu'un bon éditeur de texte vous signalera les fonctions built-in avec une coloration syntaxique spécifique. \n",
    "\n",
    "Sachez que vous pouvez toujours \"retrouver\" alors la fonction prédéfinie en l'important explicitement du module `__builtin__`. Par exemple pour écrire notre ouverture de fichier nous pouvons toujours faire"
   ]
  },
  {
   "cell_type": "code",
   "execution_count": null,
   "metadata": {
    "collapsed": false
   },
   "outputs": [],
   "source": [
    "# pour être sûr d'utiliser la bonne fonction open\n",
    "\n",
    "import __builtin__ \n",
    "\n",
    "with __builtin__.open(\"builtin.txt\", \"w\") as f:\n",
    "    f.write(\"quelque chose\")"
   ]
  },
  {
   "cell_type": "markdown",
   "metadata": {},
   "source": [
    "### Liste des fonctions prédéfinies"
   ]
  },
  {
   "cell_type": "markdown",
   "metadata": {},
   "source": [
    "Vous pouvez trouver la liste des fonctions prédéfinies avec la fonction `dir` sur le module `__builtin__` comme ci-dessous (qui vous montre aussi les exceptions prédéfinies, qui commencent par une majuscule), ou dans la documentation sur [les fonctions prédéfinies](https://docs.python.org/2/library/functions.html#built-in-funcs\n",
    ")"
   ]
  },
  {
   "cell_type": "code",
   "execution_count": null,
   "metadata": {
    "collapsed": false
   },
   "outputs": [],
   "source": [
    "dir(__builtin__)"
   ]
  }
 ],
 "metadata": {
  "kernelspec": {
   "display_name": "Python 2",
   "language": "python",
   "name": "python2"
  },
  "notebookname": "Le scope builtin",
  "version": "2.0"
 },
 "nbformat": 4,
 "nbformat_minor": 0
}