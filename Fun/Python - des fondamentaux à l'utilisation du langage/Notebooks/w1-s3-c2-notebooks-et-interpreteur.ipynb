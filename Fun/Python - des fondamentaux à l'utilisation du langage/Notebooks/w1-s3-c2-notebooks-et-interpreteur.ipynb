{
 "cells": [
  {
   "cell_type": "markdown",
   "metadata": {},
   "source": [
    "<span style=\"float:left;\">Licence CC BY-NC-ND</span><span style=\"float:right;\">Thierry Parmentelat &amp; Arnaud Legout&nbsp;<img src=\"media/inria-25.png\" style=\"display:inline\"></span><br/>"
   ]
  },
  {
   "cell_type": "markdown",
   "metadata": {},
   "source": [
    "# Modes d'exécution"
   ]
  },
  {
   "cell_type": "markdown",
   "metadata": {},
   "source": [
    "Nous avons donc à notre disposition plusieurs façons d'exécuter un programme python. Nous allons les étudier plus en détail.   \n",
    "\n",
    "<table>\n",
    "<thead> <tr><th>Quoi</th><th>Avec quel outil</th></tr>\n",
    "<tr><td>ligne à ligne</td><td>avec IDLE ou python interactif</td></tr>\n",
    "<tr><td>fichier complet</td><td>`python <fichier>.py` </td></tr>\n",
    "<tr><td>par fragments </td><td>dans un notebook</td></tr>\n",
    "</table>"
   ]
  },
  {
   "cell_type": "markdown",
   "metadata": {},
   "source": [
    "Pour cela nous allons voir le comportement d'un tout petit programme python lorsqu'on l'exécute sous ces trois environnements.\n",
    "\n",
    "L'objectif de cet exercice est de vous convaincre que - heureusement - les trois environnements se comportent de la même façon, avec toutefois une petite différence quant au niveau de détail de ce qui se trouve imprimé."
   ]
  },
  {
   "cell_type": "markdown",
   "metadata": {},
   "source": [
    "Essentiellement, lorsqu'on utilise l'interpréteur en mode interactif - ou sous IDLE - à chaque fois que l'on tape une ligne, le résultat est **calculé** (on dit aussi **évalué**) **et imprimé**\n",
    "\n",
    "Par contre lorsqu'on écrit tout un programme, on ne peut plus imprimer le résultat de toutes les lignes, cela produirait un flot d'impression beaucoup trop important. \n",
    "\n",
    "Enfin en ce qui concerne le notebook, le comportement est un peu hybride entre les deux, en ce sens que seul le **dernier résultat** de la cellule est imprimé. "
   ]
  },
  {
   "cell_type": "markdown",
   "metadata": {},
   "source": [
    "### L'interpréteur python interactif"
   ]
  },
  {
   "cell_type": "markdown",
   "metadata": {},
   "source": [
    "Le programme choisi est très simple, c'est le suivant"
   ]
  },
  {
   "cell_type": "markdown",
   "metadata": {},
   "source": [
    "    10 * 10\n",
    "    20 * 20\n",
    "    30 * 30"
   ]
  },
  {
   "cell_type": "markdown",
   "metadata": {},
   "source": [
    "Voici comment se comporte l'interpréteur interactif quand on lui soumet ces instructions"
   ]
  },
  {
   "cell_type": "markdown",
   "metadata": {},
   "source": [
    "    ~ $ python\n",
    "    Python 2.7.7 (default, Jun  2 2014, 01:41:14)\n",
    "    [GCC 4.2.1 Compatible Apple LLVM 5.1 (clang-503.0.40)] on darwin\n",
    "    Type \"help\", \"copyright\", \"credits\" or \"license\" for more information.\n",
    "    >>> 10 * 10\n",
    "    100\n",
    "    >>> 20 * 20\n",
    "    400\n",
    "    >>> 30 * 30\n",
    "    900\n",
    "    >>> exit()\n",
    "    ~ $"
   ]
  },
  {
   "cell_type": "markdown",
   "metadata": {},
   "source": [
    "Noter que pour terminer la session, il nous faut \"sortir\" de l'interpréteur en tapant `exit()`\n",
    "\n",
    "On peut aussi taper `Control-D` sous linux ou MacOS."
   ]
  },
  {
   "cell_type": "markdown",
   "metadata": {},
   "source": [
    "Comme on le voit ici, l'interpréteur imprime **le résultat de chaque ligne**. On voit bien apparaître toutes les valeurs calculées, 100, 400, puis enfin 900."
   ]
  },
  {
   "cell_type": "markdown",
   "metadata": {},
   "source": [
    "### Sous forme de programme constitué"
   ]
  },
  {
   "cell_type": "markdown",
   "metadata": {},
   "source": [
    "Voyons à présent ce que donne cette même séquence de calculs dans un programme complet. Pour cela il nous faut tout d'abord fabriquer un fichier, que la tradition veut avec un suffixe en `.py`, en utilisant par exemple un éditeur de fichier. Le résultat doit ressembler à ceci:"
   ]
  },
  {
   "cell_type": "markdown",
   "metadata": {},
   "source": [
    "    ~ $ cat foo.py\n",
    "    10 * 10\n",
    "    20 * 20\n",
    "    30 * 30\n",
    "    ~ $ "
   ]
  },
  {
   "cell_type": "markdown",
   "metadata": {},
   "source": [
    "Exécutons à présent ce programme:"
   ]
  },
  {
   "cell_type": "markdown",
   "metadata": {},
   "source": [
    "    ~ $ python foo.py\n",
    "    ~ $"
   ]
  },
  {
   "cell_type": "markdown",
   "metadata": {},
   "source": [
    "On constate donc que ce programme ne fait rien. En tous cas selon toute apparence. \n",
    "\n",
    "Ce qui se passe en réalité, c'est que les 3 valeurs 100, 400 et 900 sont bien calculées, mais comme aucune instruction `print` n'est présente, rien n'est imprimé et le programme se termine sans signe apparent d'avoir réellement fonctionné.\n",
    "\n",
    "Ce comportement peut paraître un peu déroutant au début, mais comme nous l'avons mentionné c'est tout à fait délibéré. Un programme fonctionnel faisant facilement plusieurs milliers de lignes, voire beaucoup plus, il ne serait pas du tout réaliste que chaque ligne fasse l'objet d'une impression automatique comme c'est le cas en mode interactif."
   ]
  },
  {
   "cell_type": "markdown",
   "metadata": {},
   "source": [
    "### Dans un notebook"
   ]
  },
  {
   "cell_type": "markdown",
   "metadata": {},
   "source": [
    "Voici à présent le même programme dans un notebook"
   ]
  },
  {
   "cell_type": "code",
   "execution_count": null,
   "metadata": {
    "collapsed": false
   },
   "outputs": [],
   "source": [
    "10 * 10\n",
    "20 * 20\n",
    "30 * 30"
   ]
  },
  {
   "cell_type": "markdown",
   "metadata": {},
   "source": [
    "Lorsqu'on exécute cette cellule (rappel : sélectionner la cellule, et utiliser le bouton en forme de flêche vers la droite, ou entrer **\"Shift+Enter\"** au clavier), on obtient une seule valeur dans la rubrique 'Out', 900, qui correspond **au résultat de la dernière ligne.**"
   ]
  },
  {
   "cell_type": "markdown",
   "metadata": {},
   "source": [
    "### Utiliser `print`"
   ]
  },
  {
   "cell_type": "markdown",
   "metadata": {},
   "source": [
    "Ainsi pour afficher un résultat intermédiaire, on utilise l'instruction `print`. Nous verrons cette instruction en détail dans les semaines qui viennent, mais en guise d'introduction disons seulement qu'on la fait suivre d'une liste d'expressions comme ceci:"
   ]
  },
  {
   "cell_type": "code",
   "execution_count": null,
   "metadata": {
    "collapsed": false
   },
   "outputs": [],
   "source": [
    "a = 10\n",
    "b = 20\n",
    "\n",
    "print a, b"
   ]
  },
  {
   "cell_type": "markdown",
   "metadata": {},
   "source": [
    "On peut naturellement mélanger des objets de plusieurs types, et donc mélanger des strings et des nombres pour obtenir un résultat un peu plus lisible; en effet lorsque le programme devient gros, il est important de savoir à quoi correspond une ligne dans le flot de toutes les impressions. Aussi on préfèrera quelque chose comme:"
   ]
  },
  {
   "cell_type": "code",
   "execution_count": null,
   "metadata": {
    "collapsed": false
   },
   "outputs": [],
   "source": [
    "print \"a=\", a, \"et b=\", b"
   ]
  },
  {
   "cell_type": "markdown",
   "metadata": {},
   "source": [
    "Une pratique courante consiste d'ailleurs à utiliser les commentaires pour laisser dans le code les instructions `print` qui correspondent à du debug (c'est-à-dire qui ont pu être utiles lors de la mise au point et qu'on veut pouvoir réactiver rapidement)."
   ]
  },
  {
   "cell_type": "markdown",
   "metadata": {},
   "source": [
    "### Utiliser `print` pour \"sous-titrer\" une affectation"
   ]
  },
  {
   "cell_type": "markdown",
   "metadata": {},
   "source": [
    "Remarquons enfin et surtout le fait que l'affectation à une variable ne retourne aucun résultat. \n",
    "\n",
    "C'est à dire en pratique que si on écrit"
   ]
  },
  {
   "cell_type": "code",
   "execution_count": null,
   "metadata": {
    "collapsed": false
   },
   "outputs": [],
   "source": [
    "a = 100"
   ]
  },
  {
   "cell_type": "markdown",
   "metadata": {},
   "source": [
    "même une fois l'expression évaluée par l'interpréteur, aucune ligne `Out[]` n'est ajoutée."
   ]
  },
  {
   "cell_type": "markdown",
   "metadata": {},
   "source": [
    "C'est pourquoi il nous arrivera parfois, et notamment lorsque l'expression est complexe, pour rendre plus explicite la valeur qui vient d'être affectée, d'écrire alors plutôt"
   ]
  },
  {
   "cell_type": "code",
   "execution_count": null,
   "metadata": {
    "collapsed": false
   },
   "outputs": [],
   "source": [
    "a = 100 ; print a"
   ]
  },
  {
   "cell_type": "markdown",
   "metadata": {},
   "source": [
    "Notez bien que cette techinque est uniquement pédagogique et n'a absolument aucun autre intérêt dans la pratique, il n'est **pas recommandé** de l'utiliser en dehors de ce contexte."
   ]
  }
 ],
 "metadata": {
  "kernelspec": {
   "display_name": "Python 2",
   "language": "python",
   "name": "python2"
  },
  "notebookname": "Modes d'exécution",
  "version": "2.0"
 },
 "nbformat": 4,
 "nbformat_minor": 0
}