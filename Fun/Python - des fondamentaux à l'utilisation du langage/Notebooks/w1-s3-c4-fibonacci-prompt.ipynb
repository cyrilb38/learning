{
 "cells": [
  {
   "cell_type": "markdown",
   "metadata": {},
   "source": [
    "<span style=\"float:left;\">Licence CC BY-NC-ND</span><span style=\"float:right;\">Thierry Parmentelat &amp; Arnaud Legout&nbsp;<img src=\"media/inria-25.png\" style=\"display:inline\"></span><br/>"
   ]
  },
  {
   "cell_type": "markdown",
   "metadata": {},
   "source": [
    "# La suite de Fibonacci"
   ]
  },
  {
   "cell_type": "markdown",
   "metadata": {},
   "source": [
    "## Complément - niveau basique"
   ]
  },
  {
   "cell_type": "markdown",
   "metadata": {},
   "source": [
    "Voici un premier exemple de code que vous pouvez commencer par utiliser dans ce notebook. Nous verrons en fin de séance comment le faire également fonctionner localement sur votre ordinateur."
   ]
  },
  {
   "cell_type": "markdown",
   "metadata": {},
   "source": [
    "Le but de ce programme est de calculer la fonction de Fibonacci, qui comme vous vous en souvenez sûrement est  définie comme ceci&nbsp;:\n",
    "\n",
    "* $ u_0 = 1$\n",
    "* $u_1 = 1 $\n",
    "* $ \\forall n >= 2, u_{n} = u_{n-1} + u_{n-2} $\n",
    "\n",
    "Ce qui donne pour les premières valeurs\n",
    "\n",
    "<table>\n",
    "<thead><tr><th>n</th><td>fibonacci(n)</td></tr></thead>\n",
    "<tr><td>0</td><td>1</td></tr>\n",
    "<tr><td>1</td><td>1</td></tr>\n",
    "<tr><td>2</td><td>2</td></tr>\n",
    "<tr><td>3</td><td>3</td></tr>\n",
    "<tr><td>4</td><td>5</td></tr>\n",
    "<tr><td>5</td><td>8</td></tr>\n",
    "</table>"
   ]
  },
  {
   "cell_type": "markdown",
   "metadata": {},
   "source": [
    "On commence par définir la fonction `fibonacci` comme suit. Naturellement vous n'avez pas encore tout le bagage pour lire ce code, ne vous inquiétez pas nous allons vous expliquer tout ça dans les prochaines semaines. Le but est uniquement de vous montrer un fonctionnement de l'interpréteur Python et de IDLE. "
   ]
  },
  {
   "cell_type": "code",
   "execution_count": null,
   "metadata": {
    "collapsed": false
   },
   "outputs": [],
   "source": [
    "def fibonacci(n):\n",
    "    \"retourne le nombre de fibonacci pour l'entier n\"\n",
    "    # pour les petites valeurs de n il n'y a rien a calculer\n",
    "    if n <= 1: \n",
    "        return 1\n",
    "    # sinon on initialise f1 pour n-1 et f2 pour n-2\n",
    "    f2, f1 = 1, 1\n",
    "    # et on itère n-1 fois pour additionner\n",
    "    for i in range(2, n + 1):\n",
    "        f2, f1 = f1, f1 + f2\n",
    "#        print i, f2, f1\n",
    "    # le résultat est dans f1\n",
    "    return f1"
   ]
  },
  {
   "cell_type": "markdown",
   "metadata": {},
   "source": [
    "Pour en faire un programme utilisable on va demander à l'utilisateur de rentrer un nombre; il faut le convertir en entier car `raw_input` renvoie une chaîne de caractères"
   ]
  },
  {
   "cell_type": "code",
   "execution_count": null,
   "metadata": {
    "collapsed": false
   },
   "outputs": [],
   "source": [
    "entier = int(raw_input(\"Entrer un entier \"))"
   ]
  },
  {
   "cell_type": "markdown",
   "metadata": {},
   "source": [
    "On imprime le résultat"
   ]
  },
  {
   "cell_type": "code",
   "execution_count": null,
   "metadata": {
    "collapsed": false
   },
   "outputs": [],
   "source": [
    "print \"fibonacci({}) = {}\".format(entier, fibonacci(entier))"
   ]
  },
  {
   "cell_type": "markdown",
   "metadata": {},
   "source": [
    "### Exercice"
   ]
  },
  {
   "cell_type": "markdown",
   "metadata": {},
   "source": [
    "Vous pouvez donc à présent&nbsp;:\n",
    " * exécuter le code dans ce notebook\n",
    " * télécharger ce code sur votre disque comme un fichier `fibonacci_prompt.py` \n",
    "   * utilisez pour cela le menu *\"File -> Download as -> python\"*\n",
    "   * et renommez le fichier obtenu au besoin\n",
    " * l'exécuter sous IDLE\n",
    " * le modifier, par exemple pour afficher les résultats intermédiaires \n",
    "   * on a laissé exprès des commentaires que vous pouvez réactiver simplement\n",
    " * l'exécuter avec simplement python comme ceci\n",
    " \n",
    "     `$ python fibonacci_prompt.py`\n",
    "     "
   ]
  },
  {
   "cell_type": "markdown",
   "metadata": {},
   "source": [
    "Ce code est volontairement simple et peu robuste pour ne pas l'alourdir. Par exemple, ce programme se comporte mal si vous entrez un entier négatif."
   ]
  },
  {
   "cell_type": "markdown",
   "metadata": {},
   "source": [
    "Nous allons voir tout de suite une version légèrement différente qui vous permet de spécifier la valeur d'entrée sur la ligne de commande"
   ]
  }
 ],
 "metadata": {
  "kernelspec": {
   "display_name": "Python 2",
   "language": "python",
   "name": "python2"
  },
  "notebookname": "Fibonacci",
  "version": "2.0"
 },
 "nbformat": 4,
 "nbformat_minor": 0
}