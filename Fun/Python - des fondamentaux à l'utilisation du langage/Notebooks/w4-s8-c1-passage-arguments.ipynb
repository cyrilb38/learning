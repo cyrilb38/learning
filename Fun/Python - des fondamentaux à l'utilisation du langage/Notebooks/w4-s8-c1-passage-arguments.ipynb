{
 "cells": [
  {
   "cell_type": "markdown",
   "metadata": {},
   "source": [
    "<span style=\"float:left;\">Licence CC BY-NC-ND</span><span style=\"float:right;\">Thierry Parmentelat &amp; Arnaud Legout&nbsp;<img src=\"media/inria-25.png\" style=\"display:inline\"></span><br/>"
   ]
  },
  {
   "cell_type": "markdown",
   "metadata": {},
   "source": [
    "# Passage d'arguments"
   ]
  },
  {
   "cell_type": "markdown",
   "metadata": {},
   "source": [
    "## Complément - niveau intermédiaire"
   ]
  },
  {
   "cell_type": "markdown",
   "metadata": {},
   "source": [
    "### Motivation"
   ]
  },
  {
   "cell_type": "markdown",
   "metadata": {},
   "source": [
    "Jusqu'ici nous avons développé le modèle simple qu'on trouve dans tous les langages de programmation, à savoir qu'une fonction a un nombre fixe, supposé connu, d'arguments. Ce modèle a cependant quelques limitations; les mécanismes de passage d'arguments que propose python, et que nous venons de voir dans les vidéos, visent à lever ces limitations.\n",
    "\n",
    "Voyons de quelles limitations il s'agit."
   ]
  },
  {
   "cell_type": "markdown",
   "metadata": {},
   "source": [
    "### Nombre d'arguments non connu à l'avance"
   ]
  },
  {
   "cell_type": "markdown",
   "metadata": {},
   "source": [
    "##### Ou encore : introduction à la forme `*arguments`"
   ]
  },
  {
   "cell_type": "markdown",
   "metadata": {},
   "source": [
    "Pour prendre un exemple aussi simple que possible, imaginons que `print` est comme dans python-3, non plus une instruction, mais une fonction. On peut faire cela en python-2 en [important le module `__future__`](https://docs.python.org/2/library/__future__.html) qui permet d'utiliser des fonctionnalités disponibles dans des versions ultérieures de python. Dans le cas qui nous intéresse, l'import ci-dessous permet de remplacer l'instruction `print` par une fonction `print` qui se comporte comme dans python-3."
   ]
  },
  {
   "cell_type": "code",
   "execution_count": null,
   "metadata": {
    "collapsed": false
   },
   "outputs": [],
   "source": [
    "from __future__ import print_function\n",
    "\n",
    "print(\"nous\", \"utilisons\", \"print\", \"comme\", \"une\", \"fonction\")"
   ]
  },
  {
   "cell_type": "markdown",
   "metadata": {},
   "source": [
    "Imaginons maintenant que nous voulons implémenter une variante de `print`, c'est-à-dire une fonction `error`, qui se comporte exactement comme `print` sauf qu'elle ajoute en début de ligne une balise `ERROR`.\n",
    "\n",
    "Se posent alors deux problèmes. \n",
    " * D'une part il nous faut un moyen de spécifier que notre fonction prend un nombre quelconque d'arguments. \n",
    " * D'autre part il faut une syntaxe pour repasser tous ces arguments à la fonction `print`.\n",
    " \n",
    "On peut faire tout cela avec la notation en `*` comme ceci"
   ]
  },
  {
   "cell_type": "code",
   "execution_count": null,
   "metadata": {
    "collapsed": false
   },
   "outputs": [],
   "source": [
    "# accepter n'importe quel nombre d'arguments\n",
    "def error(*print_args):\n",
    "    # et les repasser à l'identique à print en plus de la balise\n",
    "    print('ERROR', *print_args)\n",
    "\n",
    "# on peut alors l'utiliser comme ceci\n",
    "error(\"problème\", \"dans\", \"la\", \"fonction\", \"foo\")\n",
    "# ou même sans argument\n",
    "error()"
   ]
  },
  {
   "cell_type": "markdown",
   "metadata": {},
   "source": [
    "### Légère variation"
   ]
  },
  {
   "cell_type": "markdown",
   "metadata": {},
   "source": [
    "Pour sophistiquer un peu cet exemple, on veut maintenant imposer à la fonction erreur qu'elle reçoive un argument obligatoire de type entier qui représente un code d'erreur, plus à nouveau un nombre quelconque d'arguments pour `print`. \n",
    "\n",
    "Pour cela, on peut créer une signature qui va mélanger un argument traditionnel en première position, qui sera obligatoire à l'appel, et le tuple des arguments pour `print`, comme ceci"
   ]
  },
  {
   "cell_type": "code",
   "execution_count": null,
   "metadata": {
    "collapsed": false
   },
   "outputs": [],
   "source": [
    "def error(error_code, *print_args):\n",
    "    # ici on peut imaginer une logique qui retrouve un message\n",
    "    # d'erreur plus complet attaché au code d'erreur\n",
    "    message = \"message d'erreur pour {}\".format(error_code)\n",
    "    print(\"ERROR\", message, '--', *print_args)\n",
    "    \n",
    "# que l'on peut à présent appeler comme ceci\n",
    "error(100, \"un\", \"petit\", \"souci\")"
   ]
  },
  {
   "cell_type": "markdown",
   "metadata": {},
   "source": [
    "Remarquons que maintenant la fonction `error` ne peut plus être appelée sans argument, puisqu'on a mentionné un paramètre obligatoire `error_code`."
   ]
  },
  {
   "cell_type": "markdown",
   "metadata": {},
   "source": [
    "### Ajout de fonctionnalités"
   ]
  },
  {
   "cell_type": "markdown",
   "metadata": {},
   "source": [
    "##### Ou encore : la forme `argument=valeur_par_defaut`"
   ]
  },
  {
   "cell_type": "markdown",
   "metadata": {},
   "source": [
    "Nous envisageons à présent le cas - tout à fait indépendant de ce qui précède - où vous avez écrit une librairie graphique, dans laquelle vous exposez une fonction `ligne` définie comme suit. Évidemment pour garder le code simple, nous imprimons seulement les coordonnées du segment; souvenez vous que ce notebook utilise `print_function`:"
   ]
  },
  {
   "cell_type": "code",
   "execution_count": null,
   "metadata": {
    "collapsed": false
   },
   "outputs": [],
   "source": [
    "# première interface pour dessiner une ligne\n",
    "def ligne(x1, y1, x2, y2):\n",
    "    \"dessine la ligne (x1,y1) -> (x2,y2)\"\n",
    "    # restons simple\n",
    "    print(\"la ligne ({},{}) -> ({},{})\".format(x1, y1, x2, y2))"
   ]
  },
  {
   "cell_type": "markdown",
   "metadata": {},
   "source": [
    "Vous publiez cette librairie en version 1, vous avez des utilisateurs; et quelque temps plus tard vous écrivez une version 2 qui prend en compte la couleur. Ce qui vous conduit à ajouter un paramètre pour `ligne`. \n",
    "\n",
    "Si vous le faites en déclarant \n",
    "\n",
    "    def ligne(x1, y1, x2, y2, couleur):\n",
    "        ...\n",
    "      \n",
    "alors tous les utilisateurs de la version 1 vont devoir changer leur code - pour rester à fonctionnalité égale - en ajoutant un cinquième argument 'noir' à leurs appels à `ligne`.\n",
    "\n",
    "Vous pouvez éviter cet inconvénient en définissant une deuxième version de `ligne` comme ceci"
   ]
  },
  {
   "cell_type": "code",
   "execution_count": null,
   "metadata": {
    "collapsed": false
   },
   "outputs": [],
   "source": [
    "# deuxième interface pour dessiner une ligne\n",
    "def ligne(x1, y1, x2, y2, couleur=\"noir\"):\n",
    "    \"dessine la ligne (x1,y1) -> (x2,y2) dans la couleur spécifiée\"\n",
    "    # restons simple\n",
    "    print(\"la ligne ({},{}) -> ({},{}) en {}\".\\\n",
    "           format(x1, y1, x2, y2, couleur))"
   ]
  },
  {
   "cell_type": "markdown",
   "metadata": {},
   "source": [
    "Avec cette nouvelle définition, on peut aussi bien"
   ]
  },
  {
   "cell_type": "code",
   "execution_count": null,
   "metadata": {
    "collapsed": false
   },
   "outputs": [],
   "source": [
    "# faire fonctionner du vieux code sans le modifier\n",
    "ligne(0, 0, 100, 100)\n",
    "# ou bien tirer profit du nouveau trait\n",
    "ligne(0, 100, 100, 0, 'rouge')"
   ]
  },
  {
   "cell_type": "markdown",
   "metadata": {},
   "source": [
    "##### Les paramètres par défaut sont très utiles"
   ]
  },
  {
   "cell_type": "markdown",
   "metadata": {},
   "source": [
    "Notez bien que ce genre de situation peut tout aussi bien se produire sans que vous ne publiiez de librairie, à l'intérieur d'une seule application. Par exemple, cette situation peut se produire si vous avez un jour à ajouter un argument à une fonction parce qu'elle doit faire face à de nouvelles situations imprévues, mais que vous n'avez pas le temps de modifier tout le code.\n",
    "\n",
    "Ou encore plus simplement, vous pouvez choisir d'utiliser ce passage de paramètres dès le début de la conception. Si vous implémentez par exemple une fonction `ligne` dans un environnement réaliste, il vous faut une interface qui précise: les points concernés, la couleur du trait, l'épaisseur du trait, le style du trait, le niveau de transparence, etc... Et il n'est vraiment pas utile que tous les appels à `ligne` reprécisent tout ceci intégralement, aussi une bonne partie de ces paramètres seront très constructivement déclarés avec une valeur par défaut."
   ]
  },
  {
   "cell_type": "markdown",
   "metadata": {},
   "source": [
    "## Complément - niveau avancé"
   ]
  },
  {
   "cell_type": "markdown",
   "metadata": {},
   "source": [
    "### Écrire un wrapper"
   ]
  },
  {
   "cell_type": "markdown",
   "metadata": {},
   "source": [
    "##### Ou encore : la forme `**keywords`"
   ]
  },
  {
   "cell_type": "markdown",
   "metadata": {},
   "source": [
    "La notion de *wrapper* - emballage, en anglais - est très répandue en informatique, et consiste, à partir d'un morceau de code souche existant (fonction ou classe) à définir une variante qui se comporte comme la souche, mais avec quelques légères différences.\n",
    "\n",
    "La fonction `error` était déjà un premier exemple de *wrapper*. Maintenant nous voulons définir un *wrapper* `ligne_rouge`, qui sous-traite à la fonction `ligne` mais toujours avec la couleur rouge. \n",
    "\n",
    "Maintenant que l'on a injecté la notion de paramètre par défaut dans le système de signature des fonctions, se repose la question de savoir comment passer à l'identique les arguments de `ligne_rouge` à `ligne`. "
   ]
  },
  {
   "cell_type": "markdown",
   "metadata": {},
   "source": [
    "Évidemment, une première option consiste à regarder la signature de `ligne`:\n",
    "\n",
    "    def ligne(x1, y1, x2, y2, couleur=\"noir\")"
   ]
  },
  {
   "cell_type": "markdown",
   "metadata": {},
   "source": [
    "Et à en déduire une implémentation de `ligne_rouge` comme ceci"
   ]
  },
  {
   "cell_type": "code",
   "execution_count": null,
   "metadata": {
    "collapsed": false
   },
   "outputs": [],
   "source": [
    "# la version naïve - non conseillée - de ligne_rouge\n",
    "def ligne_rouge(x1, y1, x2, y2):\n",
    "    return ligne(x1, y1, x2, y2, couleur='rouge')\n",
    "\n",
    "ligne_rouge(0, 0, 100, 100)"
   ]
  },
  {
   "cell_type": "markdown",
   "metadata": {},
   "source": [
    "Toutefois, avec cette implémentation, si la signature de `ligne` venait à changer, on serait vraisemblablement amené à changer celle de `ligne_rouge`, sauf à perdre en fonctionnalité. Imaginons en effet que `ligne` devienne dans une version suivante"
   ]
  },
  {
   "cell_type": "code",
   "execution_count": null,
   "metadata": {
    "collapsed": false
   },
   "outputs": [],
   "source": [
    "# on ajoute encore une fonctionnalité à la fonction ligne\n",
    "def ligne(x1, y1, x2, y2, couleur=\"noir\", epaisseur=2):\n",
    "    print(\"la ligne ({},{}) -> ({},{}) en {} - ep. {}\".\\\n",
    "            format(x1, y1, x2, y2, couleur, epaisseur))"
   ]
  },
  {
   "cell_type": "markdown",
   "metadata": {},
   "source": [
    "Alors le wrapper ne nous permet plus de profiter de la nouvelle fonctionnalité. \n",
    "De manière générale, on cherche au maximum à se prémunir contre de telles dépendances. \n",
    "Aussi, il est de beaucoup préférable d'implémenter `ligne_rouge` comme suit, où vous remarquerez que **la seule hypothèse** faite sur `ligne` est qu'elle accepte un argument nommé `couleur`."
   ]
  },
  {
   "cell_type": "code",
   "execution_count": null,
   "metadata": {
    "collapsed": false
   },
   "outputs": [],
   "source": [
    "def ligne_rouge(*arguments, **keywords):\n",
    "    # c'est le seul endroit où on fait une hypothèse sur la fonction `ligne`\n",
    "    keywords['couleur'] = \"rouge\"\n",
    "    return ligne(*arguments, **keywords)"
   ]
  },
  {
   "cell_type": "markdown",
   "metadata": {},
   "source": [
    "Ce qui permet maintenant de faire"
   ]
  },
  {
   "cell_type": "code",
   "execution_count": null,
   "metadata": {
    "collapsed": false
   },
   "outputs": [],
   "source": [
    "ligne_rouge(0, 100, 100, 0, epaisseur=4)"
   ]
  },
  {
   "cell_type": "markdown",
   "metadata": {},
   "source": [
    "### Pour en savoir plus - la forme générale"
   ]
  },
  {
   "cell_type": "markdown",
   "metadata": {},
   "source": [
    "Une fois assimilé ce qui précède, vous avez de quoi comprendre une énorme majorité (99% au moins) du code python. \n",
    "\n",
    "Dans le cas général, il est possible de combiner les 4 formes d'arguments:\n",
    " * des expressions (cas des arguments \"normaux\", dits positionnels)\n",
    " * des expressions nommées, comme `nom=<expression>`\n",
    " * des `*expressions`\n",
    " * des `**expressions`\n",
    " \n",
    "Vous pouvez [vous reporter à cette page](https://docs.python.org/2/reference/expressions.html#calls\n",
    ") pour une description détaillée de ce cas général."
   ]
  },
  {
   "cell_type": "markdown",
   "metadata": {},
   "source": [
    "À l'appel d'une fonction, il faut résoudre les arguments, c'est-à-dire associer une valeur à chaque paramètre formel (ceux qui apparaissent dans le `def`) à partir des valeurs figurant dans l'appel.\n",
    "\n",
    "L'idée est que pour faire cela, les arguments de l'appel ne sont pas pris dans l'ordre où ils apparaissent, mais les arguments positionnels sont utilisés en premier. La logique est que, naturellement les arguments positionnnels (ou ceux qui proviennent d'une `*expression`) viennent sans nom, et donc ne peuvent pas être utilisés pour résoudre des arguments nommés."
   ]
  },
  {
   "cell_type": "markdown",
   "metadata": {},
   "source": [
    "Voici un tout petit exemple pour vous donner une idée de la complexité de ce mécanisme lorsqu'on mélange toutes les 4 formes d'arguments à l'appel de la fonction (alors qu'on a défini la fonction avec 4 paramètres positionnels)"
   ]
  },
  {
   "cell_type": "code",
   "execution_count": null,
   "metadata": {
    "collapsed": false
   },
   "outputs": [],
   "source": [
    "def foo(a, b, c, d):\n",
    "    print(a, b, c, d)"
   ]
  },
  {
   "cell_type": "code",
   "execution_count": null,
   "metadata": {
    "collapsed": false
   },
   "outputs": [],
   "source": [
    "foo(1, c=3, *(2,), **{'d':4})"
   ]
  },
  {
   "cell_type": "code",
   "execution_count": null,
   "metadata": {
    "collapsed": false
   },
   "outputs": [],
   "source": [
    "foo (1, b=3, *(2,), **{'d':4})"
   ]
  },
  {
   "cell_type": "markdown",
   "metadata": {},
   "source": [
    "Si le problème ne vous semble pas clair, vous pouvez regarder la [documentation python décrivant ce problème](https://docs.python.org/2/reference/expressions.html#calls). "
   ]
  }
 ],
 "metadata": {
  "kernelspec": {
   "display_name": "Python 2",
   "language": "python",
   "name": "python2"
  },
  "notebookname": "Passage d'arguments",
  "version": "2.0"
 },
 "nbformat": 4,
 "nbformat_minor": 0
}