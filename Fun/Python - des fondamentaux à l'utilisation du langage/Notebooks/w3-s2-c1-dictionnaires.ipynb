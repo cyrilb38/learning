{
 "cells": [
  {
   "cell_type": "markdown",
   "metadata": {},
   "source": [
    "<span style=\"float:left;\">Licence CC BY-NC-ND</span><span style=\"float:right;\">Thierry Parmentelat &amp; Arnaud Legout&nbsp;<img src=\"media/inria-25.png\" style=\"display:inline\"></span><br/>"
   ]
  },
  {
   "cell_type": "markdown",
   "metadata": {},
   "source": [
    "# Dictionnaires"
   ]
  },
  {
   "cell_type": "markdown",
   "metadata": {},
   "source": [
    "## Complément - niveau basique"
   ]
  },
  {
   "cell_type": "markdown",
   "metadata": {},
   "source": [
    "Ce document résume les opérations courantes disponibles sur le type `dict`. On rappelle que le type `dict` est un type **mutable**."
   ]
  },
  {
   "cell_type": "markdown",
   "metadata": {},
   "source": [
    "### Création en extension"
   ]
  },
  {
   "cell_type": "markdown",
   "metadata": {},
   "source": [
    "On l'a vu, la méthode la plus directe pour créer un dictionnaire est en extension comme ceci"
   ]
  },
  {
   "cell_type": "code",
   "execution_count": null,
   "metadata": {
    "collapsed": false
   },
   "outputs": [],
   "source": [
    "annuaire = {'marc': 35, 'alice': 30, 'eric': 38}\n",
    "print annuaire"
   ]
  },
  {
   "cell_type": "markdown",
   "metadata": {},
   "source": [
    "### Création - la fonction dict"
   ]
  },
  {
   "cell_type": "markdown",
   "metadata": {},
   "source": [
    "Comme pour les fonctions `int` ou `list`, la fonction `dict` est une fonction de construction de dictionnaire - on dit un constructeur - dont on a aussi vu dans la vidéo l'usage habituel à base d'une liste de tuples (`clé`, `valeur`)"
   ]
  },
  {
   "cell_type": "code",
   "execution_count": null,
   "metadata": {
    "collapsed": false
   },
   "outputs": [],
   "source": [
    "annuaire = dict([('marc', 35), ('alice', 30), ('eric', 38)])\n",
    "print annuaire"
   ]
  },
  {
   "cell_type": "markdown",
   "metadata": {},
   "source": [
    "Remarquons qu'on peut aussi utiliser cette autre forme d'appel à `dict` pour un résultat équivalent"
   ]
  },
  {
   "cell_type": "code",
   "execution_count": null,
   "metadata": {
    "collapsed": false
   },
   "outputs": [],
   "source": [
    "annuaire = dict(marc=35, alice=30, eric=38)\n",
    "print annuaire"
   ]
  },
  {
   "cell_type": "markdown",
   "metadata": {},
   "source": [
    "Remarquez ci-dessus l'absence de quotes autour des clés comme `marc`. Il s'agit d'un cas particulier de passage d'arguments que nous expliciterons plus longuement en fin de semaine 4."
   ]
  },
  {
   "cell_type": "markdown",
   "metadata": {},
   "source": [
    "### Accès atomique"
   ]
  },
  {
   "cell_type": "markdown",
   "metadata": {},
   "source": [
    "Pour accéder à la valeur associée à une clé, on utilise la notation à base de crochets `[]`"
   ]
  },
  {
   "cell_type": "code",
   "execution_count": null,
   "metadata": {
    "collapsed": false
   },
   "outputs": [],
   "source": [
    "print 'la valeur pour marc est', annuaire['marc']"
   ]
  },
  {
   "cell_type": "markdown",
   "metadata": {},
   "source": [
    "Cette forme d'accès ne fonctionne que si la clé est effectivement présente dans le dictionnaire. Dans le cas contraire une exception `KeyError` est levée. Si vous n'êtes pas sûr si la clé est présente, vous pouvez utiliser `get` qui accepte une valeur par défaut"
   ]
  },
  {
   "cell_type": "code",
   "execution_count": null,
   "metadata": {
    "collapsed": false
   },
   "outputs": [],
   "source": [
    "print 'valeur pour marc', annuaire.get('marc', 0)\n",
    "print 'valeur pour inconnu', annuaire.get('inconnu', 0)"
   ]
  },
  {
   "cell_type": "markdown",
   "metadata": {},
   "source": [
    "Le dictionnaire est un type **mutable**, aussi on peut **modifier la valeur** associée à une clé"
   ]
  },
  {
   "cell_type": "code",
   "execution_count": null,
   "metadata": {
    "collapsed": false
   },
   "outputs": [],
   "source": [
    "annuaire['eric'] = 39\n",
    "print annuaire"
   ]
  },
  {
   "cell_type": "markdown",
   "metadata": {},
   "source": [
    "Ou encore, exactement de la même façon, **ajouter une entrée**"
   ]
  },
  {
   "cell_type": "code",
   "execution_count": null,
   "metadata": {
    "collapsed": false
   },
   "outputs": [],
   "source": [
    "annuaire['bob'] = 42\n",
    "print annuaire"
   ]
  },
  {
   "cell_type": "markdown",
   "metadata": {},
   "source": [
    "Enfin pour **détruire une entrée**, on peut utiliser l'instruction `del` comme ceci"
   ]
  },
  {
   "cell_type": "code",
   "execution_count": null,
   "metadata": {
    "collapsed": false
   },
   "outputs": [],
   "source": [
    "del annuaire['marc']\n",
    "print annuaire"
   ]
  },
  {
   "cell_type": "markdown",
   "metadata": {},
   "source": [
    "Pour savoir si une clé est présente ou non, il est conseillé d'utiliser l'opérateur d'appartenance `in` comme ceci"
   ]
  },
  {
   "cell_type": "code",
   "execution_count": null,
   "metadata": {
    "collapsed": false
   },
   "outputs": [],
   "source": [
    "# forme recommandée\n",
    "print 'john' in annuaire"
   ]
  },
  {
   "cell_type": "markdown",
   "metadata": {},
   "source": [
    "Notez qu'avec des versions plus anciennes de python, vous pourrez trouver aussi du code qui utilise la méthode `has_key` qui n'est plus recommandée"
   ]
  },
  {
   "cell_type": "code",
   "execution_count": null,
   "metadata": {
    "collapsed": false
   },
   "outputs": [],
   "source": [
    "# forme obsolete\n",
    "annuaire.has_key('john')"
   ]
  },
  {
   "cell_type": "markdown",
   "metadata": {},
   "source": [
    "### Accès à toutes les entrées"
   ]
  },
  {
   "cell_type": "markdown",
   "metadata": {},
   "source": [
    "La méthode la plus fréquente pour \"balayer\" tout un dictionnaire est à base de la méthode `iteritems`; voici par exemple comment on pourrait afficher le contenu "
   ]
  },
  {
   "cell_type": "code",
   "execution_count": null,
   "metadata": {
    "collapsed": false
   },
   "outputs": [],
   "source": [
    "for nom, age in annuaire.iteritems():\n",
    "    print \"{}, age {}\".format(nom, age)"
   ]
  },
  {
   "cell_type": "markdown",
   "metadata": {},
   "source": [
    "On remarque d'abord que les entrées sont listées dans le désordre; ceci est dû à l'action de la fonction de hachage, que nous avons vue dans la vidéo précédente."
   ]
  },
  {
   "cell_type": "markdown",
   "metadata": {},
   "source": [
    "On remarque aussi que le nom de la méthode est un peu étrange. En fait, il existe aussi une méthode `items` qui remplit le même rôle, et dont le nom est plus simple à retenir. Cependant, nous vous conseillons d'utiliser systématiquement la méthode `iteritems` qui, étant implémentée comme un itérateur et non comme une liste, est préférable dès que la taille du dictionnaire devient importante."
   ]
  },
  {
   "cell_type": "markdown",
   "metadata": {},
   "source": [
    "Nous reviendrons sur la notion d'itérateurs en semaine 3, mais voici un premier aperçu de la différence entre ces deux méthodes"
   ]
  },
  {
   "cell_type": "code",
   "execution_count": null,
   "metadata": {
    "collapsed": false
   },
   "outputs": [],
   "source": [
    "print annuaire.items()"
   ]
  },
  {
   "cell_type": "code",
   "execution_count": null,
   "metadata": {
    "collapsed": false
   },
   "outputs": [],
   "source": [
    "print annuaire.iteritems()"
   ]
  },
  {
   "cell_type": "markdown",
   "metadata": {},
   "source": [
    "Comme vous l'avez peut-être deviné, la différence principale entre ces deux approches est que `items` construit **vraiment** un objet liste (qui peut être très grosse, et donc prendre de la place, et du temps à calculer), alors que l'itérateur rendu par `iteritems` est de taille constante, et se trouve construit très rapidement.\n",
    "\n",
    "À nouveau ce concept sera approfondi en semaine 3, mais si vous ne devez retenir qu'une seule méthode pour \"balayer\" un dictionnaire, retenez **`iteritems`**"
   ]
  },
  {
   "cell_type": "markdown",
   "metadata": {},
   "source": [
    "On peut obtenir la liste des clés et des valeurs avec"
   ]
  },
  {
   "cell_type": "code",
   "execution_count": null,
   "metadata": {
    "collapsed": false
   },
   "outputs": [],
   "source": [
    "# utiliser de préférence ceci dans un \"for\"\n",
    "print 'clés', annuaire.iterkeys()\n",
    "print 'valeurs', annuaire.itervalues()"
   ]
  },
  {
   "cell_type": "markdown",
   "metadata": {},
   "source": [
    "qui sont comme iteritems la version \"itérateur\" de `keys` et `values`"
   ]
  },
  {
   "cell_type": "code",
   "execution_count": null,
   "metadata": {
    "collapsed": false
   },
   "outputs": [],
   "source": [
    "# utiliser ceci pour inspecter un dictionnaire dans un terminal\n",
    "print 'clés', annuaire.keys()\n",
    "print 'valeurs', annuaire.values()"
   ]
  },
  {
   "cell_type": "markdown",
   "metadata": {},
   "source": [
    "## Complément - niveau intermédiaire"
   ]
  },
  {
   "cell_type": "markdown",
   "metadata": {},
   "source": [
    "##### La fonction `len`"
   ]
  },
  {
   "cell_type": "markdown",
   "metadata": {},
   "source": [
    "On peut comme d'habitude obtenir la taille d'un dictionnaire avec la fonction `len`"
   ]
  },
  {
   "cell_type": "code",
   "execution_count": null,
   "metadata": {
    "collapsed": false
   },
   "outputs": [],
   "source": [
    "print '{} entrées dans annuaire'.format(len(annuaire))"
   ]
  },
  {
   "cell_type": "markdown",
   "metadata": {},
   "source": [
    "##### La méthode `update`"
   ]
  },
  {
   "cell_type": "markdown",
   "metadata": {},
   "source": [
    "On peut également modifier un dictionnaire avec le contenu d'un autre dictionnaire avec la méthode `update`"
   ]
  },
  {
   "cell_type": "code",
   "execution_count": null,
   "metadata": {
    "collapsed": false
   },
   "outputs": [],
   "source": [
    "annuaire.update({'jean':25, 'eric':70})\n",
    "annuaire.items()"
   ]
  },
  {
   "cell_type": "markdown",
   "metadata": {},
   "source": [
    "##### La méthode `setdefault`"
   ]
  },
  {
   "cell_type": "markdown",
   "metadata": {},
   "source": [
    "[Cette méthode](https://docs.python.org/2/library/stdtypes.html#dict.setdefault) permet, en un seul appel, de retourner la valeur associée à une clé et de créer cette clé au besoin, c'est à dire si elle n'est pas encore présente"
   ]
  },
  {
   "cell_type": "code",
   "execution_count": null,
   "metadata": {
    "collapsed": false
   },
   "outputs": [],
   "source": [
    "print 'avant', annuaire\n",
    "print 'set_default eric',annuaire.setdefault('eric', 50)\n",
    "print 'set_default inconnu',annuaire.setdefault('inconnu', 50)\n",
    "print 'après', annuaire"
   ]
  },
  {
   "cell_type": "markdown",
   "metadata": {},
   "source": [
    "Notez bien que `setdefault` ne **modifie jamais** la valeur associée à une clé déjà présente dans le dictionnaire, comme le nom le suggère d'ailleurs."
   ]
  },
  {
   "cell_type": "markdown",
   "metadata": {},
   "source": [
    "##### Pour en savoir plus sur le type `dict`"
   ]
  },
  {
   "cell_type": "markdown",
   "metadata": {},
   "source": [
    "Pour une liste exhaustive reportez-vous à la page de la documentation python ici\n",
    "\n",
    "https://docs.python.org/2/library/stdtypes.html#mapping-types-dict"
   ]
  },
  {
   "cell_type": "markdown",
   "metadata": {},
   "source": [
    "### Dictionnaires avec ordre"
   ]
  },
  {
   "cell_type": "markdown",
   "metadata": {},
   "source": [
    "Comme cela devrait être clair à présent, un dictionnaire est non ordonné, dans ce sens qu'il ne se souvient pas de l'ordre dans lequel les éléments ont été insérés."
   ]
  },
  {
   "cell_type": "code",
   "execution_count": null,
   "metadata": {
    "collapsed": false
   },
   "outputs": [],
   "source": [
    "d = dict()\n",
    "for i in ['a', 7, 3, 'x']: \n",
    "    d[i] = i\n",
    "for k, v in d.iteritems():\n",
    "    print 'dict', k, v"
   ]
  },
  {
   "cell_type": "markdown",
   "metadata": {},
   "source": [
    "Signalons également l'existence dans [le module `collections`](https://docs.python.org/2/library/collections.html) de la classe [`OrderedDict`](https://docs.python.org/2/library/collections.html#collections.OrderedDict), qui est une extension du type `dict` mais qui possède cette bonne propriété:"
   ]
  },
  {
   "cell_type": "code",
   "execution_count": null,
   "metadata": {
    "collapsed": false
   },
   "outputs": [],
   "source": [
    "from collections import OrderedDict\n",
    "d = OrderedDict()\n",
    "for i in ['a', 7, 3, 'x']: \n",
    "    d[i] = i\n",
    "for k, v in d.iteritems():\n",
    "    print 'OrderedDict', k, v"
   ]
  },
  {
   "cell_type": "markdown",
   "metadata": {},
   "source": [
    "## Complément - niveau avancé "
   ]
  },
  {
   "cell_type": "markdown",
   "metadata": {},
   "source": [
    "### Vues sur un dictionnaire"
   ]
  },
  {
   "cell_type": "markdown",
   "metadata": {},
   "source": [
    "Signalons enfin [les méthodes](https://docs.python.org/2/library/stdtypes.html#dict.viewitems)\n",
    " * `viewitems`\n",
    " * `viewkeys`\n",
    " * `viewvalues`\n",
    "\n",
    "qui retournent des objets de type *vue*, qui sont dynamiquement mis à jour:"
   ]
  },
  {
   "cell_type": "code",
   "execution_count": null,
   "metadata": {
    "collapsed": false
   },
   "outputs": [],
   "source": [
    "# on crée un dictionnaire\n",
    "d = dict(a=1, b=2, c=3)\n",
    "# et une vue sur ce dictionnaire\n",
    "view_values = d.viewvalues()\n",
    "for v in view_values:\n",
    "    print v"
   ]
  },
  {
   "cell_type": "code",
   "execution_count": null,
   "metadata": {
    "collapsed": false
   },
   "outputs": [],
   "source": [
    "# si on modifie le dictionnaire, la vue est modifiée également\n",
    "del d['b']\n",
    "for v in view_values:\n",
    "    print v"
   ]
  },
  {
   "cell_type": "markdown",
   "metadata": {},
   "source": [
    "Reportez vous à [la section sur les vues de dictionnaires](https://docs.python.org/2/library/stdtypes.html#dictionary-view-objects) pour plus de détails."
   ]
  }
 ],
 "metadata": {
  "kernelspec": {
   "display_name": "Python 2",
   "language": "python",
   "name": "python2"
  },
  "notebookname": "Dictionnaires",
  "version": "2.0"
 },
 "nbformat": 4,
 "nbformat_minor": 0
}