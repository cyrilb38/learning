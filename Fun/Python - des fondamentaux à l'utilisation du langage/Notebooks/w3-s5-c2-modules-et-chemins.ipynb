{
 "cells": [
  {
   "cell_type": "markdown",
   "metadata": {},
   "source": [
    "<span style=\"float:left;\">Licence CC BY-NC-ND</span><span style=\"float:right;\">Thierry Parmentelat &amp; Arnaud Legout&nbsp;<img src=\"media/inria-25.png\" style=\"display:inline\"></span><br/>"
   ]
  },
  {
   "cell_type": "markdown",
   "metadata": {},
   "source": [
    "# Où sont cherchés les modules ?"
   ]
  },
  {
   "cell_type": "markdown",
   "metadata": {},
   "source": [
    "## Complément - niveau basique"
   ]
  },
  {
   "cell_type": "markdown",
   "metadata": {},
   "source": [
    "Pour les débutants en informatique, le plus simple est de se souvenir que si vous voulez uniquement charger vos propres modules ou packages, il suffit de les placer dans le répertoire où vous lancez la commande python. Si vous n'êtes pas sûr de cet emplacement vous pouvez le savoir en faisant:"
   ]
  },
  {
   "cell_type": "markdown",
   "metadata": {},
   "source": [
    "    import os\n",
    "    print 'directory courant', os.getcwd()"
   ]
  },
  {
   "cell_type": "markdown",
   "metadata": {},
   "source": [
    "## Complément - niveau intermédiaire"
   ]
  },
  {
   "cell_type": "markdown",
   "metadata": {},
   "source": [
    "Dans ce complément nous allons voir, de manière générale, comment sont localisés (sur le disque dur) les modules que vous chargez dans python grâce à l'instruction `import`; nous verrons aussi où placer vos propres fichiers pour qu'ils soient accessibles à python."
   ]
  },
  {
   "cell_type": "markdown",
   "metadata": {},
   "source": [
    "[Comme expliqué ici](https://docs.python.org/2/tutorial/modules.html#the-module-search-path), lorsque vous importez le module `spam`, python cherche dans cet ordre:\n",
    " * un module *built-in* de nom `spam` - probablement écrit en C donc\n",
    " * ou sinon un fichier `spam.py` (ou `spam/__init.py__` s'il s'agit d'un package); pour le localiser on utilise la variable `sys.path` (c'est-à-dire donc l'attribut `path` dans le module `sys`), qui est une liste de répertoires, et qui est initialisée avec, dans cet ordre\n",
    "   * le répertoire courant (celui dans lequel est lancé python),\n",
    "   * la variable d'environnement `PYTHONPATH`\n",
    "   * un certain nombre d'emplacements définis au moment de la compilation de python."
   ]
  },
  {
   "cell_type": "markdown",
   "metadata": {},
   "source": [
    "Ainsi sans action particulière de l'utilisateur, python trouve l'intégralité de la librarie standard, ainsi que les modules et packages installés dans le répertoire courant. "
   ]
  },
  {
   "cell_type": "markdown",
   "metadata": {},
   "source": [
    "Voyons par exemple comment cela se présente dans l'interpréteur des notebooks"
   ]
  },
  {
   "cell_type": "code",
   "execution_count": null,
   "metadata": {
    "collapsed": false
   },
   "outputs": [],
   "source": [
    "import sys\n",
    "print sys.path"
   ]
  },
  {
   "cell_type": "markdown",
   "metadata": {},
   "source": [
    "On remarque que le premier élément de `sys.path` est la chaîne vide, qui correspond à la recherche dans le répertoire courant. Les autres emplacements correspondent à tous les emplacements où peuvent s'installer des librairies tierces."
   ]
  },
  {
   "cell_type": "markdown",
   "metadata": {},
   "source": [
    "La [variable d'environnement](http://en.wikipedia.org/wiki/Environment_variable) PYTHONPATH est utilisée ici de façon à donner la possibilité d'étendre ces listes depuis l'extérieur, et sans recompiler l'interpréteur, ni modifier les sources. Cette possibilité s'adresse donc à l'utilisateur final - ou à son administrateur système - plutôt qu'au programmeur."
   ]
  },
  {
   "cell_type": "markdown",
   "metadata": {},
   "source": [
    "En tant que programmeur par contre, vous avez la possibilité d'étendre `sys.path` avant de faire vos `import`.\n",
    "\n",
    "Imaginons par exemple que vous avez écrit un petit outil utilitaire qui se compose d'un point d'entrée `main.py`, et de plusieurs modules `spam.py` et `eggs.py`. Vous n'avez pas le temps de packager proprement cet outil, vous voudriez pouvoir distribuer un *tar* avec ces trois fichiers python, qui puissent s'installer n'importe où (pourvu qu'ils soient tous les trois au même endroit), et que le point d'entrée trouve ses deux modules sans que l'utilisateur ait à s'en soucier.\n",
    "\n",
    "Imaginons donc ces trois fichiers installés sur machine de l'utilisateur dans"
   ]
  },
  {
   "cell_type": "markdown",
   "metadata": {},
   "source": [
    "    /usr/share/utilitaire/\n",
    "                          main.py\n",
    "                          spam.py\n",
    "                          eggs.py"
   ]
  },
  {
   "cell_type": "markdown",
   "metadata": {},
   "source": [
    "Si vous ne faites rien de particulier, c'est à dire que `main.py` contient juste"
   ]
  },
  {
   "cell_type": "markdown",
   "metadata": {},
   "source": [
    "    import spam, eggs"
   ]
  },
  {
   "cell_type": "markdown",
   "metadata": {},
   "source": [
    "Alors le programme fonctionnera **que s'il est lancé depuis `/usr/share/utilitaire`**, ce qui n'est pas du tout pratique. "
   ]
  },
  {
   "cell_type": "markdown",
   "metadata": {},
   "source": [
    "Pour contourner cela on peut écrire dans `main.py` quelque chose comme"
   ]
  },
  {
   "cell_type": "markdown",
   "metadata": {},
   "source": [
    "    # on calcule le directory où est installé le point d'entrée\n",
    "    import os.path\n",
    "    directory_installation = os.path.dirname(__file__)\n",
    "    \n",
    "    # et on l'ajoute au chemin de recherche des modules\n",
    "    import sys\n",
    "    sys.path.append(directory_installation)\n",
    "    \n",
    "    # maintenant on peut importer spam et eggs de n'importe où\n",
    "    import spam, eggs"
   ]
  },
  {
   "cell_type": "markdown",
   "metadata": {},
   "source": [
    "### Distribuer sa propre librairie avec `distutils`"
   ]
  },
  {
   "cell_type": "markdown",
   "metadata": {},
   "source": [
    "Notez bien que l'exemple précédent est **uniquement donné à titre d'illustration** pour décortiquer la mécanique d'utilisation de `sys.path`. \n",
    "\n",
    "Ce n'est pas une technique recommandée dans le cas général. On préfère en effet de beaucoup diffuser une application python, ou une librarie, sous forme de packaging en utilisant le [module distutils](https://docs.python.org/2/library/distutils.html). Il s'agit d'un outil qui fait partie de la librairie standard, écrit en python, qui permet au programmeur d'écrire - dans un fichier qu'on appelle traditionnellement `setup.py` - le contenu de son application; grâce à quoi on peut ensuite de manière unifiée\n",
    " * installer l'application sur une machine à partir des sources\n",
    " * préparer un package de l'application\n",
    " * diffuser le package dans [l'infrastructure PyPI](https://pypi.python.org/pypi)\n",
    " * installer le package depuis PyPI en utilisant [`pip`](http://pip.readthedocs.org/en/latest/installing.html)"
   ]
  }
 ],
 "metadata": {
  "kernelspec": {
   "display_name": "Python 2",
   "language": "python",
   "name": "python2"
  },
  "notebookname": "modules et chemins",
  "version": "2.0"
 },
 "nbformat": 4,
 "nbformat_minor": 0
}