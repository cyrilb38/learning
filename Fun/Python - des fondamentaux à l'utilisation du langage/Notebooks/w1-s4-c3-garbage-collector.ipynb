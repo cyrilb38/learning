{
 "cells": [
  {
   "cell_type": "markdown",
   "metadata": {},
   "source": [
    "<span style=\"float:left;\">Licence CC BY-NC-ND</span><span style=\"float:right;\">Thierry Parmentelat &amp; Arnaud Legout&nbsp;<img src=\"media/inria-25.png\" style=\"display:inline\"></span><br/>"
   ]
  },
  {
   "cell_type": "markdown",
   "metadata": {},
   "source": [
    "# Gestion de la mémoire"
   ]
  },
  {
   "cell_type": "markdown",
   "metadata": {},
   "source": [
    "## Complément - niveau basique"
   ]
  },
  {
   "cell_type": "markdown",
   "metadata": {},
   "source": [
    "L'objet de ce complément est de vous montrer qu'avec python, vous n'avez pas à vous préoccuper de la mémoire. Pour cela toutefois il nous faut donner un certain nombre de détails sur d'autres langages comme C et C++. Si vous souhaitez suivre ce cours à un niveau basique vous pouvez ignorer ce complément, et seulement retenir que python se charge de tout pour vous."
   ]
  },
  {
   "cell_type": "markdown",
   "metadata": {},
   "source": [
    "## Complément - niveau intermédiaire"
   ]
  },
  {
   "cell_type": "markdown",
   "metadata": {},
   "source": [
    "### Langages de bas niveau"
   ]
  },
  {
   "cell_type": "markdown",
   "metadata": {},
   "source": [
    "Dans un langage traditionnel de bas niveau comme C ou C++, le programmeur est en charge de l'allocation - et donc de la libération - de la mémoire. \n",
    "\n",
    "Ce qui signifie que, sauf pour les valeurs stockées dans la pile, le programmeur est amené\n",
    " * à réclamer de la mémoire à l'OS en appelant explicitement `malloc` (C) ou `new` (C++)\n",
    " * et réciproquement à rendre cette mémoire à l'OS lorsqu'elle n'est plus utilisée, en appelant `free` (C) ou `delete` (C++)"
   ]
  },
  {
   "cell_type": "markdown",
   "metadata": {},
   "source": [
    "Avec ce genre de langage, la gestion de la mémoire est un aspect important de la programmation, qui là encore offre une grande flexibilité mais au prix d'un coût élevé en termes de vitesse de développement.\n",
    "\n",
    "Il est en effet assez facile d'oublier de libérer la mémoire après usage, ce qui peut conduire à épuiser les ressources disponibles. À l'inverse utiliser une zone mémoire non allouée peut conduire à des bugs très difficiles à localiser."
   ]
  },
  {
   "cell_type": "markdown",
   "metadata": {},
   "source": [
    "### Langages de haut niveau"
   ]
  },
  {
   "cell_type": "markdown",
   "metadata": {},
   "source": [
    "Pour toutes ces raisons, avec un langage de plus haut niveau comme python, le programmeur est libéré de cet aspect de la programmation.\n",
    "\n",
    "Pour anticiper un peu sur le cours des semaines suivantes, voici ce qu'il peut être utile de garder en tête s'agissant de la gestion mémoire en python:\n",
    " * vous créez vos objets au fur et à mesure de vos besoins\n",
    " * vous n'avez pas besoin de les libérer explicitement, le \"*Garbage Collector*\" de python va s'en charger pour, comme le nom le suggère, recycler la mémoire lorsque c'est possible\n",
    "\n",
    "\n",
    " * python a tendance à être assez gourmand en mémoire, comparé à un langage de bas niveau, car tout est objet; et chaque objet est assorti de *méta-informations* qui occupent une place non négligeable. Par exemple, chaque objet possède notamment\n",
    "   * une référence vers son type - c'est le prix du typage dynamique;\n",
    "   * un compteur de références - le nombre d'autres valeurs (variables ou objets) qui pointent vers l'objet. Cette information est notamment utilisée, précisément, par le *Garbage Collector* pour déterminer si la place utilisée par un objet peut être libérée ou non;\n",
    "   * cette liste est non exhaustive...\n",
    " * un certain nombre de types prédéfinis et non mutables sont implémentés en python comme des *singletons*, c'est-à-dire qu'un seul objet est créé et partagé; c'est le cas par exemple pour les petits entiers, et les chaînes de caractères;\n",
    " * lorsqu'on implémente une classe il est possible de lui conférer cette caractéristique de singleton, de manière à optimiser la mémoire nécessaire pour exécuter un programme."
   ]
  }
 ],
 "metadata": {
  "kernelspec": {
   "display_name": "Python 2",
   "language": "python",
   "name": "python2"
  },
  "notebookname": "Gestion de la mémoire",
  "version": "2.0"
 },
 "nbformat": 4,
 "nbformat_minor": 0
}