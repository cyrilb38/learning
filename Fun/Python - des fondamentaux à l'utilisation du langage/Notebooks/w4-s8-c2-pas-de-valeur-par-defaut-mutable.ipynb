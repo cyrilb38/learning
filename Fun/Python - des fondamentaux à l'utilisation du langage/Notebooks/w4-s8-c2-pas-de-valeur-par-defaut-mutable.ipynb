{
 "cells": [
  {
   "cell_type": "markdown",
   "metadata": {},
   "source": [
    "<span style=\"float:left;\">Licence CC BY-NC-ND</span><span style=\"float:right;\">Thierry Parmentelat &amp; Arnaud Legout&nbsp;<img src=\"media/inria-25.png\" style=\"display:inline\"></span><br/>"
   ]
  },
  {
   "cell_type": "markdown",
   "metadata": {},
   "source": [
    "# Un piège courant"
   ]
  },
  {
   "cell_type": "markdown",
   "metadata": {},
   "source": [
    "## Complément - niveau basique"
   ]
  },
  {
   "cell_type": "markdown",
   "metadata": {},
   "source": [
    "### N'utilisez pas d'objet mutable pour les valeurs par défaut"
   ]
  },
  {
   "cell_type": "markdown",
   "metadata": {},
   "source": [
    "En python il existe un piège dans lequel il est très facile de tomber. Aussi si vous voulez aller à l'essentiel: **n'utilisez pas d'objet mutable pour les valeurs par défaut**.\n",
    "\n",
    "Si vous avez besoin d'écrire une fonction qui prend en argument par défaut une liste ou un dictionnaire vide, voici comment faire"
   ]
  },
  {
   "cell_type": "code",
   "execution_count": null,
   "metadata": {
    "collapsed": false
   },
   "outputs": [],
   "source": [
    "# ne faites SURTOUT PAS ça\n",
    "def ne_faites_pas_ca(options={}):\n",
    "    \"faire quelque chose\""
   ]
  },
  {
   "cell_type": "code",
   "execution_count": null,
   "metadata": {
    "collapsed": false
   },
   "outputs": [],
   "source": [
    "# mais plutôt comme ceci\n",
    "def mais_plutot_ceci(options=None):\n",
    "    if options is None: \n",
    "        options = {}\n",
    "    \"faire quelque chose\""
   ]
  },
  {
   "cell_type": "markdown",
   "metadata": {},
   "source": [
    "## Complément - niveau intermédiaire"
   ]
  },
  {
   "cell_type": "markdown",
   "metadata": {},
   "source": [
    "### Que se passe-t-il si on le fait ?"
   ]
  },
  {
   "cell_type": "markdown",
   "metadata": {},
   "source": [
    "Pour exhiber l'exemple le plus simple possible, prenons le cas d'une fonction qui calcule une valeur - ici un entier aléatoire entre 0 et 10 -, et l'ajoute à une liste passée par l'appelant. \n",
    "\n",
    "Et pour rendre la vie de l'appelant plus facile, on se dit qu'il peut être utile de faire en sorte que si l'appelant n'a pas de liste sous la main, on va créer pour lui une liste vide. Et pour ça on fait"
   ]
  },
  {
   "cell_type": "code",
   "execution_count": null,
   "metadata": {
    "collapsed": false
   },
   "outputs": [],
   "source": [
    "import random\n",
    "# l'intention ici est: si l'appelant ne fournit pas \n",
    "# la liste en entrée on crée pour lui une liste vide\n",
    "def ajouter_un_aleatoire(resultats=[]):\n",
    "    resultats.append(random.randint(0,10))\n",
    "    return resultats"
   ]
  },
  {
   "cell_type": "markdown",
   "metadata": {},
   "source": [
    "Si on appelle cette fonction une première fois, tout semble bien aller"
   ]
  },
  {
   "cell_type": "code",
   "execution_count": null,
   "metadata": {
    "collapsed": false
   },
   "outputs": [],
   "source": [
    "ajouter_un_aleatoire()"
   ]
  },
  {
   "cell_type": "markdown",
   "metadata": {},
   "source": [
    "Sauf que, si on appelle la fonction une deuxième fois, on a une surprise"
   ]
  },
  {
   "cell_type": "code",
   "execution_count": null,
   "metadata": {
    "collapsed": false
   },
   "outputs": [],
   "source": [
    "ajouter_un_aleatoire()"
   ]
  },
  {
   "cell_type": "markdown",
   "metadata": {},
   "source": [
    "### Pourquoi ?"
   ]
  },
  {
   "cell_type": "markdown",
   "metadata": {},
   "source": [
    "Le problème ici est qu'une valeur par défaut - ici l'expression `[]` - est évaluée **une fois** au moment de la **définition** de la fonction. \n",
    "\n",
    "Toutes les fois où la fonction est appelée avec cet argument manquant, on va utiliser le même objet, qui la première fois est bien une liste vide, mais qui se fait modifier par le premier appel. \n",
    "\n",
    "Si bien que la deuxième fois on réutilise la même liste **qui n'est plus vide**. Pour aller plus loin, vous pouvez regarder la documentation python sur [ce problème](https://docs.python.org/2/faq/programming.html#why-are-default-values-shared-between-objects)."
   ]
  }
 ],
 "metadata": {
  "kernelspec": {
   "display_name": "Python 2",
   "language": "python",
   "name": "python2"
  },
  "notebookname": "Un piège courant",
  "version": "2.0"
 },
 "nbformat": 4,
 "nbformat_minor": 0
}