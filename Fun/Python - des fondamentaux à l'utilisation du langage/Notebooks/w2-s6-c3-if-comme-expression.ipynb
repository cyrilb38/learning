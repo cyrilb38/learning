{
 "cells": [
  {
   "cell_type": "markdown",
   "metadata": {},
   "source": [
    "<span style=\"float:left;\">Licence CC BY-NC-ND</span><span style=\"float:right;\">Thierry Parmentelat &amp; Arnaud Legout&nbsp;<img src=\"media/inria-25.png\" style=\"display:inline\"></span><br/>"
   ]
  },
  {
   "cell_type": "markdown",
   "metadata": {},
   "source": [
    "# Une forme alternative du `if`"
   ]
  },
  {
   "cell_type": "markdown",
   "metadata": {},
   "source": [
    "## Complément - niveau basique"
   ]
  },
  {
   "cell_type": "markdown",
   "metadata": {},
   "source": [
    "### Expressions et instructions"
   ]
  },
  {
   "cell_type": "markdown",
   "metadata": {},
   "source": [
    "Même si cela n'a pas été \"sous-titré\" jusqu'à présent, vous aurez peut-être remarqué que les constructions python que nous avons vues jusqu'ici peuvent se ranger en deux familles. \n",
    "\n",
    "D'une part les **expressions** sont les fragments de code qui **retournent une valeur**; c'est le cas lorsqu'on invoque n'importe quel opérateur numérique ou pour les appels de fonctions.\n",
    "\n",
    "D'autre part les **instructions**; dans cette famille, jusqu'ici nous avons vu `print`, l'affectation, et `if`, et nous en verrons bien d'autres.\n",
    "\n",
    "La différence essentielle est que les expressions peuvent être combinées entre elles pour faire des expressions arbitrairement grosses. Aussi si vous avez un doute pour savoir si vous avez affaire à une expression ou à une instruction, demandez vous si vous pourriez utiliser ce code **comme membre droit d'une affectation**. Si oui, vous avez une expression.\n",
    "    "
   ]
  },
  {
   "cell_type": "markdown",
   "metadata": {},
   "source": [
    "### `if` est une instruction"
   ]
  },
  {
   "cell_type": "markdown",
   "metadata": {},
   "source": [
    "La forme du `if` qui vous a été présentée pendant la vidéo ne peut donc pas servir à renvoyer une valeur. Nous allons voir ce que cela implique pour écrire quelque chose d'aussi simple que *\"affecter à y la valeur 12 ou 35, selon que x est vrai ou non\"*."
   ]
  },
  {
   "cell_type": "markdown",
   "metadata": {},
   "source": [
    "En python donc, `if ` n'est pas une expression, donc on ne peut pas l'utiliser pour écrire quelque chose comme : "
   ]
  },
  {
   "cell_type": "markdown",
   "metadata": {},
   "source": [
    "    # ceci n'est pas du python\n",
    "    y = ( if x : 12 ; else 35 )"
   ]
  },
  {
   "cell_type": "markdown",
   "metadata": {},
   "source": [
    "Avec les notions introduites jusqu'ici, il nous faudrait écrire ceci:"
   ]
  },
  {
   "cell_type": "code",
   "execution_count": null,
   "metadata": {
    "collapsed": false
   },
   "outputs": [],
   "source": [
    "x = True\n",
    "if x:\n",
    "    y = 12\n",
    "else:\n",
    "    y = 35\n",
    "print y"
   ]
  },
  {
   "cell_type": "markdown",
   "metadata": {},
   "source": [
    "### Expression conditionnelle"
   ]
  },
  {
   "cell_type": "markdown",
   "metadata": {},
   "source": [
    "On trouve dans de nombreux langages l'évaluation conditionnelle comme une expression; par exemple en C, pour ceux qui connaissent, avec la forme\n",
    "\n",
    "    y = ( x ? 12 : 35 ) /* version C */\n",
    "    \n",
    "Aussi, avec la version 2.5 de python a été introduite la forme dite d'expression conditionnelle, qui est une **expression à part entière**, avec la syntaxe\n",
    "\n",
    "    <si_vrai> if <condition> else <si_faux> # version python\n",
    "    \n",
    "Ainsi on pourrait écrire l'exemple ci-dessus de manière plus simple et plus concise comme ceci"
   ]
  },
  {
   "cell_type": "code",
   "execution_count": null,
   "metadata": {
    "collapsed": false
   },
   "outputs": [],
   "source": [
    "y = 12 if x else 35\n",
    "print y"
   ]
  },
  {
   "cell_type": "markdown",
   "metadata": {},
   "source": [
    "Nous aurons l'occasion de voir de nombreux exemples où cette construction rend le style de programmation plus fonctionnel et plus fluide."
   ]
  },
  {
   "cell_type": "markdown",
   "metadata": {},
   "source": [
    "## Complément - niveau intermédiaire"
   ]
  },
  {
   "cell_type": "markdown",
   "metadata": {},
   "source": [
    "### Pour en savoir plus"
   ]
  },
  {
   "cell_type": "markdown",
   "metadata": {},
   "source": [
    " * La section sur les [expressions conditionnelles](https://docs.python.org/2/reference/expressions.html#conditional-expressions) de la documentation python\n",
    " * Le [PEP308](http://legacy.python.org/dev/peps/pep-0308/) qui résume les discussions ayant donné lieu au choix de la syntaxe adoptée\n",
    "\n",
    "De manière générale, les PEP rassemblent les discussions préalables à toutes les évolutions majeures du langage python."
   ]
  }
 ],
 "metadata": {
  "kernelspec": {
   "display_name": "Python 2",
   "language": "python",
   "name": "python2"
  },
  "notebookname": "`if` comme expression",
  "version": "2.0"
 },
 "nbformat": 4,
 "nbformat_minor": 0
}