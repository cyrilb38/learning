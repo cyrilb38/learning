{
 "cells": [
  {
   "cell_type": "markdown",
   "metadata": {},
   "source": [
    "<span style=\"float:left;\">Licence CC BY-NC-ND</span><span style=\"float:right;\">Thierry Parmentelat &amp; Arnaud Legout&nbsp;<img src=\"media/inria-25.png\" style=\"display:inline\"></span><br/>"
   ]
  },
  {
   "cell_type": "markdown",
   "metadata": {},
   "source": [
    "# Héritage multiple"
   ]
  },
  {
   "cell_type": "markdown",
   "metadata": {},
   "source": [
    "## Complément - niveau avancé"
   ]
  },
  {
   "cell_type": "markdown",
   "metadata": {},
   "source": [
    "### Avertissement - toutes les classes concernées sont *new-style*"
   ]
  },
  {
   "cell_type": "markdown",
   "metadata": {},
   "source": [
    "Toutes les classes considérées dans ce complément sont supposées *new-style*. Pour les classes classiques, le mécanisme d'héritage multiple est plus rudimentaire, vous en trouverez le détail dans la référence au blog de Guido van Rossum (voir dernière section). \n",
    "\n",
    "Il est, à nouveau, très fortement **conseillé d'utiliser des classes *new-style*** si vous écrivez du nouveau code, car c'est la seule sorte de classe qui reste disponible en python3."
   ]
  },
  {
   "cell_type": "markdown",
   "metadata": {},
   "source": [
    "### Rappels"
   ]
  },
  {
   "cell_type": "markdown",
   "metadata": {},
   "source": [
    "L'héritage en python consiste principalement en l'algorithme de recherche d'un attribut d'une instance; celui-ci regarde :\n",
    "1. d'abord dans l'instance,\n",
    "1. ensuite dans la classe,\n",
    "1. ensuite dans les super-classes."
   ]
  },
  {
   "cell_type": "markdown",
   "metadata": {},
   "source": [
    "### Le problème"
   ]
  },
  {
   "cell_type": "markdown",
   "metadata": {},
   "source": [
    "Les deux premiers points ne posent pas de problème de définition, puisque l'objet lui-même et sa classe sont **définis de manière unique**. \n",
    "\n",
    "Par contre, lorsqu'on utilise l'héritage multiple, on peut imaginer trouver l'attribut recherché dans **plusieurs superclasses**. Il est donc important de préciser, dans le cas où plusieurs superclasses possèdent l'attribut recherché, quel est celui qui doit être retenu. "
   ]
  },
  {
   "cell_type": "markdown",
   "metadata": {},
   "source": [
    "### Ordre sur les superclasses"
   ]
  },
  {
   "cell_type": "markdown",
   "metadata": {},
   "source": [
    "Le problème revient donc à définir un **ordre** sur l'ensemble des **super-classes**. On parle bien, naturellement, de **toutes** les super-classes, pas seulement celles dont on hérite directement - en termes savants on dirait qu'on s'intéresse à la fermeture transitive de la relation d'héritage ou à l'arbre de recouvrement du graphe d'héritage.\n",
    "\n",
    "Après quelques errements (décrits dans la première référence de la dernière section, \"Pour en savoir plus\"), l'algorithme qui a été choisi pour déterminer l'ordre des superclasses, qui est en service depuis la version 2.3, est connu sous le nom de **linéarisation C3**. Cet algorithme n'est pas propre à python, comme vous pourrez le lire dans les références citées dans la dernière section.\n",
    "\n",
    "Nous ne décrirons pas ici l'algorithme lui-même dans le détail&nbsp;; par contre nous allons&nbsp;:\n",
    " * dans un premier temps résumer **les raisons** qui ont guidé ce choix, en décrivant les bonnes propriétés que l'on attend, ainsi que les **limitations** qui en découlent;\n",
    " * puis voir l'ordre obtenu sur quelques exemples concrets de hiérarchies de classes.\n",
    " \n",
    "Vous trouverez dans les références (voir ci-dessous la dernière section, \"Pour en savoir plus\") des liens vers des documents plus techniques si vous souhaitez creuser le sujet."
   ]
  },
  {
   "cell_type": "markdown",
   "metadata": {},
   "source": [
    "### Les bonnes propriétés attendues"
   ]
  },
  {
   "cell_type": "markdown",
   "metadata": {},
   "source": [
    "Il y a un certain nombre de bonnes propriétés que l'on attend de cet algorithme."
   ]
  },
  {
   "cell_type": "markdown",
   "metadata": {},
   "source": [
    "##### Priorité au spécifique"
   ]
  },
  {
   "cell_type": "markdown",
   "metadata": {},
   "source": [
    "Lorsqu'une classe A hérite d'une classe B, on s'attend à ce que les méthodes définies sur A, qui sont en principe plus spécifiques, soient utilisées de préférence à celles définies sur B."
   ]
  },
  {
   "cell_type": "markdown",
   "metadata": {},
   "source": [
    "##### Priorité à gauche"
   ]
  },
  {
   "cell_type": "markdown",
   "metadata": {},
   "source": [
    "Lorsqu'on utilise l'héritage multiple, on mentionne les classes mères dans un certain ordre, qui n'est pas anodin. Les classes mentionnées en premier sont bien entendu celles desquelles on veut hériter en priorité."
   ]
  },
  {
   "cell_type": "markdown",
   "metadata": {},
   "source": [
    "##### De manière un peu plus formelle"
   ]
  },
  {
   "cell_type": "markdown",
   "metadata": {},
   "source": [
    "Pour reformuler les deux points ci-dessus d'une manière un peu plus formelle&nbsp;:\n",
    " * on se donne un objet *o* de la classe *O*\n",
    " * on considère l'ensemble $\\cal{S}$ des superclasses de *O* (qui contient *O*), \n",
    " * et on cherche à construire la MRO (Method Resolution Order), c'est-à-dire la liste $\\cal{MRO}$ ordonnée des éléments de $\\cal{S}$ dans lesquelles chercher les attributs de *o*."
   ]
  },
  {
   "cell_type": "markdown",
   "metadata": {},
   "source": [
    "Les deux règles ci-dessus s'écrivent alors comme ceci&nbsp;:\n",
    "\n",
    " * $\\forall A,B \\in \\cal{S}$,  A hérite de B $\\Rightarrow$ A est avant B dans $\\cal{MRO}$\n",
    " * $\\forall B,C,D \\in \\cal{S}$, B hérite de C puis de D $\\Rightarrow$ B est avant C qui est avant D dans $\\cal{MRO}$\n",
    " \n",
    "La formule \"B hérite de C puis de D\" est à prendre ici au sens large; B peut hériter de plus de deux classes, tout ce qui est demandé est que C  apparaisse avant D dans la liste des classes mères.\n"
   ]
  },
  {
   "cell_type": "markdown",
   "metadata": {},
   "source": [
    "##### Limitations : toutes les hiérarchies ne peuvent pas être traitées"
   ]
  },
  {
   "cell_type": "markdown",
   "metadata": {},
   "source": [
    "L'algorithme C3 permet de calculer un ordre sur $\\cal{S}$ qui respecte toutes ces contraintes, lorsqu'il en existe un. En effet, dans certains cas on ne peut pas trouver un tel ordre. Nous en verrons un exemple vers la fin de ce document&nbsp;; comme vous le verrez on peut exhiber de tels exemples qui restent relativement simples. Cependant, dans la pratique, il est relativement rare de tomber sur de tels cas pathologiques&nbsp;; et lorsque cela se produit c'est en général le signe d'erreurs de conception plus profondes."
   ]
  },
  {
   "cell_type": "markdown",
   "metadata": {},
   "source": [
    "### Un exemple très simple"
   ]
  },
  {
   "cell_type": "markdown",
   "metadata": {},
   "source": [
    "On se donne la hiérarchie suivante."
   ]
  },
  {
   "cell_type": "code",
   "execution_count": null,
   "metadata": {
    "collapsed": false
   },
   "outputs": [],
   "source": [
    "class LeftTop(object):\n",
    "    def attribut(self): \n",
    "        return \"attribut(LeftTop)\"\n",
    "    \n",
    "class LeftMiddle(LeftTop): \n",
    "    pass\n",
    "\n",
    "class Left(LeftMiddle): \n",
    "    pass\n",
    "\n",
    "class Middle(object): \n",
    "    pass\n",
    "\n",
    "class Right(object):\n",
    "    def attribut(self): \n",
    "        return \"attribut(Right)\"\n",
    "\n",
    "class Class(Left, Middle, Right): \n",
    "    pass\n",
    "\n",
    "instance = Class()"
   ]
  },
  {
   "cell_type": "markdown",
   "metadata": {},
   "source": [
    "qui donne en version dessinée, avec les deux points représentant les deux définitions de la méthode `attribut`:\n",
    "\n",
    "<img src=\"media/heritage-multiple01.png\" height=\"40\">"
   ]
  },
  {
   "cell_type": "markdown",
   "metadata": {},
   "source": [
    "Les deux règles, telles que nous les avons énoncées en premier lieu (priorité à gauche, priorité au spécifique) sont un peu contradictoires ici. En fait, c'est la méthode de `LeftTop` qui est héritée dans `Class`, comme on le voit ici&nbsp;:"
   ]
  },
  {
   "cell_type": "code",
   "execution_count": null,
   "metadata": {
    "collapsed": false
   },
   "outputs": [],
   "source": [
    "print instance.attribut() == \"attribut(LeftTop)\""
   ]
  },
  {
   "cell_type": "markdown",
   "metadata": {},
   "source": [
    "**Exercice** Remarquez qu'ici `Right` a elle-même un héritage très simple. À titre d'exercice, modifiez le code ci-dessus pour remplacer dans l'héritage de `Right` la classe `object` par `LeftMiddle`; de quelle classe d'après vous est-ce que `Class` hérite `attribut` dans cette configuration ?"
   ]
  },
  {
   "cell_type": "markdown",
   "metadata": {},
   "source": [
    "##### Si cela ne vous convient pas"
   ]
  },
  {
   "cell_type": "markdown",
   "metadata": {},
   "source": [
    "C'est une évidence, mais cela va peut-être mieux en le rappelant&nbsp;: si la méthode que vous obtenez \"gratuitement\" avec l'héritage n'est pas celle qui vous convient, vous avez naturellement toujours la possibilité de la redéfinir, et ainsi d'en **choisir** une autre. Ainsi dans notre exemple si on préfère la méthode implémentée dans `Right`, on définira plutôt la classe `Class` comme ceci&nbsp;:"
   ]
  },
  {
   "cell_type": "code",
   "execution_count": null,
   "metadata": {
    "collapsed": false
   },
   "outputs": [],
   "source": [
    "class Class(Left, Middle, Right):\n",
    "    def attribut(*args, **kwds):\n",
    "        return Right.attribut(*args, **kwds)\n",
    "    \n",
    "instance2 = Class()\n",
    "instance2.attribut()"
   ]
  },
  {
   "cell_type": "markdown",
   "metadata": {},
   "source": [
    "Ou encore bien entendu, si dans votre contexte vous devez appelez **les deux** méthodes dont vous pourriez hériter et les combiner, vous pouvez le faire aussi, par exemple comme ceci&nbsp;:"
   ]
  },
  {
   "cell_type": "code",
   "execution_count": null,
   "metadata": {
    "collapsed": false
   },
   "outputs": [],
   "source": [
    "class Class(Left, Middle, Right):\n",
    "    def attribut(*args, **kwds):\n",
    "        return LeftTop.attribut(*args, **kwds) + \" ** \" + Right.attribut(*args, **kwds) \n",
    "    \n",
    "instance3 = Class()\n",
    "instance3.attribut()"
   ]
  },
  {
   "cell_type": "markdown",
   "metadata": {},
   "source": [
    "### Un exemple un peu plus compliqué"
   ]
  },
  {
   "cell_type": "markdown",
   "metadata": {},
   "source": [
    "Voici un exemple tiré de la deuxième référence (voir ci-dessous la dernière section, \"Pour en savoir plus\")."
   ]
  },
  {
   "cell_type": "code",
   "execution_count": null,
   "metadata": {
    "collapsed": false
   },
   "outputs": [],
   "source": [
    "O = object\n",
    "class F(O): pass\n",
    "class E(O): pass\n",
    "class D(O): pass\n",
    "class C(D, F): pass\n",
    "class B(E, D): pass\n",
    "class A(B, C): pass"
   ]
  },
  {
   "cell_type": "markdown",
   "metadata": {},
   "source": [
    "Cette hiérarchie nous donne, en partant de A, l'ordre suivant"
   ]
  },
  {
   "cell_type": "markdown",
   "metadata": {},
   "source": [
    "                               6\n",
    "                              ---\n",
    "    Level 3                  | O |\n",
    "                           /  ---  \\\n",
    "                          /    |    \\\n",
    "                         /     |     \\\n",
    "                        /      |      \\\n",
    "                      ---     ---    ---\n",
    "    Level 2        2 | E | 4 | D |  | F | 5\n",
    "                      ---     ---    ---\n",
    "                       \\      / \\     /\n",
    "                        \\    /   \\   /\n",
    "                         \\  /     \\ /\n",
    "                          ---     ---\n",
    "    Level 1            1 | B |   | C | 3\n",
    "                          ---     ---\n",
    "                           \\       /\n",
    "                            \\     /\n",
    "                              ---\n",
    "    Level 0                0 | A |\n",
    "                              ---\n",
    "    "
   ]
  },
  {
   "cell_type": "markdown",
   "metadata": {},
   "source": [
    "Que l'on peut calculer, sous l'interpréteur python, avec la méthode `mro` sur la classe de départ&nbsp;:"
   ]
  },
  {
   "cell_type": "code",
   "execution_count": null,
   "metadata": {
    "collapsed": false
   },
   "outputs": [],
   "source": [
    "A.mro()"
   ]
  },
  {
   "cell_type": "markdown",
   "metadata": {},
   "source": [
    "### Un exemple qui ne peut pas être traité"
   ]
  },
  {
   "cell_type": "markdown",
   "metadata": {},
   "source": [
    "Voici enfin un exemple de hiérarchie pour laquelle on ne **peut pas trouver d'ordre** qui respecte les bonnes propriétés que l'on a vues tout à l'heure, et qui pour cette raison sera **rejetée par l'interpréteur python**. D'abord en version dessinée\n",
    "\n",
    "<img src=\"media/heritage-multiple02.png\">"
   ]
  },
  {
   "cell_type": "code",
   "execution_count": null,
   "metadata": {
    "collapsed": false
   },
   "outputs": [],
   "source": [
    "# en version code\n",
    "class X(object): pass\n",
    "class Y(object): pass\n",
    "class XY(X, Y): pass\n",
    "class YX(Y, X): pass\n",
    "\n",
    "# on essaie de créer une sous-classe de XY et YX\n",
    "try:\n",
    "    class Class(XY,YX): pass \n",
    "# mais ce n'est pas possible\n",
    "except Exception as e:\n",
    "    print \"On ne peut pas créer Class\"\n",
    "    print e\n"
   ]
  },
  {
   "cell_type": "markdown",
   "metadata": {},
   "source": [
    "### Pour en savoir plus"
   ]
  },
  {
   "cell_type": "markdown",
   "metadata": {},
   "source": [
    " 1. Un [blog de Guido Van Rossum](http://python-history.blogspot.fr/2010/06/method-resolution-order.html\n",
    ") qui retrace l'historique des différents essais qui ont été faits avant de converger sur le modèle actuel.\n",
    " 1. Un [article technique](https://www.python.org/download/releases/2.3/mro/) qui décrit le fonctionnement de l'algorithme de calcul de la MRO, et donne des exemples.\n",
    " 1. L'[article de wikipedia](http://en.wikipedia.org/wiki/C3_linearization) sur l'algorithme C3."
   ]
  }
 ],
 "metadata": {
  "kernelspec": {
   "display_name": "Python 2",
   "language": "python",
   "name": "python2"
  },
  "notebookname": "Héritage multiple",
  "version": "2.0"
 },
 "nbformat": 4,
 "nbformat_minor": 0
}