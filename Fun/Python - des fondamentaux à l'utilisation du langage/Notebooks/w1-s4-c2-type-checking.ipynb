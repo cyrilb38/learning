{
 "cells": [
  {
   "cell_type": "markdown",
   "metadata": {},
   "source": [
    "<span style=\"float:left;\">Licence CC BY-NC-ND</span><span style=\"float:right;\">Thierry Parmentelat &amp; Arnaud Legout&nbsp;<img src=\"media/inria-25.png\" style=\"display:inline\"></span><br/>"
   ]
  },
  {
   "cell_type": "markdown",
   "metadata": {},
   "source": [
    "# Langages typés ou non"
   ]
  },
  {
   "cell_type": "markdown",
   "metadata": {},
   "source": [
    "# Typages statique et dynamique"
   ]
  },
  {
   "cell_type": "markdown",
   "metadata": {},
   "source": [
    "## Complément - niveau intermédiaire"
   ]
  },
  {
   "cell_type": "markdown",
   "metadata": {},
   "source": [
    "Il est de tradition de distinguer, parmi les langages, ceux qui sont typés ou non. On parle aussi de langage à typage statique ou à typage dynamique. Ce notebook tente d'éclaircir ces notions pour ceux qui n'y sont pas familiers."
   ]
  },
  {
   "cell_type": "markdown",
   "metadata": {},
   "source": [
    "### Typage statique"
   ]
  },
  {
   "cell_type": "markdown",
   "metadata": {},
   "source": [
    "À une extrémité du spectre, on trouve les langages dits fortement typés, comme par exemple C/C++. \n",
    "\n",
    "En C on écrira, par exemple, une version simpliste de la fonction factoriel comme ceci"
   ]
  },
  {
   "cell_type": "markdown",
   "metadata": {},
   "source": [
    "    #include <stdio.h>\n",
    "    \n",
    "    int factoriel (int n) {\n",
    "      int result = 1;\n",
    "      int loop;\n",
    "      for (loop = 1; loop <= n; loop ++) {\n",
    "        result *= loop;\n",
    "      }\n",
    "      return result;\n",
    "    }"
   ]
  },
  {
   "cell_type": "markdown",
   "metadata": {},
   "source": [
    "Comme vous pouvez le voir - ou le deviner - toutes les variables utilisées ici (comme par exemple `n`, `result` et `loop`) sont typées.\n",
    " * On doit appeler `factoriel` avec un argument `n` qui doit être un entier (`int` est le nom du type entier).\n",
    " * Les variables internes `result` et `loop` sont de type entier.\n",
    " * `factoriel` retourne une valeur de type entier."
   ]
  },
  {
   "cell_type": "markdown",
   "metadata": {},
   "source": [
    "C'est pourquoi on dit que C est fortement typé. Ces informations de type ont essentiellement trois fonctions.\n",
    " * En premier lieu, elles sont nécessaires au compilateur; en C si le programmeur ne précisait pas que `result` est de type entier, le compilateur n'aurait pas suffisamment d'éléments pour générer le code assembleur correspondant.\n",
    " * En contrepartie, le programmeur a un contrôle très fin de l'usage qu'il fait de la mémoire et du hardware. Il peut choisir d'utiliser un entier sur 32 ou 64 bits, signé ou pas, ou construire avec `struct` et `union` un arrangement de ses données.\n",
    " * Enfin, et surtout, ces informations de type permettent de faire un contrôle *a priori* de la validité du programme; par exemple si à un autre endroit dans le code on trouve"
   ]
  },
  {
   "cell_type": "markdown",
   "metadata": {},
   "source": [
    "    int main (int argc, char *argv[]) {\n",
    "      /* le premier argument de la ligne de commande est argv[1] */\n",
    "      char *input = argv[1];\n",
    "      /* calculer son factoriel et afficher le resultat */\n",
    "      printf (\"Factoriel (%s) = %d\\n\",input,factoriel(input));\n",
    "      /*                                               ^^^                */\n",
    "      /* ici on appelle factoriel avec une entree 'chaine de caractere'   */\n",
    "      return 0;\n",
    "    }"
   ]
  },
  {
   "cell_type": "markdown",
   "metadata": {},
   "source": [
    "alors le compilateur va remarquer qu'on essaie d'appeler `factoriel` avec comme argument `input` qui, pour faire simple, est une chaîne de caractères; et comme `factoriel` s'attend à recevoir un entier ce programme n'a aucune chance de fonctionner.\n",
    "\n",
    "On parle alors aussi de **typage statique**, en ce sens que chaque variable a exactement un type, qui est défini par le programmeur une bonne fois pour toutes."
   ]
  },
  {
   "cell_type": "markdown",
   "metadata": {},
   "source": [
    "C'est ce qu'on appelle le **contrôle de type**, ou *type-checking* en anglais. Si on ignore le point sur le contrôle fin de la mémoire, qui n'est pas crucial à notre sujet, le contrôle de type présente \n",
    " * l'**inconvénient** de demander davantage au programmeur, \n",
    " * et l'**avantage** de permettre un contrôle étendu, et surtout précoce (avant même de l'exécuter) de la bonne correction du programme."
   ]
  },
  {
   "cell_type": "markdown",
   "metadata": {},
   "source": [
    "Cela étant dit, le typage statique en C n'empêche pas le programmeur débutant d'essayer d'écrire dans la mémoire à partir d'un pointeur `NULL` - et le programme de s'interrompre brutalement. Il faut être conscient des limites du typage statique."
   ]
  },
  {
   "cell_type": "markdown",
   "metadata": {},
   "source": [
    "### Typage dynamique"
   ]
  },
  {
   "cell_type": "markdown",
   "metadata": {},
   "source": [
    "À l'autre bout du spectre, on trouve des langages comme, eh bien, python. "
   ]
  },
  {
   "cell_type": "markdown",
   "metadata": {},
   "source": [
    "Pour comprendre cette notion de typage dynamique, regardons la fonction suivante `somme`:"
   ]
  },
  {
   "cell_type": "code",
   "execution_count": null,
   "metadata": {
    "collapsed": false
   },
   "outputs": [],
   "source": [
    "def somme(*largs):\n",
    "    \"retourne la somme de tous ses arguments\"\n",
    "    if not largs:\n",
    "        return 0\n",
    "    elif len(largs) == 1:\n",
    "        return largs[0]\n",
    "    else:\n",
    "        result = largs[0] + largs[1]\n",
    "        for i in range(2, len(largs)):\n",
    "            result += largs[i]\n",
    "        return result"
   ]
  },
  {
   "cell_type": "markdown",
   "metadata": {},
   "source": [
    "Naturellement vous n'êtes pas à ce stade en mesure de comprendre le fonctionnement intime de la fonction. Mais vous pouvez tout de même l'utiliser."
   ]
  },
  {
   "cell_type": "code",
   "execution_count": null,
   "metadata": {
    "collapsed": false
   },
   "outputs": [],
   "source": [
    "somme(12, 14, 300)"
   ]
  },
  {
   "cell_type": "code",
   "execution_count": null,
   "metadata": {
    "collapsed": false
   },
   "outputs": [],
   "source": [
    "l1 = ['a', 'b', 'c']\n",
    "l2 = [0, 20, 30]\n",
    "l3 = ['spam', 'eggs']\n",
    "somme(l1, l2, l3)"
   ]
  },
  {
   "cell_type": "markdown",
   "metadata": {},
   "source": [
    "Vous pouvez donc constater que `somme` peut fonctionner avec des objets de types différents. En fait, telle qu'elle est écrite, elle va fonctionner si il est possible de faire `+` entre ses arguments. Ainsi par exemple on pourrait même faire"
   ]
  },
  {
   "cell_type": "code",
   "execution_count": null,
   "metadata": {
    "collapsed": false
   },
   "outputs": [],
   "source": [
    "somme('abc', 'def')"
   ]
  },
  {
   "cell_type": "markdown",
   "metadata": {},
   "source": [
    "Mais par contre on ne pourrait pas faire"
   ]
  },
  {
   "cell_type": "code",
   "execution_count": null,
   "metadata": {
    "collapsed": false
   },
   "outputs": [],
   "source": [
    "# ceci va déclencher une exception à run-time\n",
    "somme(12, [1, 2, 3]) "
   ]
  },
  {
   "cell_type": "markdown",
   "metadata": {},
   "source": [
    "On voit qu'on se trouve dans une situation très différente de celle du programmeur C++ en ce sens que\n",
    " * à l'écriture du programme il n'y aucun des surcoûts qu'on trouve avec C ou C++ en terme de définition de type,\n",
    " * aucun contrôle de type n'est effecué *a priori* par le langage au moment de la définition de la fonction `somme`,\n",
    " * par contre au moment de l'éxécution, si on retrouve en situation de faire une somme entre deux types qui ne peuvent pas être additionnés, comme ci-dessus avec un entier et une liste, le programme ne pourra pas se dérouler correctement."
   ]
  },
  {
   "cell_type": "markdown",
   "metadata": {},
   "source": [
    "Il y a deux points de vue vis à vis de la question du typage. \n",
    "\n",
    "Les gens habitués au typage statique se plaignent du typage dynamique en disant qu'on peut écrire des programmes faux et qu'on s'en rend compte trop tard - à l'exécution, en insistant sur les parties qui traitent des cas particuliers, qui sont moins fréquemment utilisées, et qui donc nécessitent des tests plus approfondis pour s'assurer que la couverture des tests est complète.\n",
    "\n",
    "À l'inverse les gens habitués au typage dynamique font valoir que le typage statique est très partiel; par exemple en C si on essaie d'écrire au bout d'un pointeur nul, l'OS ne le permet pas et le programme sort tout aussi brutalement. "
   ]
  },
  {
   "cell_type": "markdown",
   "metadata": {},
   "source": [
    "Selon le point de vue le typage dynamique est vécu comme un inconvénient (pas assez de bonnes propriétés détectées par le langage) ou comme un avantage (pas besoin de passer du temps à déclarer le type des variables, ni à faire des conversions pour satisfaire le compilateur)."
   ]
  },
  {
   "cell_type": "markdown",
   "metadata": {},
   "source": [
    "### Inférence de type"
   ]
  },
  {
   "cell_type": "markdown",
   "metadata": {},
   "source": [
    "Une approche, qu'on peut qualifier d'hybride entre ces deux approches, est connue sous le nom d'inférence de type, et a été mise en œuvre notamment dans le langage ML. L'idée est de laisser au langage le soin de déterminer le - ou les - type(s) qui sont permis à un endroit du code en fonction du contexte.\n",
    "\n",
    "Pour ceux que ce sujet intéresse, sachez qu'il existe un projet baptisé [`mypy`](http://www.mypy-lang.org) qui vise à creuser cette voie pour python. \n",
    "\n",
    "Guido van Rossum a exposé [son avis sur cette proposition](https://mail.python.org/pipermail/python-ideas/2014-August/028618.html); il semble qu'on puisse s'attendre dans le futur (mais dans le cadre de python-3) à avoir la possibilité (optionnelle) d'annoter le code d'une fonction avec des informations de type. On pourrait alors par exemple utiliser un outil comme `mypy` pour calculer de telles annotations."
   ]
  }
 ],
 "metadata": {
  "kernelspec": {
   "display_name": "Python 2",
   "language": "python",
   "name": "python2"
  },
  "notebookname": "type-checking",
  "version": "2.0"
 },
 "nbformat": 4,
 "nbformat_minor": 0
}