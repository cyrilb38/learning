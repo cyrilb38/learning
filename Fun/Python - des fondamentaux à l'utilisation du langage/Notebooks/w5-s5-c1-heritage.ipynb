{
 "cells": [
  {
   "cell_type": "markdown",
   "metadata": {},
   "source": [
    "<span style=\"float:left;\">Licence CC BY-NC-ND</span><span style=\"float:right;\">Thierry Parmentelat &amp; Arnaud Legout&nbsp;<img src=\"media/inria-25.png\" style=\"display:inline\"></span><br/>"
   ]
  },
  {
   "cell_type": "markdown",
   "metadata": {},
   "source": [
    "# Héritage"
   ]
  },
  {
   "cell_type": "markdown",
   "metadata": {},
   "source": [
    "## Complément - niveau basique"
   ]
  },
  {
   "cell_type": "markdown",
   "metadata": {},
   "source": [
    "La notion d'héritage, qui fait partie intégrante de la Programmation Orientée Objet, permet principalement de maximiser la **réutilisabilité**. \n",
    "\n",
    "Nous avons vu dans la vidéo les mécanismes d'héritage *in abstracto*. Pour résumer très brièvement, on recherche un attribut (souvent une méthode) à partir d'une instance en cherchant :\n",
    " * d'abord dans l'instance elle-même,\n",
    " * puis dans la classe de l'instance,\n",
    " * puis dans les super-classes de la classe."
   ]
  },
  {
   "cell_type": "markdown",
   "metadata": {},
   "source": [
    "L'objet de ce complément est de vous donner, d'un point de vue plus appliqué, des idées de ce qu'on peut faire ou non avec ce mécanisme. Le sujet étant assez rabâché par ailleurs, nous nous concentrerons sur deux points&nbsp;:\n",
    "\n",
    " * les pratiques de base utilisées pour la conception de classes, et notamment pour bien distinguer **héritage** et **composition**;\n",
    " * nous verrons ensuite, sur des **exemples extraits de code réel**, comment ces mécanismes permettent en effet de contribuer à la réutilisabilité du code."
   ]
  },
  {
   "cell_type": "markdown",
   "metadata": {},
   "source": [
    "### Plusieurs formes d'héritage"
   ]
  },
  {
   "cell_type": "markdown",
   "metadata": {},
   "source": [
    "Une méthode héritée peut être rangée dans une de ces trois catégories&nbsp;:\n",
    " * *implicite* : si la classe fille ne définit pas du tout la méthode,\n",
    " * *redéfinie* : si on récrit la méthode entièrement,\n",
    " * *modifiée* : si on récrit la méthode dans la classe fille, mais en utilisant le code de la classe mère."
   ]
  },
  {
   "cell_type": "markdown",
   "metadata": {},
   "source": [
    "Commençons par illustrer tout ceci sur un petit exemple&nbsp;:"
   ]
  },
  {
   "cell_type": "code",
   "execution_count": null,
   "metadata": {
    "collapsed": false
   },
   "outputs": [],
   "source": [
    "# Une classe mère\n",
    "class Fleur(object):\n",
    "    def implicite(self):\n",
    "        print 'Fleur.implicite'\n",
    "    def redefinie(self):\n",
    "        print 'Fleur.redefinie'\n",
    "    def modifiee(self):\n",
    "        print 'Fleur.modifiee'\n",
    "\n",
    "# Une classe fille\n",
    "class Rose(Fleur):\n",
    "    # on ne definit pas implicite\n",
    "    # on redefinit complement redefinie\n",
    "    def redefinie(self):\n",
    "        print 'Rose.redefinie'\n",
    "    def modifiee(self):\n",
    "        Fleur.modifiee(self)\n",
    "        print 'Rose.modifiee apres Fleur'    "
   ]
  },
  {
   "cell_type": "markdown",
   "metadata": {},
   "source": [
    "Nous avons fait hériter la classe `Fleur` de la classe `object`, qui est la pratique recommandée; cela fait de toutes nos classes des *classes new-style*, un concept que nous allons étudier dans un tout prochain complément.\n",
    "\n",
    "On peut à présent créer une instance de Rose et appeler sur cette instance les trois méthodes."
   ]
  },
  {
   "cell_type": "code",
   "execution_count": null,
   "metadata": {
    "collapsed": false
   },
   "outputs": [],
   "source": [
    "# fille est une instance de Rose\n",
    "fille = Rose()\n",
    "\n",
    "fille.implicite()"
   ]
  },
  {
   "cell_type": "code",
   "execution_count": null,
   "metadata": {
    "collapsed": false
   },
   "outputs": [],
   "source": [
    "fille.redefinie()"
   ]
  },
  {
   "cell_type": "markdown",
   "metadata": {},
   "source": [
    "S'agissant des deux premières méthodes, le comportement qu'on observe est simplement la conséquence de l'algorithme de recherche d'attributs&nbsp;: `implicite` est trouvée dans la classe Fleur et `redefinie` est trouvée dans la classe Rose."
   ]
  },
  {
   "cell_type": "code",
   "execution_count": null,
   "metadata": {
    "collapsed": false
   },
   "outputs": [],
   "source": [
    "fille.modifiee()"
   ]
  },
  {
   "cell_type": "markdown",
   "metadata": {},
   "source": [
    "Pour la troisième méthode, attardons nous un peu car on voit ici comment *combiner* facilement le code de la classe mère avec du code spécifique à la classe fille, en appelant explicitement la méthode de la classe mère lorsqu'on fait&nbsp;:\n",
    "\n",
    "    Fleur.modifiee(self)"
   ]
  },
  {
   "cell_type": "markdown",
   "metadata": {},
   "source": [
    "##### La fonction *builtin* `super()`"
   ]
  },
  {
   "cell_type": "markdown",
   "metadata": {},
   "source": [
    "Signalons à ce sujet, pour être exhaustif, l'existence de la [fonction *builtin* `super()`](https://docs.python.org/2/library/functions.html#super) qui permettrait de réaliser la même chose sans nommer explicitement la classe mère, comme on le fait ici&nbsp;:"
   ]
  },
  {
   "cell_type": "code",
   "execution_count": null,
   "metadata": {
    "collapsed": false
   },
   "outputs": [],
   "source": [
    "# Une version allégée de la classe fille, qui utilise super()\n",
    "class Rose(Fleur):\n",
    "    def modifiee(self):\n",
    "        super(Rose, self).modifiee()\n",
    "        print 'Rose.modifiee apres Fleur'    "
   ]
  },
  {
   "cell_type": "code",
   "execution_count": null,
   "metadata": {
    "collapsed": false
   },
   "outputs": [],
   "source": [
    "fille = Rose()\n",
    "\n",
    "fille.modifiee()"
   ]
  },
  {
   "cell_type": "markdown",
   "metadata": {},
   "source": [
    "On peut envisager d'utiliser `super()` dans du code très abstrait où on ne sait pas déterminer statiquement le nom de la classe dont il est question. Mais, c'est une question de goût évidemment, je recommande personnellement la première forme, où on qualifie la méthode avec le nom de la classe mère qu'on souhaite utiliser. En effet dans la grande majorité des cas&nbsp;:\n",
    " * on sait déterminer le nom de la classe dont il est question, \n",
    " * ou alors on veut mélanger plusieurs méthodes héritées (via l'héritage multiple, dont on va parler dans un prochain complément) et dans ce cas `super()` ne peut rien pour nous.\n"
   ]
  },
  {
   "cell_type": "markdown",
   "metadata": {},
   "source": [
    "### Héritage *vs* Composition"
   ]
  },
  {
   "cell_type": "markdown",
   "metadata": {},
   "source": [
    "Dans le domaine de la conception orientée objet, on fait la différence entre deux constructions, l'héritage et la composition, qui à une analyse superficielle peuvent paraître procurer des résultats similaires, mais qu'il est important de bien distinguer. \n",
    "\n",
    "Voyons d'abord en quoi consiste la composition et pourquoi le résultat est voisin&nbsp;:"
   ]
  },
  {
   "cell_type": "code",
   "execution_count": null,
   "metadata": {
    "collapsed": false
   },
   "outputs": [],
   "source": [
    "# Une classe avec qui on n'aura pas de relation d'héritage\n",
    "class Tige(object):\n",
    "    def implicite(self):\n",
    "        print 'Tige.implicite'\n",
    "    def redefinie(self):\n",
    "        print 'Tige.redefinie'\n",
    "    def modifiee(self):\n",
    "        print 'Tige.modifiee'\n",
    "\n",
    "# on n'hérite pas\n",
    "# mais on fait ce qu'on appelle un composition\n",
    "# avec la classe Tige\n",
    "class Rose(object):\n",
    "    # mais pour chaque objet de la classe Rose\n",
    "    # on va créer un objet de la classe Tige\n",
    "    # et le conserver dans un champ\n",
    "    def __init__(self):\n",
    "        self.externe = Tige()\n",
    "\n",
    "    # le reste est presque comme tout à l'heure\n",
    "    # sauf qu'il faut definir implicite\n",
    "    def implicite(self):\n",
    "        self.externe.implicite()\n",
    "        \n",
    "    # on redefinit complement redefinie\n",
    "    def redefinie(self):\n",
    "        print 'Rose.redefinie'\n",
    "        \n",
    "    def modifiee(self):\n",
    "        self.externe.modifiee()\n",
    "        print 'Rose.modifiee apres Tige'        "
   ]
  },
  {
   "cell_type": "code",
   "execution_count": null,
   "metadata": {
    "collapsed": false
   },
   "outputs": [],
   "source": [
    "# on obtient ici exactement le même comportement pour les trois sortes de méthodes\n",
    "fille = Rose()\n",
    "\n",
    "fille.implicite()\n",
    "fille.redefinie()\n",
    "fille.modifiee()"
   ]
  },
  {
   "cell_type": "markdown",
   "metadata": {},
   "source": [
    "##### Comment choisir ?"
   ]
  },
  {
   "cell_type": "markdown",
   "metadata": {},
   "source": [
    "Alors, quand faut-il utiliser l'héritage et quand faut-il utiliser la composition ?\n",
    "On arrive ici à la limite de notre cours, il s'agit plus de conception que de codage à proprement parler, mais pour donner une réponse très courte à cette question&nbsp;:\n",
    " * on utilise l'héritage lorsqu'un objet de la sous-classe **est aussi un** objet de la super-classe (une rose est aussi une fleur), et\n",
    " * on utilise la composition lorsqu'un objet de la sous-classe **a une relation avec** un objet de la super-classe (une rose possède une tige, mais c'est un autre objet)."
   ]
  },
  {
   "cell_type": "markdown",
   "metadata": {},
   "source": [
    "## Complément - niveau intermédiaire"
   ]
  },
  {
   "cell_type": "markdown",
   "metadata": {},
   "source": [
    "### Des exemples de code"
   ]
  },
  {
   "cell_type": "markdown",
   "metadata": {},
   "source": [
    "Sans transition, dans cette section un peu plus prospective, nous vous avons signalé quelques morceaux de code de la librairie standard qui utilisent l'héritage. Sans aller nécessairement jusqu'à la lecture de ces codes, il nous a semblé intéressant de commenter spécifiquement l'usage qui est fait de l'héritage dans ces bibliothèques."
   ]
  },
  {
   "cell_type": "markdown",
   "metadata": {},
   "source": [
    "##### Le module `calendar`"
   ]
  },
  {
   "cell_type": "markdown",
   "metadata": {},
   "source": [
    "On trouve dans la librairie standard [le module `calendar`](https://docs.python.org/2/library/calendar.html). \n",
    "Ce module expose deux classes `TextCalendar` et `HTMLCalendar`. Sans entrer du tout dans le détail, ces deux classes permettent d'imprimer dans des formats différents le même type d'informations du type rendez-vous.\n",
    "\n",
    "Le point ici est que les concepteurs ont choisi un graphe d'héritage comme ceci&nbsp;:\n",
    "\n",
    "    Calendar\n",
    "    |-- TextCalendar\n",
    "    |-- HTMLCalendar\n",
    "    \n",
    "qui permet de grouper le code concernant la logique dans la classe `Calendar`, puis dans les deux sous-classes d'implémenter le type de sortie qui va bien. \n",
    "\n",
    "De cette manière, le maximum de code est partagé entre les deux classes; et de plus si vous avez besoin d'une sortie au format, disons PDF, vous pouvez envisager d'hériter de `Calendar` et n'implémenter que la partie spécifique au format PDF.\n",
    "\n",
    "C'est un peu le niveau élémentaire de l'héritage. "
   ]
  },
  {
   "cell_type": "markdown",
   "metadata": {},
   "source": [
    "##### Le module `SocketServer`"
   ]
  },
  {
   "cell_type": "markdown",
   "metadata": {},
   "source": [
    "Toujours dans la librairie standard, le [module `SocketServer`](https://docs.python.org/2/library/socketserver.html) - qui, incidemment est écrit en C - fait un usage beaucoup plus sophistiqué de l'héritage.\n",
    "\n",
    "Le module propose une hiérarchie de classes comme ceci:"
   ]
  },
  {
   "cell_type": "markdown",
   "metadata": {},
   "source": [
    "    +------------+\n",
    "    | BaseServer |\n",
    "    +------------+\n",
    "          |\n",
    "          v\n",
    "    +-----------+        +------------------+\n",
    "    | TCPServer |------->| UnixStreamServer |\n",
    "    +-----------+        +------------------+\n",
    "          |\n",
    "          v\n",
    "    +-----------+        +--------------------+\n",
    "    | UDPServer |------->| UnixDatagramServer |\n",
    "    +-----------+        +--------------------+"
   ]
  },
  {
   "cell_type": "markdown",
   "metadata": {},
   "source": [
    "Ici encore notre propos n'est pas d'entrer dans les détails, mais d'observer le fait que les différents *niveaux d'intelligence* sont ajoutés les uns aux les autres au fur et à mesure que l'on descend le graphe d'héritage.\n",
    "\n",
    "Cette hiérarchie est par ailleurs étendue par le [module `BaseHTTPServer`](https://docs.python.org/2/library/basehttpserver.html) et notamment au travers de la classe [`HTTPServer`](https://docs.python.org/2/library/basehttpserver.html#BaseHTTPServer.HTTPServer) qui hérite de `TCPServer`.\n",
    "\n",
    "Pour revenir au module `SocketServer`, j'attire votre attention dans [la page d'exemples](https://docs.python.org/2/library/socketserver.html#examples) sur [cet exemple en particuler](\n",
    "https://docs.python.org/2/library/socketserver.html#asynchronous-mixins), où on crée une classe de serveurs multi-threads (la classe `ThreadedTCPServer`) par simple héritage multiple entre `Threading Mixin` et `TCPServer`. La notion de `Mixin` est [décrite dans cette page wikipédia](http://en.wikipedia.org/wiki/Mixin) dans laquelle vous pouvez accéder directement [à la section consacrée à python](http://en.wikipedia.org/wiki/Mixin#In_Python)."
   ]
  }
 ],
 "metadata": {
  "kernelspec": {
   "display_name": "Python 2",
   "language": "python",
   "name": "python2"
  },
  "notebookname": "Héritage",
  "version": "2.0"
 },
 "nbformat": 4,
 "nbformat_minor": 0
}