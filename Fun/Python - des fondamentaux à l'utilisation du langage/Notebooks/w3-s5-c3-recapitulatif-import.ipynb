{
 "cells": [
  {
   "cell_type": "markdown",
   "metadata": {},
   "source": [
    "<span style=\"float:left;\">Licence CC BY-NC-ND</span><span style=\"float:right;\">Thierry Parmentelat &amp; Arnaud Legout&nbsp;<img src=\"media/inria-25.png\" style=\"display:inline\"></span><br/>"
   ]
  },
  {
   "cell_type": "markdown",
   "metadata": {},
   "source": [
    "# Récapitulatif sur `import`"
   ]
  },
  {
   "cell_type": "markdown",
   "metadata": {},
   "source": [
    "## Complément - niveau basique"
   ]
  },
  {
   "cell_type": "markdown",
   "metadata": {},
   "source": [
    "Nous allons récapituler les différentes formes d'importation, et introduire la clause `import *` - et voir pourquoi il est déconseillé de l'utiliser."
   ]
  },
  {
   "cell_type": "markdown",
   "metadata": {},
   "source": [
    "### Importer tout un module"
   ]
  },
  {
   "cell_type": "markdown",
   "metadata": {},
   "source": [
    "L'import le plus simple consiste donc à uniquement mentionner le nom du module"
   ]
  },
  {
   "cell_type": "code",
   "execution_count": null,
   "metadata": {
    "collapsed": false
   },
   "outputs": [],
   "source": [
    "import un_deux"
   ]
  },
  {
   "cell_type": "markdown",
   "metadata": {},
   "source": [
    "Ce module se contente de définir deux fonctions de noms `un` et `deux`. Une fois l'import réalisé de cette façon on peut accéder au contenu du module en utilisant un nom de variable complet:"
   ]
  },
  {
   "cell_type": "code",
   "execution_count": null,
   "metadata": {
    "collapsed": false
   },
   "outputs": [],
   "source": [
    "# la fonction elle-même\n",
    "print un_deux.un\n",
    "\n",
    "un_deux.un()"
   ]
  },
  {
   "cell_type": "markdown",
   "metadata": {},
   "source": [
    "Mais bien sûr on n'a pas de cette façon défini de nouvelle variable `un`; la seule nouvelle variable dans la portée courante est donc `un_deux`"
   ]
  },
  {
   "cell_type": "code",
   "execution_count": null,
   "metadata": {
    "collapsed": false
   },
   "outputs": [],
   "source": [
    "# dans le scope courant on peut accéder au module lui-même\n",
    "print un_deux"
   ]
  },
  {
   "cell_type": "code",
   "execution_count": null,
   "metadata": {
    "collapsed": false
   },
   "outputs": [],
   "source": [
    "# mais pas à la variable `un`\n",
    "try:\n",
    "    print un\n",
    "except NameError: \n",
    "    print \"La variable 'un' n'est pas définie\"\n"
   ]
  },
  {
   "cell_type": "markdown",
   "metadata": {},
   "source": [
    "### Importer une variable spécifique d'un module"
   ]
  },
  {
   "cell_type": "markdown",
   "metadata": {},
   "source": [
    "On peut également importer un ou plusieurs symboles spécifiques d'un module en faisant maintenant (avec un nouveau module du même tonneau)"
   ]
  },
  {
   "cell_type": "code",
   "execution_count": null,
   "metadata": {
    "collapsed": false
   },
   "outputs": [],
   "source": [
    "from un_deux_trois import un, deux"
   ]
  },
  {
   "cell_type": "markdown",
   "metadata": {},
   "source": [
    "À présent nous avons deux nouvelles variables dans la portée locale"
   ]
  },
  {
   "cell_type": "code",
   "execution_count": null,
   "metadata": {
    "collapsed": false
   },
   "outputs": [],
   "source": [
    "un()\n",
    "deux()"
   ]
  },
  {
   "cell_type": "markdown",
   "metadata": {},
   "source": [
    "Mais le module lui même n'est pas accessible"
   ]
  },
  {
   "cell_type": "code",
   "execution_count": null,
   "metadata": {
    "collapsed": false
   },
   "outputs": [],
   "source": [
    "try:\n",
    "    print un_deux_trois\n",
    "except NameError:\n",
    "    print \"La variable 'un_deux_trois' n'est pas définie\""
   ]
  },
  {
   "cell_type": "markdown",
   "metadata": {},
   "source": [
    "Il est important de voir que la variable locale ainsi créée, un peu comme dans le cas d'un appel de fonction, est une **nouvelle variable** qui est initialisée avec l'objet du module. Ainsi si on importe le module **et** une variable du module comme ceci"
   ]
  },
  {
   "cell_type": "code",
   "execution_count": null,
   "metadata": {
    "collapsed": false
   },
   "outputs": [],
   "source": [
    "import un_deux_trois"
   ]
  },
  {
   "cell_type": "markdown",
   "metadata": {},
   "source": [
    "Nous avons maintenant **deux variables différentes** qui désignent la fonction `un` dans le module"
   ]
  },
  {
   "cell_type": "code",
   "execution_count": null,
   "metadata": {
    "collapsed": false
   },
   "outputs": [],
   "source": [
    "print un_deux_trois.un\n",
    "print un"
   ]
  },
  {
   "cell_type": "markdown",
   "metadata": {},
   "source": [
    "En on peut modifier l'une **sans affecter** l'autre"
   ]
  },
  {
   "cell_type": "code",
   "execution_count": null,
   "metadata": {
    "collapsed": false
   },
   "outputs": [],
   "source": [
    "# les deux variables sont différentes\n",
    "# un n'est plus un 'alias' vers un_deux_trois.un\n",
    "un = 1\n",
    "print un_deux_trois.un\n",
    "print un"
   ]
  },
  {
   "cell_type": "markdown",
   "metadata": {},
   "source": [
    "## Complément - niveau intermédiaire"
   ]
  },
  {
   "cell_type": "markdown",
   "metadata": {},
   "source": [
    "### `import *`"
   ]
  },
  {
   "cell_type": "markdown",
   "metadata": {},
   "source": [
    "La dernière forme d'`import` consiste à importer toutes les variables d'un module comme ceci"
   ]
  },
  {
   "cell_type": "code",
   "execution_count": null,
   "metadata": {
    "collapsed": false
   },
   "outputs": [],
   "source": [
    "from un_deux_trois_quatre import *"
   ]
  },
  {
   "cell_type": "markdown",
   "metadata": {},
   "source": [
    "Cette forme, pratique en apparence, va donc créer dans le scope courant les variables"
   ]
  },
  {
   "cell_type": "code",
   "execution_count": null,
   "metadata": {
    "collapsed": false
   },
   "outputs": [],
   "source": [
    "un()\n",
    "deux()\n",
    "trois()\n",
    "quatre()"
   ]
  },
  {
   "cell_type": "markdown",
   "metadata": {},
   "source": [
    "### Quand utiliser telle ou telle forme"
   ]
  },
  {
   "cell_type": "markdown",
   "metadata": {},
   "source": [
    "Les deux premières formes - import de tout un module ou de variables spécifiques - peuvent être utilisées indifféremment; souvent lorsqu'une variable est utilisée très souvent dans le code on pourra préférer la deuxième forme pour raccourcir le code. "
   ]
  },
  {
   "cell_type": "markdown",
   "metadata": {},
   "source": [
    "À cet égard, citons des variantes de ces deux formes qui permettent d'utiliser des noms plus courts. Vous trouverez par exemple très souvent\n",
    "\n",
    "    import numpy as np\n",
    "    \n",
    "qui permet d'importer le module numpy mais de l'utiliser sous un nom plus court - car avec `numpy` on ne cesse d'utiliser des symboles dans le module."
   ]
  },
  {
   "cell_type": "markdown",
   "metadata": {},
   "source": [
    "**Avertissement:** nous vous recommandons de **ne pas utiliser la dernière forme `import *`** - sauf dans l'interpréteur interactif - car cela peut gravement nuire à la lisibilité de votre code."
   ]
  },
  {
   "cell_type": "markdown",
   "metadata": {},
   "source": [
    "python est un langage à liaison statique; cela signifie que lorsque vous concentrez votre attention sur un (votre) module, et que vous voyez une référence en lecture à un variable `spam` disons à la ligne 201, vous devez forcément trouver dans les deux cents premières lignes quelque chose comme une déclaration de `spam`, qui vous indique en gros d'où elle vient.\n",
    "\n",
    "`import *` est une construction qui casse cette bonne propriété (pour être tout à fait exhaustif, cette bonne propriété n'est pas non plus remplie avec les fonctions *built-in* comme `len`, mais il faut vivre avec...) \n",
    "\n",
    "Mais le point important est ceci : imaginez que dans un module vous faites plusieurs `import *` comme par exemple\n",
    "\n",
    "    from django.db import *\n",
    "    from django.conf.urls import *\n",
    "    \n",
    "Peu importe le contenu exact de ces deux modules, il nous suffit de savoir qu'un des deux modules expose la variable `patterns`. \n",
    "\n",
    "Dans ce cas de figure vécu, le module utilise cette variable `patterns` sans avoir besoin de la déclarer explicitement, si bien qu'à la lecture on voit une utilisation de la variable `patterns`, mais on n'a plus aucune idée de quel module elle provient, sauf à aller lire le code correspondant..."
   ]
  },
  {
   "cell_type": "markdown",
   "metadata": {},
   "source": [
    "## Complément - niveau avancé"
   ]
  },
  {
   "cell_type": "markdown",
   "metadata": {},
   "source": [
    "### `import` de manière \"programmative\""
   ]
  },
  {
   "cell_type": "markdown",
   "metadata": {},
   "source": [
    "Étant donné la façon dont est conçue l'instruction `import`, on rencontre une limitation lorsqu'on veut, par exemple, **calculer le nom d'un module** avant de l'importer.\n",
    "\n",
    "Si vous êtes dans ce genre de situation, reportez-vous au module [`importlib`](https://docs.python.org/2/library/importlib.html)\n",
    "et notamment sa fonction `import_module` qui, cette fois, accepte en argument une chaîne."
   ]
  },
  {
   "cell_type": "markdown",
   "metadata": {},
   "source": [
    "Voici une illustration dans un cas simple. Nous allons importer le module `modtools` (qui fait partie de ce MOOC) de deux façons différentes et montrer que le résultat est le même:"
   ]
  },
  {
   "cell_type": "code",
   "execution_count": null,
   "metadata": {
    "collapsed": false
   },
   "outputs": [],
   "source": [
    "# on importe la fonction 'import_module' du module 'importlib'\n",
    "from importlib import import_module\n",
    "imported_modtools = import_module('mod' + 'tools')\n",
    "\n",
    "# on peut aussi importer modtools \"normalement\"\n",
    "import modtools\n",
    "\n",
    "# les deux objets sont identiques\n",
    "imported_modtools is modtools"
   ]
  },
  {
   "cell_type": "markdown",
   "metadata": {},
   "source": [
    "### `import` de manière \"programmative\" en python-2.6 et avant"
   ]
  },
  {
   "cell_type": "markdown",
   "metadata": {},
   "source": [
    "Dans du code un peu ancien, qui daterait de 2.6 ou antérieur, vous pouvez trouver aussi des appels à la fonction *built-in* `__import__`, qui a la même sémantique que `importlib.import_module`, mais dont l'usage est en principe réservé.\n",
    "\n",
    "Signalons toutefois que jusqu'à python-2.6, pour faire une importation de manière programmative, on n'avait pas beaucoup de choix:\n",
    " * soit utiliser, précisément, `__import__`\n",
    " * soit utiliser `exec`, qui quelque part est encore plus vilain, et pas tout à fait équivalent..."
   ]
  }
 ],
 "metadata": {
  "kernelspec": {
   "display_name": "Python 2",
   "language": "python",
   "name": "python2"
  },
  "notebookname": "Récapitulatif import",
  "version": "2.0"
 },
 "nbformat": 4,
 "nbformat_minor": 0
}