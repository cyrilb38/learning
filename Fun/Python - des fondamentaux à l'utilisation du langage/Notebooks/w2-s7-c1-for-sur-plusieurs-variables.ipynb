{
 "cells": [
  {
   "cell_type": "markdown",
   "metadata": {},
   "source": [
    "<span style=\"float:left;\">Licence CC BY-NC-ND</span><span style=\"float:right;\">Thierry Parmentelat &amp; Arnaud Legout&nbsp;<img src=\"media/inria-25.png\" style=\"display:inline\"></span><br/>"
   ]
  },
  {
   "cell_type": "markdown",
   "metadata": {},
   "source": [
    "# Plusieurs variables dans une boucle `for`"
   ]
  },
  {
   "cell_type": "markdown",
   "metadata": {},
   "source": [
    "## Complément - niveau basique"
   ]
  },
  {
   "cell_type": "markdown",
   "metadata": {},
   "source": [
    "Nous avons vu précédemment (séquence 'Les tuples', complément 'Sequence unpacking') la possibilité d'affecter plusieurs variables par filtrage à partir d'un seul objet, comme ceci&nbsp;:"
   ]
  },
  {
   "cell_type": "code",
   "execution_count": null,
   "metadata": {
    "collapsed": false
   },
   "outputs": [],
   "source": [
    "item = (1, 2)\n",
    "a, b = item\n",
    "print 'a', a, 'b', b"
   ]
  },
  {
   "cell_type": "markdown",
   "metadata": {},
   "source": [
    "D'une façon analogue, il est possible de faire une boucle `for` qui itère sur une seule liste mais qui 'agit' sur plusieurs variables, comme ceci&nbsp;:"
   ]
  },
  {
   "cell_type": "code",
   "execution_count": null,
   "metadata": {
    "collapsed": false
   },
   "outputs": [],
   "source": [
    "entrees = [(1, 2), (3, 4), (5, 6)]\n",
    "for a, b in entrees:\n",
    "    print 'a', a, 'b', b"
   ]
  },
  {
   "cell_type": "markdown",
   "metadata": {},
   "source": [
    "Chaque itération retourne un tuple, et les variables `a` et `b` vont être affectées à, repectivement, le premier et le deuxième élément du tuple. Cette mécanique est massivement utilisée en python. "
   ]
  },
  {
   "cell_type": "markdown",
   "metadata": {},
   "source": [
    "## Complément - niveau intermédiaire"
   ]
  },
  {
   "cell_type": "markdown",
   "metadata": {},
   "source": [
    "### La fonction `zip`"
   ]
  },
  {
   "cell_type": "markdown",
   "metadata": {},
   "source": [
    "Voici un exemple très simple qui utilise la technique qu'on vient de voir."
   ]
  },
  {
   "cell_type": "markdown",
   "metadata": {},
   "source": [
    "Imaginons qu'on dispose de deux listes de longueurs égales, dont on sait que les entrées correspondent une à une, comme par exemple&nbsp;:"
   ]
  },
  {
   "cell_type": "code",
   "execution_count": null,
   "metadata": {
    "collapsed": false
   },
   "outputs": [],
   "source": [
    "villes = [\"Paris\", \"Nice\", \"Lyon\"]\n",
    "populations = [2*10**6, 4*10**5, 10**6]"
   ]
  },
  {
   "cell_type": "markdown",
   "metadata": {},
   "source": [
    "Afin d'écrire facilement un code qui \"associe\" les deux listes entre elles, python fournit une fonction *built-in* baptisée `zip`; voyons ce qu'elle peut nous apporter sur cet exemple&nbsp;:"
   ]
  },
  {
   "cell_type": "code",
   "execution_count": null,
   "metadata": {
    "collapsed": false
   },
   "outputs": [],
   "source": [
    "zip(villes, populations)"
   ]
  },
  {
   "cell_type": "markdown",
   "metadata": {},
   "source": [
    "On le voit, on obtient en retour une liste composée de tuples. On peut à présent écrire une boucle `for` comme ceci"
   ]
  },
  {
   "cell_type": "code",
   "execution_count": null,
   "metadata": {
    "collapsed": false
   },
   "outputs": [],
   "source": [
    "for ville, population in zip(villes, populations):\n",
    "    print population, \"habitants a\", ville"
   ]
  },
  {
   "cell_type": "markdown",
   "metadata": {},
   "source": [
    "Qui est, il nous semble, beaucoup plus lisible que ce que l'on serait amené à écrire avec des langages plus traditionnels. \n",
    "\n",
    "Tout ceci se généralise naturellement à plus de deux variables."
   ]
  },
  {
   "cell_type": "code",
   "execution_count": null,
   "metadata": {
    "collapsed": false
   },
   "outputs": [],
   "source": [
    "for i, j, k in zip(range(3), range(100, 103), range(200, 203)):\n",
    "    print 'i', i, 'j', j, 'k', k"
   ]
  },
  {
   "cell_type": "markdown",
   "metadata": {},
   "source": [
    "**Remarque** lorsqu'on passe à `zip` des listes de tailles différentes, le résultat est tronqué et la liste retournée a la taille de la plus petite liste en entrée."
   ]
  },
  {
   "cell_type": "markdown",
   "metadata": {},
   "source": [
    "### La fonction `enumerate`"
   ]
  },
  {
   "cell_type": "markdown",
   "metadata": {},
   "source": [
    "Une fonction utile permet d'itérer sur une liste avec l'indice dans la liste, il s'agit de `enumerate`"
   ]
  },
  {
   "cell_type": "code",
   "execution_count": null,
   "metadata": {
    "collapsed": false
   },
   "outputs": [],
   "source": [
    "for i, ville in enumerate(villes):\n",
    "    print i, ville"
   ]
  },
  {
   "cell_type": "markdown",
   "metadata": {},
   "source": [
    "Cette forme est plus simple et plus lisible que les formes suivantes qui sont équivalentes, mais qui ne sont pas pythoniques"
   ]
  },
  {
   "cell_type": "code",
   "execution_count": null,
   "metadata": {
    "collapsed": false
   },
   "outputs": [],
   "source": [
    "for i in range(len(villes)):\n",
    "    print i, villes[i]"
   ]
  },
  {
   "cell_type": "code",
   "execution_count": null,
   "metadata": {
    "collapsed": false
   },
   "outputs": [],
   "source": [
    "for i, ville in zip(range(len(villes)), villes):\n",
    "    print i, ville"
   ]
  }
 ],
 "metadata": {
  "kernelspec": {
   "display_name": "Python 2",
   "language": "python",
   "name": "python2"
  },
  "notebookname": "Une boucle, plusieurs variables",
  "version": "2.0"
 },
 "nbformat": 4,
 "nbformat_minor": 0
}