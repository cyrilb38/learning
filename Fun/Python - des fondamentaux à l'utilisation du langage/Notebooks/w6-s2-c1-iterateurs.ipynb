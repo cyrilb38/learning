{
 "cells": [
  {
   "cell_type": "markdown",
   "metadata": {},
   "source": [
    "<span style=\"float:left;\">Licence CC BY-NC-ND</span><span style=\"float:right;\">Thierry Parmentelat &amp; Arnaud Legout&nbsp;<img src=\"media/inria-25.png\" style=\"display:inline\"></span><br/>"
   ]
  },
  {
   "cell_type": "markdown",
   "metadata": {},
   "source": [
    "# Itérateurs"
   ]
  },
  {
   "cell_type": "markdown",
   "metadata": {},
   "source": [
    "## Complément - niveau intermédaire"
   ]
  },
  {
   "cell_type": "markdown",
   "metadata": {},
   "source": [
    "Dans ce complément nous allons&nbsp;:\n",
    " * tout d'abord dire quelques mots du module `itertools` qui fournit sous forme d'itérateurs des utilitaires communs qui peuvent être très utiles&nbsp;;\n",
    " * puis dans la partie avancée du complément nous allons voir, comme un autre exemple d'itérateurs, comment implémenter notre propre itérateur des permutations d'un ensemble fini."
   ]
  },
  {
   "cell_type": "markdown",
   "metadata": {},
   "source": [
    "### Le module `itertools`"
   ]
  },
  {
   "cell_type": "markdown",
   "metadata": {},
   "source": [
    "À ce stade, j'espère que vous savez trouver [la documentation du module](https://docs.python.org/2/library/itertools.html) que je vous invite à avoir sous la main."
   ]
  },
  {
   "cell_type": "code",
   "execution_count": null,
   "metadata": {
    "collapsed": false
   },
   "outputs": [],
   "source": [
    "import itertools"
   ]
  },
  {
   "cell_type": "markdown",
   "metadata": {},
   "source": [
    "Comme vous le voyez dans la doc, les fonctionnalités de `itertools` tombent dans 3 catégories&nbsp;:\n",
    " * des itérateurs infinis, comme par exemple `cycle`,\n",
    " * des itérateurs pour énumérer les combinatoires usuelles en mathématiques, comme les permutations, les combinaisons, le produit cartésien, etc.,\n",
    " * et enfin des itérateurs correspondants à des traits que nous avons déjà rencontrés, mais implémentés sous forme d'itérateurs.\n",
    " \n",
    "À nouveau, toutes ces fonctionnalités sont offertes **sous la forme d'itérateurs**."
   ]
  },
  {
   "cell_type": "markdown",
   "metadata": {},
   "source": [
    "Pour détailler un tout petit peu cette dernière famille, signalons&nbsp;:"
   ]
  },
  {
   "cell_type": "markdown",
   "metadata": {},
   "source": [
    " * `chain` qui permet de **concaténer** plusieurs itérables sous la forme d'un **itérateur**&nbsp;:"
   ]
  },
  {
   "cell_type": "code",
   "execution_count": null,
   "metadata": {
    "collapsed": false
   },
   "outputs": [],
   "source": [
    "for x in itertools.chain((1, 2), [3, 4]):\n",
    "    print x"
   ]
  },
  {
   "cell_type": "markdown",
   "metadata": {},
   "source": [
    " * `izip` qui comme son nom l'indique fait comme `zip` mais sous la forme d'un itérateur&nbsp;:"
   ]
  },
  {
   "cell_type": "code",
   "execution_count": null,
   "metadata": {
    "collapsed": false
   },
   "outputs": [],
   "source": [
    "for a,b in itertools.izip((1, 2), [3, 4]):\n",
    "    print a, b"
   ]
  },
  {
   "cell_type": "markdown",
   "metadata": {},
   "source": [
    " * `islice` qui est une généralisation de `xrange`. Vous vous souvenez que `xrange` est similaire à `range` mais renvoie déjà un itérateur. `islice` permet de travailler sur une séquence qui n'est pas les premiers entiers&nbsp;:"
   ]
  },
  {
   "cell_type": "code",
   "execution_count": null,
   "metadata": {
    "collapsed": false
   },
   "outputs": [],
   "source": [
    "import string\n",
    "support = string.ascii_lowercase\n",
    "print 'rappel string.ascii_lowercase=', support\n",
    "\n",
    "# range\n",
    "for x in range(2):\n",
    "    print x\n",
    "# islice\n",
    "for x in itertools.islice(support, 2):\n",
    "    print x"
   ]
  },
  {
   "cell_type": "markdown",
   "metadata": {},
   "source": [
    " * `imap` et `ifilter` qui sont les équivalents de `filter` et `map`. Ces deux-là sont donc à mettre en rapport avec les fonctions génératrices que l'on a vues dans la séquence précédente, dans le sens que nous allons expliciter.\n",
    " \n",
    " Vous vous souvenez que `map` et `filter` sont devenus obsolètes avec les compréhensions de liste. Sauf que, les compréhensions retournent, eh bien justement, une liste. Alors qu'en fait, une fois qu'on s'est habitués à penser en termes d'itérateurs, on réalise que c'est souvent dommage que les compréhensions ne retournent pas plutôt un itérateur aussi.\n",
    " \n",
    " Dans tous les cas, vous voyez que `imap` et `ifilter` sont un peu aux expressions génératrices   ce que `map` et `filter` sont aux compréhensions de liste."
   ]
  },
  {
   "cell_type": "markdown",
   "metadata": {},
   "source": [
    "## Complément - niveau avancé"
   ]
  },
  {
   "cell_type": "markdown",
   "metadata": {},
   "source": [
    "### Implémenter un itérateur de permutations"
   ]
  },
  {
   "cell_type": "markdown",
   "metadata": {},
   "source": [
    "##### C'est quoi déjà les permutations ?"
   ]
  },
  {
   "cell_type": "markdown",
   "metadata": {},
   "source": [
    "En guise de rappel, l'ensemble des permutations d'un ensemble fini correspond à toutes les façons d'ordonner ses éléments&nbsp;; si l'ensemble est de cardinal $n$, il possède $n!$ permutations&nbsp;: on a $n$ façons de choisir le premier élément, $n-1$ façons de choisir le second, etc."
   ]
  },
  {
   "cell_type": "markdown",
   "metadata": {},
   "source": [
    "Un itérateur sur les permutations est disponible au travers du module standard `itertools`. Cependant il nous a semblé intéressant de vous montrer comment on pourrait écrire nous-mêmes cette fonctionnalité, de manière relativement simple."
   ]
  },
  {
   "cell_type": "markdown",
   "metadata": {},
   "source": [
    "Pour illustrer le concept, voici à quoi ressemblent les 6 permutations d'un ensemble à trois éléments&nbsp;:"
   ]
  },
  {
   "cell_type": "code",
   "execution_count": null,
   "metadata": {
    "collapsed": false
   },
   "outputs": [],
   "source": [
    "from itertools import permutations"
   ]
  },
  {
   "cell_type": "code",
   "execution_count": null,
   "metadata": {
    "collapsed": false
   },
   "outputs": [],
   "source": [
    "set = {1, 2, 3}\n",
    "\n",
    "for p in permutations(set):\n",
    "    print p"
   ]
  },
  {
   "cell_type": "markdown",
   "metadata": {},
   "source": [
    "##### Une implémentation "
   ]
  },
  {
   "cell_type": "markdown",
   "metadata": {},
   "source": [
    "Voici une implémentation possible pour un itérateur de permutations&nbsp;:"
   ]
  },
  {
   "cell_type": "code",
   "execution_count": null,
   "metadata": {
    "collapsed": false
   },
   "outputs": [],
   "source": [
    "class Permutations:\n",
    "    \"\"\"\n",
    "    Un itérateur qui énumère les permutations de n\n",
    "    sous la forme d'une liste d'indices commençant à 0\n",
    "    \"\"\"\n",
    "    def __init__(self, n):\n",
    "        # le constructeur bien sûr ne fait (presque) rien\n",
    "        self.n = n\n",
    "        # au fur et à mesure des itérations\n",
    "        # le compteur va aller de 0 à n-1\n",
    "        # puis retour à 0 et comme ça en boucle sans fin\n",
    "        self.counter = 0\n",
    "        # on se contente d'allouer un iterateur de rang n-1\n",
    "        # si bien qu'une fois qu'on a fini de construire\n",
    "        # l'objet d'ordre n on a n objets Permutations en tout\n",
    "        if n >= 2:\n",
    "            self.subiterator = Permutations(n-1)\n",
    "\n",
    "    # pour satisfaire le protocole de l'itérable\n",
    "    def __iter__(self):\n",
    "        return self\n",
    "\n",
    "    # c'est ici bien sûr que se fait tout le travail\n",
    "    def next(self):\n",
    "\n",
    "        # pour n == 1\n",
    "        # le travail est très simple\n",
    "        if self.n == 1:\n",
    "            # on doit renvoyer une fois la liste [0]\n",
    "            # car les indices commencent à 0\n",
    "            if self.counter == 0: \n",
    "                self.counter += 1\n",
    "                return [0]\n",
    "            # et ensuite c'est terminé\n",
    "            else:\n",
    "                raise StopIteration\n",
    "\n",
    "        # pour n >= 2\n",
    "        # lorsque counter est nul,\n",
    "        # on traite la permutation d'ordre n-1 suivante\n",
    "        # si next() lève StopIteration on n'a qu'à laisser passer\n",
    "        # car en effet c'est qu'on a terminé\n",
    "        if self.counter == 0:\n",
    "            self.subsequence = self.subiterator.next()\n",
    "        #\n",
    "        # on insère alors n-1 (car les indices commencent à 0)\n",
    "        # successivement dans la sous-sequence\n",
    "        #\n",
    "        # naivement on écrirait\n",
    "        # result = self.subsequence[0:self.counter] \\\n",
    "        #    + [self.n - 1] \\\n",
    "        #    + self.subsequence[self.counter:self.n-1]\n",
    "        # mais c'est mettre le nombre le plus élevé en premier\n",
    "        # et donc à itérer les permutations dans le mauvais ordre,\n",
    "        # en commençant par la fin\n",
    "        #\n",
    "        # donc on fait plutôt une symétrie\n",
    "        # pour insérer en commençant par la fin\n",
    "        cutter = self.n-1 - self.counter\n",
    "        result = self.subsequence[0:cutter] + [self.n - 1] \\\n",
    "                 + self.subsequence[cutter:self.n-1]\n",
    "        # \n",
    "        # on n'oublie pas de maintenir le compteur et de\n",
    "        # le remettre à zéro tous les n tours\n",
    "        self.counter = (self.counter+1) % self.n\n",
    "        return result\n",
    "\n",
    "    # la longeur de cet itérateur est connue\n",
    "    def __len__(self):\n",
    "        import math\n",
    "        return math.factorial(self.n)"
   ]
  },
  {
   "cell_type": "markdown",
   "metadata": {},
   "source": [
    "Ce qu'on a essayé d'expliquer dans les commentaires, c'est qu'on procède en fin de compte par récurrence. Un objet `Permutations` de rang `n` possède un sous-itérateur de rang `n-1` qu'on crée dans le constructeur. Ensuite l'objet de rang `n` va faire successivement (c'est-à-dire à chaque appel de `next()`)&nbsp;:\n",
    " * appel *0* : \n",
    "   * demander à son sous-itérateur une permutation de rang `n-1` (en lui envoyant `next`),\n",
    "   * la stocker dans l'objet de rang `n`, ce sera utilisé par les *n* premier appels,\n",
    "   * et construire une liste de taille `n` en insérant `n-1` à la fin de la séquence de taille `n-1`,\n",
    " * appel *1* : \n",
    "   * insérer `n-1` dans la même séquence de rang `n-1` mais cette fois 1 cran avant la fin,\n",
    " * ...\n",
    " * appel *n-1* :\n",
    "   * insérer `n-1` au début de la séquence de rang `n-1`,\n",
    " * appel *n* :\n",
    "    * refaire `next()` sur le sous-itérateur pour traiter une nouvelle sous-séquence,\n",
    "    * la stocker dans l'objet de rang `n`, comme à l'appel *0*, pour ce bloc de n appels,\n",
    "    * et construire la permutation en insérant *n-1* à la fin, comme à l'appel 0,\n",
    " * ..."
   ]
  },
  {
   "cell_type": "markdown",
   "metadata": {},
   "source": [
    "On voit donc le caractère cyclique d'ordre *n* qui est matérialisé par `counter`, que l'on incrémente à chaque boucle mais modulo *n* - notez d'ailleurs que pour ce genre de comportement on dispose aussi de `itertools.cycle` comme on le verra dans une deuxième version, mais pour l'instant j'ai préféré ne pas l'utiliser pour ne pas tout embrouiller ;) \n",
    "\n",
    "La terminaison se gère très simplement, car une fois que l'on a traité toutes les séquences d'ordre *n-1* eh bien on a fini, on n'a même pas besoin de lever StopIteration explicitement, sauf bien sûr dans le cas *n=1*.\n",
    "\n",
    "Le seul point un peu délicat, si on veut avoir les permutations dans le \"bon\" ordre, consiste à commencer à insérer `n-1` par la droite (la fin de la sous-séquence)."
   ]
  },
  {
   "cell_type": "markdown",
   "metadata": {},
   "source": [
    "##### Discussion"
   ]
  },
  {
   "cell_type": "markdown",
   "metadata": {},
   "source": [
    "Il existe certainement des tas d'autres façons de faire bien entendu. Le point important ici, et qui donne toute sa puissance à la notion d'itérateur, c'est **qu'à aucun moment on ne construit** une liste ou une séquence quelconque de** $n!$ termes**. \n",
    "\n",
    "C'est une erreur fréquente chez les débutants que de calculer une telle liste dans le constructeur, mais procéder de cette façon c'est aller exactement à l'opposé de ce pourquoi les itérateurs ont été conçus&nbsp;; au contraire, on veut éviter à tout prix le coût d'une telle construction.\n",
    "\n",
    "On peut le voir sur un code qui n'utiliserait que les 20 premières valeurs de l'itérateur, vous constatez que ce code est immédiat&nbsp;:"
   ]
  },
  {
   "cell_type": "code",
   "execution_count": null,
   "metadata": {
    "collapsed": false
   },
   "outputs": [],
   "source": [
    "def show_first_items(iterable, nb_items):\n",
    "    \"\"\"\n",
    "    montre les <nb_items> premiers items de iterable\n",
    "    \"\"\"\n",
    "    print \"Il y a {} items dans l'iterable\".format(len(iterable))\n",
    "    for i,item in enumerate(iterable):\n",
    "        print item\n",
    "        if i >= nb_items:\n",
    "            print '....'\n",
    "            break"
   ]
  },
  {
   "cell_type": "code",
   "execution_count": null,
   "metadata": {
    "collapsed": false
   },
   "outputs": [],
   "source": [
    "show_first_items(Permutations(12), 20)"
   ]
  },
  {
   "cell_type": "markdown",
   "metadata": {},
   "source": [
    "Ce tableau vous montre par ailleurs sous un autre angle comment fonctionne l'algorithme, si vous observez le `11` qui balaie en diagonale les 12 premières lignes, puis les 12 suivantes, etc.."
   ]
  },
  {
   "cell_type": "markdown",
   "metadata": {},
   "source": [
    "##### Ultimes améliorations"
   ]
  },
  {
   "cell_type": "markdown",
   "metadata": {},
   "source": [
    "Dernières remarques, sur des améliorations possibles - mais tout à fait optionnelles&nbsp;:\n",
    " * le lecteur attentif aura remarqué qu'au lieu d'un entier `counter` on aurait pu profitablement utiliser une instance de `itertools.cycle`, ce qui aurait eu l'avantage d'être plus clair sur le propos de ce compteur;\n",
    " * aussi dans le même mouvement, au lieu de se livrer à la gymnastique qui calcule `cutter` à partir de `counter`, on pourrait dès le départ créer dans le cycle les bonnes valeurs en commençant à `n-1`."
   ]
  },
  {
   "cell_type": "markdown",
   "metadata": {},
   "source": [
    "C'est ce qu'on a fait dans cette deuxième version; après avoir enlevé la loghorrée de commentaires ça redevient presque lisible ;)"
   ]
  },
  {
   "cell_type": "code",
   "execution_count": null,
   "metadata": {
    "collapsed": false
   },
   "outputs": [],
   "source": [
    "import itertools\n",
    "\n",
    "class Permutations2:\n",
    "    \"\"\"\n",
    "    Un itérateur qui énumère les permutations de n\n",
    "    sous la forme d'une liste d'indices commençant à 0\n",
    "    \"\"\"\n",
    "    def __init__(self, n):\n",
    "        self.n = n\n",
    "        # on commence à insérer à la fin \n",
    "        self.cycle = itertools.cycle(range(n)[::-1])\n",
    "        if n >= 2:\n",
    "            self.subiterator = Permutations2(n-1)\n",
    "        # pour savoir quand terminer le cas n==1\n",
    "        if n == 1:\n",
    "            self.done = False\n",
    "\n",
    "    def __iter__(self):\n",
    "        return self\n",
    "\n",
    "    def next(self):\n",
    "        cutter = self.cycle.next()\n",
    "\n",
    "        # quand n==1 on a toujours la même valeur 0\n",
    "        if self.n == 1:\n",
    "            if not self.done:\n",
    "                self.done = True\n",
    "                return [0]\n",
    "            else:\n",
    "                raise StopIteration\n",
    "\n",
    "        # au début de chaque séquence de n appels\n",
    "        # il faut appeler une nouvelle sous-séquence\n",
    "        if cutter == self.n-1:\n",
    "            self.subsequence = self.subiterator.next()\n",
    "        # dans laquelle on insére n-1\n",
    "        return self.subsequence[0:cutter] + [self.n-1] \\\n",
    "                 + self.subsequence[cutter:self.n-1]\n",
    "\n",
    "    # la longeur de cet itérateur est connue\n",
    "    def __len__(self):\n",
    "        import math\n",
    "        return math.factorial(self.n)\n"
   ]
  },
  {
   "cell_type": "code",
   "execution_count": null,
   "metadata": {
    "collapsed": false
   },
   "outputs": [],
   "source": [
    "show_first_items(Permutations2(5), 20)"
   ]
  }
 ],
 "metadata": {
  "kernelspec": {
   "display_name": "Python 2",
   "language": "python",
   "name": "python2"
  },
  "language_info": {
   "codemirror_mode": {
    "name": "ipython",
    "version": 2
   },
   "file_extension": ".py",
   "mimetype": "text/x-python",
   "name": "python",
   "nbconvert_exporter": "python",
   "pygments_lexer": "ipython2",
   "version": "2.7.12"
  },
  "notebookname": "Itérateurs",
  "version": "2.0"
 },
 "nbformat": 4,
 "nbformat_minor": 0
}