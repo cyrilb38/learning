{
 "cells": [
  {
   "cell_type": "markdown",
   "metadata": {},
   "source": [
    "<span style=\"float:left;\">Licence CC BY-NC-ND</span><span style=\"float:right;\">Thierry Parmentelat &amp; Arnaud Legout&nbsp;<img src=\"media/inria-25.png\" style=\"display:inline\"></span><br/>"
   ]
  },
  {
   "cell_type": "markdown",
   "metadata": {},
   "source": [
    "# Formats de fichiers : JSON et autres"
   ]
  },
  {
   "cell_type": "markdown",
   "metadata": {},
   "source": [
    "## Compléments - niveau basique"
   ]
  },
  {
   "cell_type": "markdown",
   "metadata": {},
   "source": [
    "Voici quelques mots sur des outils python fournis dans la librairie standard, et qui permettent de lire ou écrire des données dans des fichiers."
   ]
  },
  {
   "cell_type": "markdown",
   "metadata": {},
   "source": [
    "### Le problème"
   ]
  },
  {
   "cell_type": "markdown",
   "metadata": {},
   "source": [
    "Les données dans un programme python sont stockés en mémoire (la RAM), sous une forme propice aux calculs. Par exemple un petit entier est fréquemment stocké en binaire dans un mot de 64 bits, qui est prêt à être soumis au processeur pour faire une opération arithmétique. "
   ]
  },
  {
   "cell_type": "markdown",
   "metadata": {},
   "source": [
    "Ce format ne se prête pas forcément toujours à être transposé tel quel lorsqu'on doit écrire des données sur un support plus pérenne, comme un disque dur, ou encore sur un réseau pour transmission distante - ces deux supports étant à ce point de vue très voisins.\n",
    "\n",
    "Ainsi par exemple il pourra être plus commode d'écrire notre entier sur disque, ou de le transmettre à un programme distant, sous une forme décimale qui sera plus lisible, sachant que par ailleurs toutes les machines ne codent pas un entier de la même façon."
   ]
  },
  {
   "cell_type": "markdown",
   "metadata": {},
   "source": [
    "Il convient donc de faire de la traduction dans les deux sens entre représentations d'une part en mémoire, et d'autre part sur disque ou sur réseau (à nouveau, on utilise en général les mêmes formats)."
   ]
  },
  {
   "cell_type": "markdown",
   "metadata": {},
   "source": [
    "### Le format JSON"
   ]
  },
  {
   "cell_type": "markdown",
   "metadata": {},
   "source": [
    "Le format sans aucun doute le plus populaire à l'heure actuelle est [le format JSON](http://fr.wikipedia.org/wiki/JavaScript_Object_Notation) pour JavaScript Object Notation. \n",
    "\n",
    "Sans trop nous attarder nous dirons que JSON est un encodage - en anglais [marshalling](http://en.wikipedia.org/wiki/Marshalling_%28computer_science%29) - qui se prête bien à la plupart des types de base qu'on trouve dans les langages modernes comme python, ruby ou, donc, JavaScript.\n",
    "\n",
    "La libraririe standard python contient [le module json](https://docs.python.org/2/library/json.html), que nous avons déjà utilisé dans les exercices de la semaine passée, et que nous illustrons très rapidement ici:"
   ]
  },
  {
   "cell_type": "code",
   "execution_count": null,
   "metadata": {
    "collapsed": false
   },
   "outputs": [],
   "source": [
    "import json\n",
    "\n",
    "# En partant d'une donnée construite à partir de types de base\n",
    "data = [\n",
    "    # des types qui ne posent pas de problème\n",
    "    [1, 2, 'a', [3.23, 4.32], {'eric': 32, 'jean': 43}],\n",
    "    # un tuple\n",
    "    (1, 2, 3),\n",
    "]\n",
    "\n",
    "# sauver ceci dans un fichier\n",
    "with open(\"s1.json\",\"w\") as json_output:\n",
    "    json.dump(data, json_output)\n",
    "    \n",
    "# et relire le résultat \n",
    "with open(\"s1.json\") as json_input:\n",
    "    data2 = json.load(json_input)\n",
    "    "
   ]
  },
  {
   "cell_type": "markdown",
   "metadata": {},
   "source": [
    "##### Limitations de json"
   ]
  },
  {
   "cell_type": "markdown",
   "metadata": {},
   "source": [
    "Certains types de base ne sont pas supportés par le format JSON (car ils ne sont pas natifs en JavaScript), c'est le cas notamment de\n",
    " * `tuple`, qui se fait encoder comme une liste;\n",
    " * `complex`, `set` et `frozenset`, qu'on ne peut pas encoder du tout (sans étendre la librairie).\n"
   ]
  },
  {
   "cell_type": "code",
   "execution_count": null,
   "metadata": {
    "collapsed": false
   },
   "outputs": [],
   "source": [
    "# le premier élément de data est intact, \n",
    "# comme si on avait fait une *deep copy* en fait\n",
    "print \"première partie de data\", data[0] == data2[0]\n",
    "# par contre le `tuple` se fait concoder comme une `list`\n",
    "print \"deuxième partie\", \"entrée\", type(data[1]), \"sortie\", type(data2[1])"
   ]
  },
  {
   "cell_type": "markdown",
   "metadata": {},
   "source": [
    "Malgré ces petites limitations, ce format est de plus en plus populaire, notamment parce qu'on peut l'utiliser pour communiquer avec des applications web écrites en JavaScript, et aussi parce qu'il est très léger, et supporté par de nombreux langages."
   ]
  },
  {
   "cell_type": "markdown",
   "metadata": {},
   "source": [
    "## Compléments - niveau intermédiaire"
   ]
  },
  {
   "cell_type": "markdown",
   "metadata": {},
   "source": [
    "### Le format `csv`"
   ]
  },
  {
   "cell_type": "markdown",
   "metadata": {},
   "source": [
    "Le format `csv` pour Comma Separated Values, originaire du monde des tableurs, peut rendre service à l'occasion, il est proposé [dans le module `csv`](https://docs.python.org/2/library/csv.html)."
   ]
  },
  {
   "cell_type": "markdown",
   "metadata": {},
   "source": [
    "### Le format pickle"
   ]
  },
  {
   "cell_type": "markdown",
   "metadata": {},
   "source": [
    "Le format `pickle` remplit une fonctionnalité très voisine de `JSON`, mais est spécifique à python. C'est pourquoi, malgré des limites un peu moins sévères, son usage tend à rester assez marginal. Il est implémenté [dans le module `pickle`](https://docs.python.org/2/library/pickle.html)."
   ]
  },
  {
   "cell_type": "markdown",
   "metadata": {},
   "source": [
    "### Le format XML"
   ]
  },
  {
   "cell_type": "markdown",
   "metadata": {},
   "source": [
    "Vous avez aussi très probablement entendu parler de XML, qui est un format assez populaire également. \n",
    "\n",
    "Cela dit, la puissance, et donc le coût, de XML et JSON ne sont pas du tout comparables, XML étant beaucoup plus flexible mais au prix d'une complexité de mise en œuvre très supérieure. \n",
    "\n",
    "Il existe plusieurs souches différentes de librairies prenant en charge le format XML, [qui sont introduites ici](https://docs.python.org/2/library/xml.html)."
   ]
  },
  {
   "cell_type": "markdown",
   "metadata": {},
   "source": [
    "### Pour en savoir plus"
   ]
  },
  {
   "cell_type": "markdown",
   "metadata": {},
   "source": [
    "Voyez la page sur [les formats de fichiers](https://docs.python.org/2/library/fileformats.html) dans la documentation python."
   ]
  }
 ],
 "metadata": {
  "kernelspec": {
   "display_name": "Python 2",
   "language": "python",
   "name": "python2"
  },
  "notebookname": "Formats JSON et autres",
  "version": "2.0"
 },
 "nbformat": 4,
 "nbformat_minor": 0
}