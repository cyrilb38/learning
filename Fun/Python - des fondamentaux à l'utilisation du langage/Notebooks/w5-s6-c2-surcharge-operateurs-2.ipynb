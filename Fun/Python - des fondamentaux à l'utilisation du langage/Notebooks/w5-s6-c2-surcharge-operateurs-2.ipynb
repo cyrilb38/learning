{
 "cells": [
  {
   "cell_type": "markdown",
   "metadata": {},
   "source": [
    "<span style=\"float:left;\">Licence CC BY-NC-ND</span><span style=\"float:right;\">Thierry Parmentelat &amp; Arnaud Legout&nbsp;<img src=\"media/inria-25.png\" style=\"display:inline\"></span><br/>"
   ]
  },
  {
   "cell_type": "markdown",
   "metadata": {},
   "source": [
    "# Surcharge opérateurs (2)"
   ]
  },
  {
   "cell_type": "markdown",
   "metadata": {},
   "source": [
    "## Complément - niveau avancé"
   ]
  },
  {
   "cell_type": "markdown",
   "metadata": {},
   "source": [
    "Nous poursuivons dans ce complément la sélection de méthodes spéciales entreprise en première partie."
   ]
  },
  {
   "cell_type": "markdown",
   "metadata": {},
   "source": [
    "***"
   ]
  },
  {
   "cell_type": "markdown",
   "metadata": {},
   "source": [
    "### `__contains__`, `__len__`, `__getitem__` et apparentés"
   ]
  },
  {
   "cell_type": "markdown",
   "metadata": {},
   "source": [
    "La méthode `__contains__` permet de donner un sens à&nbsp;:\n",
    "\n",
    "    item in objet\n",
    "    \n",
    "Sans grande surprise, elle prend en argument un objet et un item, et doit renvoyer un booléen. Nous l'illustrons ci-dessous avec la classe `DualQueue`."
   ]
  },
  {
   "cell_type": "markdown",
   "metadata": {},
   "source": [
    "La méthode `__len__` est utilisée par la fonction *builtin* `len` pour retourner la longueur d'un objet. "
   ]
  },
  {
   "cell_type": "markdown",
   "metadata": {},
   "source": [
    "##### La classe `DualQueue`"
   ]
  },
  {
   "cell_type": "markdown",
   "metadata": {},
   "source": [
    "Nous allons illustrer ceci avec un exemple de classe, un peu artificiel, qui implémente une queue de type FIFO. Les objets sont d'abord admis dans la file d'entrée (`add_input`), puis déplacés dans la file de sortie (`move_input_to_output`), et enfin sortis (`emit_output`).\n",
    "\n",
    "Clairement, cet exemple est à but uniquement pédagogique; on veut montrer comment une implémentation qui repose sur deux listes séparées peut donner l'illusion d'une continuité, et se présenter comme un container unique. De plus cette implémentation ne fait aucun contrôle pour ne pas obscurcir le code. "
   ]
  },
  {
   "cell_type": "code",
   "execution_count": null,
   "metadata": {
    "collapsed": false
   },
   "outputs": [],
   "source": [
    "class DualQueue (object):\n",
    "    \"\"\"Une double file d'attente FIFO\"\"\"\n",
    "\n",
    "    def __init__(self):\n",
    "        \"constructeur, sans argument\"\n",
    "        self.inputs = []\n",
    "        self.outputs = []\n",
    "\n",
    "    def __repr__ (self):\n",
    "        \"affichage\"\n",
    "        return \"<DualQueue, inputs={inputs}, outputs={outputs}>\".format(**vars(self))\n",
    "\n",
    "    # la partie qui nous intéresse ici\n",
    "    def __contains__(self, item):\n",
    "        \"appartenance d'un objet à la queue\"\n",
    "        return item in self.inputs or item in self.outputs\n",
    "    def __len__(self):\n",
    "        \"longueur de la queue\"\n",
    "        return len(self.inputs) + len(self.outputs)        \n",
    "\n",
    "    # l'interface publique de la classe\n",
    "    # le plus simple possible et sans aucun contrôle\n",
    "    def add_input(self, item):\n",
    "        \"faire entrer un objet dans la queue d'entrée\"\n",
    "        self.inputs.insert(0,item)\n",
    "    def move_input_to_output (self):\n",
    "        \"l'objet le plus ancien de la queue d'entrée est promu dans la queue de sortie\"\n",
    "        self.outputs.insert(0,self.inputs.pop())\n",
    "    def emit_output (self):\n",
    "        \"l'objet le plus ancien de la queue de sortie est émis\"\n",
    "        return self.outputs.pop()    "
   ]
  },
  {
   "cell_type": "code",
   "execution_count": null,
   "metadata": {
    "collapsed": false
   },
   "outputs": [],
   "source": [
    "# on construit une instance pour nos essais\n",
    "queue = DualQueue ()\n",
    "queue.add_input ('zero')\n",
    "queue.add_input ('un')\n",
    "queue.move_input_to_output()\n",
    "queue.move_input_to_output()\n",
    "queue.add_input ('deux')\n",
    "queue.add_input ('trois')\n",
    "\n",
    "print queue"
   ]
  },
  {
   "cell_type": "markdown",
   "metadata": {},
   "source": [
    "##### Longueur et appartenance"
   ]
  },
  {
   "cell_type": "markdown",
   "metadata": {},
   "source": [
    "Avec cette première version de la classe `DualQueue` on peut utiliser `len` et le test d'appartenance&nbsp;:"
   ]
  },
  {
   "cell_type": "code",
   "execution_count": null,
   "metadata": {
    "collapsed": false
   },
   "outputs": [],
   "source": [
    "print 'len()',len(queue)\n",
    "\n",
    "print \"deux appartient-il ?\", 'deux' in queue\n",
    "print \"(1,) appartient-il ?\", (1,) in queue"
   ]
  },
  {
   "cell_type": "markdown",
   "metadata": {},
   "source": [
    "##### Accès séquentiel (accès par un index entier)"
   ]
  },
  {
   "cell_type": "markdown",
   "metadata": {},
   "source": [
    "Lorsqu'on a la notion de longueur de l'objet avec  `__len__`, il peut être opportun -  quoique cela n'est pas imposé par le langage, comme on vient de le voir - de proposer également un accès indexé par un entier pour pouvoir faire&nbsp;:\n",
    "\n",
    "    queue[1]\n",
    "    \n",
    "**Pour ne pas répéter tout le code de la classe**, nous allons étendre `DualQueue`; pour cela nous définissons une fonction, que nous affectons ensuite à `DualQueue.__getitem__`, comme nous avons déjà eu l'occasion de le faire&nbsp;:"
   ]
  },
  {
   "cell_type": "code",
   "execution_count": null,
   "metadata": {
    "collapsed": false
   },
   "outputs": [],
   "source": [
    "# une première version de DualQueue.__getitem__\n",
    "# pour uniquement l'accès par index\n",
    "\n",
    "# on définit une fonction\n",
    "def dual_queue_getitem (self, index):\n",
    "    \"redéfinit l'accès [] séquentiel\"\n",
    "\n",
    "    # on vérifie que l'index a un sens\n",
    "    if index < 0 or index >= len(self):\n",
    "        raise IndexError(\"Mauvais indice {} pour DualQueue\".format(index))\n",
    "    # on décide que l'index 0 correspond à l'élément le plus ancien\n",
    "    # ce qui oblige à une petite gymnastique\n",
    "    li = len(self.inputs)\n",
    "    lo = len(self.outputs)\n",
    "    if index < lo:\n",
    "        return self.outputs[lo-index-1]\n",
    "    else:\n",
    "        return self.inputs[li-(index-lo)-1]\n",
    "\n",
    "# et on affecte cette fonction à l'intérieur de la classe\n",
    "DualQueue.__getitem__ = dual_queue_getitem"
   ]
  },
  {
   "cell_type": "markdown",
   "metadata": {},
   "source": [
    "À présent, on peut **accéder** aux objets de la queue **séquentiellement**&nbsp;:"
   ]
  },
  {
   "cell_type": "code",
   "execution_count": null,
   "metadata": {
    "collapsed": false
   },
   "outputs": [],
   "source": [
    "print queue[0]"
   ]
  },
  {
   "cell_type": "markdown",
   "metadata": {},
   "source": [
    "ce qui lève la même exception qu'avec une vraie liste si on utilise un mauvais index&nbsp;:"
   ]
  },
  {
   "cell_type": "code",
   "execution_count": null,
   "metadata": {
    "collapsed": false
   },
   "outputs": [],
   "source": [
    "try:\n",
    "    print queue[5]\n",
    "except IndexError as e:\n",
    "    print 'ERREUR',e"
   ]
  },
  {
   "cell_type": "markdown",
   "metadata": {},
   "source": [
    "##### Amélioration : accès par slice"
   ]
  },
  {
   "cell_type": "markdown",
   "metadata": {},
   "source": [
    "Si on veut aussi supporter l'accès par slice comme ceci&nbsp;:\n",
    "\n",
    "    queue[1:3]\n",
    "    \n",
    "il nous faut modifier la méthode `__getitem__`. "
   ]
  },
  {
   "cell_type": "markdown",
   "metadata": {},
   "source": [
    "Le second argument de `__getitem__` correspond naturellement au contenu des crochets `[]`, on utilise donc `isinstance` pour écrire un code qui s'adapte au type d'indexation, comme ceci&nbsp;:"
   ]
  },
  {
   "cell_type": "code",
   "execution_count": null,
   "metadata": {
    "collapsed": false
   },
   "outputs": [],
   "source": [
    "# une deuxième version de DualQueue.__getitem__\n",
    "# pour l'accès par index ou par slice\n",
    "\n",
    "def dual_queue_getitem (self, key):\n",
    "    \"redéfinit l'accès par [] pour entiers, slices, et autres\"\n",
    "\n",
    "    # l'accès par slice queue[1:3] \n",
    "    # nous donne pour key un objet de type slice\n",
    "    if isinstance(key, slice):\n",
    "        # key.indices donne les indices qui vont bien\n",
    "        return [self[index] for index in xrange(*key.indices(len(self)))]\n",
    "\n",
    "    # queue[3] nous donne pour key un entier\n",
    "    elif isinstance(key, int):\n",
    "        index = key\n",
    "        # on vérifie que l'index a un sens\n",
    "        if index < 0 or index >= len(self):\n",
    "            raise IndexError(\"Mauvais indice {} pour DualQueue\".format(index))\n",
    "        # on décide que l'index 0 correspond à l'élément le plus ancien\n",
    "        # ce qui oblige à une petite gymnastique\n",
    "        li = len(self.inputs)\n",
    "        lo = len(self.outputs)\n",
    "        if index < lo:\n",
    "            return self.outputs[lo-index-1]\n",
    "        else:\n",
    "            return self.inputs[li-(index-lo)-1]\n",
    "    # queue ['foo'] n'a pas de sens pour nous\n",
    "    else:\n",
    "        raise KeyError(\"[] avec type non reconnu {}\".format(type(key)))\n",
    "\n",
    "# et on affecte cette fonction à l'intérieur de la classe\n",
    "DualQueue.__getitem__ = dual_queue_getitem"
   ]
  },
  {
   "cell_type": "markdown",
   "metadata": {},
   "source": [
    "Maintenant on peut accéder par slice"
   ]
  },
  {
   "cell_type": "code",
   "execution_count": null,
   "metadata": {
    "collapsed": false
   },
   "outputs": [],
   "source": [
    "queue[1:3]"
   ]
  },
  {
   "cell_type": "markdown",
   "metadata": {},
   "source": [
    "Et on reçoit bien une exception si on essaie d'accéder par clé&nbsp;:"
   ]
  },
  {
   "cell_type": "code",
   "execution_count": null,
   "metadata": {
    "collapsed": false
   },
   "outputs": [],
   "source": [
    "try:\n",
    "    queue['key']\n",
    "except KeyError as e:\n",
    "    print \"On ne peut pas accéder par clé\",e"
   ]
  },
  {
   "cell_type": "markdown",
   "metadata": {},
   "source": [
    "##### L'objet est itérable (même sans avoir `__iter__`)"
   ]
  },
  {
   "cell_type": "markdown",
   "metadata": {},
   "source": [
    "Avec seulement `__getitem__`, on peut **faire une boucle** sur l'objet queue. On l'a mentionné rapidement dans la séquence sur les itérateurs, mais la **méthode `__iter__` n'est pas la seule façon** de rendre un objet itérable&nbsp;:"
   ]
  },
  {
   "cell_type": "code",
   "execution_count": null,
   "metadata": {
    "collapsed": false
   },
   "outputs": [],
   "source": [
    "for item in queue:\n",
    "   print item"
   ]
  },
  {
   "cell_type": "markdown",
   "metadata": {},
   "source": [
    "##### On peut faire un test sur l'objet"
   ]
  },
  {
   "cell_type": "markdown",
   "metadata": {},
   "source": [
    "De manière similaire, même sans la méthode `__nonzero__`, cette classe sait **faire des tests de manière correcte** grâce uniquement à la méthode `__len__`&nbsp;:"
   ]
  },
  {
   "cell_type": "code",
   "execution_count": null,
   "metadata": {
    "collapsed": false
   },
   "outputs": [],
   "source": [
    "# un test fait directement sur la queue\n",
    "if queue:\n",
    "    print \"La queue {} est considérée comme True\".format(queue)\n",
    "\n",
    "# on vide la queue pour tester sur une queue vide\n",
    "for i in range(2):\n",
    "    queue.move_input_to_output()\n",
    "for i in range(4):\n",
    "    queue.emit_output()\n",
    "\n",
    "# maintenant le test est négatif (notez bien le *not* ici)\n",
    "if not queue:\n",
    "    print \"La queue {} est considérée comme False\".format(queue)"
   ]
  },
  {
   "cell_type": "markdown",
   "metadata": {},
   "source": [
    "***"
   ]
  },
  {
   "cell_type": "markdown",
   "metadata": {},
   "source": [
    "### `__call__` et les *callables*"
   ]
  },
  {
   "cell_type": "markdown",
   "metadata": {},
   "source": [
    "Le langage introduit de manière similaire la notion de ***callable*** - littéralement, qui peut être appelé.\n",
    "L'idée est très simple, on cherche à donner un sens à un fragment de code du genre de&nbsp;:"
   ]
  },
  {
   "cell_type": "markdown",
   "metadata": {},
   "source": [
    "    # on crée une instance\n",
    "    objet = Classe(arguments)\n",
    "    \n",
    "    # et c'est l'objet (et pas la classe) qu'on utilise comme une fonction\n",
    "    objet(arg1, arg2)"
   ]
  },
  {
   "cell_type": "markdown",
   "metadata": {},
   "source": [
    "Le protocole ici est très simple; cette dernière ligne a un sens en python dès lors que&nbsp;:\n",
    " * `objet` possède une méthode `__call__`,\n",
    " * et que celle-ci peut être envoyée à `objet` avec les arguments `arg1, arg2`, pour nous donner le résultat qui sera retourné par `objet(arg1, arg2)`."
   ]
  },
  {
   "cell_type": "markdown",
   "metadata": {},
   "source": [
    "    objet(arg1, arg2)   ===>   objet.__call__(arg1, arg2)"
   ]
  },
  {
   "cell_type": "markdown",
   "metadata": {},
   "source": [
    "Voyons cela sur un exemple&nbsp;:"
   ]
  },
  {
   "cell_type": "code",
   "execution_count": null,
   "metadata": {
    "collapsed": false
   },
   "outputs": [],
   "source": [
    "class PlusClosure (object):\n",
    "    \"\"\"Une classe callable qui permet de faire un peu comme la \n",
    "    fonction built-in sum mais en ajoutant une valeur initiale\"\"\"\n",
    "    def __init__(self, initial):\n",
    "        self.initial = initial\n",
    "    def __call__(self, *args):\n",
    "        return self.initial + sum(args)\n",
    "    \n",
    "# on crée une instance avec une valeur initiale 2 pour la somme\n",
    "plus2 = PlusClosure (2)"
   ]
  },
  {
   "cell_type": "code",
   "execution_count": null,
   "metadata": {
    "collapsed": false
   },
   "outputs": [],
   "source": [
    "# on peut maintenant utiliser cet objet \n",
    "# comme une fonction qui fait sum(*arg)+2\n",
    "\n",
    "print '[] ->', plus2()\n",
    "\n",
    "print '1 ->', plus2(1)\n",
    "\n",
    "print '1,2 ->', plus2(1, 2)"
   ]
  },
  {
   "cell_type": "markdown",
   "metadata": {},
   "source": [
    "Pour ceux qui connaissent, nous avons choisi à dessein un exemple qui s'apparente à [une clôture](http://en.wikipedia.org/wiki/Closure_%28computer_programming%29). Nous reviendrons sur cette notion de *callable* lorsque nous verrons les décorateurs en semaine 7. "
   ]
  },
  {
   "cell_type": "markdown",
   "metadata": {},
   "source": [
    "***"
   ]
  },
  {
   "cell_type": "markdown",
   "metadata": {},
   "source": [
    "### `__getattr__` et apparentés"
   ]
  },
  {
   "cell_type": "markdown",
   "metadata": {},
   "source": [
    "Dans cette dernière partie nous allons voir comment avec la méthode `__getattr__`, on peut redéfinir la façon que le langage a d'évaluer\n",
    "\n",
    "    objet.attribut"
   ]
  },
  {
   "cell_type": "markdown",
   "metadata": {},
   "source": [
    "**Avertissement:** on a vu dans la séquence consacrée à l'héritage que, pour l'essentiel, le mécanisme d'héritage repose **précisément** sur la façon d'évaluer les attributs d'un objet, aussi nous vous recommandons d'utiliser ce trait avec précaution, car il vous donne la possibilité de \"faire muter le langage\" comme on dit."
   ]
  },
  {
   "cell_type": "markdown",
   "metadata": {},
   "source": [
    "##### Un exemple : la classe `RPCProxy`"
   ]
  },
  {
   "cell_type": "markdown",
   "metadata": {},
   "source": [
    "Pour illustrer `__getattr__`, nous allons considérer le problème suivant. Une application utilise un service distant, avec laquelle elle interagit au travers d'une API.\n",
    "\n",
    "C'est une situation très fréquente: lorsqu'on utilise un service météo, ou de géolocalisation, ou de réservation, le prestataire vous propose une **API** (Application Programming Interface) qui se présente bien souvent comme une **liste de fonctions**, que votre fonction peut appeler à distance au travers d'un mécanisme de **RPC** (Remote Procedure Call).\n",
    "\n",
    "Imaginez pour fixer les idées que vous utilisez un service de réservation de ressources dans un Cloud, qui vous permet d'appeler les fonctions suivantes&nbsp;:\n",
    " * `GetNodes`(...) pour obtenir des informations sur les noeuds disponibles,\n",
    " * `BookNode`(...) pour réserver un noeud,\n",
    " * `ReleaseNode`(...) pour abandonner un noeud."
   ]
  },
  {
   "cell_type": "markdown",
   "metadata": {},
   "source": [
    "Naturellement ceci est une API extrêmement simplifiée. Le point que nous voulons illustrer ici est que le dialogue avec le service distant&nbsp;:\n",
    " * requiert ses propres données - comme l'URL où on peut joindre le service, et les identifiants à utiliser pour s'authentifier,\n",
    " * et possède sa propre logique - dans le cas d'une authentification par session par exemple, il faut s'authentifier une première fois avec un login/password, pour obtenir une session qu'on peut utiliser dans les appels suivants."
   ]
  },
  {
   "cell_type": "markdown",
   "metadata": {},
   "source": [
    "Pour ces raisons il est naturel de concevoir une classe `RPCProxy` dans laquelle on va rassembler à la fois ces données et cette logique, pour soulager toute l'application de ces détails, comme on l'a illustré ci-dessous&nbsp;:\n",
    "\n",
    "<img src=\"media/rpcproxy.png\">"
   ]
  },
  {
   "cell_type": "markdown",
   "metadata": {},
   "source": [
    "Pour implémenter la plomberie liée à RPC, à l'encodage et décodage des données, et qui sera interne à la classe `RPCProxy`, on pourra en vraie grandeur utiliser des outils comme&nbsp;:\n",
    " * [`xmlrpclib`](https://docs.python.org/2/library/xmlrpclib.html) qui fait partie de la librairie standard, \n",
    " * ou pour JSON, une des nombreuses implémentations qu'un moteur de recherche vous exposera si vous cherchez `python rpc json`, comme par exemple [`json-rpc`](https://pypi.python.org/pypi/json-rpc/)\n",
    "\n",
    "Cela n'est toutefois pas notre sujet ici, et nous nous contenterons, dans notre code simplifié, d'imprimer un message."
   ]
  },
  {
   "cell_type": "markdown",
   "metadata": {},
   "source": [
    "##### Une approche naïve"
   ]
  },
  {
   "cell_type": "markdown",
   "metadata": {},
   "source": [
    "Se pose donc la question de savoir quelle interface la classe `RPCProxy` doit offrir au reste du monde. Dans une première version naïve on pourrait écrire quelque chose comme&nbsp;:"
   ]
  },
  {
   "cell_type": "code",
   "execution_count": null,
   "metadata": {
    "collapsed": false
   },
   "outputs": [],
   "source": [
    "# la version naïve de la classe RPCProxy\n",
    "\n",
    "class RPCProxy(object):\n",
    "    \n",
    "    def __init__(self, url, login, password):\n",
    "        self.url = url\n",
    "        self.login = login\n",
    "        self.password = password\n",
    "        \n",
    "    def _forward_call(self, function, *args):\n",
    "        \"\"\"\n",
    "        helper method that marshalls and forwards \n",
    "        the function and arguments to the remote end\n",
    "        \"\"\"\n",
    "        print \"Envoi à {}\\nde la fonction {} -- args= {}\".\\\n",
    "            format(self.url, function, args)\n",
    "        return \"retour de la fonction \" + function\n",
    "    \n",
    "    def GetNodes (self, *args):\n",
    "        return self._forward_call ('GetNodes', *args)\n",
    "    def BookNode (self, *args):\n",
    "        return self._forward_call ('BookNode', *args)\n",
    "    def ReleaseNode (self, *args):\n",
    "        return self._forward_call ('ReleaseNode', *args)\n",
    "        "
   ]
  },
  {
   "cell_type": "markdown",
   "metadata": {},
   "source": [
    "Ainsi l'application utilise la classe de cette façon&nbsp;:"
   ]
  },
  {
   "cell_type": "code",
   "execution_count": null,
   "metadata": {
    "collapsed": false
   },
   "outputs": [],
   "source": [
    "# création d'une instance de RPCProxy\n",
    "\n",
    "rpc_proxy = RPCProxy (url='http://cloud.provider.com/JSONAPI', \n",
    "                      login='dupont',\n",
    "                      password='***')\n",
    "\n",
    "# cette partie du code, en tant qu'utilisateur de l'API, \n",
    "# est supposée connaître les détails\n",
    "# des arguments à passer \n",
    "# et de comment utiliser les valeurs de retour\n",
    "nodes_list = rpc_proxy.GetNodes ( \n",
    "    [ ('phy_mem', '>=', '32G') ] )\n",
    "\n",
    "# reserver un noeud\n",
    "node_lease = rpc_proxy.BookNode (\n",
    "    { 'id' : 1002, 'phy_mem' : '32G' } )\n"
   ]
  },
  {
   "cell_type": "markdown",
   "metadata": {},
   "source": [
    "##### Discussion"
   ]
  },
  {
   "cell_type": "markdown",
   "metadata": {},
   "source": [
    "Quelques commentaires en vrac au sujet de cette approche&nbsp;:\n",
    "\n",
    " * l'interface est correcte; l'objet `rcp_proxy` se comporte bien comme un proxy, on a donné au programmeur l'illusion complète qu'il utilise une classe locale (sauf pour les performances bien entendu...);\n",
    " * la séparation des rôles est raisonnable également, la classe RPCProxy n'a pas à connaître le détail de la signature de chaque méthode, charge à l'appelant d'utiliser l'API correctement;\n",
    " * par contre ce qui cloche, c'est que l'implémentation de la classe RPCProxy dépend de la liste des fonctions exposées par l'API; imaginez une API avec 100 ou 200 méthodes, cela donne une dépendance assez forte et surtout inutile;\n",
    "\n",
    " * enfin, nous avons escamoté la nécessité de faire de RPCProxy un [singleton](http://en.wikipedia.org/wiki/Singleton_pattern), mais c'est une toute autre histoire."
   ]
  },
  {
   "cell_type": "markdown",
   "metadata": {},
   "source": [
    "##### Une approche plus subtile"
   ]
  },
  {
   "cell_type": "markdown",
   "metadata": {},
   "source": [
    "Pour obtenir une implémentation qui conserve toutes les qualités de la version naïve, mais sans la nécessité de définir une à une toutes les fonctions de l'API, on peut tirer profit de `__getattr__`, comme dans cette deuxième version&nbsp;:"
   ]
  },
  {
   "cell_type": "code",
   "execution_count": null,
   "metadata": {
    "collapsed": false
   },
   "outputs": [],
   "source": [
    "# une deuxième implémentation de RPCProxy\n",
    "\n",
    "class RPCProxy(object):\n",
    "    \n",
    "    def __init__(self, url, login, password):\n",
    "        self.url = url\n",
    "        self.login = login\n",
    "        self.password = password\n",
    "        \n",
    "    def __getattr__(self, function):\n",
    "        \"\"\"\n",
    "        Crée à la volée une méthode sur RPCProxy qui correspond\n",
    "        à la fonction distante 'function'\n",
    "        \"\"\"\n",
    "        def forwarder(*args):\n",
    "            print \"Envoi à {}\\nde la fonction {} -- args= {}\".\\\n",
    "                format(self.url, function, args)\n",
    "            return \"retour de la fonction \" + function\n",
    "        return forwarder"
   ]
  },
  {
   "cell_type": "markdown",
   "metadata": {},
   "source": [
    "Qui est cette fois **totalement découplée** des détails de l'API, et qu'on peut utiliser exactement comme tout à l'heure&nbsp;:"
   ]
  },
  {
   "cell_type": "code",
   "execution_count": null,
   "metadata": {
    "collapsed": false
   },
   "outputs": [],
   "source": [
    "# création d'une instance de RPCProxy\n",
    "\n",
    "rpc_proxy = RPCProxy (url='http://cloud.provider.com/JSONAPI', \n",
    "                      login='dupont',\n",
    "                      password='***')\n",
    "\n",
    "# cette partie du code, en tant qu'utilisateur de l'API, \n",
    "# est supposée connaître les détails\n",
    "# des arguments à passer \n",
    "# et de comment utiliser les valeurs de retour\n",
    "nodes_list = rpc_proxy.GetNodes ( \n",
    "    [ ('phy_mem', '>=', '32G') ] )\n",
    "\n",
    "# reserver un noeud\n",
    "node_lease = rpc_proxy.BookNode (\n",
    "    { 'id' : 1002, 'phy_mem' : '32G' } )\n"
   ]
  },
  {
   "cell_type": "markdown",
   "metadata": {},
   "source": [
    "##### Exercice"
   ]
  },
  {
   "cell_type": "markdown",
   "metadata": {},
   "source": [
    "Les étudiants courageux et/ou inspirés peuvent s'amuser à reprendre cette dernière version de `RPCProxy`, mais en utilisant une classe de **callables** comme une *factory* pour générer les attributs."
   ]
  },
  {
   "cell_type": "code",
   "execution_count": null,
   "metadata": {
    "collapsed": false
   },
   "outputs": [],
   "source": [
    "# une troisième implémentation de RPCProxy\n",
    "\n",
    "class Callable:\n",
    "    \"votre code\"\n",
    "\n",
    "class RPCProxy(object):\n",
    "    \n",
    "    def __init__(self, url, login, password):\n",
    "        self.url = url\n",
    "        self.login = login\n",
    "        self.password = password\n",
    "        \n",
    "    def __getattr__ (self, function):\n",
    "        \"votre code\""
   ]
  },
  {
   "cell_type": "markdown",
   "metadata": {},
   "source": [
    "Nous ne proposons pas de correction en ligne mais vous pouvez simplement évaluer le même code&nbsp;:"
   ]
  },
  {
   "cell_type": "code",
   "execution_count": null,
   "metadata": {
    "collapsed": false
   },
   "outputs": [],
   "source": [
    "# création d'une instance de RPCProxy\n",
    "\n",
    "rpc_proxy = RPCProxy (url='http://cloud.provider.com/JSONAPI', \n",
    "                      login='dupont',\n",
    "                      password='***')\n",
    "\n",
    "# cette partie du code, en tant qu'utilisateur de l'API, \n",
    "# est supposée connaître les détails\n",
    "# des arguments à passer \n",
    "# et de comment utiliser les valeurs de retour\n",
    "nodes_list = rpc_proxy.GetNodes ( \n",
    "    [ ('phy_mem', '>=', '32G') ] )\n",
    "\n",
    "# reserver un noeud\n",
    "node_lease = rpc_proxy.BookNode (\n",
    "    { 'id' : 1002, 'phy_mem' : '32G' } )\n"
   ]
  }
 ],
 "metadata": {
  "kernelspec": {
   "display_name": "Python 2",
   "language": "python",
   "name": "python2"
  },
  "language_info": {
   "codemirror_mode": {
    "name": "ipython",
    "version": 2
   },
   "file_extension": ".py",
   "mimetype": "text/x-python",
   "name": "python",
   "nbconvert_exporter": "python",
   "pygments_lexer": "ipython2",
   "version": "2.7.12"
  },
  "notebookname": "Surcharge op. (2)",
  "version": "2.0"
 },
 "nbformat": 4,
 "nbformat_minor": 0
}