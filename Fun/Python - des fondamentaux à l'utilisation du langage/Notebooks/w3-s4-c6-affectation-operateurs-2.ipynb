{
 "cells": [
  {
   "cell_type": "markdown",
   "metadata": {},
   "source": [
    "<span style=\"float:left;\">Licence CC BY-NC-ND</span><span style=\"float:right;\">Thierry Parmentelat &amp; Arnaud Legout&nbsp;<img src=\"media/inria-25.png\" style=\"display:inline\"></span><br/>"
   ]
  },
  {
   "cell_type": "markdown",
   "metadata": {},
   "source": [
    "# Les instructions += et autres revisitées"
   ]
  },
  {
   "cell_type": "markdown",
   "metadata": {},
   "source": [
    "## Complément - niveau intermédiaire"
   ]
  },
  {
   "cell_type": "markdown",
   "metadata": {},
   "source": [
    "Nous avons vu en deuxième semaine (Séquence \"Les types numériques\") une première introduction aux instructions `+=` et ses dérivées comme `*=`, `**=`, etc."
   ]
  },
  {
   "cell_type": "markdown",
   "metadata": {},
   "source": [
    "### Ces constructions ont une définition à géométrie variable"
   ]
  },
  {
   "cell_type": "markdown",
   "metadata": {},
   "source": [
    "En C quand on utilise `+=` (ou encore `++`) on modifie la mémoire en place - historiquement, cet opérateur permettait au programmeur d'aider à l'optimisation du code pour utiliser les instructions assembleur idoines.\n",
    "\n",
    "Ces constructions en python s'inspirent clairement de C, aussi dans l'esprit ces constructions devraient fonctionner en **modifiant** l'objet référencé par la variable. \n",
    "\n",
    "Mais les types numériques en python ne sont **pas mutables**, alors que les listes le sont. Du coup le comportement de `+=` est différent selon qu'on l'utilise sur un nombre ou sur une liste. Voyons cela sur des exemples très simples."
   ]
  },
  {
   "cell_type": "code",
   "execution_count": null,
   "metadata": {
    "collapsed": false
   },
   "outputs": [],
   "source": [
    "# Premier exemple avec un entier\n",
    "\n",
    "# on commence avec une référence partagée\n",
    "a = b = 3\n",
    "a is b "
   ]
  },
  {
   "cell_type": "code",
   "execution_count": null,
   "metadata": {
    "collapsed": false
   },
   "outputs": [],
   "source": [
    "# on utilise += sur une des deux variables\n",
    "a += 1\n",
    "\n",
    "# ceci n'a pas modifié b\n",
    "# c'est normal, l'entier n'est pas mutable\n",
    "\n",
    "print a\n",
    "print b\n",
    "print a is b"
   ]
  },
  {
   "cell_type": "code",
   "execution_count": null,
   "metadata": {
    "collapsed": false
   },
   "outputs": [],
   "source": [
    "# Deuxième exemple, cette fois avec une liste\n",
    "\n",
    "# la même référence partagée\n",
    "a = b = []\n",
    "a is b"
   ]
  },
  {
   "cell_type": "code",
   "execution_count": null,
   "metadata": {
    "collapsed": false
   },
   "outputs": [],
   "source": [
    "# pareil, on fait += sur une des variables\n",
    "a += [1]\n",
    "\n",
    "# cette fois on a modifié a *et* b\n",
    "# car += a pu modifier la liste en place\n",
    "print a\n",
    "print b\n",
    "print a is b"
   ]
  },
  {
   "cell_type": "markdown",
   "metadata": {},
   "source": [
    "Vous voyez donc que la sémantique de `+=` (c'est bien entendu le cas pour toutes les autres formes d'instructions qui combinent l'affectation avec un opérateur) **est différente** suivant que l'objet référencé par le terme de gauche est **mutable ou immuable**."
   ]
  },
  {
   "cell_type": "markdown",
   "metadata": {},
   "source": [
    "Pour cette raison, c'est là une opinion personnelle, cette famille d'instructions n'est pas le trait le plus réussi dans le langage, et je ne recommande pas de l'utiliser."
   ]
  },
  {
   "cell_type": "markdown",
   "metadata": {},
   "source": [
    "### Précision sur la définition de `+=`"
   ]
  },
  {
   "cell_type": "markdown",
   "metadata": {},
   "source": [
    "Nous avions dit en première semaine, et en première approximation, que \n",
    "\n",
    "    x += y\n",
    "    \n",
    "était équivalent à \n",
    "\n",
    "    x = x + y"
   ]
  },
  {
   "cell_type": "markdown",
   "metadata": {},
   "source": [
    "Au vu de ce qui précède, on voit que ce n'est **pas tout à fait exact**, puisque&nbsp;:"
   ]
  },
  {
   "cell_type": "code",
   "execution_count": null,
   "metadata": {
    "collapsed": false
   },
   "outputs": [],
   "source": [
    "# si on fait x += y sur une liste \n",
    "# on fait un effet de bord sur la liste\n",
    "# comme on vient de le voir\n",
    "\n",
    "a = []\n",
    "print \"avant\", id(a)\n",
    "a += [1]\n",
    "print \"après\", id(a)"
   ]
  },
  {
   "cell_type": "code",
   "execution_count": null,
   "metadata": {
    "collapsed": false
   },
   "outputs": [],
   "source": [
    "# alors que si on fait x = x + y sur une liste\n",
    "# on crée un nouvel objet liste\n",
    "\n",
    "a = []\n",
    "print \"avant\", id(a)\n",
    "a = a + [1]\n",
    "print \"après\", id(a)"
   ]
  },
  {
   "cell_type": "markdown",
   "metadata": {},
   "source": [
    "Vous voyez donc que vis-à-vis des références partagées, ces deux façons de faire mènent à un résultat différent. "
   ]
  }
 ],
 "metadata": {
  "kernelspec": {
   "display_name": "Python 2",
   "language": "python",
   "name": "python2"
  },
  "notebookname": "+= revisité",
  "version": "2.0"
 },
 "nbformat": 4,
 "nbformat_minor": 0
}