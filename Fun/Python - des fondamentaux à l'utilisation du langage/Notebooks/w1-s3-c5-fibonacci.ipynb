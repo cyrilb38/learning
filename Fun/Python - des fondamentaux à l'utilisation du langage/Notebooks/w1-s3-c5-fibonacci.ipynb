{
 "cells": [
  {
   "cell_type": "markdown",
   "metadata": {},
   "source": [
    "<span style=\"float:left;\">Licence CC BY-NC-ND</span><span style=\"float:right;\">Thierry Parmentelat &amp; Arnaud Legout&nbsp;<img src=\"media/inria-25.png\" style=\"display:inline\"></span><br/>"
   ]
  },
  {
   "cell_type": "markdown",
   "metadata": {},
   "source": [
    "# La suite de Fibonacci (suite)"
   ]
  },
  {
   "cell_type": "markdown",
   "metadata": {},
   "source": [
    "## Complément - niveau intermédiaire"
   ]
  },
  {
   "cell_type": "markdown",
   "metadata": {},
   "source": [
    "Nous reprenons le cas de la fonction `fibonacci` que nous avons vue déjà, mais cette fois nous voulons que l'utilisateur puisse entrer l'entier en entrée de l'algorithme, non plus en répondant une question, mais sur la ligne de commande, c'est-à-dire en tapant\n",
    "\n",
    "    $ python fibonacci.py 12"
   ]
  },
  {
   "cell_type": "markdown",
   "metadata": {},
   "source": [
    "**Avertissement** \n",
    "Attention cette version-ci **ne fonctionne pas dans ce notebook** sous IPython, justement car on n'a pas de moyen dans un notebook d'invoquer un programme en lui passant des arguments de cette façon. Ce notebook est rédigé pour vous permettre de vous entraîner avec la fonction de téléchargement au format python, qu'on a vu dans la vidéo, et de faire tourner ce programme sur votre propre ordinateur."
   ]
  },
  {
   "cell_type": "markdown",
   "metadata": {},
   "source": [
    "Cette fois nous importons le module `argparse` qui va nous permettre d'interpréter les arguments passés à la ligne de commande"
   ]
  },
  {
   "cell_type": "code",
   "execution_count": null,
   "metadata": {
    "collapsed": false
   },
   "outputs": [],
   "source": [
    "from argparse import ArgumentParser"
   ]
  },
  {
   "cell_type": "markdown",
   "metadata": {},
   "source": [
    "Puis nous répétons la fonction `fibonacci`"
   ]
  },
  {
   "cell_type": "code",
   "execution_count": null,
   "metadata": {
    "collapsed": false
   },
   "outputs": [],
   "source": [
    "def fibonacci(n):\n",
    "    \"retourne le nombre de fibonacci pour l'entier n\"\n",
    "    # pour les petites valeurs de n il n'y a rien a calculer\n",
    "    if n <= 1: \n",
    "        return 1\n",
    "    # sinon on initialise f1 pour n-1 et f2 pour n-2\n",
    "    f2, f1 = 1, 1\n",
    "    # et on itère n-1 fois pour additionner\n",
    "    for i in range(2, n + 1):\n",
    "        f2, f1 = f1, f1 + f2\n",
    "#        print i, f2, f1\n",
    "    # le résultat est dans f1\n",
    "    return f1"
   ]
  },
  {
   "cell_type": "markdown",
   "metadata": {},
   "source": [
    "*Remarque* Certains d'entre vous auront évidemment remarqué qu'on aurait pu éviter de copier-coller la fonction `fibonacci` comme cela; c'est à ça que servent les modules mais nous n'en sommes pas là."
   ]
  },
  {
   "cell_type": "markdown",
   "metadata": {},
   "source": [
    "À présent nous utilisons le module `argparse` pour lui dire qu'on attend exactement un argument sur la ligne de commande, qui doit être un entier. Ici encore ne vous inquiétez pas si vous ne comprenez pas tout le code, l'objectif est de vous donner un morceau de code utilisable tout de suite pour jouer avec les notebooks."
   ]
  },
  {
   "cell_type": "code",
   "execution_count": null,
   "metadata": {
    "collapsed": false
   },
   "outputs": [],
   "source": [
    "parser = ArgumentParser()\n",
    "parser.add_argument(dest=\"entier\", type=int, \n",
    "                    help=\"entier d'entree\")\n",
    "input_args = parser.parse_args()\n",
    "entier = input_args.entier"
   ]
  },
  {
   "cell_type": "markdown",
   "metadata": {},
   "source": [
    "Nous pouvons à présent afficher le résultat"
   ]
  },
  {
   "cell_type": "code",
   "execution_count": null,
   "metadata": {
    "collapsed": false
   },
   "outputs": [],
   "source": [
    "print \"fibonacci({}) = {}\".format(entier, fibonacci(entier))"
   ]
  },
  {
   "cell_type": "markdown",
   "metadata": {},
   "source": [
    "Vous pouvez donc à présent\n",
    " * télécharger ce code sur votre disque comme un fichier `fibonacci.py` en utilisant le menu *\"File -> Download as -> python\"*\n",
    " * l'exécuter avec simplement python comme ceci\n",
    " \n",
    "     `$ python fibonacci.py 56` "
   ]
  }
 ],
 "metadata": {
  "kernelspec": {
   "display_name": "Python 2",
   "language": "python",
   "name": "python2"
  },
  "notebookname": "Fibonacci (suite)",
  "version": "2.0"
 },
 "nbformat": 4,
 "nbformat_minor": 0
}