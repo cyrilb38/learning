{
 "cells": [
  {
   "cell_type": "markdown",
   "metadata": {},
   "source": [
    "<span style=\"float:left;\">Licence CC BY-NC-ND</span><span style=\"float:right;\">Thierry Parmentelat &amp; Arnaud Legout&nbsp;<img src=\"media/inria-25.png\" style=\"display:inline\"></span><br/>"
   ]
  },
  {
   "cell_type": "markdown",
   "metadata": {},
   "source": [
    "# Expressions régulières"
   ]
  },
  {
   "cell_type": "markdown",
   "metadata": {},
   "source": [
    "Nous vous proposons dans ce notebook quelques exercices sur les expressions régulières. Faisons quelques remarques avant de commencer&nbsp;:\n",
    " * nous nous concentrons sur l'écriture de l'expression régulière en elle-même, et pas sur l'utilisation de la librairie&nbsp;; \n",
    " * en particulier, tous les exercices font appel à `re.match` entre votre *regexp* et une liste de chaînes d'entrée qui servent de jeux de test - ce qui signifie notamment que vous pouvez ou pas commencer votre regexp par le caractère `^`, cela ne changera rien au résultat de la correction, puisqu'en utilisant `match` on impose que la correspondance doit avoir lieu au debut de la chaîne."
   ]
  },
  {
   "cell_type": "markdown",
   "metadata": {},
   "source": [
    "##### Liens utiles"
   ]
  },
  {
   "cell_type": "markdown",
   "metadata": {},
   "source": [
    "Pour travailler sur ces exercices, vous pouvez profitablement avoir sous la main&nbsp;:\n",
    " * la [documentation officielle](https://docs.python.org/2/library/re.html#regular-expression-syntax),\n",
    " * et [cet outil interactif sur regexp101.com](http://regex101.com/#python) qui permet d'avoir un retour presque immédiat, et donc d'accélérer la mise au point."
   ]
  },
  {
   "cell_type": "markdown",
   "metadata": {},
   "source": [
    "## Exercice - niveau basique"
   ]
  },
  {
   "cell_type": "markdown",
   "metadata": {},
   "source": [
    "##### Identificateurs python"
   ]
  },
  {
   "cell_type": "markdown",
   "metadata": {},
   "source": [
    "Écrivez une expression régulière qui décrit ce qu'on peut utiliser comme nom de variable en python."
   ]
  },
  {
   "cell_type": "code",
   "execution_count": null,
   "metadata": {
    "collapsed": false
   },
   "outputs": [],
   "source": [
    "# quelques exemples\n",
    "from corrections.w6s6_regexp import exo_pythonid\n",
    "exo_pythonid.example()"
   ]
  },
  {
   "cell_type": "code",
   "execution_count": null,
   "metadata": {
    "collapsed": false
   },
   "outputs": [],
   "source": [
    "regexp_pythonid = \"<votre_code>\""
   ]
  },
  {
   "cell_type": "code",
   "execution_count": null,
   "metadata": {
    "collapsed": false
   },
   "outputs": [],
   "source": [
    "# pour valider votre code\n",
    "exo_pythonid.correction(regexp_pythonid)"
   ]
  },
  {
   "cell_type": "markdown",
   "metadata": {},
   "source": [
    "## Exercice - niveau intermédiaire"
   ]
  },
  {
   "cell_type": "markdown",
   "metadata": {},
   "source": [
    "##### Méthodes spéciales"
   ]
  },
  {
   "cell_type": "markdown",
   "metadata": {},
   "source": [
    "Nous avons vu la semaine passée les méthodes spéciales utilisées par python pour vous permettre de redéfinir le comportement du langage avec les objets de vos classes.\n",
    "\n",
    "Le but de cet exercice est d'écrire une expression régulière qui décrive une classe de noms de méthodes, susceptibles d'être considérés comme des noms de méthodes spéciales."
   ]
  },
  {
   "cell_type": "markdown",
   "metadata": {},
   "source": [
    "Pour préciser l'exercice, on recherche des noms de méthodes qui doivent&nbsp;:\n",
    " 1. commencer par exactement deux underscores (appelés également tirets-bas) `_`,\n",
    " 1. se terminer par exactement deux underscores,\n",
    " 1. contenir dans la partie centrale un identificateur qui pourrait être un identificateur python (mais qui pour respecter les deux premiers points ne peut pas commencer ou finir par un underscore)"
   ]
  },
  {
   "cell_type": "code",
   "execution_count": null,
   "metadata": {
    "collapsed": false
   },
   "outputs": [],
   "source": [
    "# quelques exemples\n",
    "from corrections.w6s6_regexp import exo_specials\n",
    "exo_specials.example()"
   ]
  },
  {
   "cell_type": "code",
   "execution_count": null,
   "metadata": {
    "collapsed": false
   },
   "outputs": [],
   "source": [
    "regexp_specials = \"<votre_regexp>\""
   ]
  },
  {
   "cell_type": "code",
   "execution_count": null,
   "metadata": {
    "collapsed": false
   },
   "outputs": [],
   "source": [
    "# validation\n",
    "exo_specials.correction(regexp_specials)"
   ]
  },
  {
   "cell_type": "markdown",
   "metadata": {},
   "source": [
    "## Exercice - niveau avancé"
   ]
  },
  {
   "cell_type": "markdown",
   "metadata": {},
   "source": [
    "Vu comment sont conçus les exercices, vous ne pouvez pas passer à `re.compile` un *flag* comme `re.IGNORECASE` ou autre&nbsp;; sachez cependant que vous pouvez ***embarquer* ces flags dans la *regexp*** elle-même&nbsp;; par exemple pour rendre la regexp insensible à la casse de caractères, au lieu d'appeler `re.compile` avec le flag `re.I`, vous pouvez utiliser `(?i)` comme ceci&nbsp;:"
   ]
  },
  {
   "cell_type": "code",
   "execution_count": null,
   "metadata": {
    "collapsed": false
   },
   "outputs": [],
   "source": [
    "import re\n",
    "re.match(\"(?i)abc\",\"ABC\").group(0)"
   ]
  },
  {
   "cell_type": "markdown",
   "metadata": {},
   "source": [
    "Remarquez bien que l'emplacement où vous ajoutez le *flag* dans la * regexp* n'a pas d'importance en général (lire la doc pour le flag `x`), le flag agit toujours sur toute la *regexp*."
   ]
  },
  {
   "cell_type": "code",
   "execution_count": null,
   "metadata": {
    "collapsed": false
   },
   "outputs": [],
   "source": [
    "re.match(\"abc(?i)\",\"ABC\").group(0)"
   ]
  },
  {
   "cell_type": "markdown",
   "metadata": {},
   "source": [
    "Pour plus de précisions sur ce trait, que nous avons laissé de coté dans le complément pour ne pas trop l'alourdir, voyez [la documentation sur les expressions régulières](https://docs.python.org/2/library/re.html#regular-expression-syntax) et cherchez la première occurrence de `iLmsux`."
   ]
  },
  {
   "cell_type": "markdown",
   "metadata": {},
   "source": [
    "### Décortiquer une URL"
   ]
  },
  {
   "cell_type": "markdown",
   "metadata": {},
   "source": [
    "On vous demande d'écrire une expression régulière qui permette d'analyser des URLs. \n",
    "\n",
    "Voici les conventions que nous avons adoptées pour l'exercice&nbsp;:\n",
    " * la chaîne contient les parties suivantes\n",
    "   * `<protocol>://<location>/<path>`\n",
    " * l'url commence par le nom d'un protocole qui doit être parmi `http`, `https`, `ftp`, `ssh`\n",
    " * le nom du protocole peut contenir de manière indifférente des minuscules ou des majuscules,\n",
    " * ensuite doit venir la séquence `://`\n",
    " * ensuite on va trouver une chaîne `<location>` qui contient&nbsp;:\n",
    "   * potentiellement un nom d'utilisateur, et s'il est présent, potentiellement un mot de passe,\n",
    "   * obligatoirement un nom de `hostname`,\n",
    "   * potentiellement un numéro de port;\n",
    " * lorsque les 4 parties sont présentes dans `<location>`, cela se présente comme ceci&nbsp;:\n",
    "   * `<location> = <user>:<password>@<hostname>:<port>`\n",
    " * si l'on note entre crochets les parties optionnelles, cela donne&nbsp;:\n",
    "   * `<location> = [<user>[:<password>]@]<hostname>[:<port>]`\n",
    " * le champ `<user>` ne peut contenir que des caractères alphanumériques; si le `@` est présent le champ `<user>` ne peut pas être vide\n",
    " * le champ `<password>` peut contenir tout sauf un `:` et de même, si le `:` est présent le champ `<password>` ne peut pas être vide\n",
    " * le champ `<hostname>` peut contenir un suite non-vide de caractères alphanumériques, underscores, ou `.`\n",
    " * le champ `<port>` ne contient que des chiffres, et il est non vide si le `:` est spécifié\n",
    " * le champ `<path>` peut être vide.\n",
    " \n",
    "   \n",
    "Enfin, vous devez définir les groupes `proto`, `user`, `password`, `hostname`, `port` et `path` qui sont utilisés pour vérifier votre résultat. Dans la case `Résultat attendu`, vous trouverez soit `None` si la regexp ne filtre pas l'intégralité de l'entrée, ou bien une liste ordonnée de tuples qui donnent la valeur de ces groupes&nbsp;; vous n'avez rien à faire pour construire ces tuples, c'est l'exercice qui s'en occupe."
   ]
  },
  {
   "cell_type": "code",
   "execution_count": null,
   "metadata": {
    "collapsed": false
   },
   "outputs": [],
   "source": [
    "from corrections.w6s6_regexp import exo_url"
   ]
  },
  {
   "cell_type": "code",
   "execution_count": null,
   "metadata": {
    "collapsed": false
   },
   "outputs": [],
   "source": [
    "exo_url.example()"
   ]
  },
  {
   "cell_type": "code",
   "execution_count": null,
   "metadata": {
    "collapsed": false
   },
   "outputs": [],
   "source": [
    "# n'hésitez pas à construire votre regexp petit à petit\n",
    "\n",
    "regexp_url = \"<votre_regexp>\""
   ]
  },
  {
   "cell_type": "code",
   "execution_count": null,
   "metadata": {
    "collapsed": false
   },
   "outputs": [],
   "source": [
    "exo_url.correction(regexp_url)"
   ]
  }
 ],
 "metadata": {
  "kernelspec": {
   "display_name": "Python 2",
   "language": "python",
   "name": "python2"
  },
  "notebookname": "Expressions régulières",
  "version": "2.0"
 },
 "nbformat": 4,
 "nbformat_minor": 0
}