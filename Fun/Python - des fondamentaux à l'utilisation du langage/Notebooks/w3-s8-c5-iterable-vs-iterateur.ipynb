{
 "cells": [
  {
   "cell_type": "markdown",
   "metadata": {},
   "source": [
    "<span style=\"float:left;\">Licence CC BY-NC-ND</span><span style=\"float:right;\">Thierry Parmentelat &amp; Arnaud Legout&nbsp;<img src=\"media/inria-25.png\" style=\"display:inline\"></span><br/>"
   ]
  },
  {
   "cell_type": "markdown",
   "metadata": {},
   "source": [
    "# Itérable et itérateur"
   ]
  },
  {
   "cell_type": "markdown",
   "metadata": {},
   "source": [
    "## Complément - niveau basique"
   ]
  },
  {
   "cell_type": "markdown",
   "metadata": {},
   "source": [
    "Nous résumons dans ce complément les notions d'itérable et d'itérateur."
   ]
  },
  {
   "cell_type": "markdown",
   "metadata": {},
   "source": [
    "### Itérable"
   ]
  },
  {
   "cell_type": "markdown",
   "metadata": {},
   "source": [
    "On appelle **itérable** un objet qui peut être **l'objet d'une boucle `for`**\n",
    "\n",
    "Pour qu'un objet soit itérable il faut  \n",
    " * qu'il dispose d'une méthode `__iter__()` qui renvoie un **itérateur**\n",
    " * ou qu'il dispose d'une méthode `__getitem__()` qui permette un accès séquentiel par des indices commençant à 0. \n",
    "    \n",
    "Le second point s'applique à quelques types builtin comme `str` (qui donc n'a pas de méthode `__iter__()`), mais en règle générale on est dans le premier cas, et nous y reviendrons en semaine 6 lorsque nous verrons comment rendre nos objets itérables."
   ]
  },
  {
   "cell_type": "markdown",
   "metadata": {},
   "source": [
    "### Itérateur"
   ]
  },
  {
   "cell_type": "markdown",
   "metadata": {},
   "source": [
    "Un itérateur est donc **attaché à un itérable**, et sa fonction est de **mémoriser l'état d'une itération** sur cet itérable.\n",
    "\n",
    "La façon usuelle d'implémenter un itérable consiste à exposer une méthode `next()` qui renvoie l'item suivant à balayer lors de l'itération, et qui lève l'exception `StopIteration` si on se trouve en fin de boucle.\n",
    "\n",
    "Notez qu'en python3 on a renommé `next` en `__next__`, ce qui est plus en accord avec la convention de nommage des méthodes qui permettent de redéfinir le comportement du langage sur des types utilisateur."
   ]
  },
  {
   "cell_type": "markdown",
   "metadata": {},
   "source": [
    "### Résumé"
   ]
  },
  {
   "cell_type": "markdown",
   "metadata": {},
   "source": [
    " * Pour pouvoir faire une boucle `for` sur un objet `spam`, il faut que `spam` soit **itérable**, c'est-à-dire que `spam` a une méthode`__iter__()` qui renvoie un itérateur; l'**itérateur** doit implémenter une méthode `next()` qui renvoie l'élément suivant dans la boucle ou lève l'exception `StopIteration` s'il n'y a plus d'éléments à renvoyer. "
   ]
  },
  {
   "cell_type": "markdown",
   "metadata": {},
   "source": [
    " * L'**itérateur** est l'objet en charge de conserver l'état de la boucle sur l'itérable, mais rien n'empêche un objet d'être son propre itérateur. Cependant, lorsqu'on fait ce choix, il n'est pas possible - comme on le verra plus tard - d'écrire deux boucles imbriquées sur le même objet, puisqu'on ne dispose que d'un seul itérateur pour mémoriser l'état de deux boucles.  C'est pourquoi les types *builtin* itérables ont tous leurs itérateurs implémentés sous la forme d'un objet distinct (sauf, comme on le verra bientôt, dans le cas des fichiers)."
   ]
  },
  {
   "cell_type": "markdown",
   "metadata": {},
   "source": [
    "## Complément - niveau avancé"
   ]
  },
  {
   "cell_type": "markdown",
   "metadata": {},
   "source": [
    "Pour terminer, signalons que pour rendre tout le modèle clos, on décide par convention qu'un **itérateur** doit toujours pouvoir **être utilisé comme un itérable** - dit plus simplement, on peut faire une boucle sur un itérable ou sur son itérateur.\n",
    "\n",
    "Pour la cohérence de l'ensemble on décide donc qu'un itérateur, dans le cas où il est un objet distinct de l'itérable, doit également implémenter la méthode `__iter__()` qui retourne l'itérateur lui-même. "
   ]
  },
  {
   "cell_type": "markdown",
   "metadata": {},
   "source": [
    "Voyons tout ceci sur un exemple simple"
   ]
  },
  {
   "cell_type": "code",
   "execution_count": 1,
   "metadata": {
    "collapsed": false
   },
   "outputs": [
    {
     "name": "stdout",
     "output_type": "stream",
     "text": [
      "False\n"
     ]
    }
   ],
   "source": [
    "iterable = range(2)\n",
    "\n",
    "# on calcule un itérateur pour la liste\n",
    "iterator = iterable.__iter__()\n",
    "\n",
    "# ce n'est pas l'objet liste lui même\n",
    "print iterator is iterable"
   ]
  },
  {
   "cell_type": "code",
   "execution_count": 2,
   "metadata": {
    "collapsed": false
   },
   "outputs": [
    {
     "name": "stdout",
     "output_type": "stream",
     "text": [
      "True\n"
     ]
    }
   ],
   "source": [
    "# vérifions si cet itérateur est itérable:\n",
    "# il a une méthode __iter__() \n",
    "# et il se trouve qu'elle renvoie bien l'iterateur lui-même\n",
    "print iterator.__iter__() is iterator"
   ]
  },
  {
   "cell_type": "code",
   "execution_count": 3,
   "metadata": {
    "collapsed": false
   },
   "outputs": [
    {
     "name": "stdout",
     "output_type": "stream",
     "text": [
      "iterable 0\n",
      "iterable 1\n",
      "iterator 0\n",
      "iterator 1\n"
     ]
    }
   ],
   "source": [
    "# l'itérateur est bien itérable;\n",
    "# ce qui fait qu'on peut aussi bien faire une boucle sur l'iterable lui-même\n",
    "for i in iterable:\n",
    "    print 'iterable', i\n",
    "\n",
    "# que sur l'iterateur\n",
    "for i in iterator:\n",
    "    print 'iterator', i"
   ]
  },
  {
   "cell_type": "markdown",
   "metadata": {},
   "source": [
    "Il y a une différence de taille toutefois, c'est qu'à chaque fois qu'on fait une boucle sur l'itérable on rappelle `__iter__()`, ce qui a pour résultat de créer un nouvel itérateur:"
   ]
  },
  {
   "cell_type": "code",
   "execution_count": 4,
   "metadata": {
    "collapsed": false
   },
   "outputs": [
    {
     "name": "stdout",
     "output_type": "stream",
     "text": [
      "iterable 0 x 0\n",
      "iterable 0 x 1\n",
      "iterable 1 x 0\n",
      "iterable 1 x 1\n"
     ]
    }
   ],
   "source": [
    "# on peut imbriquer deux boucles sur la liste - l'itérable \n",
    "for i in iterable:\n",
    "    for j in iterable:\n",
    "        print 'iterable', i, 'x', j"
   ]
  },
  {
   "cell_type": "code",
   "execution_count": 5,
   "metadata": {
    "collapsed": false
   },
   "outputs": [
    {
     "name": "stdout",
     "output_type": "stream",
     "text": [
      "iterator 0 x 1\n"
     ]
    }
   ],
   "source": [
    "# si on fait la même chose avec un iterateur\n",
    "# que l'on crée à la main, on a une mauvaise surprise\n",
    "iterator = iterable.__iter__()\n",
    "for i in iterator:\n",
    "    for j in iterator:\n",
    "        print 'iterator', i, 'x', j        "
   ]
  },
  {
   "cell_type": "markdown",
   "metadata": {},
   "source": [
    "En fait, l'iterateur a été mis à contribution deux fois et a signalé la fin de la boucle."
   ]
  },
  {
   "cell_type": "markdown",
   "metadata": {},
   "source": [
    "##### Épilogue"
   ]
  },
  {
   "cell_type": "markdown",
   "metadata": {},
   "source": [
    "Tous ces exemples visent uniquement à décortiquer en profondeur le fonctionnement de la boucle `for` et des itérateurs."
   ]
  },
  {
   "cell_type": "markdown",
   "metadata": {},
   "source": [
    "En pratique, **on n'appelle pas soi-même** `__iter__()`, c'est la boucle `for`, par exemple, qui crée l'itérateur. \n",
    "\n",
    "Dans l'exemple \n",
    "\n",
    "    for i in iterable:\n",
    "        for j in iterable:\n",
    "            print 'iterable', i, 'x', j\n",
    "\n",
    "les deux boucles `for` créent chacune leur itérateur, un pour `i` et un pour `j`, on n'a besoin de s'occuper de rien et tout fonctionne comme souhaité."
   ]
  }
 ],
 "metadata": {
  "kernelspec": {
   "display_name": "Python 2",
   "language": "python",
   "name": "python2"
  },
  "language_info": {
   "codemirror_mode": {
    "name": "ipython",
    "version": 2
   },
   "file_extension": ".py",
   "mimetype": "text/x-python",
   "name": "python",
   "nbconvert_exporter": "python",
   "pygments_lexer": "ipython2",
   "version": "2.7.11"
  },
  "notebookname": "Itérateur et itérable",
  "version": "2.0"
 },
 "nbformat": 4,
 "nbformat_minor": 0
}
