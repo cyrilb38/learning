{
 "cells": [
  {
   "cell_type": "markdown",
   "metadata": {},
   "source": [
    "<span style=\"float:left;\">Licence CC BY-NC-ND</span><span style=\"float:right;\">Thierry Parmentelat &amp; Arnaud Legout&nbsp;<img src=\"media/inria-25.png\" style=\"display:inline\"></span><br/>"
   ]
  },
  {
   "cell_type": "markdown",
   "metadata": {},
   "source": [
    "# Les fichiers"
   ]
  },
  {
   "cell_type": "markdown",
   "metadata": {},
   "source": [
    "## Complément - niveau basique"
   ]
  },
  {
   "cell_type": "markdown",
   "metadata": {},
   "source": [
    "Voici quelques utilisations habituelles du type `file` en python"
   ]
  },
  {
   "cell_type": "markdown",
   "metadata": {},
   "source": [
    "### Avec un *context manager*"
   ]
  },
  {
   "cell_type": "markdown",
   "metadata": {},
   "source": [
    "Nous avons vu dans la vidéo les mécanismes de base sur les fichiers. Nous avons vu notamment qu'il est important de bien fermer un fichier après usage.\n",
    "\n",
    "Dans la pratique, il est recommandé de **toujours** utiliser l'instruction `with`, que nous approfondirons en semaine 6. Dans l'immédiat notez qu'au lieu de faire"
   ]
  },
  {
   "cell_type": "code",
   "execution_count": null,
   "metadata": {
    "collapsed": false
   },
   "outputs": [],
   "source": [
    "# la méthode \"de bas niveau\" n'est plus recommandée \n",
    "# depuis l'introduction de l'instruction 'with'\n",
    "sortie = open(\"s1.txt\", \"w\")\n",
    "for i in range(2):\n",
    "    sortie.write(\"{}\\n\".format(i))\n",
    "sortie.close()"
   ]
  },
  {
   "cell_type": "markdown",
   "metadata": {},
   "source": [
    "**On fera plutôt**"
   ]
  },
  {
   "cell_type": "code",
   "execution_count": null,
   "metadata": {
    "collapsed": false
   },
   "outputs": [],
   "source": [
    "# de cette manière, on garantit la fermeture du fichier\n",
    "with open(\"s1.txt\", \"w\") as sortie:\n",
    "    for i in range(2):\n",
    "        sortie.write(\"{}\\n\".format(i))"
   ]
  },
  {
   "cell_type": "markdown",
   "metadata": {},
   "source": [
    "Depuis son introduction dans python-2.5, cette forme est devenue très populaire car elle présente le gros avantage de **garantir** que le fichier sera **bien fermé**, et cela même si une exception devait être levée à l'intérieur du bloc `with`. Et marginalement le code est plus lisible dans cette deuxième forme."
   ]
  },
  {
   "cell_type": "markdown",
   "metadata": {},
   "source": [
    "### Les modes d'ouverture"
   ]
  },
  {
   "cell_type": "markdown",
   "metadata": {},
   "source": [
    "Les modes d'ouverture les plus utilisés sont\n",
    " * `'r'` (la chaîne contenant l'unique caractère `r`) pour ouvrir un fichier en lecture seulement;\n",
    " * `'w'` en écriture seulement; le contenu précédent du fichier, s'il existait, est perdu;\n",
    " * `'a'` en écriture seulement, mais pour ajouter du contenu à la fin de fichier.\n"
   ]
  },
  {
   "cell_type": "markdown",
   "metadata": {},
   "source": [
    "Voici par exemple comment on pourrait ajouter du texte dans le fichier `s1.txt` qui devrait, à ce stade contenir 2 entiers"
   ]
  },
  {
   "cell_type": "code",
   "execution_count": null,
   "metadata": {
    "collapsed": false
   },
   "outputs": [],
   "source": [
    "# on ouvre le fichier en mode 'a' comme append - ou ajouter\n",
    "with open(\"s1.txt\", \"a\") as sortie:\n",
    "    for i in range(100, 102):\n",
    "        sortie.write(\"{}\\n\".format(i))\n",
    "\n",
    "# maintenant on regarde ce que contient le fichier\n",
    "with open(\"s1.txt\") as entree: # remarquez que sans 'mode', on ouvre en lecture seule\n",
    "    for line in entree:\n",
    "        # comme line contient deja la fin de ligne\n",
    "        # on ajoute une virgule pour eviter une deuxieme fin de ligne\n",
    "        print line,               "
   ]
  },
  {
   "cell_type": "markdown",
   "metadata": {},
   "source": [
    "Il existe de nombreuses variantes au mode d'ouverture, pour par exemple:\n",
    " * ouvrir le fichier en lecture et en écriture,\n",
    " * ouvrir le fichier en mode binaire,\n",
    " * utiliser le mode dit *universal newlines* qui permet de s'affranchir des différences de fin de ligne entre les fichiers produits sur, d'une part linux et MacOS, et d'autre part Windows.\n",
    "\n",
    "Ces variantes sont décrites dans [la section sur la fonction built-in `open`](https://docs.python.org/2/library/functions.html#open) dans la documentation python."
   ]
  },
  {
   "cell_type": "markdown",
   "metadata": {},
   "source": [
    "### Comment lire un contenu (haut niveau)"
   ]
  },
  {
   "cell_type": "markdown",
   "metadata": {},
   "source": [
    "Les fichiers textuels classiques se lisent en général, comme on vient d'ailleurs de le faire, avec une simple boucle `for` sur l'objet fichier, qui itère sur les lignes du fichier. Cette méthode est **recommandée** car elle est **efficace**, et n'implique pas notamment de charger l'intégralité du fichier en mémoire."
   ]
  },
  {
   "cell_type": "markdown",
   "metadata": {},
   "source": [
    "On trouve aussi, dans du code plus ancien, l'appel à la méthode `readlines` qui renvoie une liste de lignes:"
   ]
  },
  {
   "cell_type": "code",
   "execution_count": null,
   "metadata": {
    "collapsed": false
   },
   "outputs": [],
   "source": [
    "# il faut éviter cette forme qu'on peut trouver dans du code ancien\n",
    "with open(\"s1.txt\") as entree:\n",
    "    for line in entree.readlines():\n",
    "        print line,"
   ]
  },
  {
   "cell_type": "markdown",
   "metadata": {},
   "source": [
    "Vous remarquerez cependant que cette méthode implique de **charger l'intégralité** du fichier en mémoire. Similairement à la discussion que nous avons eue en fin de semaine 3 sur les itérateurs et la performance, ici aussi l'utilisation du fichier comme un itérateur est de loin préférable."
   ]
  },
  {
   "cell_type": "markdown",
   "metadata": {},
   "source": [
    "## Complément - niveau intermédiaire"
   ]
  },
  {
   "cell_type": "markdown",
   "metadata": {},
   "source": [
    "### Un fichier est un itérateur"
   ]
  },
  {
   "cell_type": "markdown",
   "metadata": {},
   "source": [
    "Pendant que l'on parle d'itérateur, remarquons qu'un fichier - qui donc **est itérable** puisqu'on peut le lire par une boucle `for` - est aussi **son propre itérateur**:"
   ]
  },
  {
   "cell_type": "code",
   "execution_count": null,
   "metadata": {
    "collapsed": false
   },
   "outputs": [],
   "source": [
    "# un fichier est son propre itérateur"
   ]
  },
  {
   "cell_type": "code",
   "execution_count": null,
   "metadata": {
    "collapsed": false
   },
   "outputs": [],
   "source": [
    "with open(\"s1.txt\") as entree:\n",
    "    print entree.__iter__() is entree"
   ]
  },
  {
   "cell_type": "markdown",
   "metadata": {},
   "source": [
    "Dans le prolongement de la discussion sur les itérateurs et les itérables en fin de semaine 3, nous vous rappelons que tous les autres types de base que nous avons vus jusqu'ici ont leur itérateurs implémentés comme des objets séparés. Nous avions à l'époque souligné que ce choix permettait notamment de réaliser deux boucles imbriquées sur la même liste."
   ]
  },
  {
   "cell_type": "code",
   "execution_count": null,
   "metadata": {
    "collapsed": false
   },
   "outputs": [],
   "source": [
    "# deux boucles imbriquées sur la même liste fonctionnent comme attendu\n",
    "liste = [1, 2]\n",
    "for i in liste:\n",
    "    for j in liste:\n",
    "        print i, \"x\", j"
   ]
  },
  {
   "cell_type": "markdown",
   "metadata": {},
   "source": [
    "Par contre, écrire deux boucles `for` imbriquées sur **le même objet fichier** ne **fonctionnerait pas** comme on pourrait s'y attendre :"
   ]
  },
  {
   "cell_type": "code",
   "execution_count": null,
   "metadata": {
    "collapsed": false
   },
   "outputs": [],
   "source": [
    "# Si on essaie d'écrire deux boucles imbriquées\n",
    "# sur le même objet fichier, le résultat est inattendu\n",
    "with open(\"s1.txt\") as entree:\n",
    "    for l1 in entree:\n",
    "        # on enleve les fins de ligne\n",
    "        l1 = l1.strip()\n",
    "        for l2 in entree:\n",
    "            # on enleve les fins de ligne\n",
    "            l2 = l2.strip()\n",
    "            print l1, \"x\", l2"
   ]
  },
  {
   "cell_type": "markdown",
   "metadata": {},
   "source": [
    "### Autres méthodes"
   ]
  },
  {
   "cell_type": "markdown",
   "metadata": {},
   "source": [
    "Vous pouvez également accéder à des fonctions de beaucoup plus bas niveau, notamment celle fournies directement par le système d'exploitation; nous allons en décrire deux parmi les plus utiles."
   ]
  },
  {
   "cell_type": "markdown",
   "metadata": {},
   "source": [
    "##### Lire un contenu - bas niveau"
   ]
  },
  {
   "cell_type": "markdown",
   "metadata": {},
   "source": [
    "La méthode `read()` permet de lire dans le fichier un buffer d'une certaine taille:"
   ]
  },
  {
   "cell_type": "code",
   "execution_count": null,
   "metadata": {
    "collapsed": false
   },
   "outputs": [],
   "source": [
    "# lire dans le fichier deux blocs de 4 caractères\n",
    "with open(\"s1.txt\") as entree:\n",
    "    for bloc in xrange(2):\n",
    "        print \"Bloc {} >>{}<<\".format(bloc, entree.read(4))\n"
   ]
  },
  {
   "cell_type": "markdown",
   "metadata": {},
   "source": [
    "Le premier bloc contient bien 4 caractères si on compte les deux sauts de ligne\n",
    "\n",
    "    Bloc1 = \"0\\n1\\n\"\n",
    "\n",
    "Le second bloc contient quant à lui\n",
    "\n",
    "    Bloc2 = \"100\\n\"\n",
    "\n",
    "*****"
   ]
  },
  {
   "cell_type": "markdown",
   "metadata": {},
   "source": [
    "Avec la méthode `read` mais sans argument, on peut lire tout le fichier d'un coup - mais là encore prenez garde à l'utilisation de la mémoire"
   ]
  },
  {
   "cell_type": "code",
   "execution_count": null,
   "metadata": {
    "collapsed": false
   },
   "outputs": [],
   "source": [
    "with open(\"s1.txt\") as entree:\n",
    "    contenu = entree.read()\n",
    "    print \"Dans un contenu de longueur {} \" \\\n",
    "          \"on a trouvé {} occurrences de 0\" \\\n",
    "          .format(len(contenu), contenu.count('0'))"
   ]
  },
  {
   "cell_type": "markdown",
   "metadata": {},
   "source": [
    "##### La méthode `flush`"
   ]
  },
  {
   "cell_type": "markdown",
   "metadata": {},
   "source": [
    "Les entrées-sortie sur fichier sont bien souvent *bufferisées* par le système d'exploitation. Cela signifie qu'un appel à `write` ne provoque pas forcément une écriture immédiate, car pour des raisons de performance on attend d'avoir suffisamment de matière avant d'écrire sur le disque.\n",
    "\n",
    "Il y a des cas où ce comportement peut s'avérer gênant, et où on a besoin d'écrire immédiatement (et donc de vider le *buffer*), et c'est le propos de la méthode `flush`()."
   ]
  },
  {
   "cell_type": "markdown",
   "metadata": {},
   "source": [
    "### Pour en savoir plus"
   ]
  },
  {
   "cell_type": "markdown",
   "metadata": {},
   "source": [
    "Pour une description plus exhaustive vous pouvez vous reporter à [la page sur le type `file`](https://docs.python.org/2.7/library/stdtypes.html?highlight=file%20object#file-objects) dans la documentation python."
   ]
  }
 ],
 "metadata": {
  "kernelspec": {
   "display_name": "Python 2",
   "language": "python",
   "name": "python2"
  },
  "notebookname": "Les fichiers",
  "version": "2.0"
 },
 "nbformat": 4,
 "nbformat_minor": 0
}