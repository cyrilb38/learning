{
 "cells": [
  {
   "cell_type": "markdown",
   "metadata": {},
   "source": [
    "<span style=\"float:left;\">Licence CC BY-NC-ND</span><span style=\"float:right;\">Thierry Parmentelat &amp; Arnaud Legout&nbsp;<img src=\"media/inria-25.png\" style=\"display:inline\"></span><br/>"
   ]
  },
  {
   "cell_type": "markdown",
   "metadata": {},
   "source": [
    "# Programmation fonctionnelle"
   ]
  },
  {
   "cell_type": "markdown",
   "metadata": {},
   "source": [
    "## Complément - niveau basique"
   ]
  },
  {
   "cell_type": "markdown",
   "metadata": {},
   "source": [
    "### Pour résumer"
   ]
  },
  {
   "cell_type": "markdown",
   "metadata": {},
   "source": [
    "La notion de programmation fonctionnelle consiste essentiellement à pouvoir manipuler les fonctions comme des objets à part entière, et à les passer en argument à d'autres fonctions, comme cela est illustré dans la vidéo."
   ]
  },
  {
   "cell_type": "markdown",
   "metadata": {},
   "source": [
    "On peut créer une fonction par l'intermédiaire de\n",
    " * l'*expression* `lambda:`, on obtient alors une fonction *anonyme*,\n",
    " * ou de l'*instruction* `def`.\n",
    "\n",
    "Pour des raisons de syntaxe surtout, on a davantage de puissance avec `def`."
   ]
  },
  {
   "cell_type": "markdown",
   "metadata": {},
   "source": [
    "On peut calculer la liste des résultats d'une fonction sur une liste d'entrées par\n",
    " * `map`, éventuellement combiné à `filter`\n",
    " * ou par une compréhension de liste, éventuellement assortie d'un `if`.\n",
    "\n",
    "Nous allons revoir les compréhensions de listes dans la prochaine vidéo."
   ]
  },
  {
   "cell_type": "markdown",
   "metadata": {},
   "source": [
    "## Complément - niveau intermédiaire"
   ]
  },
  {
   "cell_type": "markdown",
   "metadata": {},
   "source": [
    "Voici à présent quelques autres constructions classiques en programmation fonctionnelle"
   ]
  },
  {
   "cell_type": "markdown",
   "metadata": {},
   "source": [
    "### `reduce`"
   ]
  },
  {
   "cell_type": "markdown",
   "metadata": {},
   "source": [
    "La fonction `reduce` permet d'appliquer une opération associative à une liste d'entrées. Pour faire simple, étant donné un opérateur binaire $\\otimes$ on veut pouvoir calculer\n",
    "\n",
    " $x_1 \\otimes x_2 ... \\otimes x_n$\n",
    "\n",
    "De manière un peu moins abstraite, on suppose qu'on dispose d'une **fonction binaire** `f` qui implémente l'opérateur $\\otimes$, et alors \n",
    "\n",
    "   `reduce` $( f, [x_1, .. x_n] ) = f ( ... f(f(x_1,x_2), x_3), .. , x_n)$"
   ]
  },
  {
   "cell_type": "markdown",
   "metadata": {},
   "source": [
    "En fait `reduce` accepte un troisième argument - qu'il faut comprendre comme l'élément neutre de l'opérateur/fonction en question - et qui est retourné lorsque la liste en entrée est vide."
   ]
  },
  {
   "cell_type": "markdown",
   "metadata": {},
   "source": [
    "Par exemple voici - encore - une autre implémentation possible de la fonction `factoriel`.\n",
    "\n",
    "On utilise ici [le module `operator`](https://docs.python.org/2/library/operator.html), qui fournit sous forme de fonctions la plupart des opérateurs du langage, et notamment, dans notre cas, `operator.mul`; cette fonction retourne tout simplement le produit de ses deux arguments."
   ]
  },
  {
   "cell_type": "code",
   "execution_count": null,
   "metadata": {
    "collapsed": false
   },
   "outputs": [],
   "source": [
    "# la multiplication, mais sous forme de fonction et non d'operateur\n",
    "from operator import mul\n",
    "\n",
    "def factoriel(n):\n",
    "    return reduce(mul, range(1, n+1), 1)\n",
    "\n",
    "# ceci fonctionne aussi pour factoriel (0)\n",
    "for i in range(5):\n",
    "    print i, '->', factoriel(i)"
   ]
  },
  {
   "cell_type": "markdown",
   "metadata": {},
   "source": [
    "##### Cas fréquents de `reduce`"
   ]
  },
  {
   "cell_type": "markdown",
   "metadata": {},
   "source": [
    "Par commodité, python fournit des fonctions built-in qui correspondent en fait à des `reduce` fréquents comme la somme et les opérations `min` et `max`:"
   ]
  },
  {
   "cell_type": "code",
   "execution_count": null,
   "metadata": {
    "collapsed": false
   },
   "outputs": [],
   "source": [
    "entrees = [8, 5, 12, 4, 45, 7]\n",
    "\n",
    "print 'sum', sum(entrees)\n",
    "print 'min', min(entrees)\n",
    "print 'max', max(entrees)"
   ]
  },
  {
   "cell_type": "markdown",
   "metadata": {},
   "source": [
    "### apply"
   ]
  },
  {
   "cell_type": "markdown",
   "metadata": {},
   "source": [
    "Citons enfin, à titre de curiosité historique, la fonction `apply` qui est un lointain descendant de Lisp, comme `map`, `filter` et `reduce`. "
   ]
  },
  {
   "cell_type": "markdown",
   "metadata": {},
   "source": [
    "L'idée est simplement que\n",
    "\n",
    "`apply` $(f, [x_1, ... x_n]) \\Longleftrightarrow f (x_1, ... x_n)$"
   ]
  },
  {
   "cell_type": "markdown",
   "metadata": {},
   "source": [
    "Ainsi par exemple"
   ]
  },
  {
   "cell_type": "code",
   "execution_count": null,
   "metadata": {
    "collapsed": false
   },
   "outputs": [],
   "source": [
    "def composite(a, b, c):\n",
    "    return \"{}+{}*{}\".format(a, b, c)\n",
    "\n",
    "mon_triplet = ['spam', 'bacon', 'eggs']\n",
    "apply(composite, mon_triplet)"
   ]
  },
  {
   "cell_type": "markdown",
   "metadata": {},
   "source": [
    "Cette fonction est toutefois très rarement utilisée, et a même été supprimée en python3. Nous verrons très bientôt que le mécanisme général de passage d'arguments en python permet de réaliser nativement l'équivalent de `apply`. Ceci sera abordé dans la dernière vidéo de cette semaine, mais pour vous en donner un avant-goût, on peut remplacer `apply` par l'appel suivant qui est à favoriser en python moderne"
   ]
  },
  {
   "cell_type": "code",
   "execution_count": null,
   "metadata": {
    "collapsed": false
   },
   "outputs": [],
   "source": [
    "composite(*mon_triplet)"
   ]
  }
 ],
 "metadata": {
  "kernelspec": {
   "display_name": "Python 2",
   "language": "python",
   "name": "python2"
  },
  "language_info": {
   "codemirror_mode": {
    "name": "ipython",
    "version": 2
   },
   "file_extension": ".py",
   "mimetype": "text/x-python",
   "name": "python",
   "nbconvert_exporter": "python",
   "pygments_lexer": "ipython2",
   "version": "2.7.11"
  },
  "notebookname": "Prog. fonctionnelle",
  "version": "2.0"
 },
 "nbformat": 4,
 "nbformat_minor": 0
}
