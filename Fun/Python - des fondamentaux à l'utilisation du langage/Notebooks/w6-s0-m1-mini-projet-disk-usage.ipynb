{
 "cells": [
  {
   "cell_type": "markdown",
   "metadata": {},
   "source": [
    "<span style=\"float:left;\">Licence CC BY-NC-ND</span><span style=\"float:right;\">Thierry Parmentelat &amp; Arnaud Legout&nbsp;<img src=\"media/inria-25.png\" style=\"display:inline\"></span><br/>"
   ]
  },
  {
   "cell_type": "markdown",
   "metadata": {},
   "source": [
    "# Utilisation du disque dur"
   ]
  },
  {
   "cell_type": "markdown",
   "metadata": {},
   "source": [
    "## Mini-Projet"
   ]
  },
  {
   "cell_type": "markdown",
   "metadata": {},
   "source": [
    "### Introduction"
   ]
  },
  {
   "cell_type": "markdown",
   "metadata": {},
   "source": [
    "De temps en temps, vous vous rendez compte que votre disque dur est plein ou que vous avez rempli votre quota.\n",
    "En application de la loi de Murphy, en général c'est à un mauvais moment&nbsp;; il est vrai qu'on a toujours mieux à faire que de nettoyer un disque."
   ]
  },
  {
   "cell_type": "markdown",
   "metadata": {},
   "source": [
    "### Objectifs"
   ]
  },
  {
   "cell_type": "markdown",
   "metadata": {},
   "source": [
    "Dans ce mini-projet, nous allons écrire un utilitaire permettant de nous aider dans ce genre de situations. Les objectifs que l'on pourrait avoir sont&nbsp;:\n",
    " * de trouver rapidement les gros répertoires, en partant d'une racine ou d'un répertoire utilisateur&nbsp;;\n",
    " * de stocker les données de taille de façon à ne pas avoir à attendre plusieurs minutes à recalculer sans cesse les tailles des différents morceaux&nbsp;;\n",
    " * et notamment de pouvoir lancer toutes les nuits un scan silencieux, de façon à avoir immédiatement, dans la journée, accès à des informations - même approchées - de nature à identifier le ou les répertoires qui pose problème ou qui a un fort potentiel de libération d'espace."
   ]
  },
  {
   "cell_type": "markdown",
   "metadata": {},
   "source": [
    "### Approche"
   ]
  },
  {
   "cell_type": "markdown",
   "metadata": {},
   "source": [
    "Pour cela on conçoit un système simple qui fonctionne en deux passes&nbsp;:\n",
    " * une première passe de type *batch* qui stocke dans chaque répertoire, dans un fichier spécial (nous avons utilisé le nom `.du`) la taille totale de ce répertoire,\n",
    " * une seconde passe interactive, qui peut\n",
    "   * afficher les tailles des sous-répertoires triés, précisément, par taille,\n",
    "   * naviguer dans les répertoires sur cette base,\n",
    "   * et procéder au nettoyage proprement dit."
   ]
  },
  {
   "cell_type": "markdown",
   "metadata": {},
   "source": [
    "Aussi voici les choix que j'ai faits pour mon implémentation&nbsp;:\n",
    " * un seul module qui contient tout le programme, et qui s'appelle `diskusage.py`\n",
    " * par défaut le programme ne lance que la seconde passe\n",
    " * on peut ne lancer que la première passe avec l'option `-1`\n",
    " * ou les deux passes en séquence avec l'option `--both`\n",
    " \n",
    "Voici l'aide en ligne\n",
    "\n",
    "***\n",
    "\n",
    "    $ diskusage.py --help\n",
    "    usage: diskusage.py [-h] [-1] [-b] [-v] dir\n",
    "    \n",
    "    positional arguments:\n",
    "      dir\n",
    "    \n",
    "    optional arguments:\n",
    "      -h, --help         show this help message and exit\n",
    "      -1, --pass1        Run pass1, that computes .du in all subdirs\n",
    "      -b, --both-passes  Run pass1, that computes .du in all subdirs, \n",
    "                         and then pass2 that is interactive\n",
    "      -v, --verbose      turn on verbose output\n",
    "      \n",
    "***      "
   ]
  },
  {
   "cell_type": "markdown",
   "metadata": {},
   "source": [
    "Vous reconnaissez sans doute l'utilisation à nouveau de `ArgumentParser` importé du module `argparse` pour la définition de la syntaxe d'appel de `diskusage.py`"
   ]
  },
  {
   "cell_type": "markdown",
   "metadata": {},
   "source": [
    "### Exemple d'utilisation"
   ]
  },
  {
   "cell_type": "markdown",
   "metadata": {},
   "source": [
    "Nous publions un directory de test pour vous permettre de vérifier vos résultats, comme d'habitude\n",
    "dans les formats suivants&nbsp;:\n",
    " * [format tar](data/diskusage-spam.tar)\n",
    " * [format tgz](data/diskusage-spam.tgz)\n",
    " * [format zip](data/diskusage-spam.zip)\n",
    "\n",
    "qui donne une structure de fichiers telles que ceci&nbsp;:\n",
    "\n",
    "<img src=\"media/diskusage-spam.png\">"
   ]
  },
  {
   "cell_type": "markdown",
   "metadata": {},
   "source": [
    "##### La première passe"
   ]
  },
  {
   "cell_type": "markdown",
   "metadata": {},
   "source": [
    "Si j'installe cette structure sur mon propre disque, voici ce que j'obtiens&nbsp;:\n",
    "\n",
    "    % diskusage.py spam\n",
    "    Welcome to inspection of path spam\n",
    "    -------- Path spam has a total size of xxx 0 xxx\n",
    "    1    xxx 0 xxx   big\n",
    "    2    xxx 0 xxx   little\n",
    "    3    xxx 0 xxx   medium\n",
    "    4    xxx 0 xxx   small\n",
    "    Enter number (h for help) q\n",
    "    %"
   ]
  },
  {
   "cell_type": "markdown",
   "metadata": {},
   "source": [
    "Ce qui est 'normal' ou en tous cas attendu, car je n'ai pas lancé la première passe:\n",
    "\n",
    "    % find spam -name .du\n",
    "    % diskusage.py -1 spam\n",
    "    % "
   ]
  },
  {
   "cell_type": "markdown",
   "metadata": {},
   "source": [
    "##### La deuxième passe"
   ]
  },
  {
   "cell_type": "markdown",
   "metadata": {},
   "source": [
    "Maintenant si je recommence, l'outil me montre les directories triés par taille, le plus gros en dernier - parce que c'est sans doute celui qui m'intéresse le plus&nbsp;:\n",
    "\n",
    "    % diskusage.py spam\n",
    "    Welcome to inspection of path spam\n",
    "    -------- Path spam has a total size of 3.16 MiB\n",
    "    1     1.15 KiB   little\n",
    "    2   139.73 KiB   small\n",
    "    3     1.09 MiB   medium\n",
    "    4     1.93 MiB   big\n",
    "    % "
   ]
  },
  {
   "cell_type": "markdown",
   "metadata": {},
   "source": [
    "À ce stade-là je peux naviguer dans l'arbre en tapant&nbsp;:"
   ]
  },
  {
   "cell_type": "markdown",
   "metadata": {},
   "source": [
    " * soit un nombre pour me déplacer dans l'arbre"
   ]
  },
  {
   "cell_type": "markdown",
   "metadata": {},
   "source": [
    "    Enter number (h for help) 2\n",
    "    -------- Path spam/small has a total size of 139.73 KiB\n",
    "    Enter number (h for help)"
   ]
  },
  {
   "cell_type": "markdown",
   "metadata": {},
   "source": [
    " * soit `u` ou `..` pour remonter"
   ]
  },
  {
   "cell_type": "markdown",
   "metadata": {},
   "source": [
    "    Enter number (h for help) u\n",
    "    -------- Path spam has a total size of 3.16 MiB\n",
    "    1     1.15 KiB   little\n",
    "    2   139.73 KiB   small\n",
    "    3     1.09 MiB   medium\n",
    "    4     1.93 MiB   big\n",
    "    Enter number (h for help) "
   ]
  },
  {
   "cell_type": "markdown",
   "metadata": {},
   "source": [
    " * soit '+' (ou une ligne vide) pour choisir le répertoire le plus gros"
   ]
  },
  {
   "cell_type": "markdown",
   "metadata": {},
   "source": [
    "     Enter number (h for help)\n",
    "    -------- Path spam/big has a total size of 1.93 MiB\n",
    "    1         68 B   empty\n",
    "    2     4.60 KiB   f\n",
    "    3   126.17 KiB   d\n",
    "    4   252.17 KiB   b\n",
    "    5   558.23 KiB   a\n",
    "    6  1008.17 KiB   c\n",
    "    Enter number (h for help)"
   ]
  },
  {
   "cell_type": "markdown",
   "metadata": {},
   "source": [
    " * soit `l` pour lister les **fichiers** (jusqu'ici la commande n'a listé que des répertoires)"
   ]
  },
  {
   "cell_type": "markdown",
   "metadata": {},
   "source": [
    "     Enter number (h for help) l\n",
    "    ---- Plain files in spam/big\n",
    "    F          8 B   .du\n",
    "    F        576 B   zfile-01\n",
    "    F     1.12 KiB   zfile-02\n",
    "    F     2.25 KiB   zfile-03\n",
    "    F     4.50 KiB   zfile-04\n",
    "    F     6.00 KiB   .DS_Store\n",
    "    F        9 KiB   zfile-05\n",
    "    Enter number (h for help)"
   ]
  },
  {
   "cell_type": "markdown",
   "metadata": {},
   "source": [
    " * voici d'ailleurs l'aide en ligne"
   ]
  },
  {
   "cell_type": "markdown",
   "metadata": {},
   "source": [
    "    Enter number (h for help) h\n",
    "    num\tgo to listed directory\n",
    "    +\t(default) go to last (and thus biggest) directory\n",
    "    u\tgo one step up - can be also '0' or '..'\n",
    "    l\tlist files in the current directory\n",
    "    .\tcome again (stay in place)\n",
    "    !\tre-run pass1\n",
    "    v\ttoggle verbose on and off\n",
    "    q\tquit\n",
    "    h\tthis help"
   ]
  },
  {
   "cell_type": "markdown",
   "metadata": {},
   "source": [
    "### Que faut-il faire au juste ?"
   ]
  },
  {
   "cell_type": "markdown",
   "metadata": {},
   "source": [
    "Tout ce qui précède vous est donné à titre purement indicatif, pour vous décrire ce que fait l'implémentation qui sera donnée comme corrigé de cet exercice.\n",
    "\n",
    "Gardez bien présent à l'esprit toutefois qu'il ne s'agit pas d'une évaluation, aussi vous pouvez librement vous inspirer de cette implémentation. Dans l'état que je viens de décrire, l'outil est passif (il ne permet pas de détruire des fichiers), mais relativement exhaustif (vous pouvez voir toutes les tailles de tous les répertoires et de tous les fichiers). À vous de choisir l'étendue de ce que vous voulez faire.\n",
    "\n",
    "Une variante **plus simple** consisterait à se contenter de ne montrer que les répertoires, puisqu'en général une fois qu'on a isolé le répertoire on peut utiliser un navigateur de fichiers plus classique.\n",
    "\n",
    "Une variante **plus compliquée** consisterait à permettre des destructions de fichiers ou de répertoires nativement dans l'outil. Dans ce cas il serait bon de mettre à jour les tailles enregistrées dans les `.du`. \n",
    "\n",
    "De même, ma version incorpore un mode bavard (*verbose*)&nbsp;; lorsqu'il est activé on peut montrer plus de détails sur le fonctionnement interne de l'outil, par exemple en imprimant une ligne à chaque fois qu'on calcule vraiment la taille d'un répertoire - pour mieux comprendre ce qui se passe. Bien entendu, pour commencer, vous n'avez pas besoin de prévoir un mode bavard. \n",
    "\n",
    "De même, vous voyez dans l'aide en ligne quelques utilitaires supplémentaires, comme notamment `!` pour recalculer les tailles à partir de l'état du disque. En principe, ajouter ce genre de features ne prend que quelques lignes de code, mais là encore c'est à vous de voir.\n",
    "\n",
    "Enfin, le code étant extrêmement basique en termes d'utilisation de librairies, je vous propose si vous avez le temps d'essayer de faire fonctionner votre code aussi en python3 - c'est-à-dire, une fois que votre code fonctionne en python2, d'essayer de le modifier à la marge pour obtenir un code unique qui fonctionne avec les deux versions. Pour cela attendez tout de même d'avoir lu le complément que nous consacrons à ce sujet en Semaine 7."
   ]
  },
  {
   "cell_type": "markdown",
   "metadata": {},
   "source": [
    "##### Quelques indices"
   ]
  },
  {
   "cell_type": "markdown",
   "metadata": {},
   "source": [
    "Une des difficultés de cet exercice est de gérer le fait que le système est 'vivant' pendant la sesssion&nbsp;; aussi les données cachées dans les `.du` peuvent être anciennes. Ces deux facteurs font qu'il se peut que certains répertoires ont un `.du` et pas d'autres. Ici j'ai adopté une stratégie simple qui est de retourner une taille nulle (pour pouvoir tout de même afficher le résultat de la somme) et de faire en sorte que l'impression d'une taille nulle attire l'oeil (voir le tout premier exemple ci-dessus).\n",
    "\n",
    "Notez aussi, pour ceux qui n'y sont pas habitués, qu'**un répertoire a une taille propre**. Du point de vue de l'utilisateur un répertoire ne contient 'rien' mais il faut de la place pour ranger les noms des fichiers. C'est en général négligeable, mais avec un grand nombre de petits fichiers c'est mieux d'en tenir compte. \n",
    "\n",
    "Si vous voulez aborder l'exercice dans une optique 'niveau avancé', vous pouvez vous arrêter là, et essayer d'implémenter l'outil sans plus d'indications. "
   ]
  },
  {
   "cell_type": "markdown",
   "metadata": {},
   "source": [
    "##### Librairies"
   ]
  },
  {
   "cell_type": "markdown",
   "metadata": {},
   "source": [
    "En termes de librairies tierces, c'est difficile de faire plus simple&nbsp;; notre implémentation utilise uniquement&nbsp;:\n",
    " * le module `os` et spécifiquement\n",
    "   * `os.walk`, `os.listdir`, \n",
    " * `os.path` et dans ce module\n",
    "   * `join`, `getsize`, `exists`, `isdir`, `isfile`, et `dirname`,\n",
    " * et donc `argparse.ArgumentParser`"
   ]
  },
  {
   "cell_type": "markdown",
   "metadata": {},
   "source": [
    "### Classes et fonctions"
   ]
  },
  {
   "cell_type": "markdown",
   "metadata": {},
   "source": [
    "Toujours à titre indicatif, voici comment est conçue notre implémentation. On a défini 3 classes&nbsp;:\n",
    "\n",
    " * `HumanReadableSize` est une classe qui ne sert que pour l'affichage des tailles sous la forme que vous avez vue dans les exemples comme `139.73 KiB` ou `1.09 MiB`\n",
    " * `Cache` est la classe qui mémorise la taille (totale) des différents répertoires\n",
    " * et `ToplevelDir` est la classe qui implémente la logique de traitement du répertoire d'entrée.\n",
    " \n",
    "Enfin la fonction `main` est le point d'entrée dans le programme."
   ]
  },
  {
   "cell_type": "markdown",
   "metadata": {},
   "source": [
    "Notons à titre de curiosité, avant de lister les différentes méthodes, que\n",
    " * `HumanReadableSize` hérite de `int`&nbsp;; on a redéfini `__repr__` pour implémenter le format dans lequel on veut afficher les tailles en octets&nbsp;;\n",
    " * `Cache` hérite de `dict`&nbsp;; on a redéfini `__getitem__` et `__setitem__` de façon à utiliser `cache[path]` et `cache[path]=size` pour mémoriser le résultat à la fois en mémoire pour le processus courant, et sur disque dans les différents fichiers `.du`"
   ]
  },
  {
   "cell_type": "markdown",
   "metadata": {},
   "source": [
    "***"
   ]
  },
  {
   "cell_type": "markdown",
   "metadata": {},
   "source": [
    "Classe `HumanReadableSize`"
   ]
  },
  {
   "cell_type": "markdown",
   "metadata": {},
   "source": [
    "    Help on class HumanReadableSize in module diskusage:\n",
    "    \n",
    "    class HumanReadableSize(__builtin__.int)\n",
    "     |  helper class for displaying size in bytes \n",
    "     |  in a human-readable form\n",
    "     |  \n",
    "     |  Method resolution order:\n",
    "     |      HumanReadableSize\n",
    "     |      __builtin__.int\n",
    "     |      __builtin__.object\n",
    "     |  \n",
    "     |  Methods defined here:\n",
    "     |  \n",
    "     |  __repr__(self)\n",
    "     |      Display size in bytes\n",
    "     |  \n",
    "     |  __str__ = __repr__(self)\n",
    "     |  \n",
    "     |  -------------------------------------------------------------\n",
    "     |  Data and other attributes defined here:\n",
    "     |  \n",
    "     |  LABELS = [(6, 'EiB'), (5, 'PiB'), (4, 'TiB'), (3, 'GiB'), ...\n",
    "     |  \n",
    "     |  UNIT_LABELS = [(1152921504606846976, 'EiB'), ...\n",
    "     |  \n"
   ]
  },
  {
   "cell_type": "markdown",
   "metadata": {},
   "source": [
    "***"
   ]
  },
  {
   "cell_type": "markdown",
   "metadata": {},
   "source": [
    "Classe `Cache`"
   ]
  },
  {
   "cell_type": "markdown",
   "metadata": {},
   "source": [
    "    Help on class Cache in module diskusage:\n",
    "    \n",
    "    class Cache(__builtin__.dict)\n",
    "     |  a dictionary {path: size_in_bytes}\n",
    "     |  \n",
    "     |  this is also linked to the file system and the .du files\n",
    "     |  meaning that \n",
    "     |  (*) cache[path] looks in path/.du if not yet in memory\n",
    "     |      if nothing else works (not in memory and not in .du)\n",
    "     |      we return 0\n",
    "     |  (*) cache[path] = size also writes path/.du \n",
    "     |      if permission is granted\n",
    "     |  \n",
    "     |  Method resolution order:\n",
    "     |      Cache\n",
    "     |      __builtin__.dict\n",
    "     |      __builtin__.object\n",
    "     |  \n",
    "     |  Methods defined here:\n",
    "     |  \n",
    "     |  __getitem__(self, path)\n",
    "     |      Look in memory cache first, then in the .du file\n",
    "     |      returns 0 if nothing works\n",
    "     |  \n",
    "     |  __init__(self, verbose=False)\n",
    "     |  \n",
    "     |  __setitem__(self, path, size)\n",
    "     |      remembers path cache in dictionary\n",
    "     |      and stores in special file as  far as possible\n",
    "     |      \n",
    "     |      ignores if not possible for any reason \n",
    "     |      like Permission Denied or the like\n",
    "     |  \n",
    "     |  -------------------------------------------------------------\n",
    "     |  Data and other attributes defined here:\n",
    "     |  \n",
    "     |  special_name = '.du'\n",
    "     |  \n"
   ]
  },
  {
   "cell_type": "markdown",
   "metadata": {},
   "source": [
    "***"
   ]
  },
  {
   "cell_type": "markdown",
   "metadata": {},
   "source": [
    "Classe `ToplevelDir`"
   ]
  },
  {
   "cell_type": "markdown",
   "metadata": {},
   "source": [
    "    Help on class ToplevelDir in module diskusage:\n",
    "    \n",
    "    class ToplevelDir(__builtin__.object)\n",
    "     |  toplevel object - only one is created\n",
    "     |  for the directory that diskusage.py is run on\n",
    "     |  \n",
    "     |  it can run pass1()\n",
    "     |  it has one instance of Cache for keeping track\n",
    "     |     of the sizes of all subdirs\n",
    "     |  it can also run pass2\n",
    "     |  \n",
    "     |  Methods defined here:\n",
    "     |  \n",
    "     |  __init__(self, path, verbose=False)\n",
    "     |  \n",
    "     |  list_files(self, subpath)\n",
    "     |      passive list of plain files in a given dir\n",
    "     |      the ones in *that* directory, not the subtree\n",
    "     |      just list with biggest file last\n",
    "     |      \n",
    "     |      it's easier to re-read the file size here\n",
    "     |      as there is no recursion\n",
    "     |      would need to be optimized for directories\n",
    "     |      with a large number of plain files\n",
    "     |  \n",
    "     |  move_to_subdir(self, subpath)\n",
    "     |      this is the active part of pass2\n",
    "     |      it is the place where we prompt \n",
    "     |      for the user's answer and \n",
    "     |      where we implement the mainloop\n",
    "     |      \n",
    "     |      this method returns the path for the next\n",
    "     |      subtree to visit (can also be one step up)\n",
    "     |      \n",
    "     |      we show the immediate subdirs sorted \n",
    "     |      (biggest comes last)\n",
    "     |      and can thus be selected using '+'\n",
    "     |      \n",
    "     |      subdirs are listed with a number that \n",
    "     |      can be selected for moving down the tree\n",
    "     |  \n",
    "     |  pass1(self)\n",
    "     |      scans a whole tree, and writes\n",
    "     |      individual (total) size in .du\n",
    "     |      \n",
    "     |      this is done through a Cache object so\n",
    "     |      that if we run both passes in the same process\n",
    "     |      pass2 will not even need to read .du files\n",
    "     |  \n",
    "     |  pass2(self)\n",
    "     |      entry point for pass2\n",
    "     |  \n",
    "     |  --------------------------------------------------------\n",
    "     |  Data and other attributes defined here:\n",
    "     |  \n",
    "     |  help_message = 'number\\tgo to listed directory\\n+\\t.....\n",
    "\n"
   ]
  },
  {
   "cell_type": "markdown",
   "metadata": {},
   "source": [
    "***"
   ]
  },
  {
   "cell_type": "markdown",
   "metadata": {},
   "source": [
    "Fonction `main`"
   ]
  },
  {
   "cell_type": "markdown",
   "metadata": {},
   "source": [
    "    Help on function main in module diskusage:\n",
    "\n",
    "    main()\n",
    "        The entry point for diskusage.py\n",
    "\n",
    "        This function parses the command line arguments\n",
    "        using an instance of ArgumentParser\n",
    "\n",
    "        It essentially creates an instance of ToplevelDir\n",
    "        and sends it the pass1() and/or pass2() methods\n",
    "\n",
    "        It returns an int suitable to be returned to the OS\n",
    "        that is to say 0 when everything is fine and 1 otherwise"
   ]
  },
  {
   "cell_type": "markdown",
   "metadata": {},
   "source": [
    "***"
   ]
  },
  {
   "cell_type": "markdown",
   "metadata": {},
   "source": [
    "À nouveau toutes ces précisions sont données pour vous donner des idées mais il n'est pas du tout obligatoire de procéder de cette manière. \n",
    "\n",
    "À vous de jouer."
   ]
  }
 ],
 "metadata": {
  "kernelspec": {
   "display_name": "Python 2",
   "language": "python",
   "name": "python2"
  },
  "notebookname": "Disk usage",
  "version": "2.0"
 },
 "nbformat": 4,
 "nbformat_minor": 0
}