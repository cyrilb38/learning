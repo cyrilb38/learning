{
 "cells": [
  {
   "cell_type": "markdown",
   "metadata": {},
   "source": [
    "<span style=\"float:left;\">Licence CC BY-NC-ND</span><span style=\"float:right;\">Thierry Parmentelat &amp; Arnaud Legout&nbsp;<img src=\"media/inria-25.png\" style=\"display:inline\"></span><br/>"
   ]
  },
  {
   "cell_type": "markdown",
   "metadata": {},
   "source": [
    "# La boucle `while`"
   ]
  },
  {
   "cell_type": "markdown",
   "metadata": {},
   "source": [
    "## Complément - niveau basique"
   ]
  },
  {
   "cell_type": "markdown",
   "metadata": {},
   "source": [
    "### Boucles sans fin - `break`"
   ]
  },
  {
   "cell_type": "markdown",
   "metadata": {},
   "source": [
    "Utiliser `while` plutôt que `for` est une affaire de style et d'habitude. Cela dit avec l'apparition des itérateurs, l'usage du `for` est en général privilégié pour les boucles finies et déterministes."
   ]
  },
  {
   "cell_type": "markdown",
   "metadata": {},
   "source": [
    "Le `while` reste malgré tout d'un usage courant avec une condition `True`.\n",
    "\n",
    "Par exemple le code de l'interpreteur interactif de python pourrait ressembler, vu de très loin, à quelque chose comme ceci\n",
    "\n",
    "    while True:\n",
    "        print(eval(read()))"
   ]
  },
  {
   "cell_type": "markdown",
   "metadata": {},
   "source": [
    "Notez bien par ailleurs que les instructions `break` et `continue` fonctionnent, à l'intérieur d'une boucle `while`, exactement comme dans un `for`."
   ]
  },
  {
   "cell_type": "markdown",
   "metadata": {},
   "source": [
    "## Complément - niveau intermédiaire"
   ]
  },
  {
   "cell_type": "markdown",
   "metadata": {},
   "source": [
    "### Rappel sur les conditions"
   ]
  },
  {
   "cell_type": "markdown",
   "metadata": {},
   "source": [
    "On peut utiliser dans une boucle `while` toutes les formes de conditions que l'on avait vues à l'occasion de l'instruction `if`.\n",
    "\n",
    "Dans le contexte de la boucle `while` on comprend mieux, toutefois, pourquoi le langage autorise d'écrire des conditions dont le résultat n'est **pas nécessairement un booléen**. Voyons cela sur un exemple simple:"
   ]
  },
  {
   "cell_type": "code",
   "execution_count": null,
   "metadata": {
    "collapsed": false
   },
   "outputs": [],
   "source": [
    "# une autre façon de parcourir une liste\n",
    "liste = ['a', 'b', 'c']\n",
    "while liste:\n",
    "    element = liste.pop()\n",
    "    print element"
   ]
  },
  {
   "cell_type": "markdown",
   "metadata": {},
   "source": [
    "Il peut être intéressant de comparer ce code avec ce qu'on obtiendrait avec une simple boucle `for`.\n",
    "\n",
    " * Une première différence est qu'avec `while` on pourrait facilement traiter les éléments de la liste deux par deux si cela faisait du sens dans le contexte.\n",
    "\n",
    " * On voit aussi tout de suite que les éléments sont traités en sens inverse; il faut savoir qu'avec le type `list` l'opération `pop()` est très efficace, car elle fonctionne en temps constant - ce qui d'ailleurs n'est pas le cas de `pop(0)`. Aussi la boucle `while` peut être plus efficace, pour traiter une liste en sens inverse.\n",
    " \n",
    " * Mais contrairement à une boucle `for` cette forme est intrusive, en ce sens que la liste est modifiée; alors que, on le rappelle, à l'intérieur d'une boucle `for` on ne **doit pas** modifier l'objet de la boucle."
   ]
  },
  {
   "cell_type": "markdown",
   "metadata": {},
   "source": [
    "### Une curiosité : la clause `else`"
   ]
  },
  {
   "cell_type": "markdown",
   "metadata": {},
   "source": [
    "Signalons enfin que la boucle `while` - au même titre d'ailleurs que la boucle `for`, peut être assortie [d'une clause `else`](https://docs.python.org/2/reference/compound_stmts.html#the-while-statement), qui est exécutée à la fin de la boucle, sauf dans le cas d'une sortie avec `break`."
   ]
  },
  {
   "cell_type": "code",
   "execution_count": null,
   "metadata": {
    "collapsed": false
   },
   "outputs": [],
   "source": [
    "# Un exemple de `else` dans un while\n",
    "\n",
    "def scan(liste, break_mode):\n",
    "    # si break_mode est vrai on va faire un break après le premier élément de la liste\n",
    "    message = \"avec\" if break_mode else \"sans\"\n",
    "    print 20*'-', \"\\nScan {} break\".format(message)\n",
    "    while liste:\n",
    "        print liste.pop()\n",
    "        if break_mode:\n",
    "            break\n",
    "    else:\n",
    "        print 'else...'\n",
    "\n",
    "        \n",
    "scan(['a'], False)\n",
    "\n",
    "scan(['a'], True)\n"
   ]
  },
  {
   "cell_type": "markdown",
   "metadata": {},
   "source": [
    "Ce trait est toutefois **très rarement** utilisé."
   ]
  }
 ],
 "metadata": {
  "kernelspec": {
   "display_name": "Python 2",
   "language": "python",
   "name": "python2"
  },
  "language_info": {
   "codemirror_mode": {
    "name": "ipython",
    "version": 2
   },
   "file_extension": ".py",
   "mimetype": "text/x-python",
   "name": "python",
   "nbconvert_exporter": "python",
   "pygments_lexer": "ipython2",
   "version": "2.7.11"
  },
  "notebookname": "La boucle while",
  "version": "2.0"
 },
 "nbformat": 4,
 "nbformat_minor": 0
}
