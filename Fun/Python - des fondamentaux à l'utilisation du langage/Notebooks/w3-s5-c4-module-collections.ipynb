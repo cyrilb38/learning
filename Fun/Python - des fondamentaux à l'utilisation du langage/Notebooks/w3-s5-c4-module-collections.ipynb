{
 "cells": [
  {
   "cell_type": "markdown",
   "metadata": {},
   "source": [
    "<span style=\"float:left;\">Licence CC BY-NC-ND</span><span style=\"float:right;\">Thierry Parmentelat &amp; Arnaud Legout&nbsp;<img src=\"media/inria-25.png\" style=\"display:inline\"></span><br/>"
   ]
  },
  {
   "cell_type": "markdown",
   "metadata": {},
   "source": [
    "# Le module `collections`"
   ]
  },
  {
   "cell_type": "markdown",
   "metadata": {},
   "source": [
    "## Complément - niveau intermédiaire"
   ]
  },
  {
   "cell_type": "markdown",
   "metadata": {},
   "source": [
    "Maintenant que nous avons terminé le tour des types de base fournis par le langage, vous pourrez trouver dans [le module `collections`](https://docs.python.org/2/library/collections.html) quelques types étendus, qui fournissent des extensions souvent commodes des types de base. Nous allons en voir quelques exemples."
   ]
  },
  {
   "cell_type": "markdown",
   "metadata": {},
   "source": [
    "### [`OrderedDict`](https://docs.python.org/2/library/collections.html#collections.OrderedDict) : un dictionnaire avec mémoire"
   ]
  },
  {
   "cell_type": "markdown",
   "metadata": {},
   "source": [
    "Nous avons vu que le dictionnaire n'est pas une structure ordonnée"
   ]
  },
  {
   "cell_type": "code",
   "execution_count": null,
   "metadata": {
    "collapsed": false
   },
   "outputs": [],
   "source": [
    "cluedo = {}\n",
    "cluedo['olive'] = 'green'\n",
    "cluedo['moutarde'] = 'mustard'\n",
    "cluedo['rose'] = 'scarlett'\n",
    "cluedo['pervenche'] = 'peacock'\n",
    "for cle, valeur in cluedo.items():\n",
    "    print cle, valeur"
   ]
  },
  {
   "cell_type": "markdown",
   "metadata": {},
   "source": [
    "Avec le type `OrderedDict`, on peut conserver l'ordre dans lequel les clés sont entrées, au prix naturellement d'un surcoût en termes d'occupation mémoire :"
   ]
  },
  {
   "cell_type": "code",
   "execution_count": null,
   "metadata": {
    "collapsed": false
   },
   "outputs": [],
   "source": [
    "from collections import OrderedDict\n",
    "\n",
    "cluedo = OrderedDict()\n",
    "cluedo['olive'] = 'green'\n",
    "cluedo['moutarde'] = 'mustard'\n",
    "cluedo['rose'] = 'scarlett'\n",
    "cluedo['pervenche'] = 'peacock'\n",
    "for cle, valeur in cluedo.items():\n",
    "    print cle, valeur"
   ]
  },
  {
   "cell_type": "markdown",
   "metadata": {},
   "source": [
    "### [`defaultdict`](https://docs.python.org/2/library/collections.html#defaultdict-objects) : un dictionnaire avec initialisation automatique"
   ]
  },
  {
   "cell_type": "markdown",
   "metadata": {},
   "source": [
    "`defaultdict` est une spécialisation du type dictionnaire. Par opposition avec le type `dict` standard, lorsqu'on fait référence à une clé manquante, un [mécanisme de `factory`](http://en.wikipedia.org/wiki/Factory_%28object-oriented_programming%29) entre en jeu pour initialiser la valeur associée à la clé.\n",
    "\n",
    "Par exemple, supposons qu'on ait besoin de gérer un dictionnaire dont les valeurs sont des listes. "
   ]
  },
  {
   "cell_type": "code",
   "execution_count": null,
   "metadata": {
    "collapsed": false
   },
   "outputs": [],
   "source": [
    "# on dispose d'enregistrements comme par exemple\n",
    "enregistrements = [('a', 10), ('b', 20), ('a', 30), ('b', 40)]\n",
    "\n",
    "# on veut construire un dictionnaire qui \n",
    "# avec ces entrées ressemblerait à\n",
    "# {'a' : [10, 30], 'b' : [20, 40]}"
   ]
  },
  {
   "cell_type": "markdown",
   "metadata": {},
   "source": [
    "Avec le type `dict` standard, il faut se livrer à une petite gymnastique du genre de :"
   ]
  },
  {
   "cell_type": "code",
   "execution_count": null,
   "metadata": {
    "collapsed": false
   },
   "outputs": [],
   "source": [
    "cumul = {}\n",
    "for cle, valeur in enregistrements:\n",
    "    if cle not in cumul:\n",
    "        cumul[cle] = []\n",
    "    cumul[cle].append(valeur)\n",
    "print cumul"
   ]
  },
  {
   "cell_type": "markdown",
   "metadata": {},
   "source": [
    "Ou encore, un peu mieux, toujours avec `dict` mais en utilisant `setdefault` :"
   ]
  },
  {
   "cell_type": "code",
   "execution_count": null,
   "metadata": {
    "collapsed": false
   },
   "outputs": [],
   "source": [
    "cumul = {}\n",
    "for cle, valeur in enregistrements:\n",
    "    cumul.setdefault(cle, []).append(valeur)\n",
    "print cumul"
   ]
  },
  {
   "cell_type": "markdown",
   "metadata": {},
   "source": [
    "*****"
   ]
  },
  {
   "cell_type": "markdown",
   "metadata": {},
   "source": [
    "Avec `defaultdict` on peut préciser comment les valeurs doivent être initialisées, le code est plus lisible :"
   ]
  },
  {
   "cell_type": "code",
   "execution_count": null,
   "metadata": {
    "collapsed": false
   },
   "outputs": [],
   "source": [
    "from collections import defaultdict\n",
    "\n",
    "# la valeur par défaut est une liste vide\n",
    "cumul = defaultdict(list)\n",
    "for cle, valeur in enregistrements:\n",
    "    cumul[cle].append(valeur)\n",
    "print cumul"
   ]
  },
  {
   "cell_type": "markdown",
   "metadata": {},
   "source": [
    "## Complément - niveau avancé"
   ]
  },
  {
   "cell_type": "markdown",
   "metadata": {},
   "source": [
    "### Autres types"
   ]
  },
  {
   "cell_type": "markdown",
   "metadata": {},
   "source": [
    "Référez-vous à la section sur le [module `collections`](https://docs.python.org/2/library/collections.html) dans la documentation standard pour davantage de détails sur les autres types offerts par ce module, comme\n",
    " * [`Counter`](https://docs.python.org/2/library/collections.html#collections.Counter)\n",
    "une autre spécialisation du type `dict`, dont les valeurs sont des entiers, spécialisée pour compter des occurrences;\n",
    " * [deque](https://docs.python.org/2/library/collections.html#collections.deque) une spécialisation du type `list` optimisée pour ajouter/enlever des éléments aux deux extrémités de la liste;\n",
    " * [namedtuple](https://docs.python.org/2/library/collections.html#collections.namedtuple) ici il ne s'agit pas d'un type à proprement parler, mais d'une fonction qui permet de créer des types. "
   ]
  }
 ],
 "metadata": {
  "kernelspec": {
   "display_name": "Python 2",
   "language": "python",
   "name": "python2"
  },
  "notebookname": "le module collections",
  "version": "2.0"
 },
 "nbformat": 4,
 "nbformat_minor": 0
}