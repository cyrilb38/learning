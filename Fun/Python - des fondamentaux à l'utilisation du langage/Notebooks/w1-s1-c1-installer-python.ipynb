{
 "cells": [
  {
   "cell_type": "markdown",
   "metadata": {},
   "source": [
    "<span style=\"float:left;\">Licence CC BY-NC-ND</span><span style=\"float:right;\">Thierry Parmentelat &amp; Arnaud Legout&nbsp;<img src=\"media/inria-25.png\" style=\"display:inline\"></span><br/>"
   ]
  },
  {
   "cell_type": "markdown",
   "metadata": {},
   "source": [
    "# Installer la distribution standard python"
   ]
  },
  {
   "cell_type": "markdown",
   "metadata": {},
   "source": [
    "## Complément - niveau basique"
   ]
  },
  {
   "cell_type": "markdown",
   "metadata": {},
   "source": [
    "Comme expliqué dans la vidéo d'introduction, vous rencontrez pour la première fois un exemple de \"notebook\", dans une version simplifiée puisqu'il ne contient aucun fragment de code pour l'instant."
   ]
  },
  {
   "cell_type": "markdown",
   "metadata": {},
   "source": [
    "Ce tout premier complément a pour but de vous donner quelques guides pour l'installation de la distribution standard python 2.7. Ce sera la seule fois dans le cours où nous aurons besoin de détailler des variantes selon votre système d'exploitation."
   ]
  },
  {
   "cell_type": "markdown",
   "metadata": {},
   "source": [
    "Notez bien qu'il ne s'agit ici que d'indications, il existe de nombreuses façons de procéder.\n",
    "\n",
    "En cas de souci, commencez par chercher par vous-même sur google ou autre une solution à votre problème. "
   ]
  },
  {
   "cell_type": "markdown",
   "metadata": {},
   "source": [
    "Le point important est de **bien vérifier le numéro de version** de votre installation qui doit être 2.7.*x*"
   ]
  },
  {
   "cell_type": "markdown",
   "metadata": {},
   "source": [
    "# Installation de base"
   ]
  },
  {
   "cell_type": "markdown",
   "metadata": {},
   "source": [
    "### Vous utilisez Windows"
   ]
  },
  {
   "cell_type": "markdown",
   "metadata": {},
   "source": [
    "La méthode recommandée sur Windows est de partir de la page  https://www.python.org/download\n",
    "où vous trouverez un programme d'installation qui contient tout ce dont vous aurez besoin pour suivre le cours.\n",
    "\n",
    "Pour vérifier que vous êtes prêts, il vous faut lancer IDLE (quelque part dans le menu Démarrer) et vérifier le numéro de version."
   ]
  },
  {
   "cell_type": "markdown",
   "metadata": {},
   "source": [
    "### Vous utilisez MacOS"
   ]
  },
  {
   "cell_type": "markdown",
   "metadata": {},
   "source": [
    "Ici encore, la méthode recommandée est de partir de la page https://www.python.org/download\n",
    "et d'utiliser le programme d'installation.\n",
    "\n",
    "Sachez aussi, si vous utilisez déjà MacPorts (https://www.macports.org), que vous pouvez également utiliser cet outil pour installer python 2.7 avec la commande"
   ]
  },
  {
   "cell_type": "markdown",
   "metadata": {},
   "source": [
    "    $ sudo port install python27"
   ]
  },
  {
   "cell_type": "markdown",
   "metadata": {},
   "source": [
    "### Vous utilisez Linux"
   ]
  },
  {
   "cell_type": "markdown",
   "metadata": {},
   "source": [
    "Dans ce cas il y est très probable que python-2.7 est déjà disponible sur votre machine. Pour vous en assurer, essayez de lancer la commande `python` dans un terminal. "
   ]
  },
  {
   "cell_type": "markdown",
   "metadata": {},
   "source": [
    "##### Redhat / Fedora"
   ]
  },
  {
   "cell_type": "markdown",
   "metadata": {},
   "source": [
    "Voici par exemple ce qu'on obtient depuis un terminal sur une machine installée en Fedora-20 "
   ]
  },
  {
   "cell_type": "markdown",
   "metadata": {},
   "source": [
    "    $ python\n",
    "    Python 2.7.5 (default, Feb 19 2014, 13:47:28)\n",
    "    [GCC 4.8.2 20131212 (Red Hat 4.8.2-7)] on linux2\n",
    "    Type \"help\", \"copyright\", \"credits\" or \"license\" for more information.\n",
    "    >>> exit()\n",
    "    "
   ]
  },
  {
   "cell_type": "markdown",
   "metadata": {},
   "source": [
    "**Vérifiez bien le numéro de version** qui doit être en 2.7. Si vous obtenez un message du style `python: command not found` utilisez `yum` pour installer le rpm `python` comme ceci"
   ]
  },
  {
   "cell_type": "markdown",
   "metadata": {},
   "source": [
    "    $ sudo yum install python"
   ]
  },
  {
   "cell_type": "markdown",
   "metadata": {},
   "source": [
    "S'agissant de `idle`, l'éditeur que nous utilisons dans le cours (optionnel si vous êtes familier avec un éditeur de texte), vérifiez sa présence comme ceci"
   ]
  },
  {
   "cell_type": "markdown",
   "metadata": {},
   "source": [
    "    $ type idle\n",
    "    idle is hashed (/usr/bin/idle)"
   ]
  },
  {
   "cell_type": "markdown",
   "metadata": {},
   "source": [
    "Ici encore, si la commande n'est pas disponible vous pouvez l'installer avec"
   ]
  },
  {
   "cell_type": "markdown",
   "metadata": {},
   "source": [
    "    $ sudo yum install python-tools"
   ]
  },
  {
   "cell_type": "markdown",
   "metadata": {},
   "source": [
    "##### Debian / Ubuntu"
   ]
  },
  {
   "cell_type": "markdown",
   "metadata": {},
   "source": [
    "Ici encore, python-2.7 est sans doute déja disponible. Procédez comme ci-dessus, voici un exemple recueilli dans un terminal sur une machine installée en Ubuntu-14.04/trusty"
   ]
  },
  {
   "cell_type": "markdown",
   "metadata": {},
   "source": [
    "    $ python\n",
    "    Python 2.7.6 (default, Mar 22 2014, 22:59:56)\n",
    "    [GCC 4.8.2] on linux2\n",
    "    Type \"help\", \"copyright\", \"credits\" or \"license\" for more information.\n",
    "    >>> exit()"
   ]
  },
  {
   "cell_type": "markdown",
   "metadata": {},
   "source": [
    "Pour installer python"
   ]
  },
  {
   "cell_type": "markdown",
   "metadata": {},
   "source": [
    "    $ sudo apt-get install python"
   ]
  },
  {
   "cell_type": "markdown",
   "metadata": {},
   "source": [
    "Pour installer idle"
   ]
  },
  {
   "cell_type": "markdown",
   "metadata": {},
   "source": [
    "    $ sudo apt-get install idle"
   ]
  },
  {
   "cell_type": "markdown",
   "metadata": {},
   "source": [
    "# Installation de librairies complémentaires"
   ]
  },
  {
   "cell_type": "markdown",
   "metadata": {},
   "source": [
    "Il existe un outil très pratique pour installer les librairies python, il s'appelle `pip`, qui est documenté ici https://pypi.python.org/pypi/pip"
   ]
  },
  {
   "cell_type": "markdown",
   "metadata": {},
   "source": [
    "Sachez aussi, si par ailleurs vous utilisez un gestionnaire de package comme `rpm` sur RedHat, `apt-get` sur debian, ou `port` sur MacOS, que de nombreux packages sont également disponibles au travers de ces outils."
   ]
  }
 ],
 "metadata": {
  "kernelspec": {
   "display_name": "Python 2",
   "language": "python",
   "name": "python2"
  },
  "language_info": {
   "codemirror_mode": {
    "name": "ipython",
    "version": 2
   },
   "file_extension": ".py",
   "mimetype": "text/x-python",
   "name": "python",
   "nbconvert_exporter": "python",
   "pygments_lexer": "ipython2",
   "version": "2.7.11"
  },
  "notebookname": "Installer python-2.7",
  "version": "2.0"
 },
 "nbformat": 4,
 "nbformat_minor": 0
}