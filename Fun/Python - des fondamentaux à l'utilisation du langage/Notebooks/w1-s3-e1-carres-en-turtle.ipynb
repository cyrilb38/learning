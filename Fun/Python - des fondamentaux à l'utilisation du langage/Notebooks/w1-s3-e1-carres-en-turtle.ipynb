{
 "cells": [
  {
   "cell_type": "markdown",
   "metadata": {},
   "source": [
    "<span style=\"float:left;\">Licence CC BY-NC-ND</span><span style=\"float:right;\">Thierry Parmentelat &amp; Arnaud Legout&nbsp;<img src=\"media/inria-25.png\" style=\"display:inline\"></span><br/>"
   ]
  },
  {
   "cell_type": "markdown",
   "metadata": {},
   "source": [
    "# Dessiner un carré"
   ]
  },
  {
   "cell_type": "markdown",
   "metadata": {},
   "source": [
    "## Exercice - niveau intermédiaire"
   ]
  },
  {
   "cell_type": "markdown",
   "metadata": {},
   "source": [
    "Voici un tout petit programme qui dessine un carré"
   ]
  },
  {
   "cell_type": "markdown",
   "metadata": {},
   "source": [
    "Il utilise le module `turtle`, conçu précisément à des fins pédagogiques. Pour des raisons techniques, le module `turtle` n'est **pas disponible** au travers de la plateforme FUN."
   ]
  },
  {
   "cell_type": "markdown",
   "metadata": {},
   "source": [
    "Il est donc inutile d'essayer d'exécuter ce programme depuis le notebook; l'objectif de cet exercice est plutôt de vous entraîner à télécharger ce programme en utilisant le menu *\"File -> Download as -> python\"*, puis à le charger dans votre IDLE pour l'exécuter sur votre machine."
   ]
  },
  {
   "cell_type": "code",
   "execution_count": null,
   "metadata": {
    "collapsed": false
   },
   "outputs": [],
   "source": [
    "# we need the turtle module\n",
    "import turtle"
   ]
  },
  {
   "cell_type": "markdown",
   "metadata": {},
   "source": [
    "On commence par définir une fonction qui dessine un carré de coté `length`"
   ]
  },
  {
   "cell_type": "code",
   "execution_count": null,
   "metadata": {
    "collapsed": false
   },
   "outputs": [],
   "source": [
    "def square(length):\n",
    "    \"have the turtle draw a square of side <length>\"\n",
    "    for side in range(4):\n",
    "        turtle.forward(length)\n",
    "        turtle.left(90)"
   ]
  },
  {
   "cell_type": "markdown",
   "metadata": {},
   "source": [
    "Maintenant on commence par initialiser la tortue"
   ]
  },
  {
   "cell_type": "code",
   "execution_count": null,
   "metadata": {
    "collapsed": false
   },
   "outputs": [],
   "source": [
    "turtle.reset()"
   ]
  },
  {
   "cell_type": "markdown",
   "metadata": {},
   "source": [
    "On peut alors dessiner notre carré"
   ]
  },
  {
   "cell_type": "code",
   "execution_count": null,
   "metadata": {
    "collapsed": false
   },
   "outputs": [],
   "source": [
    "square(200)"
   ]
  },
  {
   "cell_type": "markdown",
   "metadata": {},
   "source": [
    "Et pour finir on attend que l'utilisateur clique dans la fenêtre de la tortue, et alors on termine"
   ]
  },
  {
   "cell_type": "code",
   "execution_count": null,
   "metadata": {
    "collapsed": false
   },
   "outputs": [],
   "source": [
    "turtle.exitonclick()"
   ]
  },
  {
   "cell_type": "markdown",
   "metadata": {},
   "source": [
    "## Exercice - niveau avancé"
   ]
  },
  {
   "cell_type": "markdown",
   "metadata": {},
   "source": [
    "Naturellement vous pouvez vous amuser à modifier ce code pour dessiner des choses un peu plus amusantes. \n",
    "\n",
    "Dans ce cas, commencez par chercher \"module python turtle\" dans votre moteur de recherche favori, pour localiser la documentation du module [`turtle`](https://docs.python.org/2/library/turtle.html).\n",
    "\n",
    "Vous trouverez quelques exemples pour commencer ici:\n",
    " * [turtle_multi_squares.py](media/turtle_multi_squares.py) pour dessiner des carrés à l'emplacement de la souris en utilisant plusieurs tortues;\n",
    " * [turtle_fractal.py](media/turtle_fractal.py) pour dessiner une fractale simple;\n",
    " * [turtle_fractal_reglable.py](media/turtle_fractal_reglable.py) une variation sur la fractale, plus parametrable.\n",
    " "
   ]
  }
 ],
 "metadata": {
  "kernelspec": {
   "display_name": "Python 2",
   "language": "python",
   "name": "python2"
  },
  "language_info": {
   "codemirror_mode": {
    "name": "ipython",
    "version": 2
   },
   "file_extension": ".py",
   "mimetype": "text/x-python",
   "name": "python",
   "nbconvert_exporter": "python",
   "pygments_lexer": "ipython2",
   "version": "2.7.12"
  },
  "notebookname": "Dessiner un carré",
  "version": "2.0"
 },
 "nbformat": 4,
 "nbformat_minor": 0
}