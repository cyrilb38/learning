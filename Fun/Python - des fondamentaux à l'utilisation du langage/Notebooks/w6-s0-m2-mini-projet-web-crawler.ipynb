{
 "cells": [
  {
   "cell_type": "markdown",
   "metadata": {},
   "source": [
    "<span style=\"float:left;\">Licence CC BY-NC-ND</span><span style=\"float:right;\">Thierry Parmentelat &amp; Arnaud Legout&nbsp;<img src=\"media/inria-25.png\" style=\"display:inline\"></span><br/>"
   ]
  },
  {
   "cell_type": "markdown",
   "metadata": {},
   "source": [
    "# Crawler Web "
   ]
  },
  {
   "cell_type": "markdown",
   "metadata": {},
   "source": [
    "## Mini-Projet"
   ]
  },
  {
   "cell_type": "markdown",
   "metadata": {},
   "source": [
    "### Objectifs"
   ]
  },
  {
   "cell_type": "markdown",
   "metadata": {},
   "source": [
    "Dans ce projet, nous allons implémenter un simple [crawler Web](http://fr.wikipedia.org/wiki/Robot_d%27indexation), c'est-à-dire un outil capable de parcourir des pages Web en suivant les URLs. C'est typiquement ce que font les moteurs de recherche comme Google. Notre objectif ici est de jouer avec certains des concepts importants que nous avons découvert dans ce MOOC et de pratiquer quelques modules de la librairie standard, mais nous ne chercherons pas la performance parce que ça augmenterait très rapidement la complexité du code et la difficulté du sujet. Cependant, vous constaterez que même si ce crawler n'est pas adapté à crawler des millions de pages, il est parfaitement capable de crawler des milliers de pages et de vous rendre des services (comme identifier les liens morts sur votre site Web)."
   ]
  },
  {
   "cell_type": "markdown",
   "metadata": {},
   "source": [
    "### Réalisation du crawler Web"
   ]
  },
  {
   "cell_type": "markdown",
   "metadata": {},
   "source": [
    "Ce projet est découpé en deux niveaux de difficulté. Nous allons commencer par le niveau avancé qui va vous demander d'écrire vous même tout le code en fonction de nos spécifications de haut niveau. Pour le niveau intermédiaire, nous vous fournirons une description plus précise de notre implémentation. À vous de choisir où vous voulez commencer, mais notez que si vous voulez faire le niveau intermédiaire, vous devrez quand même lire le niveau avancé, parce qu'il contient des informations importantes sur le fonctionnement du crawler. \n",
    "\n",
    "Je vous rappelle qu'une page Web est écrite dans un langage déclaratif qui s'appelle [HTML](http://fr.wikipedia.org/wiki/Hypertext_Markup_Language) et que l'on accède à ces pages au travers d'un protocole qui s'appelle [HTTP](http://fr.wikipedia.org/wiki/Hypertext_Transfer_Protocol). Nous utiliserons dans ce mini projet la librairie standard `urllib2` qui permet d'utiliser le protocole HTTP de manière très simple. Par contre, pour l'interprétation du code HTML, nous ferons tout le traitement à la main. Il existe des librairies pour vous faciliter la tache (nous en parlerons tout à la fin), mais elles supposent une bonne compréhension des concepts sous-jacents à  HTML et XML. Naturellement, vous pouvez les explorer et les essayer dans ce mini projet si vous le souhaitez. "
   ]
  },
  {
   "cell_type": "markdown",
   "metadata": {},
   "source": [
    "### Niveau avancé"
   ]
  },
  {
   "cell_type": "markdown",
   "metadata": {},
   "source": [
    "Le but de notre crawler est le suivant. Nous supposons que nous avons un ensemble (set) de pages Web à crawler, c'est-à-dire, un ensemble de pages Web pour lesquelles on va télécharger le code HTML. On commence avec une seule page que l'on appelle la page initiale. Dans la suite cette page sera\n",
    "\n",
    "http://www-sop.inria.fr/members/Arnaud.Legout/\n",
    "\n",
    "On suppose également que l'on restreint le crawl à un sous ensemble de pages Web. Pour cela on définit une liste de pages filtres (page_filter) tel que si n'importe quel élément de page_filter est contenu dans l'URL de la page que l'on crawl, alors la page passe le filter. Dans la suite, on aura \n",
    "\n",
    "`page_filter = www-sop.inria.fr/members/Arnaud.Legout`\n",
    "\n",
    "Ensuite notre crawler va&nbsp;:\n",
    " * prendre un lien (sans ordre particulier) dans l'ensemble des pages Web à crawler\n",
    " * se connecter à la page correspondant à ce lien, puis\n",
    "   * enregistrer le [code HTTP](http://fr.wikipedia.org/wiki/Liste_des_codes_HTTP) associé à cette page (par exemple, 202 lorsque la requête a été traitée correctement et 404 lorsque le lien est mort). On considérera aussi un code -1 lorsque le site Web ne répond pas.\n",
    "   * recupérer le code HTML de la page\n",
    "   * si la page passe page_filter (typiquement si `filter in page` pour n'importe quel filter dans page_filter) extraire toutes les URLs dans le corps de la page Web (c'est-à-dire, après la balise `<body>`) et ajouter à l'ensemble des pages Web à crawler toutes les URLs commençant par http ou https et toutes les URLs relatives reconstruites commençant par `./` ou `/`\n",
    "      * par exemple, pour `./ma_page.html` et le site `http://mon_site.fr/rep1/` on ajoute l'url `http://mon_site.fr/rep1/ma_page.html`\n",
    "      * par exemple, pour `/ma_page.html` et le site `http://mon_site.fr/rep1/` on ajoute l'url `http://mon_site.fr/ma_page.html` (sans `rep1`)\n",
    " * on recommence au premier point jusqu'à ce que l'ensemble des pages Web à crawler soit vide.  \n",
    "\n",
    "Pour simplifier, on va manipuler le crawler comme un itérable, à chaque appel de `next()` on fait avancer le crawler d'une page (dans l'ensemble des pages à crawler) et on obtient un objet qui contient le code HTTP pour la page, l'URL de la page, et la liste de toutes les URLs contenues dans la page (extraites comme expliqué ci-dessus). \n"
   ]
  },
  {
   "cell_type": "markdown",
   "metadata": {},
   "source": [
    "Le but de ce mini projet est d'utiliser le crawler pour identifier tous les liens défectueux (c'est-à-dire ceux pour lesquels HTTP ne retourne pas un code entre 200 et 299) pour le site `http://www-sop.inria.fr/members/Arnaud.Legout/`. \n",
    "\n",
    "Voici le résultat de l'exécution du crawler avec comme page initiale `http://www-sop.inria.fr/members/Arnaud.Legout/` et comme `page_filter` `[www-sop.inria.fr/members/Arnaud.Legout]`. Donc le crawler va  uniquement tester les liens qui sont dans le site `http://www-sop.inria.fr/members/Arnaud.Legout/` "
   ]
  },
  {
   "cell_type": "markdown",
   "metadata": {},
   "source": [
    "    Page contenant des liens defecteux : \n",
    "    http://www-sop.inria.fr/members/Arnaud.Legout/Projects/p2p_cd.html\n",
    "    ------------------------------------------------------------------------------\n",
    "    CODE HTTP 404\n",
    "            http://dx.doi.org/10.1016/j.comnet.2010.09.014\n",
    "            http://www.cs.ucla.edu/~nikitas/\n",
    "    ==============================================================================\n",
    "    \n",
    "    Page contenant des liens defecteux : \n",
    "    http://www-sop.inria.fr/members/Arnaud.Legout/publications.html\n",
    "    ------------------------------------------------------------------------------\n",
    "    CODE HTTP 404\n",
    "            http://dx.doi.org/10.1016/j.comnet.2010.09.014\n",
    "    ==============================================================================\n",
    "    \n",
    "    Page contenant des liens defecteux : \n",
    "    http://www-sop.inria.fr/members/Arnaud.Legout/Projects/bluebear.html\n",
    "    ------------------------------------------------------------------------------\n",
    "    CODE HTTP 303\n",
    "            http://bits.blogs.nytimes.com/2011/11/29/skype-can-expose-your-location-researchers-say/\n",
    "    CODE HTTP 403\n",
    "            https://threatpost.com/en_us/blogs/attacking-and-defending-tor-network-032911\n",
    "            http://www.pcinpact.com/actu/news/66544-skype-bittorrent-etude-scientifiques-faille.htm\n",
    "    CODE HTTP 404\n",
    "            http://www.zataz.com/news/21651/faille--vulnerability-skype.html\n",
    "    ==============================================================================\n",
    "    \n",
    "    Page contenant des liens defecteux : \n",
    "    http://www-sop.inria.fr/members/Arnaud.Legout/\n",
    "    ------------------------------------------------------------------------------\n",
    "    CODE HTTP -1\n",
    "            http://www.castify.net\n",
    "    ==============================================================================\n",
    "    \n",
    "    Page contenant des liens defecteux : \n",
    "    http://www-sop.inria.fr/members/Arnaud.Legout/index.html\n",
    "    ------------------------------------------------------------------------------\n",
    "    CODE HTTP -1\n",
    "            http://www.castify.net\n",
    "    ==============================================================================\n",
    "    \n",
    "    "
   ]
  },
  {
   "cell_type": "markdown",
   "metadata": {},
   "source": [
    "### Niveau intermédiaire"
   ]
  },
  {
   "cell_type": "markdown",
   "metadata": {},
   "source": [
    "Tout notre programme peut-être écrit dans un même module `webcrawler`. Nous avons dans ce module deux classes. Voici l'aide correspondant à ces deux classes"
   ]
  },
  {
   "cell_type": "markdown",
   "metadata": {},
   "source": [
    "##### Classe `HTMLPage`"
   ]
  },
  {
   "cell_type": "markdown",
   "metadata": {},
   "source": [
    "    Help on class HTMLPage in module webcrawler:\n",
    "    \n",
    "    class HTMLPage(__builtin__.object)\n",
    "     |  represente une page HTML.\n",
    "     |\n",
    "     |  L'objet a 4 attributs:\n",
    "     |      -url: l'URL qui correspond a la page Web\n",
    "     |      -_html_it: un iterateur qui parcourt le code HTML, une ligne\n",
    "     |                 a la fois\n",
    "     |      -urls: la liste de toutes les URLs contenues dans la page\n",
    "     |      -http_code: le code retourne par le protocol HTTP lors de\n",
    "     |                  l'acces a la page\n",
    "     |                  *http_code=0 signifie une erreur dans l'URL,\n",
    "     |                  *http_code=-1 signifie que le site de repond pas\n",
    "     |                  *http_code=-2 signifie une exception en accedant\n",
    "     |                  a l'URL\n",
    "     |\n",
    "     |  Methods defined here:\n",
    "     |\n",
    "     |  __init__(self, url)\n",
    "     |      Constructeur de la classe. Le constructeur prend comme\n",
    "     |      argument une URL et construit un objet HTMLPage en definissant\n",
    "     |      les 4 attributs url, _html_it, urls, http_code\n",
    "     |\n",
    "     |  extract_urls_from_page(self)\n",
    "     |      Construit la liste de toutes les URLs contenues dans le corps de\n",
    "     |      la page HTML en parcourant l'iterateur retourne par\n",
    "     |      page_fetcher()\n",
    "     |\n",
    "     |      On identifie une URL parce qu'elle est precedee de href= et\n",
    "     |      dans le corps (body) de la page. Le parsing que l'on implement\n",
    "     |      est imparfait, mais un vrai parsing intelligent demanderait\n",
    "     |      une analyse syntaxique trop complexe pour nos besoins.\n",
    "     |\n",
    "     |      Plus en details, notre parsing consiste a chercher dans le\n",
    "     |      corps de la page (body):\n",
    "     |\n",
    "     |      -les urls contenues dans le champ href (essentiellement on\n",
    "     |       cherche le tag 'href=' et on extrait ce qui est entre\n",
    "     |       guillemets ou apostrophes)\n",
    "     |\n",
    "     |      -on ne garde ensuite que les urls qui commencent par http ou\n",
    "     |       https et\n",
    "     |\n",
    "     |           * les urls qui commencent par ./ auxquelles on ajoute\n",
    "     |        devant (a la place du point) l'Url de la page d'origine\n",
    "     |        (self.url) exemple : pour './ma_page.html' et self.url =\n",
    "     |        http://mon_site.fr/rep1/ on obtient l'url\n",
    "     |        http://mon_site.fr/rep1/ma_page.html\n",
    "     |\n",
    "     |          * les urls qui commencent par /ma_page.html auxquelles on\n",
    "     |         ajoute devant uniquement le hostname de la page d'origine\n",
    "     |         (self.url) exemple : pour '/ma_page.html' et self.url =\n",
    "     |         http://mon_site.fr/rep1/ on obtient l'url\n",
    "     |         http://mon_site.fr/ma_page.html\n",
    "     |\n",
    "     |      Cette methode retourne la liste des URLs contenues dans la\n",
    "     |      page.\n",
    "     |\n",
    "     |  page_fetcher(self, url)\n",
    "     |      accede a l'URL et retourne un objet qui permet de parcourir le\n",
    "     |      code HTML (voir la documentation de urllib2.urlopen) ou une\n",
    "     |      liste vide en cas d'erreur.\n",
    "     |"
   ]
  },
  {
   "cell_type": "markdown",
   "metadata": {},
   "source": [
    "##### Classe `Crawler`"
   ]
  },
  {
   "cell_type": "markdown",
   "metadata": {},
   "source": [
    "    Help on class Crawler in module webcrawler:\n",
    "    \n",
    "    class Crawler(__builtin__.object)\n",
    "     |  Cette classe permet de creer l'objet qui va gerer le crawl. Cet\n",
    "     |  objet est iterable et l'iterateur va, a chaque tour, retourner un\n",
    "     |  nouvel objet HTMLPage.\n",
    "     |\n",
    "     |  L'instance du crawler va avoir comme principaux attributs\n",
    "     |    * l'ensemble des pages a crawler pages_to_be_crawled\n",
    "     |    * l'ensemble des pages deja crawles pages_crawled\n",
    "     |    * un dictionnaire qui a chaque URL fait correspondre la liste de\n",
    "     |    toutes les pages qui ont reference cette URL lors du crawl\n",
    "     |    pages_to_be_crawled_dict\n",
    "     |\n",
    "     |  Methods defined here:\n",
    "     |\n",
    "     |  __init__(self, seed_url, max_crawled_pages=10000000000L, page_filter=None)\n",
    "     |      Constructeur du crawler\n",
    "     |\n",
    "     |      Le constructeur prend comme arguments\n",
    "     |      -seed_url: l'URL de la page a partir de laquelle on demarre le crawl\n",
    "     |      -max_crawled_pages: le nombre maximum de pages que l'on va crawler\n",
    "     |      (10**10 par defaut)\n",
    "     |      -page_filter: la liste des pages sur lesquels le crawler\n",
    "     |      doit rester (pas de filtre par defaut). Typiquement, une URL\n",
    "     |      passe le filtre si n'importe lequel des elements de page_filter\n",
    "     |      est contenu dans l'URL\n",
    "     |\n",
    "     |  __iter__(self)\n",
    "     |      Cette methode est implementee comme une fonction generatrice. A\n",
    "     |      chaque appel de next() sur l'iterateur, on obtient un nouvel\n",
    "     |      objet HTMLPage qui correspond a une URL qui etait dans\n",
    "     |      l'ensemble des URLs a crawler.\n",
    "     |\n",
    "     |      On ne donne aucune garantie sur l'ordre de parcours des URLs\n",
    "     |\n",
    "     |  __repr__(self)\n",
    "     |      permet d'afficher simplement des informations sur l'etat\n",
    "     |      courant du crawl.\n",
    "     |\n",
    "     |      retourne une chaine de caracteres donnant:\n",
    "     |      -le nombre de pages et domaines deja crawle\n",
    "     |      -le nombre de pages encore a crawler\n",
    "     |      -la duree du dernier crawl\n",
    "     |\n",
    "     |  update_pages_to_be_crawled(self, page)\n",
    "     |      Prend un objet HTMLpage comme argument et trouve toutes les\n",
    "     |      URLs presente dans la page HTML correspondante. Cette methode\n",
    "     |      met a jour le dictionnaire pages_to_be_crawled_dict et\n",
    "     |      l'ensemble pages_to_be_crawled. On ne met pas a jour le\n",
    "     |      dictionnaire et le set si l'URL correspondant a l'objet\n",
    "     |      HTMLpage n'est pas dans la liste de pages acceptees dans\n",
    "     |      self.page_filter.\n",
    "     |"
   ]
  },
  {
   "cell_type": "markdown",
   "metadata": {},
   "source": [
    "##### Fonctions utilitaires"
   ]
  },
  {
   "cell_type": "markdown",
   "metadata": {},
   "source": [
    "On a égalements deux fonctions, qui sont utilisées par les classes, dont voici l'aide."
   ]
  },
  {
   "cell_type": "markdown",
   "metadata": {},
   "source": [
    "    Help on function extract_domains_from_url in module webcrawler:\n",
    "    \n",
    "    extract_domains_from_url(url)\n",
    "        Extrait un domaine d'une URL\n",
    "    \n",
    "        Retourne le tuple T qui contient\n",
    "        T[0]: domaine avec le bon protocol (http://domain or https://domain)\n",
    "        T[1]: domaine sans le protocol (sans http:// or https://)"
   ]
  },
  {
   "cell_type": "markdown",
   "metadata": {},
   "source": [
    "    Help on function is_html_page in module webcrawler:\n",
    "    \n",
    "    is_html_page(url)\n",
    "        simple heuristique pour tester si une page est ecrite en\n",
    "        HTML. Il y a des cas mal identifies par cette heuristique,\n",
    "        mais elle est suffisante pour nos besoins. Par exemple:\n",
    "        http://inria.fr sera identifie comme non html de meme que\n",
    "        toutes les pages qui utilisent des points dans le nom d'un\n",
    "        repertoire."
   ]
  },
  {
   "cell_type": "markdown",
   "metadata": {},
   "source": [
    "##### Le mot de la fin"
   ]
  },
  {
   "cell_type": "markdown",
   "metadata": {},
   "source": [
    "Nous avons à de nombreuses reprises évoqué la puissance de la librairie standard, mais aussi des librairies tierces. En particulier, nous avons insisté sur le fait qu'au démarrage d'un projet, il vaut mieux commencer par chercher si une librairie Python ne fait pas déjà tout ou partie de ce que vous voulez faire. \n",
    "\n",
    "Il existe une librairie Python très puissante qui permet justement de faire des crawlers&nbsp;: il s'agit de [Scrapy](http://scrapy.org/). Maintenant que vous avez compris les bases d'un crawler Web, vous pourrez tirer pleinement bénéfice de Scrapy. \n",
    "\n",
    "Il existe également un librairie pour parser du code HTML, c'est [BeautifulSoup](http://www.crummy.com/software/BeautifulSoup/)."
   ]
  }
 ],
 "metadata": {
  "kernelspec": {
   "display_name": "Python 2",
   "language": "python",
   "name": "python2"
  },
  "notebookname": "Web crawler",
  "version": "2.0"
 },
 "nbformat": 4,
 "nbformat_minor": 0
}