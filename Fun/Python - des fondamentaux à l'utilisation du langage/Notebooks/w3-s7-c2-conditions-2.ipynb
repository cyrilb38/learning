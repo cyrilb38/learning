{
 "cells": [
  {
   "cell_type": "markdown",
   "metadata": {},
   "source": [
    "<span style=\"float:left;\">Licence CC BY-NC-ND</span><span style=\"float:right;\">Thierry Parmentelat &amp; Arnaud Legout&nbsp;<img src=\"media/inria-25.png\" style=\"display:inline\"></span><br/>"
   ]
  },
  {
   "cell_type": "markdown",
   "metadata": {},
   "source": [
    "# Récapitulatif sur les conditions dans un `if`"
   ]
  },
  {
   "cell_type": "markdown",
   "metadata": {},
   "source": [
    "## Complément - niveau basique"
   ]
  },
  {
   "cell_type": "markdown",
   "metadata": {},
   "source": [
    "Dans ce complément nous résumons ce qu'il faut savoir pour écrire une condition dans un `if`."
   ]
  },
  {
   "cell_type": "markdown",
   "metadata": {},
   "source": [
    "### Expression *vs* instruction"
   ]
  },
  {
   "cell_type": "markdown",
   "metadata": {},
   "source": [
    "Nous avons déjà introduit la différence entre instruction et expression, lorsque nous avons vu l'expression conditionnelle:\n",
    " * une expression est un fragment de code qui \"retourne quelque chose\"\n",
    " * alors qu'une instruction permet bien souvent de faire une action, mais ne retourne rien"
   ]
  },
  {
   "cell_type": "markdown",
   "metadata": {},
   "source": [
    "Ainsi parmi les notions que nous avons vues jusqu'ici, nous pouvons citer dans un ordre arbitraire:\n",
    "\n",
    "<table><thead><tr><th>Instructions</th><th>Expressions</th></tr></thead>\n",
    "<tbody>\n",
    "<tr><td>instruction `if`</td><td>expression conditionnelle</td></tr>\n",
    "<tr><td>instruction `for`</td><td>compréhensions</td></tr>\n",
    "<tr><td>affectation</td><td>appel de fonction</td></tr>\n",
    "<tr><td>`print`</td><td>opérateurs `is` et `==`</td></tr>\n",
    "<tr><td>`import`</td><td>opérateur `in`</td></tr>\n",
    "</tbody></table>"
   ]
  },
  {
   "cell_type": "markdown",
   "metadata": {},
   "source": [
    "### Toutes les expressions sont éligibles"
   ]
  },
  {
   "cell_type": "markdown",
   "metadata": {},
   "source": [
    "Comme condition d'une instruction `if`, on peut mettre n'importe quelle expression.\n",
    "\n",
    "Comme on l'a déjà signalé, il n'est pas nécessaire que cette expression retourne un booléen:"
   ]
  },
  {
   "cell_type": "code",
   "execution_count": null,
   "metadata": {
    "collapsed": false
   },
   "outputs": [],
   "source": [
    "for n in [18, 19]:\n",
    "    if n % 3:\n",
    "        print n, \"n'est pas divisible par trois\"\n",
    "    else:\n",
    "        print n, \"est divisible par trois\""
   ]
  },
  {
   "cell_type": "markdown",
   "metadata": {},
   "source": [
    "### Une valeur est-elle \"vraie\" ?"
   ]
  },
  {
   "cell_type": "markdown",
   "metadata": {},
   "source": [
    "Se pose dès lors la question de savoir précisément quelles valeurs sont considérées comme *vraies* par l'instruction `if`. \n",
    "\n",
    "Parmi les types de base, nous avons déjà eu l'occasion de l'évoquer, les valeurs *fausses* sont typiquement\n",
    " * 0 pour les valeurs numériques\n",
    " * les objets vides pour les chaînes, listes, ensembles, dictionnaires, etc."
   ]
  },
  {
   "cell_type": "markdown",
   "metadata": {},
   "source": [
    "Pour en avoir le cœur net, pensez à utiliser dans le terminal interactif la fonction `bool`. Comme pour toutes les fonctions qui portent le nom d'un type, la fonction `bool` est un constructeur qui fabrique un objet booléen. \n",
    "\n",
    "Si vous appelez `bool` sur un objet, la valeur de retour - qui est donc par construction une valeur booléenne - vous indique cette fois sans ambiguïté - comment se comportera `if` avec cette entrée."
   ]
  },
  {
   "cell_type": "code",
   "execution_count": null,
   "metadata": {
    "collapsed": false
   },
   "outputs": [],
   "source": [
    "def show_bool(x):\n",
    "    print 'condition', x, ' considérée comme', bool(x)\n",
    "    \n",
    "for exp in [ None, \"\", 'a', [], [1], (), (1, 2), {}, {'a': 1}, set(), {1}]:\n",
    "    show_bool (exp)"
   ]
  },
  {
   "cell_type": "markdown",
   "metadata": {},
   "source": [
    "### Quelques exemples d'expressions"
   ]
  },
  {
   "cell_type": "markdown",
   "metadata": {},
   "source": [
    "##### Référence à une variable et dérivés"
   ]
  },
  {
   "cell_type": "code",
   "execution_count": null,
   "metadata": {
    "collapsed": false
   },
   "outputs": [],
   "source": [
    "a = range(10)\n",
    "if a:\n",
    "    print \"a n'est pas vide\"\n",
    "if a[1]:\n",
    "    print \"a[1] n'est pas nul\""
   ]
  },
  {
   "cell_type": "markdown",
   "metadata": {},
   "source": [
    "##### Appels de fonction ou de méthode"
   ]
  },
  {
   "cell_type": "code",
   "execution_count": null,
   "metadata": {
    "collapsed": false
   },
   "outputs": [],
   "source": [
    "chaine = \"jean\"\n",
    "if chaine.upper():\n",
    "    print \"la chaine mise en majuscule n'est pas vide\""
   ]
  },
  {
   "cell_type": "code",
   "execution_count": null,
   "metadata": {
    "collapsed": false
   },
   "outputs": [],
   "source": [
    "# on rappelle qu'une fonction qui ne fait pas 'return' retourne None\n",
    "def procedure(a, b, c):\n",
    "    \"cette fonction ne retourne rien\"\n",
    "    pass\n",
    "\n",
    "if procedure(1, 2, 3):\n",
    "    print \"ne passe pas ici car procedure retourne None\"\n",
    "else:\n",
    "    print \"attendu\"\n"
   ]
  },
  {
   "cell_type": "markdown",
   "metadata": {},
   "source": [
    "##### Compréhensions"
   ]
  },
  {
   "cell_type": "markdown",
   "metadata": {},
   "source": [
    "Il découle de ce qui précède qu'on peut tout à fait mettre une compréhension comme condition, ce qui peut être utile pour savoir si au moins un élément remplit une condition, comme par exemple:"
   ]
  },
  {
   "cell_type": "code",
   "execution_count": null,
   "metadata": {
    "collapsed": false
   },
   "outputs": [],
   "source": [
    "inputs = [23, 65, 24]\n",
    "# y a-t-il dans inputs au moins un nombre dont le carré est 10*n+5\n",
    "def condition(n):\n",
    "    return n * n % 10 == 5\n",
    "\n",
    "if [input for input in inputs if condition(input)]:\n",
    "    print \"au moins une entrée convient\""
   ]
  },
  {
   "cell_type": "markdown",
   "metadata": {},
   "source": [
    "Je vous rappelle que nous aborderons la compréhension en semaine 5. Donc, si l'exemple précédent vous paraît obscur, pas d'inquiétude, vous pourrez revenir dessus après avoir vu la compréhension en semaine 5."
   ]
  },
  {
   "cell_type": "markdown",
   "metadata": {},
   "source": [
    "##### Opérateurs"
   ]
  },
  {
   "cell_type": "markdown",
   "metadata": {},
   "source": [
    "Nous avons déjà eu l'occasion de rencontrer la plupart des opérateurs de comparaison du langage, dont voici à nouveau les principaux\n",
    "\n",
    "<table><thead><tr><th>Famille</th><th>Exemples</th></tr></thead>\n",
    "<tbody>\n",
    "<tr><td>Égalité</td><td>`==`, `!=`, `is`, `is not` </td></tr>\n",
    "<tr><td>Appartenance</td><td>`in`</td></tr>\n",
    "<tr><td>Comparaison</td><td>`<=`, `<`, `>`, `>=`</td></tr>\n",
    "<tr><td>Logiques</td><td>`and`, `or`, `not`</td></tr>\n",
    "</tbody></table>\n"
   ]
  },
  {
   "cell_type": "markdown",
   "metadata": {},
   "source": [
    "## Complément - niveau intermédiaire"
   ]
  },
  {
   "cell_type": "markdown",
   "metadata": {},
   "source": [
    "### Remarques sur les opérateurs"
   ]
  },
  {
   "cell_type": "markdown",
   "metadata": {},
   "source": [
    "Voici enfin quelques remarques sur ces opérateurs"
   ]
  },
  {
   "cell_type": "markdown",
   "metadata": {},
   "source": [
    "##### opérateur d'égalité `==` "
   ]
  },
  {
   "cell_type": "markdown",
   "metadata": {},
   "source": [
    "L'opérateur `==` ne fonctionne en général (sauf pour les nombres) que sur des objets de même type; c'est-à-dire que notamment un tuple ne sera jamais égal à une liste:"
   ]
  },
  {
   "cell_type": "code",
   "execution_count": null,
   "metadata": {
    "collapsed": false
   },
   "outputs": [],
   "source": [
    "[] == ()"
   ]
  },
  {
   "cell_type": "code",
   "execution_count": null,
   "metadata": {
    "collapsed": false
   },
   "outputs": [],
   "source": [
    "[1, 2] == (1, 2)"
   ]
  },
  {
   "cell_type": "markdown",
   "metadata": {},
   "source": [
    "##### opérateur logiques"
   ]
  },
  {
   "cell_type": "markdown",
   "metadata": {},
   "source": [
    "Comme c'est le cas avec par exemple les opérateurs arithmétiques, les opérateurs logiques ont une *priorité*, qui précise le sens des phrases non parenthésées. C'est-à-dire pour être explcite, que de la même manière que\n",
    "\n",
    "    12 + 4 * 8 \n",
    "\n",
    "est équivalent à\n",
    "\n",
    "    12 + ( 4 * 8 )\n",
    "    \n",
    "pour les booléens il existe une règle de ce genre et\n",
    "\n",
    "    a and not b or c and d\n",
    "\n",
    "est équivalent à\n",
    "\n",
    "    (a and (not b)) or (c and d)\n",
    "\n",
    "Mais en fait, il est assez facile de s'emmêler dans ces priorités et il est très fortement conseillé de parenthéser.\n",
    "    "
   ]
  },
  {
   "cell_type": "markdown",
   "metadata": {},
   "source": [
    "##### opérateurs logiques (2)"
   ]
  },
  {
   "cell_type": "markdown",
   "metadata": {},
   "source": [
    "Les opérateurs logiques peuvent être appliqués à des valeurs qui ne sont pas booléennes:"
   ]
  },
  {
   "cell_type": "code",
   "execution_count": null,
   "metadata": {
    "collapsed": false
   },
   "outputs": [],
   "source": [
    "2 and [1, 2]"
   ]
  },
  {
   "cell_type": "markdown",
   "metadata": {},
   "source": [
    "### Expression conditionnelle dans une instruction `if`"
   ]
  },
  {
   "cell_type": "markdown",
   "metadata": {},
   "source": [
    "En toute rigueur on peut aussi mettre un `<> if <> else <>` - donc une expression conditionnelle - comme condition dans une instruction `if`. Nous le signalons pour bien illustrer la logique du langage, mais cette pratique n'est pas du tout conseillée."
   ]
  },
  {
   "cell_type": "code",
   "execution_count": null,
   "metadata": {
    "collapsed": false
   },
   "outputs": [],
   "source": [
    "# cet exemple est volontairement tiré par les cheveux \n",
    "# pour bien montrer qu'on peut mettre n'importe quelle expression comme condition\n",
    "a = 1\n",
    "# ceci est franchement illisible\n",
    "if 0 if not a else 2:\n",
    "    print \"une construction illisible\"\n",
    "# et encore pire\n",
    "if 0 if a else 3 if a + 1 else 2:\n",
    "    print \"encore pire\""
   ]
  },
  {
   "cell_type": "markdown",
   "metadata": {},
   "source": [
    "### Pour en savoir plus"
   ]
  },
  {
   "cell_type": "markdown",
   "metadata": {},
   "source": [
    "https://docs.python.org/2/tutorial/datastructures.html#more-on-conditions"
   ]
  },
  {
   "cell_type": "markdown",
   "metadata": {},
   "source": [
    "### Types définis par l'utilisateur"
   ]
  },
  {
   "cell_type": "markdown",
   "metadata": {},
   "source": [
    "Pour anticiper un tout petit peu, nous verrons que les classes en python vous donnent le moyen de définir vos propres types d'objets. Nous verrons à cette occasion qu'il est possible d'indiquer à python quels sont les objets de type `MaClasse` qui doivent être considérés comme `True` ou comme `False`. \n",
    "\n",
    "De manière plus générale, tous les traits natifs du langage sont redéfinissables sur les classes. Nous verrons par exemple également comment donner du sens à des phrases comme\n",
    "\n",
    "    mon_objet = MaClasse()\n",
    "    for partie in mon_objet:\n",
    "        <faire quelque chose sur partie>\n",
    "\n",
    "Mais n'anticipons pas trop, rendez-vous en semaine 5."
   ]
  }
 ],
 "metadata": {
  "kernelspec": {
   "display_name": "Python 2",
   "language": "python",
   "name": "python2"
  },
  "notebookname": "Conditions",
  "version": "2.0"
 },
 "nbformat": 4,
 "nbformat_minor": 0
}