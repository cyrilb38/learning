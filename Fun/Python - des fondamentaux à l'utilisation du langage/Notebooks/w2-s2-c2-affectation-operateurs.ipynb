{
 "cells": [
  {
   "cell_type": "markdown",
   "metadata": {},
   "source": [
    "<span style=\"float:left;\">Licence CC BY-NC-ND</span><span style=\"float:right;\">Thierry Parmentelat &amp; Arnaud Legout&nbsp;<img src=\"media/inria-25.png\" style=\"display:inline\"></span><br/>"
   ]
  },
  {
   "cell_type": "markdown",
   "metadata": {},
   "source": [
    "# Affectations & Opérations (à la +=)"
   ]
  },
  {
   "cell_type": "markdown",
   "metadata": {},
   "source": [
    "## Complément - niveau intermédiaire"
   ]
  },
  {
   "cell_type": "markdown",
   "metadata": {},
   "source": [
    "Il existe en python toute une famille d'opérateurs dérivés de l'affectation, qui permettent de faire en une fois une opération et une affectation. En voici quelques exemples."
   ]
  },
  {
   "cell_type": "markdown",
   "metadata": {},
   "source": [
    "### Incrémentation"
   ]
  },
  {
   "cell_type": "markdown",
   "metadata": {},
   "source": [
    "On peut facilement augmenter la valeur d'une variable numérique comme ceci"
   ]
  },
  {
   "cell_type": "code",
   "execution_count": null,
   "metadata": {
    "collapsed": false
   },
   "outputs": [],
   "source": [
    "entier = 10\n",
    "\n",
    "entier += 2\n",
    "print 'entier', entier"
   ]
  },
  {
   "cell_type": "markdown",
   "metadata": {},
   "source": [
    "Comme on le devine peut-être, ceci est équivalent à "
   ]
  },
  {
   "cell_type": "code",
   "execution_count": null,
   "metadata": {
    "collapsed": false
   },
   "outputs": [],
   "source": [
    "entier = entier + 2\n",
    "print 'entier', entier"
   ]
  },
  {
   "cell_type": "markdown",
   "metadata": {},
   "source": [
    "### Autres opérateurs courants"
   ]
  },
  {
   "cell_type": "markdown",
   "metadata": {},
   "source": [
    "Cette forme, qui combine opération sur une variable, et réaffectation du résultat à la même variable, est disponible avec tous les opérateurs courants"
   ]
  },
  {
   "cell_type": "code",
   "execution_count": null,
   "metadata": {
    "collapsed": false
   },
   "outputs": [],
   "source": [
    "entier -= 4\n",
    "print 'après décrément', entier\n",
    "entier *= 2\n",
    "print 'après doublement', entier\n",
    "entier /= 2\n",
    "print 'mis à moitié', entier\n"
   ]
  },
  {
   "cell_type": "markdown",
   "metadata": {},
   "source": [
    "### Types non numériques"
   ]
  },
  {
   "cell_type": "markdown",
   "metadata": {},
   "source": [
    "En réalité cette construction est disponible sur tous les types qui supportent l'opérateur en question. Par exemple les listes (que nous verrons bientôt) peuvent être additionnées entre elles:"
   ]
  },
  {
   "cell_type": "code",
   "execution_count": null,
   "metadata": {
    "collapsed": false
   },
   "outputs": [],
   "source": [
    "liste = range(3)\n",
    "print 'liste', liste\n",
    "\n",
    "liste += ['a', 'b']\n",
    "print 'aprés ajout', liste"
   ]
  },
  {
   "cell_type": "markdown",
   "metadata": {},
   "source": [
    "Beaucoup de types supportent l'opérateur +, qui est sans doute de loin celui qui est le plus utilisé avec cette construction."
   ]
  },
  {
   "cell_type": "markdown",
   "metadata": {},
   "source": [
    "### Opérateurs plus abscons"
   ]
  },
  {
   "cell_type": "markdown",
   "metadata": {},
   "source": [
    "Signalons enfin qu'on trouve cette construction aussi avec d'autres opérateurs moins fréquents, par exemple"
   ]
  },
  {
   "cell_type": "code",
   "execution_count": null,
   "metadata": {
    "collapsed": false
   },
   "outputs": [],
   "source": [
    "entier = 2\n",
    "print 'entier:', entier\n",
    "entier **= 10\n",
    "print 'à la puissance dix:', entier\n",
    "entier %= 5\n",
    "print 'modulo 5:', entier\n",
    "entier <<= 2\n",
    "print 'double décalage gauche:', entier"
   ]
  }
 ],
 "metadata": {
  "kernelspec": {
   "display_name": "Python 2",
   "language": "python",
   "name": "python2"
  },
  "notebookname": "+= et autres",
  "version": "2.0"
 },
 "nbformat": 4,
 "nbformat_minor": 0
}