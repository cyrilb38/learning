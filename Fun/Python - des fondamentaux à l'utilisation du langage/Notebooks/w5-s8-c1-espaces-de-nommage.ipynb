{
 "cells": [
  {
   "cell_type": "markdown",
   "metadata": {},
   "source": [
    "<span style=\"float:left;\">Licence CC BY-NC-ND</span><span style=\"float:right;\">Thierry Parmentelat &amp; Arnaud Legout&nbsp;<img src=\"media/inria-25.png\" style=\"display:inline\"></span><br/>"
   ]
  },
  {
   "cell_type": "markdown",
   "metadata": {},
   "source": [
    "# Espaces de nommage"
   ]
  },
  {
   "cell_type": "markdown",
   "metadata": {},
   "source": [
    "## Complément - niveau basique"
   ]
  },
  {
   "cell_type": "markdown",
   "metadata": {},
   "source": [
    "Nous venons de voir les règles pour l'affectation (ou l'assignation) et le référencement des variables et des attributs&nbsp;; en particulier, on doit faire une distinction entre les attributs et les variables. "
   ]
  },
  {
   "cell_type": "markdown",
   "metadata": {},
   "source": [
    " * Les attributs sont résolus de manière **dynamique**, c'est-à-dire au moment de l'exécution (à *run-time*),\n",
    " * alors que la liaison des variables est par contre **statique** (à compile-time) et **lexicale**, en ce sens qu'elle se base uniquement sur les imbrications de code."
   ]
  },
  {
   "cell_type": "markdown",
   "metadata": {},
   "source": [
    "Vous voyez donc que la différence entre attributs et variables est fondamentale. Dans ce complément, nous allons reprendre et résumer les différentes règles qui régissent l'affectation et le référencement des attributs et des variables."
   ]
  },
  {
   "cell_type": "markdown",
   "metadata": {},
   "source": [
    "##### Attributs"
   ]
  },
  {
   "cell_type": "markdown",
   "metadata": {},
   "source": [
    "Un attribut est un symbole `x` utilisé dans la notation `obj.x` où `obj` est l'objet qui définit l'espace de nommage sur lequel `x` existe. \n",
    "\n",
    "L'**affectation** (explicite ou implicite) d'un attribut `x` sur un objet `obj` va créer un symbole `x` dans l'espace de nommage de `obj`, symbole qui va référencer l'objet affecté, par exemple, l'objet à droite du signe `=` lors d'une affectation explicite. "
   ]
  },
  {
   "cell_type": "code",
   "execution_count": null,
   "metadata": {
    "collapsed": false
   },
   "outputs": [],
   "source": [
    "class MaClasse:\n",
    "    pass\n",
    "MaClasse.x = 10 # affectation explicite\n",
    "#le symbole x est défini dans l'espace de nommage de MaClasse\n",
    "print MaClasse.__dict__"
   ]
  },
  {
   "cell_type": "markdown",
   "metadata": {},
   "source": [
    "Le **référencement** d'un attribut va chercher cet attribut de long de l'arbre d'héritage en commençant par l'instance, puis la classe qui a créé l'instance, puis les super classes et suivant la MRO (voir le complément sur l'héritage multiple). "
   ]
  },
  {
   "cell_type": "markdown",
   "metadata": {},
   "source": [
    "##### Variables"
   ]
  },
  {
   "cell_type": "markdown",
   "metadata": {},
   "source": [
    "Une variable est un symbole qui n'est pas précédé de la notation `obj.` et l'affectation d'une variable rend cette variable locale au bloc de code dans lequel elle est définie, un bloc de code pouvant être&nbsp;:\n",
    " * une fonction, dans ce cas la variable est locale à la fonction&nbsp;;\n",
    " * une classe, dans ce cas la variable est locale à la classe&nbsp;;\n",
    " * un module, dans ce cas la variable est locale au module, on dit également que la variable est globale.\n",
    " \n",
    "Une variable référencée est toujours cherchée suivant la règle LEG&nbsp;:\n",
    " * localement au bloc de code dans lequel elle est référencée&nbsp;;\n",
    " * puis dans les blocs de code des **fonctions ou méthodes** englobantes, s'il y en a, de la plus proche à la plus eloignée&nbsp;;\n",
    " * puis dans le bloc de code du module.\n",
    " \n",
    "Si la variable n'est toujours pas trouvée, elle est cherchée dans le module `__builtin__` et si elle n'est toujours pas trouvée, il y a une exception. \n",
    "\n",
    "Dans la vidéo, pour bien montrer les différents cas, on a défini trois règles : la règle G pour les modules, la règles LEG pour les fonctions et la règles LG pour les classes. Mais il s'agit en fait toujours d'une dérivation de la règle LEG. En effet, \n",
    " * la règle G pour les modules correspond en fait à la règle LEG sauf que dans ce cas, le seul bloc de code pertinent est celui du module&nbsp;;\n",
    " * la règle LG pour les classes correspond aussi à la règle LEG sauf que dans l'exemple de la vidéo on n'a que des classes englobantes, pas de fonctions englobantes. \n",
    " \n",
    "Évidement, même pour les classes, si on a des fonctions (ou méthodes) englobantes, la règle LEG s'applique. Par exemple\n"
   ]
  },
  {
   "cell_type": "code",
   "execution_count": null,
   "metadata": {
    "collapsed": false
   },
   "outputs": [],
   "source": [
    "var = 'dans le module'\n",
    "class A:\n",
    "    var = 'dans la classe A'\n",
    "    def f(self):\n",
    "        var = 'dans la fonction f'\n",
    "        class B:\n",
    "            print var\n",
    "        B()\n",
    "A().f()"
   ]
  },
  {
   "cell_type": "markdown",
   "metadata": {},
   "source": [
    "##### En résumé"
   ]
  },
  {
   "cell_type": "markdown",
   "metadata": {},
   "source": [
    "Dans la vidéo et dans ce complément basique, on a couvert tous les cas standards, et même si python est un langage plutôt mieux fait, avec moins de cas particuliers, que d'autres langages, il a également ses cas étranges entre raisons historiques et bugs qui ne seront jamais corrigés (parce que ça casserait plus de choses que ça n'en réparerait). Pour éviter de tomber dans ces cas spéciaux, c'est simple vous n'avez qu'à suivre deux règles&nbsp;:\n",
    " * ne jamais affecter dans un bloc de code local une variable de même nom qu'une variable globale&nbsp;;\n",
    " * toujours mettre la directive `global` comme première instruction du bloc de code où elle s'applique (mais nous vous rappelons qu'il faut éviter d'utiliser cette directive dans le code que vous écrivez).\n",
    " \n",
    "Si vous ne suivez pas ces règles, vous risquez de tomber dans un cas particulier que nous détaillons ci-dessous dans la partie avancée. \n"
   ]
  },
  {
   "cell_type": "markdown",
   "metadata": {},
   "source": [
    "## Complément - niveau avancé"
   ]
  },
  {
   "cell_type": "markdown",
   "metadata": {},
   "source": [
    "##### UnboundLocalError"
   ]
  },
  {
   "cell_type": "markdown",
   "metadata": {},
   "source": [
    "Nous avons déjà vu cette erreur en semaine 4, dans le deuxième complément de la vidéo 6. Cette erreur se produit justement lorsque vous ne respectez pas la première des règles ci-dessus. "
   ]
  },
  {
   "cell_type": "code",
   "execution_count": null,
   "metadata": {
    "collapsed": false
   },
   "outputs": [],
   "source": [
    "x = 1\n",
    "def f():\n",
    "    print x\n",
    "    x = 10 + x\n",
    "    return x\n",
    "f()"
   ]
  },
  {
   "cell_type": "markdown",
   "metadata": {},
   "source": [
    "Ce code n'a que des défauts. Il est ambigu&nbsp;: on mélange x global et x local et il est impossible de savoir ce que ça doit faire, il ne respecte pas la première règle car x est une variable globale et on utilise le même nom pour une variable locale à la fonction. Comment faire alors ? Respecter la première règle. Oui, mais comment être sûr qu'on n'utilise pas localement un nom défini globalement ? Il faut utiliser des noms de variables qui ont un sens. Regardons un exemple "
   ]
  },
  {
   "cell_type": "code",
   "execution_count": null,
   "metadata": {
    "collapsed": false
   },
   "outputs": [],
   "source": [
    "increment_par_defaut = 1\n",
    "def shift_10():\n",
    "    #on print pour débugger ici\n",
    "    print increment_par_defaut\n",
    "    \n",
    "    total_shift = 10 + increment_par_defaut\n",
    "    return total_shift\n",
    "shift_10()"
   ]
  },
  {
   "cell_type": "markdown",
   "metadata": {},
   "source": [
    "Ma fonction n'est sans doute toujours pas révolutionnaire, mais elle est parfaitement claire et suit la la première règle."
   ]
  },
  {
   "cell_type": "markdown",
   "metadata": {},
   "source": [
    "##### La documentation officielle est fausse"
   ]
  },
  {
   "cell_type": "markdown",
   "metadata": {},
   "source": [
    "Oui, vous avez bien lu, la documentation officielle est fausse sur un point subtil. Regardons le [modèle d'exécution](https://docs.python.org/2.7/reference/executionmodel.html), on trouve la phrase suivante \"If a name binding operation occurs anywhere within a code block, all uses of the name within the block are treated as references to the current block.\" qui est fausse, il faut lire \"If a name binding operation occurs anywhere within a code block **of a function**, all uses of the name within the block are treated as references to the current block.\" \n",
    "\n",
    "En effet, les classes se comportent différemment des fonctions"
   ]
  },
  {
   "cell_type": "code",
   "execution_count": null,
   "metadata": {
    "collapsed": false
   },
   "outputs": [],
   "source": [
    "x = \"x du module\"\n",
    "class A():\n",
    "    print \"dans classe A: \" + x\n",
    "    x = \"x dans A\"\n",
    "    print \"dans classe A: \" + x\n",
    "    del x\n",
    "    print \"dans classe A: \" + x\n"
   ]
  },
  {
   "cell_type": "markdown",
   "metadata": {},
   "source": [
    "Alors pourquoi si c'est une mauvaise idée de mélanger variables globales et locales de même nom dans une fonction, c'est possible dans une classe ?\n",
    "\n",
    "Cela vient de la manière dont sont implémentés les espaces de nommage. Normalement, un objet a pour espace de nommage un dictionnaire qui s'appelle `__dict__`. D'un côté un dictionnaire est un objet python qui offre beaucoup de flexibilité, mais d'un autre côté, il induit un petit surcoût pour chaque recherche d'éléments. Comme les fonctions sont des objets qui par définition peuvent être appelés très souvent, il a été décidé de mettre toutes les variables locales à la fonction dans un objet écrit en C qui n'est pas dynamique (on ne peut pas ajouter des éléments à l'exécution), mais qui est un peu plus rapide qu'un dictionnaire lors de l'accès aux variables. Mais pour faire cela, il faut déterminer la portée de la variable dans la phase de précompilation. Donc si le précompilateur trouve une affectation (explicite ou implicite) dans une fonction, il considère la variable comme locale pour tout le bloc de code. Donc si on référence une variable définie comme étant locale avant une affectation dans la fonction, on ne va pas la chercher globalement, on a une erreur `UnboundLocalError`.\n",
    "\n",
    "Cette optimisation n'a pas été faite pour les classes, parce que dans l'évaluation du compromis souplesse contre efficacité pour les classes, c'est la souplesse, donc le dictionnaire qui a gagné. "
   ]
  },
  {
   "cell_type": "markdown",
   "metadata": {},
   "source": [
    "##### Le bug 532860"
   ]
  },
  {
   "cell_type": "markdown",
   "metadata": {},
   "source": [
    "Ce bug n'apparait que si vous ne suivez pas la première règle. On ne détaillera pas plus ce bug ici, bug qui ne sera jamais corrigé, mais si vous êtes intéressés, vous pouvez lire le [bug report](http://bugs.python.org/issue532860) et une [intéressante discussion liée à ce bug](http://stackoverflow.com/questions/20246523/how-references-to-variables-are-resolved-in-python)."
   ]
  },
  {
   "cell_type": "markdown",
   "metadata": {},
   "source": [
    "##### Directive `global` au début du bloc de code"
   ]
  },
  {
   "cell_type": "markdown",
   "metadata": {},
   "source": [
    "La deuxième règle est que la directive `global` doit toujours être au début du bloc de code. Regardons ce qu'il se passe si ça n'est pas le cas"
   ]
  },
  {
   "cell_type": "code",
   "execution_count": null,
   "metadata": {
    "collapsed": false
   },
   "outputs": [],
   "source": [
    "x = 'x dans le module'\n",
    "\n",
    "def f():\n",
    "    x = 'x dans f, première affectation'\n",
    "    global x\n",
    "\n",
    "f()\n",
    "print x"
   ]
  },
  {
   "cell_type": "markdown",
   "metadata": {},
   "source": [
    "Alors que `global` est après l'affectation, on voit que la variable globale `x` a bien été modifiée. En fait, `global` n'est pas une instruction, mais une directive au précompilateur. De même que le précompilateur détermine qu'une variable affectée dans une fonction est locale, s'il trouve la directive `global`, il déterminera que cette variable est globale pour tout le bloc de code. \n",
    "\n",
    "C'est source de confusion et d'erreurs, pour cette raison, dans les dernières versions de python 2, si une directive `global` arrive après une affectation locale de la variable, il y a une exception `SyntaxWarning`. \n",
    "\n",
    "Pour finir, rappelons que l'utilisation de la directive `global` est fortement déconseillée puisqu'elle rend implicite les communications entre espaces de nommage. Il faut à la place toujours favoriser les passages d'arguments et les retours de fonctions. Souvenons-nous du Zen de python..."
   ]
  },
  {
   "cell_type": "code",
   "execution_count": null,
   "metadata": {
    "collapsed": false
   },
   "outputs": [],
   "source": [
    "import this"
   ]
  },
  {
   "cell_type": "markdown",
   "metadata": {},
   "source": [
    "Et en particulier"
   ]
  },
  {
   "cell_type": "code",
   "execution_count": null,
   "metadata": {
    "collapsed": false
   },
   "outputs": [],
   "source": [
    "zens = (\"\".join([this.d.get(x, x) for x in this.s])).split('\\n')\n",
    "print zens[3]\n",
    "print zens[-1]"
   ]
  },
  {
   "cell_type": "markdown",
   "metadata": {},
   "source": [
    "Et pour ceux qui se demandent pourquoi il faut une expression compliquée pour sortir deux phrases du Zen de python, c'est parce que le zen de python se mérite :)"
   ]
  }
 ],
 "metadata": {
  "kernelspec": {
   "display_name": "Python 2",
   "language": "python",
   "name": "python2"
  },
  "notebookname": "Espaces de nommage",
  "version": "2.0"
 },
 "nbformat": 4,
 "nbformat_minor": 0
}