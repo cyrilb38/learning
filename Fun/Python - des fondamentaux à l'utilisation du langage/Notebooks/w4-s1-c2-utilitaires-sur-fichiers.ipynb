{
 "cells": [
  {
   "cell_type": "markdown",
   "metadata": {},
   "source": [
    "<span style=\"float:left;\">Licence CC BY-NC-ND</span><span style=\"float:right;\">Thierry Parmentelat &amp; Arnaud Legout&nbsp;<img src=\"media/inria-25.png\" style=\"display:inline\"></span><br/>"
   ]
  },
  {
   "cell_type": "markdown",
   "metadata": {},
   "source": [
    "# Fichiers et utilitaires"
   ]
  },
  {
   "cell_type": "markdown",
   "metadata": {},
   "source": [
    "## Complément - niveau basique"
   ]
  },
  {
   "cell_type": "markdown",
   "metadata": {},
   "source": [
    "Nous présentons dans ce complément quelques utilitaires autour des fichiers. Il ne s'agit pas d'outils liés au type `file` à proprement parler, mais qui sont utiles malgré tout dans le contexte de la manipulation de fichiers."
   ]
  },
  {
   "cell_type": "markdown",
   "metadata": {},
   "source": [
    "### Le module `os.path`"
   ]
  },
  {
   "cell_type": "markdown",
   "metadata": {},
   "source": [
    "Ce module propose un certain nombre d'utilitaires à large spectre sur les fichiers, et entre autres les choses suivantes."
   ]
  },
  {
   "cell_type": "markdown",
   "metadata": {},
   "source": [
    "##### Manipulations de noms de fichier"
   ]
  },
  {
   "cell_type": "markdown",
   "metadata": {},
   "source": [
    "Pour commencer, nous vous recommandons d'utiliser le module `os.path` pour manipuler les noms de fichier, surtout si vous écrivez du code multi-plateforme. Voyez en particulier dans cette catégorie\n",
    "\n",
    " * `os.path.join` ajoute '/' ou '\\' entre deux morceaux de chemin, selon l'OS\n",
    " * `os.path.basename` trouve le nom de fichier dans un chemin\n",
    " * `os.path.dirname` trouve le nom du directory dans un chemin\n",
    " * `os.path.abspath` calcule un chemin absolu, c'est-à-dire à partir de la racine du filesystem "
   ]
  },
  {
   "cell_type": "markdown",
   "metadata": {},
   "source": [
    "##### Existence de fichier / métadonnées"
   ]
  },
  {
   "cell_type": "markdown",
   "metadata": {},
   "source": [
    "Les fonctions suivantes retournent des informations obtenues auprès de l'OS dans les métadonnées associées aux fichiers (concrètement, sans ouvrir le fichier)."
   ]
  },
  {
   "cell_type": "markdown",
   "metadata": {},
   "source": [
    " * `os.path.exists` pour savoir si un chemin existe ou pas (fichier ou répertoire)\n",
    " * `os.path.isfile` (et `isdir`) pour savoir si un chemin est un fichier  (et un répertoire)\n",
    " * `os.path.getsize` pour obtenir la taille du fichier \n",
    " * `os.path.getatime` et aussi `getmtime` et `getctime`  pour obtenir les dates de création/modification d'un fichier"
   ]
  },
  {
   "cell_type": "markdown",
   "metadata": {},
   "source": [
    "##### Et autres"
   ]
  },
  {
   "cell_type": "markdown",
   "metadata": {},
   "source": [
    "Reportez-vous à la [documentation complète de `os.path`](https://docs.python.org/2/library/os.path.html) pour plus de détails sur ce module."
   ]
  },
  {
   "cell_type": "markdown",
   "metadata": {},
   "source": [
    "### Le module `os`"
   ]
  },
  {
   "cell_type": "markdown",
   "metadata": {},
   "source": [
    "Signalons aussi, mais cette fois du module `os`, les fonctions\n",
    " * `os.remove` (ou son ancien nom `os.unlink`), qui permet de supprimer un fichier\n",
    " * `os.rmdir` pour supprimer un répertoire (mais qui doit être vide)\n",
    " * `os.removedirs` pour supprimer tout un répertoire avec son contenu, récursivement si nécessaire\n",
    " * `os.rename` pour renommer un fichier"
   ]
  },
  {
   "cell_type": "markdown",
   "metadata": {},
   "source": [
    "##### Et autres"
   ]
  },
  {
   "cell_type": "markdown",
   "metadata": {},
   "source": [
    "Le module `os` comporte un grand nombre d'autres fonctionnalités que celles relatives aux fichiers, vous pouvez consulter la [documentation complète de `os`](https://docs.python.org/2/library/os.html) pour une liste exhaustive."
   ]
  },
  {
   "cell_type": "markdown",
   "metadata": {},
   "source": [
    "### Un petit exemple"
   ]
  },
  {
   "cell_type": "markdown",
   "metadata": {},
   "source": [
    "Voici un exemple simple qui utilise les deux modules `os` et `os.path` pour s'assurer qu'un fichier n'existe pas, le créer, accéder sa taille et sa date de modification, puis l'effacer à nouveau."
   ]
  },
  {
   "cell_type": "code",
   "execution_count": null,
   "metadata": {
    "collapsed": false
   },
   "outputs": [],
   "source": [
    "# dans cet exemple, la seule fonction que nous utilisons \n",
    "# du module 'os' est 'remove' \n",
    "import os \n",
    "\n",
    "import os.path\n",
    "\n",
    "nom_fichier = 'fichier-temoin'\n",
    "\n",
    "# au départ le fichier n'existe pas\n",
    "print 'Début: existence de', nom_fichier, os.path.exists(nom_fichier)\n",
    "# on le crée\n",
    "with open(nom_fichier,'w') as output:\n",
    "    output.write('0123456789\\n')\n",
    "# il doit exister maintenant\n",
    "print 'Milieu: existence de', nom_fichier, os.path.exists(nom_fichier)\n",
    "# regardons sa taille -- 11 caratères (avec la fin de ligne)\n",
    "print 'taille', os.path.getsize(nom_fichier)\n",
    "# et sa date de modification \n",
    "mtime_timestamp = os.path.getmtime(nom_fichier)\n",
    "print 'date de dernière modification (1)', mtime_timestamp\n",
    "# pour l'afficher d'une manière un peu plus lisible\n",
    "from datetime import datetime\n",
    "mtime_datetime = datetime.fromtimestamp(mtime_timestamp)\n",
    "print 'date de dernière modification (2)', mtime_datetime\n",
    "\n",
    "# on le détruit\n",
    "os.remove(nom_fichier)\n",
    "# vérifions qu'il n'est plus là\n",
    "print 'Fin: existence de', nom_fichier, os.path.exists(nom_fichier)"
   ]
  },
  {
   "cell_type": "markdown",
   "metadata": {},
   "source": [
    "### Le module `glob` - recherche de fichiers"
   ]
  },
  {
   "cell_type": "markdown",
   "metadata": {},
   "source": [
    "On a parfois le besoin de chercher, par exemple, \"tous les fichiers se terminant par `.txt`\".\n",
    "\n",
    "Le module `glob` fournit des fonctions pour ce genre de besoins, comme illustré ici"
   ]
  },
  {
   "cell_type": "code",
   "execution_count": null,
   "metadata": {
    "collapsed": false
   },
   "outputs": [],
   "source": [
    "import glob\n",
    "\n",
    "# tous les fichiers .json dans le répertoire data/\n",
    "for json in glob.glob(\"data/*.json\"):\n",
    "    print json"
   ]
  },
  {
   "cell_type": "markdown",
   "metadata": {},
   "source": [
    "Comme toujours, voyez [la documentation complète de `glob`](https://docs.python.org/2/library/glob.html) pour plus de précisions."
   ]
  }
 ],
 "metadata": {
  "kernelspec": {
   "display_name": "Python 2",
   "language": "python",
   "name": "python2"
  },
  "notebookname": "Fichiers et utilitaires",
  "version": "2.0"
 },
 "nbformat": 4,
 "nbformat_minor": 0
}