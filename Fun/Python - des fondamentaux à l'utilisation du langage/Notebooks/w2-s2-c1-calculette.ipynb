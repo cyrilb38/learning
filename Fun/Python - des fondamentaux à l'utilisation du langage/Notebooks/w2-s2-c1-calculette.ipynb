{
 "cells": [
  {
   "cell_type": "markdown",
   "metadata": {},
   "source": [
    "<span style=\"float:left;\">Licence CC BY-NC-ND</span><span style=\"float:right;\">Thierry Parmentelat &amp; Arnaud Legout&nbsp;<img src=\"media/inria-25.png\" style=\"display:inline\"></span><br/>"
   ]
  },
  {
   "cell_type": "markdown",
   "metadata": {},
   "source": [
    "# Utiliser python comme une calculette"
   ]
  },
  {
   "cell_type": "markdown",
   "metadata": {},
   "source": [
    "Lorsque vous démarrez l'interprète python, vous disposez en fait d'une calculette; par exemple vous pouvez taper"
   ]
  },
  {
   "cell_type": "code",
   "execution_count": null,
   "metadata": {
    "collapsed": false
   },
   "outputs": [],
   "source": [
    "20 * 60"
   ]
  },
  {
   "cell_type": "markdown",
   "metadata": {},
   "source": [
    "Les règles de \"priorité\" entre les opérateurs sont habituelles, les produits et divisions sont évalués en premier, ensuite les sommes et soustractions:"
   ]
  },
  {
   "cell_type": "code",
   "execution_count": null,
   "metadata": {
    "collapsed": false
   },
   "outputs": [],
   "source": [
    " 2 * 30 + 10 * 5"
   ]
  },
  {
   "cell_type": "markdown",
   "metadata": {},
   "source": [
    "De manière générale, il est recommandé de bien parenthéser ses expressions. De plus, les parenthèses facilitent la lecture d'expressions complexes. Par exemple, il vaut mieux écrire"
   ]
  },
  {
   "cell_type": "code",
   "execution_count": null,
   "metadata": {
    "collapsed": false
   },
   "outputs": [],
   "source": [
    "(2 * 30) + (10 * 5)"
   ]
  },
  {
   "cell_type": "markdown",
   "metadata": {},
   "source": [
    "Rappelez vous des opérateurs suivants qui sont très pratiques\n",
    "\n",
    "<table>\n",
    "<thead><tr><th>signe</th><th>opération</th></tr></thead>\n",
    "<tbody>\n",
    "<tr><td>`/`</td><td>quotient</td></tr>\n",
    "<tr><td>`%`</td><td>modulo</td></tr>\n",
    "<tr><td>`**`</td><td>puissance</td></tr>\n",
    "</tbody>\n",
    "</table>"
   ]
  },
  {
   "cell_type": "code",
   "execution_count": null,
   "metadata": {
    "collapsed": false
   },
   "outputs": [],
   "source": [
    "48 / 5"
   ]
  },
  {
   "cell_type": "code",
   "execution_count": null,
   "metadata": {
    "collapsed": false
   },
   "outputs": [],
   "source": [
    "48 % 5"
   ]
  },
  {
   "cell_type": "code",
   "execution_count": null,
   "metadata": {
    "collapsed": false
   },
   "outputs": [],
   "source": [
    "2 ** 10"
   ]
  },
  {
   "cell_type": "markdown",
   "metadata": {},
   "source": [
    "\n",
    "Vous pouvez facilement faire aussi des calculs sur les complexes; souvenez vous seulement que la constante complexe que nous notons en français `i` se note en python `j`, ce choix a été fait par le BDFL - alias Guido van Rossum - pour des raisons de lisibilité&nbsp;:"
   ]
  },
  {
   "cell_type": "code",
   "execution_count": null,
   "metadata": {
    "collapsed": false
   },
   "outputs": [],
   "source": [
    "(2 + 3j) * 2.5j"
   ]
  },
  {
   "cell_type": "markdown",
   "metadata": {},
   "source": [
    "Aussi pour entrer ce nombre complexe `j` il faut toujours le faire précéder d'un nombre, donc ne pas entrer simplement `j` (qui serait compris comme un nom de variable, nous allons voir ça tout de suite) mais plutôt `1j` ou encore `1.j`, comme ceci"
   ]
  },
  {
   "cell_type": "code",
   "execution_count": null,
   "metadata": {
    "collapsed": false
   },
   "outputs": [],
   "source": [
    "1j * 1.j"
   ]
  },
  {
   "cell_type": "markdown",
   "metadata": {},
   "source": [
    "### Utiliser des variables"
   ]
  },
  {
   "cell_type": "markdown",
   "metadata": {},
   "source": [
    "Il peut être utile de stocker un résultat qui sera utilisé plus tard, ou de définir une valeur constante; pour cela on utilise tout simplement une affectation comme ceci:"
   ]
  },
  {
   "cell_type": "code",
   "execution_count": null,
   "metadata": {
    "collapsed": false
   },
   "outputs": [],
   "source": [
    "largeur = 5"
   ]
  },
  {
   "cell_type": "markdown",
   "metadata": {},
   "source": [
    "Puis"
   ]
  },
  {
   "cell_type": "code",
   "execution_count": null,
   "metadata": {
    "collapsed": false
   },
   "outputs": [],
   "source": [
    "largeur * 20"
   ]
  },
  {
   "cell_type": "code",
   "execution_count": null,
   "metadata": {
    "collapsed": false
   },
   "outputs": [],
   "source": [
    "largeur * 10"
   ]
  },
  {
   "cell_type": "markdown",
   "metadata": {},
   "source": [
    "Pour les symboles mathématiques, on peut utiliser la même technique"
   ]
  },
  {
   "cell_type": "code",
   "execution_count": null,
   "metadata": {
    "collapsed": false
   },
   "outputs": [],
   "source": [
    "pi = 3.14159\n",
    "2 * pi * 10"
   ]
  },
  {
   "cell_type": "markdown",
   "metadata": {},
   "source": [
    "Ou encore plus simplement, utiliser les valeurs prédéfinies par la librairie mathématique de python. En anticipant un peu sur la notion d'importation que nous approfondirons plus tard, on peut écrire:"
   ]
  },
  {
   "cell_type": "code",
   "execution_count": null,
   "metadata": {
    "collapsed": false
   },
   "outputs": [],
   "source": [
    "from math import e, pi"
   ]
  },
  {
   "cell_type": "markdown",
   "metadata": {},
   "source": [
    "Et ainsi imprimer les racines troisièmes de l'unité par la formule\n",
    "\n",
    "$r_n = e^{2i\\pi \\frac{n}{3}},$ pour $n\\in \\{0,1,2\\}$"
   ]
  },
  {
   "cell_type": "code",
   "execution_count": null,
   "metadata": {
    "collapsed": false
   },
   "outputs": [],
   "source": [
    "n = 0\n",
    "print \"n=\", n, \"racine = \", e**((2*pi*1j*n)/3)\n",
    "n = 1\n",
    "print \"n=\", n, \"racine = \", e**((2*pi*1j*n)/3)\n",
    "n = 2\n",
    "print \"n=\", n, \"racine = \", e**((2*pi*1j*n)/3)"
   ]
  },
  {
   "cell_type": "markdown",
   "metadata": {},
   "source": [
    "**Remarque:** bien entendu il sera possible de faire ceci plus simplement lorsque nous aurons vu les boucles `for`."
   ]
  },
  {
   "cell_type": "markdown",
   "metadata": {},
   "source": [
    "### Attention aux types"
   ]
  },
  {
   "cell_type": "markdown",
   "metadata": {},
   "source": [
    "Ce qui change par rapport à une calculatrice standard est le fait que les valeurs sont typées (essentiellement, entier ou flottant). Il est important de bien suivre mentalement le type de l'opération."
   ]
  },
  {
   "cell_type": "code",
   "execution_count": null,
   "metadata": {
    "collapsed": false
   },
   "outputs": [],
   "source": [
    "100 / 6"
   ]
  },
  {
   "cell_type": "markdown",
   "metadata": {},
   "source": [
    "Ici nous avions affaire à deux entiers, la division `/` est alors une division *entière* (c'est-à-dire un quotient), alors que si l'une des valeurs est flottante comme ici"
   ]
  },
  {
   "cell_type": "code",
   "execution_count": null,
   "metadata": {
    "collapsed": false
   },
   "outputs": [],
   "source": [
    "100. / 6"
   ]
  },
  {
   "cell_type": "markdown",
   "metadata": {},
   "source": [
    "alors python va faire une \"vraie\" division et retourner un résultat flottant."
   ]
  },
  {
   "cell_type": "markdown",
   "metadata": {},
   "source": [
    "### Conversions"
   ]
  },
  {
   "cell_type": "markdown",
   "metadata": {},
   "source": [
    "Comme on le voit, il peut être nécessaire de faire volontairement une conversion de type"
   ]
  },
  {
   "cell_type": "code",
   "execution_count": null,
   "metadata": {
    "collapsed": false
   },
   "outputs": [],
   "source": [
    "a = 100\n",
    "a / 6"
   ]
  },
  {
   "cell_type": "markdown",
   "metadata": {},
   "source": [
    "Comme dans ce cas on ne peut pas ajouter '.' à l'expression `a` pour la transformer en flottant, on peut faire dans ce cas"
   ]
  },
  {
   "cell_type": "code",
   "execution_count": null,
   "metadata": {
    "collapsed": false
   },
   "outputs": [],
   "source": [
    "float(a) / 6"
   ]
  },
  {
   "cell_type": "markdown",
   "metadata": {},
   "source": [
    "De manière plus générale, pour convertir un objet en un entier, un flottant, ou un string, on peut simplement appeler une fonction built-in qui porte le même nom que le type cible:\n",
    "\n",
    "<table>\n",
    "<thead><tr><th>Type</th><th>Fonction</th></tr></thead>\n",
    "<tbody>\n",
    "<tr><td>Entier</td><td>`int`</td></tr>\n",
    "<tr><td>Flottant</td><td>`float`</td></tr>\n",
    "<tr><td>Complexe</td><td>`complex`</td></tr>\n",
    "<tr><td>Chaîne</td><td>`str`</td></tr>\n",
    "</tbody>\n",
    "</table>\n",
    "\n",
    "Ainsi dans l'exemple précédent, `float(a)` représente la conversion de `a` en flottant, soit `100.`\n",
    "\n",
    "On a illustré cette même technique dans les exemples suivants:"
   ]
  },
  {
   "cell_type": "code",
   "execution_count": null,
   "metadata": {
    "collapsed": false
   },
   "outputs": [],
   "source": [
    "# imaginons que l'utilisateur a entré un entier en tapant '100'\n",
    "chaine = '100'\n",
    "\n",
    "# on voudrait le mettre au carré, mais ceci ne fonctionne pas:\n",
    "chaine**2"
   ]
  },
  {
   "cell_type": "code",
   "execution_count": null,
   "metadata": {
    "collapsed": false
   },
   "outputs": [],
   "source": [
    "# pour pouvoir faire des calculs, \n",
    "# il nous faut d'abord en faire un entier\n",
    "entier = int(chaine)\n",
    "print 'entier=', entier, 'de type', type(entier)\n",
    "print \"au carré\", entier**2\n",
    "\n",
    "# ou pour convertir la même chaine en un nombre complexe\n",
    "complexe = complex(chaine)\n",
    "print \"converti en complexe\", complexe, \"de type\", type(complexe)"
   ]
  },
  {
   "cell_type": "markdown",
   "metadata": {},
   "source": [
    "### Entiers et bases"
   ]
  },
  {
   "cell_type": "markdown",
   "metadata": {},
   "source": [
    "Les calculettes scientifiques permettent habituellement d'entrer les entiers dans d'autres bases que la base 10. \n",
    "\n",
    "En python, on peut aussi entrer un entier sous forme binaire comme ceci"
   ]
  },
  {
   "cell_type": "code",
   "execution_count": null,
   "metadata": {
    "collapsed": false
   },
   "outputs": [],
   "source": [
    "deux_cents = 0b11001000 ; print deux_cents"
   ]
  },
  {
   "cell_type": "markdown",
   "metadata": {},
   "source": [
    "Ou encore sous forme octale (en base 8) comme ceci"
   ]
  },
  {
   "cell_type": "code",
   "execution_count": null,
   "metadata": {
    "collapsed": false
   },
   "outputs": [],
   "source": [
    "deux_cents = 0o310 ; print deux_cents"
   ]
  },
  {
   "cell_type": "markdown",
   "metadata": {},
   "source": [
    "Ou enfin encore en hexadecimal (base 16) comme ceci"
   ]
  },
  {
   "cell_type": "code",
   "execution_count": null,
   "metadata": {
    "collapsed": false
   },
   "outputs": [],
   "source": [
    "deux_cents = 0xc8 ; print deux_cents"
   ]
  },
  {
   "cell_type": "markdown",
   "metadata": {},
   "source": [
    "Pour d'autres bases, on peut utiliser la fonction de conversion 'int' en lui passant un argument supplémentaire:"
   ]
  },
  {
   "cell_type": "code",
   "execution_count": null,
   "metadata": {
    "collapsed": false
   },
   "outputs": [],
   "source": [
    "deux_cents = int('3020', 4) ; print deux_cents"
   ]
  },
  {
   "cell_type": "markdown",
   "metadata": {},
   "source": [
    "### Fonctions mathématiques"
   ]
  },
  {
   "cell_type": "markdown",
   "metadata": {},
   "source": [
    "python fournit naturellement un ensemble très complet d'opérateurs mathématiques pour les fonctions exponentielles, trigonométriques et autres, mais leur utilisation ne nous est pas encore accessible à ce stade et nous les verrons ultérieurement."
   ]
  }
 ],
 "metadata": {
  "kernelspec": {
   "display_name": "Python 2",
   "language": "python",
   "name": "python2"
  },
  "language_info": {
   "codemirror_mode": {
    "name": "ipython",
    "version": 2
   },
   "file_extension": ".py",
   "mimetype": "text/x-python",
   "name": "python",
   "nbconvert_exporter": "python",
   "pygments_lexer": "ipython2",
   "version": "2.7.12"
  },
  "notebookname": "Une calculette",
  "version": "2.0"
 },
 "nbformat": 4,
 "nbformat_minor": 0
}