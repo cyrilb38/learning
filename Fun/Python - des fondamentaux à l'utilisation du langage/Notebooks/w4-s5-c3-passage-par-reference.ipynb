{
 "cells": [
  {
   "cell_type": "markdown",
   "metadata": {},
   "source": [
    "<span style=\"float:left;\">Licence CC BY-NC-ND</span><span style=\"float:right;\">Thierry Parmentelat &amp; Arnaud Legout&nbsp;<img src=\"media/inria-25.png\" style=\"display:inline\"></span><br/>"
   ]
  },
  {
   "cell_type": "markdown",
   "metadata": {},
   "source": [
    "# Passage d'arguments par référence"
   ]
  },
  {
   "cell_type": "markdown",
   "metadata": {},
   "source": [
    "## Complément - niveau intermédiaire"
   ]
  },
  {
   "cell_type": "markdown",
   "metadata": {},
   "source": [
    "Entre le code qui appelle une fonction, et le code de la fonction elle-même:"
   ]
  },
  {
   "cell_type": "code",
   "execution_count": null,
   "metadata": {
    "collapsed": false
   },
   "outputs": [],
   "source": [
    "def ma_fonction(dans_fonction):\n",
    "    print dans_fonction\n",
    "    \n",
    "dans_appelant = 12\n",
    "ma_fonction(dans_appelant)"
   ]
  },
  {
   "cell_type": "markdown",
   "metadata": {},
   "source": [
    "on peut se demander quelle est exactement la nature de la relation entre l'appelant et l'appelé, c'est-à-dire ici `dans_appelant` et `dans_fonction`. \n",
    "\n",
    "C'est l'objet de ce complément."
   ]
  },
  {
   "cell_type": "markdown",
   "metadata": {},
   "source": [
    "### Passage par valeur - passage par référence "
   ]
  },
  {
   "cell_type": "markdown",
   "metadata": {},
   "source": [
    "Si vous avez appris d'autres langages de programmation comme C ou C++, on a pu vous parler de deux modes de passage de paramètres:\n",
    " * par valeur: cela signifie qu'on communique à la fonction, non pas l'entité dans l'appelant, mais seulement **sa valeur**; en clair, **une copie**;\n",
    " * par référence: cela signifie qu'on passe à la fonction une **référence** à l'argument dans l'appelant, donc essentiellement les deux codes **partagent** la même mémoire."
   ]
  },
  {
   "cell_type": "markdown",
   "metadata": {},
   "source": [
    "### python fait du passage par référence"
   ]
  },
  {
   "cell_type": "markdown",
   "metadata": {},
   "source": [
    "Certains langages comme Pascal - et C++ si on veut - proposent ces deux modes. En python, tous les passage de paramètres se font **par référence**.\n",
    "\n",
    "Ce qui signifie qu'on peut voir le code ci-dessus comme étant - pour simplifier - équivalent à ceci"
   ]
  },
  {
   "cell_type": "code",
   "execution_count": null,
   "metadata": {
    "collapsed": false
   },
   "outputs": [],
   "source": [
    "dans_appelant = 12\n",
    "# ma_fonction (dans_appelant)\n",
    "# -> on entre dans la fonction\n",
    "dans_fonction = dans_appelant\n",
    "print dans_fonction"
   ]
  },
  {
   "cell_type": "markdown",
   "metadata": {},
   "source": [
    "On peut le voir en instrumentant le code comme ceci (on rappelle que la fonction built-in `id` retourne l'adresse mémoire d'un objet)"
   ]
  },
  {
   "cell_type": "code",
   "execution_count": null,
   "metadata": {
    "collapsed": false
   },
   "outputs": [],
   "source": [
    "def ma_fonction(dans_fonction):\n",
    "    print 'dans ma_fonction', id(dans_fonction)\n",
    "    \n",
    "dans_appelant = 12\n",
    "print 'dans appelant', dans_appelant, id(dans_appelant)\n",
    "ma_fonction(dans_appelant)"
   ]
  },
  {
   "cell_type": "markdown",
   "metadata": {},
   "source": [
    "### Des références partagées"
   ]
  },
  {
   "cell_type": "markdown",
   "metadata": {},
   "source": [
    "Et notamment, tout ce que l'on a vu la semaine passée sur les références partagées s'applique à l'identique."
   ]
  },
  {
   "cell_type": "code",
   "execution_count": null,
   "metadata": {
    "collapsed": false
   },
   "outputs": [],
   "source": [
    "# on ne peut pas modifier un immuable dans une fonction\n",
    "def increment(n):\n",
    "    n += 1\n",
    "\n",
    "compteur = 10\n",
    "increment(compteur)\n",
    "print compteur"
   ]
  },
  {
   "cell_type": "code",
   "execution_count": null,
   "metadata": {
    "collapsed": false
   },
   "outputs": [],
   "source": [
    "# on peut par contre ajouter dans une liste\n",
    "def insert(liste, valeur):\n",
    "    liste.append(valeur)\n",
    "    \n",
    "liste = range(3)\n",
    "insert(liste, 3)\n",
    "print liste"
   ]
  },
  {
   "cell_type": "markdown",
   "metadata": {},
   "source": [
    "Pour cette raison, il est important de bien préciser, quand vous documentez une fonction, si elle fait des effets de bord sur ses arguments (c'est-à-dire qu'elle modifie ses arguments), ou si elle produit une copie. Rappelez-vous par exemple le cas de la méthode `sort` sur les listes, et de la fonction de commodité `sorted`, que nous avions vues en semaine 2.\n",
    "\n",
    "De cette façon, on saura s'il faut ou non copier l'argument avant de le passer à votre fonction."
   ]
  }
 ],
 "metadata": {
  "kernelspec": {
   "display_name": "Python 2",
   "language": "python",
   "name": "python2"
  },
  "notebookname": "Passage par référence",
  "version": "2.0"
 },
 "nbformat": 4,
 "nbformat_minor": 0
}