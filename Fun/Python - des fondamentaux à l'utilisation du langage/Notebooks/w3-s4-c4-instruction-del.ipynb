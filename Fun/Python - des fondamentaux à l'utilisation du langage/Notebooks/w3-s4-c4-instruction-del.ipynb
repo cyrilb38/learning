{
 "cells": [
  {
   "cell_type": "markdown",
   "metadata": {},
   "source": [
    "<span style=\"float:left;\">Licence CC BY-NC-ND</span><span style=\"float:right;\">Thierry Parmentelat &amp; Arnaud Legout&nbsp;<img src=\"media/inria-25.png\" style=\"display:inline\"></span><br/>"
   ]
  },
  {
   "cell_type": "markdown",
   "metadata": {},
   "source": [
    "# L'instruction `del`"
   ]
  },
  {
   "cell_type": "markdown",
   "metadata": {},
   "source": [
    "## Complément - niveau basique"
   ]
  },
  {
   "cell_type": "markdown",
   "metadata": {},
   "source": [
    "Voici un récapitulatif sur l'instruction `del` selon le contexte dans lequel elle est utilisée."
   ]
  },
  {
   "cell_type": "markdown",
   "metadata": {},
   "source": [
    "### Sur une variable"
   ]
  },
  {
   "cell_type": "markdown",
   "metadata": {},
   "source": [
    "On peut annuler la définition d'une variable. Dans la suite on capture une exception `NameError` qui est produite lorsqu'une variable est utilisée alors qu'elle n'a aucune valeur. La capture de l'exception permet d'afficher un message plutôt qu'une exception. Nous discuterons du fonctionnement des exceptions en semaine 6. "
   ]
  },
  {
   "cell_type": "code",
   "execution_count": null,
   "metadata": {
    "collapsed": false
   },
   "outputs": [],
   "source": [
    "# la variable a n'est pas définie\n",
    "try:\n",
    "    print 'a=', a\n",
    "except NameError as e:\n",
    "    print \"a n'est pas définie\""
   ]
  },
  {
   "cell_type": "code",
   "execution_count": null,
   "metadata": {
    "collapsed": false
   },
   "outputs": [],
   "source": [
    "# on la définit\n",
    "a = 10\n",
    "\n",
    "try:\n",
    "    print 'a=', a\n",
    "except NameError as e:\n",
    "    print \"a n'est pas définie\""
   ]
  },
  {
   "cell_type": "code",
   "execution_count": null,
   "metadata": {
    "collapsed": false
   },
   "outputs": [],
   "source": [
    "# on peut effacer la variable\n",
    "del a\n",
    "\n",
    "try:\n",
    "    print 'a=', a\n",
    "except NameError as e:\n",
    "    print \"a n'est pas définie\""
   ]
  },
  {
   "cell_type": "markdown",
   "metadata": {},
   "source": [
    "### Sur une liste"
   ]
  },
  {
   "cell_type": "markdown",
   "metadata": {},
   "source": [
    "On peut enlever d'une liste les éléments qui correspondent à une *slice*"
   ]
  },
  {
   "cell_type": "code",
   "execution_count": null,
   "metadata": {
    "collapsed": false
   },
   "outputs": [],
   "source": [
    "# on se donne une liste\n",
    "l = range(12)\n",
    "print l"
   ]
  },
  {
   "cell_type": "code",
   "execution_count": null,
   "metadata": {
    "collapsed": false
   },
   "outputs": [],
   "source": [
    "# on considère une slice dans cette liste\n",
    "print 'slice=', l[2:10:3]\n",
    "\n",
    "# voyons ce que ça donne si on efface cette slice\n",
    "del l[2:10:3]\n",
    "print \"après del\", l"
   ]
  },
  {
   "cell_type": "markdown",
   "metadata": {},
   "source": [
    "### Sur un dictionnaire"
   ]
  },
  {
   "cell_type": "markdown",
   "metadata": {},
   "source": [
    "Avec `del` on peut enlever une clé, et donc la valeur correspondante, d'un dictionnaire"
   ]
  },
  {
   "cell_type": "code",
   "execution_count": null,
   "metadata": {
    "collapsed": false
   },
   "outputs": [],
   "source": [
    "# partons d'un dictionaire simple\n",
    "d = dict(foo='bar', spam='eggs', a='b')\n",
    "print d"
   ]
  },
  {
   "cell_type": "code",
   "execution_count": null,
   "metadata": {
    "collapsed": false
   },
   "outputs": [],
   "source": [
    "# on peut enlever une clé avec del\n",
    "del d['a']\n",
    "print d"
   ]
  },
  {
   "cell_type": "markdown",
   "metadata": {},
   "source": [
    "### On peut passer à `del` une liste"
   ]
  },
  {
   "cell_type": "code",
   "execution_count": null,
   "metadata": {
    "collapsed": false
   },
   "outputs": [],
   "source": [
    "# Voyons où en sont nos données\n",
    "print 'l', l\n",
    "print'd', d"
   ]
  },
  {
   "cell_type": "code",
   "execution_count": null,
   "metadata": {
    "collapsed": false
   },
   "outputs": [],
   "source": [
    "# on peut invoquer 'del' avec une liste - comme 'print'\n",
    "del l[3:], d['spam']\n",
    "\n",
    "print 'l', l\n",
    "print'd', d"
   ]
  },
  {
   "cell_type": "markdown",
   "metadata": {},
   "source": [
    "### Pour en savoir plus"
   ]
  },
  {
   "cell_type": "markdown",
   "metadata": {},
   "source": [
    "La page sur [l'instruction `del`](https://docs.python.org/2/reference/simple_stmts.html#the-del-statement) dans la documentation python"
   ]
  }
 ],
 "metadata": {
  "kernelspec": {
   "display_name": "Python 2",
   "language": "python",
   "name": "python2"
  },
  "notebookname": "L'instruction del",
  "version": "2.0"
 },
 "nbformat": 4,
 "nbformat_minor": 0
}