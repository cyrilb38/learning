{
 "cells": [
  {
   "cell_type": "markdown",
   "metadata": {},
   "source": [
    "<span style=\"float:left;\">Licence CC BY-NC-ND</span><span style=\"float:right;\">Thierry Parmentelat &amp; Arnaud Legout&nbsp;<img src=\"media/inria-25.png\" style=\"display:inline\"></span><br/>"
   ]
  },
  {
   "cell_type": "markdown",
   "metadata": {},
   "source": [
    "# `isinstance`"
   ]
  },
  {
   "cell_type": "markdown",
   "metadata": {},
   "source": [
    "## Complément - niveau basique"
   ]
  },
  {
   "cell_type": "markdown",
   "metadata": {},
   "source": [
    "### Typage dynamique"
   ]
  },
  {
   "cell_type": "markdown",
   "metadata": {},
   "source": [
    "En première semaine, nous avons rapidement mentionné les concepts de typage statique et dynamique.\n",
    "\n",
    "Avec la fonction prédéfinie `isinstance` - qui peut être par ailleurs utile dans d'autres contextes - vous pouvez facilement:\n",
    " * vérifier qu'un argument d'une fonction a bien le type attendu,\n",
    " * et traiter différemment les entrées selon leur type."
   ]
  },
  {
   "cell_type": "markdown",
   "metadata": {},
   "source": [
    "Voyons tout de suite sur un exemple simple comment on pourrait définir une fonction qui travaille sur un entier, mais qui par commmodité peut aussi accepter un entier passé comme une chaîne de caractères, ou même une liste d'entiers (auquel cas on renvoie la liste des factorielles)&nbsp;:"
   ]
  },
  {
   "cell_type": "code",
   "execution_count": null,
   "metadata": {
    "collapsed": false
   },
   "outputs": [],
   "source": [
    "from types import StringTypes\n",
    "\n",
    "def factoriel(argument):\n",
    "    # si on reçoit un entier\n",
    "    if isinstance(argument, int):\n",
    "        return 1 if argument <= 1 else argument * factoriel(argument - 1)\n",
    "    # convertir en entier si on reçoit une chaîne\n",
    "    elif isinstance(argument, StringTypes):\n",
    "        return factoriel(int(argument))\n",
    "    # la liste des résultats si on reçoit un tuple ou une liste \n",
    "    elif isinstance(argument, (tuple, list)):\n",
    "        return [factoriel(i) for i in argument]\n",
    "    # sinon on lève une exception\n",
    "    else:\n",
    "        raise TypeError, argument"
   ]
  },
  {
   "cell_type": "code",
   "execution_count": null,
   "metadata": {
    "collapsed": false
   },
   "outputs": [],
   "source": [
    "print \"entier\", factoriel(4)\n",
    "print \"chaine\", factoriel(\"8\")\n",
    "print \"tuple\", factoriel((4, 8))"
   ]
  },
  {
   "cell_type": "markdown",
   "metadata": {},
   "source": [
    "Remarquez que la fonction `isinstance` **possède elle-même** une logique de ce genre, puisqu'en ligne 5 nous lui avons passé en deuxième argument un type (`int`), alors qu'en ligne 11 on lui a passé un tuple de deux types. Dans ce second cas naturellement, elle vérifie si l'objet (le premier argument) est **de l'un des types** mentionnés dans le tuple."
   ]
  },
  {
   "cell_type": "markdown",
   "metadata": {},
   "source": [
    "### Le module `types`"
   ]
  },
  {
   "cell_type": "markdown",
   "metadata": {},
   "source": [
    "Dans cet exemple nous avons également utilisé le module `types`, et notamment le symbole `types.StringTypes`, plutôt que simplement `str`. \n",
    "\n",
    "C'est une pratique recommandée pour le cas où on appellerait notre fonction avec en argument un objet de type `unicode`."
   ]
  },
  {
   "cell_type": "code",
   "execution_count": null,
   "metadata": {
    "collapsed": false
   },
   "outputs": [],
   "source": [
    "factoriel(u'4')"
   ]
  },
  {
   "cell_type": "markdown",
   "metadata": {},
   "source": [
    "## Complément - niveau intermédiaire"
   ]
  },
  {
   "cell_type": "markdown",
   "metadata": {},
   "source": [
    "### Le module `types` (suite)"
   ]
  },
  {
   "cell_type": "markdown",
   "metadata": {},
   "source": [
    "Le module `types` définit un certain nombre de constantes de ce genre - vous trouverez une liste exhaustive à la fin de ce notebook. Il n'est pas très difficile de deviner que"
   ]
  },
  {
   "cell_type": "code",
   "execution_count": null,
   "metadata": {
    "collapsed": false
   },
   "outputs": [],
   "source": [
    "StringTypes == (str, unicode)"
   ]
  },
  {
   "cell_type": "markdown",
   "metadata": {},
   "source": [
    "Un autre symbole utile est `FunctionType`"
   ]
  },
  {
   "cell_type": "code",
   "execution_count": null,
   "metadata": {
    "collapsed": false
   },
   "outputs": [],
   "source": [
    "from types import FunctionType\n",
    "isinstance(factoriel, FunctionType)"
   ]
  },
  {
   "cell_type": "markdown",
   "metadata": {},
   "source": [
    "Mais méfiez vous toutefois des fonctions *built-in*, qui sont de type `BuiltinFunctionType`"
   ]
  },
  {
   "cell_type": "code",
   "execution_count": null,
   "metadata": {
    "collapsed": false
   },
   "outputs": [],
   "source": [
    "from types import BuiltinFunctionType\n",
    "isinstance(len, BuiltinFunctionType)"
   ]
  },
  {
   "cell_type": "markdown",
   "metadata": {},
   "source": [
    "### `isinstance` *vs* `type`"
   ]
  },
  {
   "cell_type": "markdown",
   "metadata": {},
   "source": [
    "Il est recommandé d'utiliser `isinstance` par rapport à la fonction `type`. Tout d'abord, cela permet, on vient de le voir, de prendre en compte plusieurs types. \n",
    "\n",
    "Mais aussi et surtout `isinstance` supporte la notion d'héritage qui est centrale dans le cadre de la programmation orientée objet, sur laquelle nous allons anticiper un tout petit peu par rapport aux présentations de la semaine prochaine. \n",
    "\n",
    "Avec la programmation objet, vous pouvez définir vos propres types. On peut par exemple définir une classe `Animal` qui convient pour tous les animaux, puis définir une sous-classe `Mammifere`. On dit que la classe `Mammifere` *hérite* de la classe `Animal`, et on l'appelle sous-classe parce qu'elle représente une partie des animaux; et donc tout ce qu'on peut faire sur les animaux peut être fait sur les mammifères.\n",
    "\n",
    "En voici une implémentation très rudimentaire, uniquement pour illustrer le principe de l'héritage. Si ce qui suit vous semble difficile à comprendre, pas d'inquiétude, nous reviendrons dessus la semaine prochaine lorsque nous parlerons des classes.  "
   ]
  },
  {
   "cell_type": "code",
   "execution_count": null,
   "metadata": {
    "collapsed": false
   },
   "outputs": [],
   "source": [
    "class Animal:\n",
    "    def __init__(self, name):\n",
    "        self.name = name\n",
    "\n",
    "class Mammifere(Animal):\n",
    "    def __init__(self, name):\n",
    "        Animal.__init__(self, name)"
   ]
  },
  {
   "cell_type": "markdown",
   "metadata": {},
   "source": [
    "Encore une fois tout ceci sera vu en détail la semaine prochaine. Ce qui nous intéresse dans l'immédiat c'est que `isinstance` permet dans ce contexte de faire des choses qu'on ne peut pas faire directement avec la fonction `type`, comme ceci"
   ]
  },
  {
   "cell_type": "code",
   "execution_count": null,
   "metadata": {
    "collapsed": false
   },
   "outputs": [],
   "source": [
    "# c'est comme ceci qu'on peut créer un objet de type `Animal` (méthode __init__)\n",
    "requin = Animal('requin')\n",
    "# idem pour un Mammifere\n",
    "baleine = Mammifere('baleine')\n",
    "\n",
    "# bien sûr ici la réponse est 'True'\n",
    "print \"l'objet baleine est-il un mammifere\", isinstance(baleine, Mammifere)\n",
    "# ici c'est moins évident, mais la réponse est 'True' aussi\n",
    "print \"l'objet baleine est-il un animal\", isinstance(baleine, Animal)"
   ]
  },
  {
   "cell_type": "markdown",
   "metadata": {},
   "source": [
    "Vous voyez qu'ici, bien que l'objet baleine est de type `Mammifere`, on peut le considérer comme étant **aussi** de type `Animal`. \n",
    "\n",
    "Ceci est motivé de la façon suivante. Comme on l'a dit plus haut, tout ce qu'on peut faire (en termes notamment d'envoi de méthodes) sur un objet de type `Animal`, on peut le faire sur un objet de type `Mammifere`. Dit en termes ensemblistes, l'ensemble des mammifères est inclus dans l'ensemble des animaux."
   ]
  },
  {
   "cell_type": "markdown",
   "metadata": {},
   "source": [
    "### Annexe - Les symboles du module `types`"
   ]
  },
  {
   "cell_type": "code",
   "execution_count": null,
   "metadata": {
    "collapsed": false
   },
   "outputs": [],
   "source": [
    "import types \n",
    "dir(types)"
   ]
  }
 ],
 "metadata": {
  "kernelspec": {
   "display_name": "Python 2",
   "language": "python",
   "name": "python2"
  },
  "notebookname": "isinstance",
  "version": "2.0"
 },
 "nbformat": 4,
 "nbformat_minor": 0
}