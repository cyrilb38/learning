{
 "cells": [
  {
   "cell_type": "markdown",
   "metadata": {},
   "source": [
    "<span style=\"float:left;\">Licence CC BY-NC-ND</span><span style=\"float:right;\">Thierry Parmentelat &amp; Arnaud Legout&nbsp;<img src=\"media/inria-25.png\" style=\"display:inline\"></span><br/>"
   ]
  },
  {
   "cell_type": "markdown",
   "metadata": {},
   "source": [
    "# Attributs de classe et attributs d'instance"
   ]
  },
  {
   "cell_type": "markdown",
   "metadata": {},
   "source": [
    "## Complément - niveau intermédiaire"
   ]
  },
  {
   "cell_type": "markdown",
   "metadata": {},
   "source": [
    "Nous avons vu jusqu'à présent que l'on peut ajouter des attributs à toutes sortes d'objets en python, et notamment à\n",
    " * un module,\n",
    " * une fonction,\n",
    " * une classe,\n",
    " * une instance de classe."
   ]
  },
  {
   "cell_type": "markdown",
   "metadata": {},
   "source": [
    "Nous avons vu également, si vous vous souvenez de la classe `Matrix2`, qu'**en règle générale** : \n",
    " * une *méthode* est un *attribut de la classe*,\n",
    " * et que les *données* qui décrivent l'objet sont rangées dans des *attributs de l'instance*."
   ]
  },
  {
   "cell_type": "markdown",
   "metadata": {},
   "source": [
    "### Propos de ce complément"
   ]
  },
  {
   "cell_type": "markdown",
   "metadata": {},
   "source": [
    "Dans ce complément, nous allons approfondir les notions d'attributs de classe et d'attributs d'instance. \n",
    "\n",
    "Le **premier point** que nous voulons illustrer ici est que le langage **ne fait pas la différence** entre un attribut dont la valeur est du code (une fonction ou une méthode), et un attribut contenant des données.\n",
    "\n",
    "Le **second point** est qu'un attribut est cherché **en premier dans l'instance puis dans la classe**. \n",
    "\n",
    "Pour illustrer tout ceci nous allons voir que le langage permet également :\n",
    " * d'attacher des *données à une classe* - pour définir par exemple une valeur par défaut valable pour toutes les instances de la classe, ou de\n",
    " * de *définir une méthode sur une instance* - pour spécialiser un comportement pour un seul objet, et ainsi éviter de définir une nouvelle classe pour un seul objet. \n",
    " \n",
    "Nous démontrons ce second usage, rare en pratique, dans la dernière partie de ce complément qui est de niveau avancée."
   ]
  },
  {
   "cell_type": "markdown",
   "metadata": {},
   "source": [
    "### Un attribut de donnée défini sur la classe"
   ]
  },
  {
   "cell_type": "markdown",
   "metadata": {},
   "source": [
    "Voyons, pour commencer, un exemple de classe avec un attribut de données qui est en fait un attribut qui référence un objet `builtin` contenant des données, comme par exemple `int`, `list` ou `str`."
   ]
  },
  {
   "cell_type": "code",
   "execution_count": null,
   "metadata": {
    "collapsed": false
   },
   "outputs": [],
   "source": [
    "class Spam:\n",
    "    attribut = \"attribut de classe\""
   ]
  },
  {
   "cell_type": "markdown",
   "metadata": {},
   "source": [
    "Naturellement, on aurait pu aussi définir des méthodes dans cette classe, mais nous avons choisi de montrer un exemple très simple."
   ]
  },
  {
   "cell_type": "markdown",
   "metadata": {},
   "source": [
    "La classe `Spam` possède donc maintenant l'attribut `attribut` qui vaut"
   ]
  },
  {
   "cell_type": "code",
   "execution_count": null,
   "metadata": {
    "collapsed": false
   },
   "outputs": [],
   "source": [
    "Spam.attribut"
   ]
  },
  {
   "cell_type": "markdown",
   "metadata": {},
   "source": [
    "Créons à présent une instance de cette classe :"
   ]
  },
  {
   "cell_type": "code",
   "execution_count": null,
   "metadata": {
    "collapsed": false
   },
   "outputs": [],
   "source": [
    "# une instance spéciale de Spam - on va lui attacher un attribut\n",
    "special = Spam()"
   ]
  },
  {
   "cell_type": "markdown",
   "metadata": {},
   "source": [
    "On peut naturellement attacher à cette instance un attribut `attribut`, comme on l'a déjà vu :"
   ]
  },
  {
   "cell_type": "code",
   "execution_count": null,
   "metadata": {
    "collapsed": false
   },
   "outputs": [],
   "source": [
    "# on affecte l'attribut de l'instance\n",
    "special.attribut = \"attribut de l'instance\"\n",
    "\n",
    "# naturellement on retrouve cette valeur quand\n",
    "# on cherche l'attribut à partir de l'instance\n",
    "print 'special:', special.attribut"
   ]
  },
  {
   "cell_type": "markdown",
   "metadata": {},
   "source": [
    "Le point important de ce complément, c'est qu'une **instance** à laquelle on n'a pourtant pas attaché d'attribut `attribut` peut tout de même **référencer** cet attribut et **trouver celui de la classe** comme si c'était le sien:"
   ]
  },
  {
   "cell_type": "code",
   "execution_count": null,
   "metadata": {
    "collapsed": false
   },
   "outputs": [],
   "source": [
    "# une autre instance de Spam\n",
    "defaut = Spam()\n",
    "\n",
    "# par contre on ne lui affecte *pas* d'attribut d'instance\n",
    "# mais on peut *tout de même* chercher l'attribut\n",
    "print 'defaut:', defaut.attribut"
   ]
  },
  {
   "cell_type": "markdown",
   "metadata": {},
   "source": [
    "### Discussion"
   ]
  },
  {
   "cell_type": "markdown",
   "metadata": {},
   "source": [
    "En fait, on a déjà vu ce mécanisme en action; c'est exactement la même chose qui se passe lorsqu'on a :\n",
    " * une classe qui définit la méthode `foo`\n",
    " * et une instance `obj` de la classe sur laquelle on appelle la méthode en faisant\n",
    " \n",
    "    obj.foo()\n",
    "\n",
    "Le mécanisme de recherche d'un attribut sur une instance est le même, que cet attribut représente une méthode ou une donnée. En effet, en python tout est un objet et un attribut peut référencer n'importer quel objet. Ça n'est que lorsque l'interpréteur python accède à l'objet qu'il peut finalement connaître son type. "
   ]
  },
  {
   "cell_type": "markdown",
   "metadata": {},
   "source": [
    "### Conclusion"
   ]
  },
  {
   "cell_type": "markdown",
   "metadata": {},
   "source": [
    "Comme on l'a vu, le mécanisme d'attributs, bien qu'extrêmement simple, est très souple et très puissant. Le langage ne fait pas de différence entre attributs de données et de méthodes puisqu'un attribut référence n'importe quel objet et qu'en python tout est en objet. On peut attacher, au choix, **à une instance ou à une classe**, des attributs représentant **n'importe quel objet**, et la recherche de ces attributs se fait dans l'ordre **instance** puis **classe**.\n",
    "\n",
    "Nous verrons dans la prochaine vidéo que les mécanismes d'héritage ne font que prolonger ce mécanisme de recherche d'attributs."
   ]
  },
  {
   "cell_type": "markdown",
   "metadata": {},
   "source": [
    "## Complément - niveau avancé"
   ]
  },
  {
   "cell_type": "markdown",
   "metadata": {},
   "source": [
    "### Un attribut de méthode défini sur une instance"
   ]
  },
  {
   "cell_type": "markdown",
   "metadata": {},
   "source": [
    "Définir un attribut de données dans une classe, comme on vient de le voir, présente un intérêt pratique; il est parfois commode de définir une constante, ou une valeur par défaut, au niveau de la classe, qui s'applique alors à tous les objets.\n",
    "\n",
    "Nous allons à présent illustrer la possibilité de définir une méthode au niveau d'une instance. Comme ceci est rare en pratique, il s'agit ici de bien comprendre les mécanismes du langage plutôt que de découvrir une technique de programmation. Pour cela nous prenons à nouveau une classe jouet."
   ]
  },
  {
   "cell_type": "code",
   "execution_count": null,
   "metadata": {
    "collapsed": false
   },
   "outputs": [],
   "source": [
    "class Eggs:\n",
    "    def __init__(self, name):\n",
    "        self.name = name"
   ]
  },
  {
   "cell_type": "markdown",
   "metadata": {},
   "source": [
    "Et nous créons à nouveau deux instances, une qui va se comporter comme la classe, et une qui aura un comportement spécial"
   ]
  },
  {
   "cell_type": "code",
   "execution_count": null,
   "metadata": {
    "collapsed": false
   },
   "outputs": [],
   "source": [
    "defaut = Eggs('defaut')\n",
    "special = Eggs('special')\n",
    "\n",
    "print 'defaut', defaut, 'special', special"
   ]
  },
  {
   "cell_type": "markdown",
   "metadata": {},
   "source": [
    "On va maintenant attacher à la classe une méthode `__repr__` pour redéfinir comment imprimer les objets de la classe `Eggs`"
   ]
  },
  {
   "cell_type": "code",
   "execution_count": null,
   "metadata": {
    "collapsed": false
   },
   "outputs": [],
   "source": [
    "# on redéfinit la méthode __repr__ sur la classe `Eggs`\n",
    "def repr_eggs(self):\n",
    "    return \"<<Eggs instance, name={}>>\".format(self.name)\n",
    "Eggs.__repr__ = repr_eggs\n",
    "\n",
    "# à présent les deux instances s'impriment selon ce format\n",
    "print 'defaut', defaut, 'special', special"
   ]
  },
  {
   "cell_type": "markdown",
   "metadata": {},
   "source": [
    "Jusqu'ici rien de nouveau. \n",
    "\n",
    "Nous allons maintenant attacher une méthode `__repr__` **à une instance** en propre. C'est ici que les choses se compliquent un tout petit peu. Nous avons deux choix pour cela. "
   ]
  },
  {
   "cell_type": "markdown",
   "metadata": {},
   "source": [
    "##### Première technique"
   ]
  },
  {
   "cell_type": "markdown",
   "metadata": {},
   "source": [
    "La première technique consiste à définir une fonction **sans argument**. C'est surprenant car nous avons vu jusqu'ici que `__repr__` s'attend à recevoir **un argument**.\n",
    " \n",
    "Voyons d'abord le code "
   ]
  },
  {
   "cell_type": "code",
   "execution_count": null,
   "metadata": {
    "collapsed": false
   },
   "outputs": [],
   "source": [
    "# on définit une fonction, sans argument donc\n",
    "def repr_special_sans_argument():\n",
    "    return \"<<SPECIAL (technique sans argument)>>\"\n",
    "\n",
    "# et on l'attache à l'instance\n",
    "special.__repr__ = repr_special_sans_argument\n",
    "\n",
    "# à présent on a changé le format d'impression de special\n",
    "print 'defaut', defaut, 'special', special"
   ]
  },
  {
   "cell_type": "markdown",
   "metadata": {},
   "source": [
    "Avant d'aller plus loin, souvenez-vous qu'avant de parler de classes on a parlé de fonctions; on pourrait très bien avoir envie de ranger dans un attribut une vraie fonction et de pouvoir l'appeler comme une fonction, mais pas comme une méthode, c'est-à-dire sans mettre en œuvre la *magie* qui consiste à mettre l'instance elle-même comme premier argument.\n",
    "\n",
    "Il faut donc pouvoir différencier entre le cas d'une fonction simple et le cas d'une méthode à laquelle l'interpréteur passe automatiquement une référence de l'instance comme premier argument.\n",
    "\n",
    "C'est exactement ce que l'on fait ici&nbsp;: la fonction que nous avons attachée à l'instance n'est pas de même nature que celle attachée à la classe; voyons ces deux objets&nbsp;:"
   ]
  },
  {
   "cell_type": "code",
   "execution_count": null,
   "metadata": {
    "collapsed": false
   },
   "outputs": [],
   "source": [
    "print \"sur la classe\", Eggs.__repr__\n",
    "print \"sur l'instance\", special.__repr__"
   ]
  },
  {
   "cell_type": "markdown",
   "metadata": {},
   "source": [
    "On voit que sur la classe, l'attribut `__repr__` est un objet de type `unbound method`, alors que sur l'instance c'est un objet de type `function` tout bête.\n",
    "\n",
    "Et c'est sur cette différence que se base l'interpréteur pour ajouter, ou non, l'objet en premier argument de l'appel."
   ]
  },
  {
   "cell_type": "markdown",
   "metadata": {},
   "source": [
    "##### Deuxième technique"
   ]
  },
  {
   "cell_type": "markdown",
   "metadata": {},
   "source": [
    "Si on veut se mettre dans un cadre plus conforme à ce qui est habituel, il faut dire explicitement que la fonction est en fait une méthode de l'instance. On commence par écrire une fonction qui prend bien **un argument** :"
   ]
  },
  {
   "cell_type": "code",
   "execution_count": null,
   "metadata": {
    "collapsed": false
   },
   "outputs": [],
   "source": [
    "# on définit la métode d'impression sur l'instance 'special'\n",
    "def repr_special_avec_argument(self):\n",
    "    return \"<<SPECIAL {} (technique avec argument)\".format(self.name)"
   ]
  },
  {
   "cell_type": "markdown",
   "metadata": {},
   "source": [
    "Mais au lieu de l'attacher telle quelle on la convertit en méthode en définissant un nouvel objet de type `MethodType` :"
   ]
  },
  {
   "cell_type": "code",
   "execution_count": null,
   "metadata": {
    "collapsed": false
   },
   "outputs": [],
   "source": [
    "import types\n",
    "special.__repr__ = types.MethodType(repr_special_avec_argument, special)"
   ]
  },
  {
   "cell_type": "markdown",
   "metadata": {},
   "source": [
    "après quoi on verra cet objet s'afficher différemment des autres"
   ]
  },
  {
   "cell_type": "code",
   "execution_count": null,
   "metadata": {
    "collapsed": false
   },
   "outputs": [],
   "source": [
    "special"
   ]
  },
  {
   "cell_type": "markdown",
   "metadata": {},
   "source": [
    "Et la valeur de l'attribut `__repr__` est bien maintenant vue comme une méthode et non comme une fonction :"
   ]
  },
  {
   "cell_type": "code",
   "execution_count": null,
   "metadata": {
    "collapsed": false
   },
   "outputs": [],
   "source": [
    "print \"sur l'instance\", special.__repr__"
   ]
  },
  {
   "cell_type": "markdown",
   "metadata": {},
   "source": [
    "##### Pour en savoir plus"
   ]
  },
  {
   "cell_type": "markdown",
   "metadata": {},
   "source": [
    "Ce sujet est discuté plus en profondeur dans [cet article de stackoverflow](http://stackoverflow.com/questions/972/adding-a-method-to-an-existing-object)"
   ]
  }
 ],
 "metadata": {
  "kernelspec": {
   "display_name": "Python 2",
   "language": "python",
   "name": "python2"
  },
  "notebookname": "Recherche d'attributs",
  "version": "2.0"
 },
 "nbformat": 4,
 "nbformat_minor": 0
}