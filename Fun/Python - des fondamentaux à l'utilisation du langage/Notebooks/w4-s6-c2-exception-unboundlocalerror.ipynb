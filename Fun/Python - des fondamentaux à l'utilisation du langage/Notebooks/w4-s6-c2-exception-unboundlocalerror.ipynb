{
 "cells": [
  {
   "cell_type": "markdown",
   "metadata": {},
   "source": [
    "<span style=\"float:left;\">Licence CC BY-NC-ND</span><span style=\"float:right;\">Thierry Parmentelat &amp; Arnaud Legout&nbsp;<img src=\"media/inria-25.png\" style=\"display:inline\"></span><br/>"
   ]
  },
  {
   "cell_type": "markdown",
   "metadata": {},
   "source": [
    "# L'exception `UnboundLocalError`"
   ]
  },
  {
   "cell_type": "markdown",
   "metadata": {},
   "source": [
    "## Complément - niveau intermédiaire"
   ]
  },
  {
   "cell_type": "markdown",
   "metadata": {},
   "source": [
    "Nous résumons ici quelques cas simples de portée de variables"
   ]
  },
  {
   "cell_type": "markdown",
   "metadata": {},
   "source": [
    "### Variable locale"
   ]
  },
  {
   "cell_type": "markdown",
   "metadata": {},
   "source": [
    "Les **arguments** attendus par la fonction sont considérés comme des variables **locales**. \n",
    "\n",
    "Pour définir une autre variable locale, il suffit de la définir (l'affecter), elle devient alors accessible en lecture"
   ]
  },
  {
   "cell_type": "code",
   "execution_count": null,
   "metadata": {
    "collapsed": false
   },
   "outputs": [],
   "source": [
    "def ma_fonction1():\n",
    "    variable1 = \"locale\"\n",
    "    print variable1\n",
    "ma_fonction1()"
   ]
  },
  {
   "cell_type": "markdown",
   "metadata": {},
   "source": [
    "et ceci que l'on ait ou non une variable globale de même nom"
   ]
  },
  {
   "cell_type": "code",
   "execution_count": null,
   "metadata": {
    "collapsed": false
   },
   "outputs": [],
   "source": [
    "variable2 = \"globale\"\n",
    "\n",
    "def ma_fonction2():\n",
    "    variable2 = \"locale\"\n",
    "    print variable2\n",
    "ma_fonction2()"
   ]
  },
  {
   "cell_type": "markdown",
   "metadata": {},
   "source": [
    "### Variable globale"
   ]
  },
  {
   "cell_type": "markdown",
   "metadata": {},
   "source": [
    "On peut accéder **en lecture**  à une variable globale sans précaution particulière"
   ]
  },
  {
   "cell_type": "code",
   "execution_count": null,
   "metadata": {
    "collapsed": false
   },
   "outputs": [],
   "source": [
    "variable3 = \"globale\"\n",
    "def ma_fonction3():\n",
    "    print variable3\n",
    "ma_fonction3()"
   ]
  },
  {
   "cell_type": "markdown",
   "metadata": {},
   "source": [
    "### Mais il faut choisir !"
   ]
  },
  {
   "cell_type": "markdown",
   "metadata": {},
   "source": [
    "Par contre on ne **peut pas** faire la chose suivante dans une fonction. On ne peut pas utiliser **d'abord** une variable comme une variable **globale**, **puis** essayer de l'affecter localement - ce qui signifie la déclarer comme une **locale**:"
   ]
  },
  {
   "cell_type": "code",
   "execution_count": null,
   "metadata": {
    "collapsed": false
   },
   "outputs": [],
   "source": [
    "# cet exemple ne fonctionne pas et leve UnboundLocalError\n",
    "variable4 = \"globale\"\n",
    "def ma_fonction4():\n",
    "    # on référence la variable globale\n",
    "    print variable4\n",
    "    # et maintenant on crée un variable locale\n",
    "    variable4 = \"locale\"\n",
    "\n",
    "# on \"attrape\" l'exception\n",
    "try:\n",
    "    ma_fonction4()\n",
    "except Exception as e:\n",
    "    print type(e)\n",
    "    print e"
   ]
  },
  {
   "cell_type": "markdown",
   "metadata": {},
   "source": [
    "### Comment faire alors ?"
   ]
  },
  {
   "cell_type": "markdown",
   "metadata": {},
   "source": [
    "L'intérêt de cette erreur est d'interdire de mélanger des variables locales et globales de même nom dans une même fonction. On comprend bien que ça serait vite incompréhensible. Donc une variable dans une fonction peut être soit locale si elle est affectée dans la fonction ou sinon globale, mais jamais les deux à la fois. Si vous avez une erreur `UnboundLocalError` c'est forcément que vous avez fait cette confusion. \n",
    "\n",
    "Vous vous demandez peut-être à ce stade, mais comment fait-on alors pour modifier une variable globale depuis une fonction ?"
   ]
  },
  {
   "cell_type": "markdown",
   "metadata": {},
   "source": [
    "Pour cela il faut utiliser l'instruction `global` comme ceci"
   ]
  },
  {
   "cell_type": "code",
   "execution_count": null,
   "metadata": {
    "collapsed": false
   },
   "outputs": [],
   "source": [
    "# Pour résoudre ce conflit il faut explicitement\n",
    "# déclarer la variable  comme globale\n",
    "variable5 = \"globale\"\n",
    "def ma_fonction5():\n",
    "    global variable5\n",
    "    # on référence la variable globale\n",
    "    print \"dans la fonction\", variable5\n",
    "    # cette fois on modifie la variable globale\n",
    "    variable5 = \"changée localement\"\n",
    "\n",
    "ma_fonction5()\n",
    "print \"après la fonction\", variable5"
   ]
  },
  {
   "cell_type": "markdown",
   "metadata": {},
   "source": [
    "Nous reviendrons longuement sur l'instruction `global` dans la prochaine vidéo."
   ]
  },
  {
   "cell_type": "markdown",
   "metadata": {},
   "source": [
    "### Bonnes pratiques"
   ]
  },
  {
   "cell_type": "markdown",
   "metadata": {},
   "source": [
    "Cela étant dit, l'utilisation de variables globales est généralement considérée comme une mauvaise pratique. \n",
    "\n",
    "Le fait d'utiliser une variable globale en *lecture seule* peut rester acceptable, lorsqu'il s'agit de matérialiser une constante qu'il est facile de changer. Mais dans une application aboutie, ces constantes elles-mêmes peuvent être modifiées par l'utilisateur via un système de configuration, donc on préférera passer en argument un objet *config*.\n",
    "\n",
    "Et dans les cas où votre code doit recourir à l'utilisation de l'instruction `global`, c'est très probablement que quelque chose peut être amélioré au niveau de la conception de votre code.\n",
    "\n",
    "Il est recommandé, au contraire, de passer en argument à une fonction tout le contexte dont elle a besoin pour travailler; et à l'inverse d'utiliser le résultat d'une fonction plutôt que de modifier une variable globale."
   ]
  }
 ],
 "metadata": {
  "kernelspec": {
   "display_name": "Python 2",
   "language": "python",
   "name": "python2"
  },
  "language_info": {
   "codemirror_mode": {
    "name": "ipython",
    "version": 2
   },
   "file_extension": ".py",
   "mimetype": "text/x-python",
   "name": "python",
   "nbconvert_exporter": "python",
   "pygments_lexer": "ipython2",
   "version": "2.7.12"
  },
  "notebookname": "UnboundLocalError",
  "version": "2.0"
 },
 "nbformat": 4,
 "nbformat_minor": 0
}