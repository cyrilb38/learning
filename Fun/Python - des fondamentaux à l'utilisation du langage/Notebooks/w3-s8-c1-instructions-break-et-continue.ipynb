{
 "cells": [
  {
   "cell_type": "markdown",
   "metadata": {},
   "source": [
    "<span style=\"float:left;\">Licence CC BY-NC-ND</span><span style=\"float:right;\">Thierry Parmentelat &amp; Arnaud Legout&nbsp;<img src=\"media/inria-25.png\" style=\"display:inline\"></span><br/>"
   ]
  },
  {
   "cell_type": "markdown",
   "metadata": {},
   "source": [
    "# Les instructions `break` et `continue`"
   ]
  },
  {
   "cell_type": "markdown",
   "metadata": {},
   "source": [
    "## Complément - niveau basique"
   ]
  },
  {
   "cell_type": "markdown",
   "metadata": {},
   "source": [
    "### `break` et `continue`"
   ]
  },
  {
   "cell_type": "markdown",
   "metadata": {},
   "source": [
    "python propose deux instructions très pratiques permettant de contrôler l'exécution à l'intérieur des boucles de répétition (`for` ou `while`)\n",
    "\n",
    " * `continue` : pour abandonner l'itération courante et passer à la suivante\n",
    " * `break` : pour abandonner complètement la boucle\n",
    " \n",
    "Voici un exemple simple d'utilisation de ces deux instructions"
   ]
  },
  {
   "cell_type": "code",
   "execution_count": 1,
   "metadata": {
    "collapsed": false
   },
   "outputs": [
    {
     "name": "stdout",
     "output_type": "stream",
     "text": [
      "On traite l'entier 0\n",
      "On traite l'entier 10\n",
      "On traite l'entier 20\n",
      "On traite l'entier 30\n",
      "On traite l'entier 40\n",
      "On traite l'entier 50\n",
      "on est sorti de la boucle\n"
     ]
    }
   ],
   "source": [
    "for entier in range(1000):\n",
    "    # on ignore les nombres non multiples de 10\n",
    "    if entier % 10 != 0:\n",
    "        continue\n",
    "    print \"On traite l'entier {}\".format(entier)\n",
    "    # on s'arrête à 50\n",
    "    if entier >= 50:\n",
    "        break\n",
    "print \"on est sorti de la boucle\"    "
   ]
  },
  {
   "cell_type": "markdown",
   "metadata": {},
   "source": [
    "Pour aller plus loin, vous pouvez lire [cette documentation](https://docs.python.org/2.7/tutorial/controlflow.html?highlight=break#break-and-continue-statements-and-else-clauses-on-loops)."
   ]
  }
 ],
 "metadata": {
  "kernelspec": {
   "display_name": "Python 2",
   "language": "python",
   "name": "python2"
  },
  "language_info": {
   "codemirror_mode": {
    "name": "ipython",
    "version": 2
   },
   "file_extension": ".py",
   "mimetype": "text/x-python",
   "name": "python",
   "nbconvert_exporter": "python",
   "pygments_lexer": "ipython2",
   "version": "2.7.11"
  },
  "notebookname": "break et continue",
  "version": "2.0"
 },
 "nbformat": 4,
 "nbformat_minor": 0
}
