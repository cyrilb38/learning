{
 "cells": [
  {
   "cell_type": "markdown",
   "metadata": {},
   "source": [
    "<span style=\"float:left;\">Licence CC BY-NC-ND</span><span style=\"float:right;\">Thierry Parmentelat &amp; Arnaud Legout&nbsp;<img src=\"media/inria-25.png\" style=\"display:inline\"></span><br/>"
   ]
  },
  {
   "cell_type": "markdown",
   "metadata": {},
   "source": [
    "# Enregistrements et instances"
   ]
  },
  {
   "cell_type": "markdown",
   "metadata": {},
   "source": [
    "## Complément - niveau basique"
   ]
  },
  {
   "cell_type": "markdown",
   "metadata": {},
   "source": [
    "### Un record implémenté comme une instance de classe"
   ]
  },
  {
   "cell_type": "markdown",
   "metadata": {},
   "source": [
    "Nous allons reprendre ici la discussion commencée en semaine 3, où nous avions vu comment implémenter un enregistrement (à nouveau, un enregistrement est l'équivalent, selon les langages, de *struct* ou *record*) comme un dictionnaire."
   ]
  },
  {
   "cell_type": "markdown",
   "metadata": {},
   "source": [
    "Notre exemple était celui des personnes, et nous avions alors écrit quelque chose comme"
   ]
  },
  {
   "cell_type": "code",
   "execution_count": null,
   "metadata": {
    "collapsed": false
   },
   "outputs": [],
   "source": [
    "pierre = {'nom': 'pierre', 'age': 25, 'email': 'pierre@foo.com'}\n",
    "print pierre"
   ]
  },
  {
   "cell_type": "markdown",
   "metadata": {},
   "source": [
    "Cette fois-ci nous allons implémenter la même abstraction, mais avec une classe `Personne` comme ceci"
   ]
  },
  {
   "cell_type": "code",
   "execution_count": null,
   "metadata": {
    "collapsed": false
   },
   "outputs": [],
   "source": [
    "class Personne:\n",
    "    \"\"\"Une personne possède un nom, un âge et une adresse e-mail\"\"\"\n",
    "    \n",
    "    def __init__(self, nom, age, email):\n",
    "        self.nom = nom\n",
    "        self.age = age\n",
    "        self.email = email\n",
    "        \n",
    "    def __repr__(self):\n",
    "        return \"[{nom}, {age} ans, email:{email}]\".\\\n",
    "            format(**vars(self))"
   ]
  },
  {
   "cell_type": "markdown",
   "metadata": {},
   "source": [
    "Avant de détailler le code de cette classe, voyons comment on l'utiliserait :"
   ]
  },
  {
   "cell_type": "code",
   "execution_count": null,
   "metadata": {
    "collapsed": false
   },
   "outputs": [],
   "source": [
    "personnes = [\n",
    "    # on se fie à l'ordre des arguments dans le créateur\n",
    "    Personne('pierre', 25, 'pierre@foo.com'),\n",
    "    # ou bien on peut être explicite\n",
    "    Personne(nom='paul', age=18, email='paul@bar.com'),\n",
    "    # ou bien on mélange\n",
    "    Personne('jacques', 52, email='jacques@cool.com'),\n",
    "]\n",
    "print personnes"
   ]
  },
  {
   "cell_type": "markdown",
   "metadata": {},
   "source": [
    "Le code de cette classe devrait être limpide à présent, sauf peut-être la dernière ligne de `__repr__`. On utilise ici [la fonction *builtin* `vars`](https://docs.python.org/2/library/functions.html#vars) qui retourne le dictionnaire des attributs d'un objet :"
   ]
  },
  {
   "cell_type": "code",
   "execution_count": null,
   "metadata": {
    "collapsed": false
   },
   "outputs": [],
   "source": [
    "vars(personnes[0])"
   ]
  },
  {
   "cell_type": "markdown",
   "metadata": {},
   "source": [
    "Ce qui, combiné avec un passage d'arguments avec la forme `**`, nous permet d'éviter la répétition des arguments à utiliser dans l'appel à `format`."
   ]
  },
  {
   "cell_type": "markdown",
   "metadata": {},
   "source": [
    "### Un dictionnaire pour indexer les enregistrements"
   ]
  },
  {
   "cell_type": "markdown",
   "metadata": {},
   "source": [
    "Nous pouvons appliquer exactement la même technique d'indexation qu'avec les dictionnaires"
   ]
  },
  {
   "cell_type": "code",
   "execution_count": null,
   "metadata": {
    "collapsed": false
   },
   "outputs": [],
   "source": [
    "index_par_nom = {personne.nom: personne for personne in personnes}"
   ]
  },
  {
   "cell_type": "markdown",
   "metadata": {},
   "source": [
    "De façon à pouvoir facilement localiser une personne"
   ]
  },
  {
   "cell_type": "code",
   "execution_count": null,
   "metadata": {
    "collapsed": false
   },
   "outputs": [],
   "source": [
    "pierre = index_par_nom['pierre']\n",
    "print pierre"
   ]
  },
  {
   "cell_type": "markdown",
   "metadata": {},
   "source": [
    "### Poursuivons l'analogie"
   ]
  },
  {
   "cell_type": "markdown",
   "metadata": {},
   "source": [
    "Pour marquer l'anniversaire d'une personne, nous pourrions faire"
   ]
  },
  {
   "cell_type": "code",
   "execution_count": null,
   "metadata": {
    "collapsed": false
   },
   "outputs": [],
   "source": [
    "pierre.age += 1\n",
    "pierre"
   ]
  },
  {
   "cell_type": "markdown",
   "metadata": {},
   "source": [
    "Cela dit, pour rester en ligne avec l'idée d'encapsulation telle que nous l'avons vue dans un complément récemment, il serait de beaucoup préférable de fournir une méthode `anniversaire` pour cela, de façon à pouvoir faire quelque chose comme "
   ]
  },
  {
   "cell_type": "markdown",
   "metadata": {},
   "source": [
    "    # attention cette cellule n'est pas évaluable\n",
    "    pierre.anniversaire()"
   ]
  },
  {
   "cell_type": "markdown",
   "metadata": {},
   "source": [
    "Dans la pratique on définit presque toujours toutes les méthodes en même temps que la classe. Ce qui veut dire que l'on ajouterait tout simplement la méthode `anniversaire` dans le code qui définit la classe ci-dessus."
   ]
  },
  {
   "cell_type": "markdown",
   "metadata": {},
   "source": [
    "    # Cette cellule *n'est pas* évaluable\n",
    "    # elle donne seulement un aperçu de comment\n",
    "    # on aurait pu écrire la classe Personne\n",
    "    # pour lui ajouter une méthode 'anniversaire'\n",
    "    class Personne:\n",
    "        \"\"\"Une personne possède un nom, un âge et une adresse e-mail\"\"\"\n",
    "        \n",
    "        def __init__(self, nom, age, email):\n",
    "            ...\n",
    "    \n",
    "        def anniversaire(self):\n",
    "            self.age += 1"
   ]
  },
  {
   "cell_type": "markdown",
   "metadata": {},
   "source": [
    "## Complément - niveau intermédiaire"
   ]
  },
  {
   "cell_type": "markdown",
   "metadata": {},
   "source": [
    "Nous allons toutefois profiter de cet exemple pour montrer comment il est également possible d'ajouter cette méthode *à la volée*, en tirant profit du fait que **les méthodes sont implémentées comme des attributs de l'objet classe**."
   ]
  },
  {
   "cell_type": "markdown",
   "metadata": {},
   "source": [
    "Ainsi, on peut étendre l'objet `classe` lui-même dynamiquement comme ceci"
   ]
  },
  {
   "cell_type": "code",
   "execution_count": null,
   "metadata": {
    "collapsed": false
   },
   "outputs": [],
   "source": [
    "def anniversaire(self):\n",
    "    \"Incrémente l'âge de la personne\"\n",
    "    self.age += 1\n",
    "\n",
    "Personne.anniversaire = anniversaire"
   ]
  },
  {
   "cell_type": "markdown",
   "metadata": {},
   "source": [
    "Ce code commence par définir une fonction un utilisant `def` et la signature de la méthode. Comme cette méthode ne prend pas d'argument, la fonction accepte un argument `self`; exactement comme si on avait défini la méthode dans l'instruction `class`. \n",
    "\n",
    "Ensuite, il suffit d'affecter la fonction ainsi définie à **l'attribut `anniversaire`** de l'objet classe.\n",
    "\n",
    "Vous voyez que c'est très simple, et à présent la classe a connaissance de cette méthode exactement comme si on l'avait définie dans la clause `class`, comme le montre l'aide"
   ]
  },
  {
   "cell_type": "code",
   "execution_count": null,
   "metadata": {
    "collapsed": false
   },
   "outputs": [],
   "source": [
    "help(Personne)"
   ]
  },
  {
   "cell_type": "markdown",
   "metadata": {},
   "source": [
    "Et on peut à présent utiliser cette méthode"
   ]
  },
  {
   "cell_type": "code",
   "execution_count": null,
   "metadata": {
    "collapsed": false
   },
   "outputs": [],
   "source": [
    "pierre.anniversaire()\n",
    "pierre"
   ]
  }
 ],
 "metadata": {
  "kernelspec": {
   "display_name": "Python 2",
   "language": "python",
   "name": "python2"
  },
  "notebookname": "Enregistrements et instances",
  "version": "2.0"
 },
 "nbformat": 4,
 "nbformat_minor": 0
}