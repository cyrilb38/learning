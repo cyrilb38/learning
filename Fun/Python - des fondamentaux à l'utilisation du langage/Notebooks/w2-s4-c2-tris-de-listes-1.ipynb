{
 "cells": [
  {
   "cell_type": "markdown",
   "metadata": {},
   "source": [
    "<span style=\"float:left;\">Licence CC BY-NC-ND</span><span style=\"float:right;\">Thierry Parmentelat &amp; Arnaud Legout&nbsp;<img src=\"media/inria-25.png\" style=\"display:inline\"></span><br/>"
   ]
  },
  {
   "cell_type": "markdown",
   "metadata": {},
   "source": [
    "# Tris de listes"
   ]
  },
  {
   "cell_type": "markdown",
   "metadata": {},
   "source": [
    "## Complément - niveau basique"
   ]
  },
  {
   "cell_type": "markdown",
   "metadata": {},
   "source": [
    "python fournit une fonction standard pour trier une liste, qui s'appelle, sans grande surprise, `sort`. "
   ]
  },
  {
   "cell_type": "markdown",
   "metadata": {},
   "source": [
    "### Utilisation basique"
   ]
  },
  {
   "cell_type": "markdown",
   "metadata": {},
   "source": [
    "Voyons comment se comporte `sort` sur un exemple simple."
   ]
  },
  {
   "cell_type": "code",
   "execution_count": null,
   "metadata": {
    "collapsed": false
   },
   "outputs": [],
   "source": [
    "liste = [8, 7, 4, 3, 2, 9, 1, 5, 6]\n",
    "print 'avant tri', liste\n",
    "liste.sort()\n",
    "print 'apres tri', liste"
   ]
  },
  {
   "cell_type": "markdown",
   "metadata": {},
   "source": [
    "On retrouve ici, avec l'instruction `liste.sort()` un cas d'appel de méthode (ici `sort`) sur un objet (ici `liste`), comme on l'avait vu dans la vidéo sur la notion d'objet.\n",
    "\n",
    "La première chose à remarquer est que la liste d'entrée a été modifiée, on dit \"en place\", ou encore \"par effet de bord\".\n",
    "\n",
    "On aurait pu imaginer que la liste d'entrée soit restée inchangée, et que la méthode de tri renvoie une copie triée de la liste, ce n'est pas le choix qui a été fait. De cette façon, c'est à l'utilisateur de la méthode de réaliser au préalable une copie de la liste initiale si c'est nécessaire dans son cas d'usage. On évite ainsi d'imposer une opération de copie, qui peut être coûteuse en mémoire, lorsque ce n'est pas utile."
   ]
  },
  {
   "cell_type": "markdown",
   "metadata": {},
   "source": [
    "### Tri décroissant"
   ]
  },
  {
   "cell_type": "markdown",
   "metadata": {},
   "source": [
    "On remarque aussi que la liste est triée par ordre croissant. Si vous souhaitez au contraire l'ordre décroissant, vous pouvez le faire comme ceci:"
   ]
  },
  {
   "cell_type": "code",
   "execution_count": null,
   "metadata": {
    "collapsed": false
   },
   "outputs": [],
   "source": [
    "liste = [8, 7, 4, 3, 2, 9, 1, 5, 6]\n",
    "print 'avant tri', liste\n",
    "liste.sort(reverse=True)\n",
    "print 'apres tri décroissant', liste"
   ]
  },
  {
   "cell_type": "markdown",
   "metadata": {},
   "source": [
    "Nous n'avons pas encore vu à quoi correspond cette formule `reverse=True` dans l'appel à la méthode, ceci sera approfondi dans le chapitre sur les appels de fonction, mais dans l'immédiat vous pouvez utiliser cette technique telle quelle."
   ]
  },
  {
   "cell_type": "markdown",
   "metadata": {},
   "source": [
    "### Chaînes de caractères"
   ]
  },
  {
   "cell_type": "markdown",
   "metadata": {},
   "source": [
    "Cette technique fonctionne très bien sur tous les types numériques (enfin, à l'exception des complexes; en guise d'exercice: pourquoi ?), ainsi que sur les chaînes de caractères:"
   ]
  },
  {
   "cell_type": "code",
   "execution_count": null,
   "metadata": {
    "collapsed": false
   },
   "outputs": [],
   "source": [
    "liste = ['spam', 'egg', 'bacon', 'beef']\n",
    "liste.sort()\n",
    "print 'après tri', liste"
   ]
  },
  {
   "cell_type": "markdown",
   "metadata": {},
   "source": [
    "Comme on s'y attend, il s'agit cette fois d'un tri lexicographique, dérivé de l'ordre total sur les caractères. Il faut souligner toutefois, pour les personnes n'ayant jamais été exposées à l'informatique, que cet ordre, quoique déterministe, est arbitraire en dehors des lettres de l'alphabet."
   ]
  },
  {
   "cell_type": "markdown",
   "metadata": {},
   "source": [
    "Ainsi par exemple:"
   ]
  },
  {
   "cell_type": "code",
   "execution_count": null,
   "metadata": {
    "collapsed": false
   },
   "outputs": [],
   "source": [
    "'a' < 'z'"
   ]
  },
  {
   "cell_type": "markdown",
   "metadata": {},
   "source": [
    "bon; mais par contre"
   ]
  },
  {
   "cell_type": "code",
   "execution_count": null,
   "metadata": {
    "collapsed": false
   },
   "outputs": [],
   "source": [
    "'Z' < 'a'"
   ]
  },
  {
   "cell_type": "markdown",
   "metadata": {},
   "source": [
    "Ce qui explique ceci"
   ]
  },
  {
   "cell_type": "code",
   "execution_count": null,
   "metadata": {
    "collapsed": false
   },
   "outputs": [],
   "source": [
    "liste = ['abc', 'Zoo']\n",
    "liste.sort()\n",
    "print liste"
   ]
  },
  {
   "cell_type": "markdown",
   "metadata": {},
   "source": [
    "Et lorsque les chaines contiennent des espaces ou autres ponctuations, le résultat du tri peut paraître surprenant:"
   ]
  },
  {
   "cell_type": "code",
   "execution_count": null,
   "metadata": {
    "collapsed": false
   },
   "outputs": [],
   "source": [
    "liste = [' zoo', 'ane']\n",
    "liste.sort()\n",
    "print liste"
   ]
  },
  {
   "cell_type": "markdown",
   "metadata": {},
   "source": [
    "### À suivre"
   ]
  },
  {
   "cell_type": "markdown",
   "metadata": {},
   "source": [
    "Il est possible de définir sois-même le critère à utiliser pour trier une liste, et nous verrons cela très bientôt une fois que nous aurons introduit la notion de fonction."
   ]
  }
 ],
 "metadata": {
  "kernelspec": {
   "display_name": "Python 2",
   "language": "python",
   "name": "python2"
  },
  "notebookname": "Tris de listes",
  "version": "2.0"
 },
 "nbformat": 4,
 "nbformat_minor": 0
}