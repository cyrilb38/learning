{
 "cells": [
  {
   "cell_type": "markdown",
   "metadata": {},
   "source": [
    "<span style=\"float:left;\">Licence CC BY-NC-ND</span><span style=\"float:right;\">Thierry Parmentelat &amp; Arnaud Legout&nbsp;<img src=\"media/inria-25.png\" style=\"display:inline\"></span><br/>"
   ]
  },
  {
   "cell_type": "markdown",
   "metadata": {},
   "source": [
    "# Rappels sur *docstring*"
   ]
  },
  {
   "cell_type": "markdown",
   "metadata": {},
   "source": [
    "## Complément - niveau basique"
   ]
  },
  {
   "cell_type": "markdown",
   "metadata": {},
   "source": [
    "### Comment documenter une fonction"
   ]
  },
  {
   "cell_type": "markdown",
   "metadata": {},
   "source": [
    "Pour rappel, il est recommandé de toujours documenter les fonctions en ajoutant une chaîne comme première instruction. "
   ]
  },
  {
   "cell_type": "code",
   "execution_count": null,
   "metadata": {
    "collapsed": false
   },
   "outputs": [],
   "source": [
    "def flatten(containers):\n",
    "    \"returns a list of the elements of the elements in containers\"\n",
    "    return [element for container in containers for element in container]"
   ]
  },
  {
   "cell_type": "markdown",
   "metadata": {},
   "source": [
    "Cette information peut être consultée, soit interactivement"
   ]
  },
  {
   "cell_type": "code",
   "execution_count": null,
   "metadata": {
    "collapsed": false
   },
   "outputs": [],
   "source": [
    "help(flatten)"
   ]
  },
  {
   "cell_type": "markdown",
   "metadata": {},
   "source": [
    "Soit programmativement"
   ]
  },
  {
   "cell_type": "code",
   "execution_count": null,
   "metadata": {
    "collapsed": false
   },
   "outputs": [],
   "source": [
    "flatten.__doc__"
   ]
  },
  {
   "cell_type": "markdown",
   "metadata": {},
   "source": [
    "### Sous quel format ?"
   ]
  },
  {
   "cell_type": "markdown",
   "metadata": {},
   "source": [
    "L'usage est d'utiliser une chaîne simple (délimitée par \" ou ') lorsque le *docstring* tient sur une seule ligne, comme ci-dessus."
   ]
  },
  {
   "cell_type": "markdown",
   "metadata": {},
   "source": [
    "Lorsque ce n'est pas le cas - et pour du vrai code, c'est rarement le cas - on utilise des chaînes multi-lignes (délimitées par \"\"\"ou '''). Dans ce cas le format est très flexible, car le *docstring* est normalisé, comme on le voit sur ces deux exemples, où le rendu final est identique:"
   ]
  },
  {
   "cell_type": "code",
   "execution_count": null,
   "metadata": {
    "collapsed": false
   },
   "outputs": [],
   "source": [
    "# un style de docstring multi-lignes\n",
    "def flatten(containers):\n",
    "    \"\"\"\n",
    "provided that containers is a list (or more generally an iterable)\n",
    "of elements that are themselves iterables, this function\n",
    "returns a list of the items in these elements\n",
    "    \"\"\"\n",
    "    return [element for container in containers for element in container]\n",
    "\n",
    "help(flatten)"
   ]
  },
  {
   "cell_type": "code",
   "execution_count": null,
   "metadata": {
    "collapsed": false
   },
   "outputs": [],
   "source": [
    "# un autre style, qui donne le même résultat\n",
    "def flatten(containers):\n",
    "    \"\"\"provided that containers is a list (or more generally an iterable)\n",
    "    of elements that are themselves iterables, this function\n",
    "    returns a list of the items in these elements\n",
    "    \"\"\"\n",
    "    return [element for container in containers for element in container]\n",
    "\n",
    "help(flatten)"
   ]
  },
  {
   "cell_type": "markdown",
   "metadata": {},
   "source": [
    "### Quelle information ?"
   ]
  },
  {
   "cell_type": "markdown",
   "metadata": {},
   "source": [
    "On remarquera que dans ces exemples, le *docstring* ne répète pas le nom de la fonction ou des arguments (en mots savants, sa *signature*), et que ça n'empêche pas `help` de nous afficher cette information.\n",
    "\n",
    "Le [PEP 257](http://legacy.python.org/dev/peps/pep-0257/) qui donne les conventions autour du *docstring* précise bien ceci:"
   ]
  },
  {
   "cell_type": "markdown",
   "metadata": {},
   "source": [
    "    The one-line docstring should NOT be a \"signature\" reiterating the function/method parameters (which can be obtained by introspection). Don't do:\n",
    "    \n",
    "    def function(a, b):\n",
    "        \"\"\"function(a, b) -> list\"\"\"\n",
    "     \n",
    "    <...>\n",
    "    \n",
    "    The preferred form for such a docstring would be something like:\n",
    "    \n",
    "    def function(a, b):\n",
    "        \"\"\"Do X and return a list.\"\"\"\n",
    "    (Of course \"Do X\" should be replaced by a useful description!)"
   ]
  },
  {
   "cell_type": "markdown",
   "metadata": {},
   "source": [
    "### Pour en savoir plus"
   ]
  },
  {
   "cell_type": "markdown",
   "metadata": {},
   "source": [
    "Vous trouverez tous les détails sur *docstring* dans le [PEP 257](http://legacy.python.org/dev/peps/pep-0257/)"
   ]
  }
 ],
 "metadata": {
  "kernelspec": {
   "display_name": "Python 2",
   "language": "python",
   "name": "python2"
  },
  "notebookname": "docstring",
  "version": "2.0"
 },
 "nbformat": 4,
 "nbformat_minor": 0
}