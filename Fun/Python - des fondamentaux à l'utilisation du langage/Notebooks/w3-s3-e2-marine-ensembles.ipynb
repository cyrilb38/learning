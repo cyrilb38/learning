{
 "cells": [
  {
   "cell_type": "markdown",
   "metadata": {},
   "source": [
    "<span style=\"float:left;\">Licence CC BY-NC-ND</span><span style=\"float:right;\">Thierry Parmentelat &amp; Arnaud Legout&nbsp;<img src=\"media/inria-25.png\" style=\"display:inline\"></span><br/>"
   ]
  },
  {
   "cell_type": "markdown",
   "metadata": {},
   "source": [
    "# Exercice sur les ensembles"
   ]
  },
  {
   "cell_type": "markdown",
   "metadata": {},
   "source": [
    "## Exercice - niveau intermédiaire"
   ]
  },
  {
   "cell_type": "code",
   "execution_count": null,
   "metadata": {
    "collapsed": false
   },
   "outputs": [],
   "source": [
    "# chargement de l'exercice\n",
    "from corrections.w3s3_marine_set import exo_diff"
   ]
  },
  {
   "cell_type": "markdown",
   "metadata": {},
   "source": [
    "### Les données"
   ]
  },
  {
   "cell_type": "markdown",
   "metadata": {},
   "source": [
    "Nous reprenons le même genre de données marines en provenance de MarineTraffic que nous avons vues dans l'exercice précédent."
   ]
  },
  {
   "cell_type": "code",
   "execution_count": null,
   "metadata": {
    "collapsed": false
   },
   "outputs": [],
   "source": [
    "from corrections.w3s3_marine_set import abbreviated, extended"
   ]
  },
  {
   "cell_type": "markdown",
   "metadata": {},
   "source": [
    "### Rappels sur les formats"
   ]
  },
  {
   "cell_type": "markdown",
   "metadata": {},
   "source": [
    "    étendu: [id, latitude, longitude, date_heure, \n",
    "             nom_bateau, code_pays...]\n",
    "    abrégé: [id, latitude, longitude, date_heure]"
   ]
  },
  {
   "cell_type": "code",
   "execution_count": null,
   "metadata": {
    "collapsed": false
   },
   "outputs": [],
   "source": [
    "print extended[0]"
   ]
  },
  {
   "cell_type": "code",
   "execution_count": null,
   "metadata": {
    "collapsed": false
   },
   "outputs": [],
   "source": [
    "print abbreviated[0]"
   ]
  },
  {
   "cell_type": "markdown",
   "metadata": {},
   "source": [
    "### But de l'exercice"
   ]
  },
  {
   "cell_type": "code",
   "execution_count": null,
   "metadata": {
    "collapsed": false
   },
   "outputs": [],
   "source": [
    "# chargement de l'exercice\n",
    "from corrections.w3s3_marine_set import exo_diff"
   ]
  },
  {
   "cell_type": "markdown",
   "metadata": {},
   "source": [
    "Notez bien une différence importante avec l'exercice précédent: cette fois **il n'y a plus correspondance** entre les bateaux rapportés dans les données étendues et abrégées. \n",
    "\n",
    "Le but de l'exercice est précisément d'étudier la différence, et pour cela on vous demande d'écrire une fonction \n",
    "\n",
    "    diff(extended, abbreviated)\n",
    "\n",
    "qui retourne un tuple à trois éléments\n",
    " * l'ensemble (`set`) des **noms** des bateaux présents dans `extended` mais pas dans `abbreviated`\n",
    " * l'ensemble des **noms** des bateaux présents dans `extended` et dans `abbreviated`\n",
    " * l'ensemble des **id** des bateaux présents dans `abbreviated`\n",
    " mais pas dans `extended` (par construction, les données ne nous permettent pas d'obtenir les noms de ces bateaux)"
   ]
  },
  {
   "cell_type": "code",
   "execution_count": null,
   "metadata": {
    "collapsed": false
   },
   "outputs": [],
   "source": [
    "# le résultat attendu\n",
    "result = exo_diff.resultat(extended, abbreviated)\n",
    "\n",
    "# combien de bateaux sont concernés\n",
    "def show_result(extended, abbreviated, result):\n",
    "    \"\"\"\n",
    "    Affiche divers décomptes sur les arguments\n",
    "    en entrée et en sortie de diff\n",
    "    \"\"\"\n",
    "    print 10*'-', \"Les entrées\"\n",
    "    print \"Dans extended: {} entrées\".format(len(extended))\n",
    "    print \"Dans abbreviated: {} entrées\".format(len(abbreviated))\n",
    "    print 10*'-', \"Le résultat du diff\"\n",
    "    extended_only, both, abbreviated_only = result\n",
    "    print 'Dans extended mais pas dans abbreviated', len(extended_only)\n",
    "    print 'Dans les deux', len(both)\n",
    "    print 'Dans abbreviated mais pas dans extended', len(abbreviated_only)\n",
    "\n",
    "show_result(extended, abbreviated, result)"
   ]
  },
  {
   "cell_type": "markdown",
   "metadata": {},
   "source": [
    "### Votre code"
   ]
  },
  {
   "cell_type": "code",
   "execution_count": null,
   "metadata": {
    "collapsed": false
   },
   "outputs": [],
   "source": [
    "def diff(extended, abbreviated):\n",
    "    \"<votre_code>\""
   ]
  },
  {
   "cell_type": "markdown",
   "metadata": {},
   "source": [
    "### Validation"
   ]
  },
  {
   "cell_type": "code",
   "execution_count": null,
   "metadata": {
    "collapsed": false
   },
   "outputs": [],
   "source": [
    "exo_diff.correction(diff, extended, abbreviated)"
   ]
  },
  {
   "cell_type": "markdown",
   "metadata": {},
   "source": [
    "### Des fichiers de données plus réalistes"
   ]
  },
  {
   "cell_type": "markdown",
   "metadata": {},
   "source": [
    "Comme pour l'exercice précédent, les données fournies ici sont très simplistes; vous pouvez si vous le voulez essayer votre code avec des données (un peu) plus réalistes en chargeant des fichiers de données plus complets&nbsp;:\n",
    "\n",
    " * [data/marine-e2-ext.json](data/marine-e2-ext.json)\n",
    " * [data/marine-e2-abb.json](data/marine-e2-abb.json)\n",
    "\n",
    "Ce qui donnerait en python&nbsp;:"
   ]
  },
  {
   "cell_type": "code",
   "execution_count": null,
   "metadata": {
    "collapsed": false
   },
   "outputs": [],
   "source": [
    "# load data from files\n",
    "import json\n",
    "\n",
    "with open(\"data/marine-e2-ext.json\") as feed:\n",
    "    extended_full = json.load(feed)\n",
    "    \n",
    "with open(\"data/marine-e2-abb.json\") as feed:\n",
    "    abbreviated_full = json.load(feed)"
   ]
  },
  {
   "cell_type": "code",
   "execution_count": null,
   "metadata": {
    "collapsed": false
   },
   "outputs": [],
   "source": [
    "# le résultat de votre fonction sur des données plus vastes\n",
    "diff_full = diff(extended_full, abbreviated_full)\n",
    "show_result(extended_full, abbreviated_full, diff_full)"
   ]
  },
  {
   "cell_type": "markdown",
   "metadata": {},
   "source": [
    "Je signale enfin à propos de ces données plus complètes que&nbsp;:\n",
    "  * on a supprimé les entrées correspondants à des bateaux différents mais de même nom; cette situation peut arriver dans la réalité (c'est pourquoi d'ailleurs les bateaux ont un *id*) mais ici ce n'est pas le cas.\n",
    "  * il se peut par contre qu'un même bateau fasse l'objet de plusieurs mesures dans `extended` et/ou dans `abbreviated`."
   ]
  }
 ],
 "metadata": {
  "kernelspec": {
   "display_name": "Python 2",
   "language": "python",
   "name": "python2"
  },
  "notebookname": "Ensembles",
  "version": "2.0"
 },
 "nbformat": 4,
 "nbformat_minor": 0
}