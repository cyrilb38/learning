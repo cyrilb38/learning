{
 "cells": [
  {
   "cell_type": "markdown",
   "metadata": {},
   "source": [
    "<span style=\"float:left;\">Licence CC BY-NC-ND</span><span style=\"float:right;\">Thierry Parmentelat &amp; Arnaud Legout&nbsp;<img src=\"media/inria-25.png\" style=\"display:inline\"></span><br/>"
   ]
  },
  {
   "cell_type": "markdown",
   "metadata": {},
   "source": [
    "# Itérateur et performances"
   ]
  },
  {
   "cell_type": "markdown",
   "metadata": {},
   "source": [
    "## Complément - niveau basique"
   ]
  },
  {
   "cell_type": "markdown",
   "metadata": {},
   "source": [
    "Dans ce complément, nous allons voir pourquoi il est bien souvent preférable d'utiliser un itérateur comme sujet d'une boucle `for`, plutôt que d'itérer sur une énumération explicite comme une liste."
   ]
  },
  {
   "cell_type": "markdown",
   "metadata": {},
   "source": [
    "### Digression sur le module `time`"
   ]
  },
  {
   "cell_type": "markdown",
   "metadata": {},
   "source": [
    "Dans ce complément, nous allons faire un peu de mesures de temps d'exécutution et pour cela nous allons utiliser [le module `time`](https://docs.python.org/2/library/time.html).\n",
    "\n",
    "En fait nous n'aurons besoin que d'une seule des fonctions du module, qui retourne l'heure de l'horloge interne, en secondes&nbsp;:"
   ]
  },
  {
   "cell_type": "code",
   "execution_count": null,
   "metadata": {
    "collapsed": false
   },
   "outputs": [],
   "source": [
    "import time\n",
    "print time.time()"
   ]
  },
  {
   "cell_type": "markdown",
   "metadata": {},
   "source": [
    "Pour les curieux ce nombre correspond au nombre de secondes écoulées depuis le 1$^{er}$ Janvier 1970.\n",
    "\n",
    "Le point important ici est que, pour savoir combien de temps prend une opération, on peut faire quelque chose comme"
   ]
  },
  {
   "cell_type": "code",
   "execution_count": 1,
   "metadata": {
    "collapsed": false
   },
   "outputs": [
    {
     "name": "stdout",
     "output_type": "stream",
     "text": [
      "Durée observée pour sleep 0.801000118256s\n"
     ]
    }
   ],
   "source": [
    "from time import time\n",
    "# on enregistre l'heure au début \n",
    "debut = time()\n",
    "# uniquement pour illustrer notre méthode de mesure, \n",
    "# nous utilisons time.sleep, qui attend à ne rien faire pendant la durée indiquée\n",
    "from time import sleep\n",
    "sleep(0.8)\n",
    "# on enregistre l'heure à la fin\n",
    "fin = time()\n",
    "# si tout se passe bien, la durée observée: fin-debut\n",
    "# doit nous donner environ 0.8 seconde\n",
    "print \"Durée observée pour sleep {}s\".format(fin-debut)"
   ]
  },
  {
   "cell_type": "markdown",
   "metadata": {},
   "source": [
    "### Calculs non-instantanés dans un notebook"
   ]
  },
  {
   "cell_type": "markdown",
   "metadata": {},
   "source": [
    "Vous remarquerez d'ailleurs que pendant le temps du `sleep`, le nombre en face du label `In[]` est remplacé par une étoile, qui indique que votre interpréteur python est occupé.\n",
    "\n",
    "Si en manipulant les exemples vous lancez par erreur un calcul trop long, l'interpréteur reste occupé jusqu'à en avoir fini avec ce calcul, et ne pourra pas évaluer d'autres cellules tant qu'il n'aura pas fini. Pensez dans ce cas à faire dans votre notebook *Kernel* -> *Restart* pour redémarrer votre interpréteur."
   ]
  },
  {
   "cell_type": "markdown",
   "metadata": {},
   "source": [
    "### `range` *vs* `xrange`"
   ]
  },
  {
   "cell_type": "markdown",
   "metadata": {},
   "source": [
    "Reprenons notre comparaison entre boucles `for` sur liste et sur itérateur. Pour cela, commençons par un cas très simple. Nous avons vu déjà à de nombreuses reprises la fonction `range`. Il existe également une fonction `xrange` qui renvoie un **itérateur** équivalent, et non pas une liste&nbsp;:"
   ]
  },
  {
   "cell_type": "code",
   "execution_count": 2,
   "metadata": {
    "collapsed": false
   },
   "outputs": [
    {
     "name": "stdout",
     "output_type": "stream",
     "text": [
      "range 0\n",
      "range 1\n",
      "range 2\n",
      "xrange 0\n",
      "xrange 1\n",
      "xrange 2\n"
     ]
    }
   ],
   "source": [
    "for i in range(3):\n",
    "    print 'range', i\n",
    "\n",
    "for i in xrange(3):\n",
    "    print 'xrange', i    "
   ]
  },
  {
   "cell_type": "markdown",
   "metadata": {},
   "source": [
    "### Quelle différence alors ?"
   ]
  },
  {
   "cell_type": "markdown",
   "metadata": {},
   "source": [
    "Imaginez maintenant qu'au lieu de 3 éléments on en ait beaucoup plus; nous allons expérimenter avec plusieurs tailles"
   ]
  },
  {
   "cell_type": "code",
   "execution_count": 3,
   "metadata": {
    "collapsed": false
   },
   "outputs": [],
   "source": [
    "# de 100.000 à 50 millions\n",
    "tailles = [10**5, 10**6, 10**7, 5*10**7]"
   ]
  },
  {
   "cell_type": "markdown",
   "metadata": {},
   "source": [
    "Voyons le temps que prend uniquement la **construction** d'une grosse liste."
   ]
  },
  {
   "cell_type": "code",
   "execution_count": 4,
   "metadata": {
    "collapsed": false
   },
   "outputs": [
    {
     "name": "stdout",
     "output_type": "stream",
     "text": [
      "Création de la liste de taille 100000: 0.00200009346008s\n",
      "Création de la liste de taille 1000000: 0.0199999809265s\n",
      "Création de la liste de taille 10000000: 0.228000164032s\n",
      "Création de la liste de taille 50000000: 4.14399981499s\n"
     ]
    }
   ],
   "source": [
    "import time\n",
    "\n",
    "for taille in tailles:\n",
    "    beg = time.time()\n",
    "    liste = range(taille)\n",
    "    end = time.time()\n",
    "    print \"Création de la liste de taille {}: {}s\".format(taille,end-beg)"
   ]
  },
  {
   "cell_type": "markdown",
   "metadata": {},
   "source": [
    "Si maintenant on construit un itérateur équivalent on mesure un temps beaucoup plus court&nbsp;:"
   ]
  },
  {
   "cell_type": "code",
   "execution_count": 5,
   "metadata": {
    "collapsed": false
   },
   "outputs": [
    {
     "name": "stdout",
     "output_type": "stream",
     "text": [
      "Création de l'itérateur de taille 100000: 0.0s\n",
      "Création de l'itérateur de taille 1000000: 0.0s\n",
      "Création de l'itérateur de taille 10000000: 0.0s\n",
      "Création de l'itérateur de taille 50000000: 0.0s\n"
     ]
    }
   ],
   "source": [
    "import time\n",
    "\n",
    "for taille in tailles:\n",
    "    beg = time.time()\n",
    "    iterateur = xrange(taille)\n",
    "    end = time.time()\n",
    "    print \"Création de l'itérateur de taille {}: {}s\".format(taille,end-beg)"
   ]
  },
  {
   "cell_type": "markdown",
   "metadata": {},
   "source": [
    "On peut voir que, en tendance, la **création d'un itérateur** de type `xrange` est quasiment **instantanée** quelle que soit la taille, alors que la création d'une liste équivalente prend **un temps beaucoup plus important** et d'autant plus long que la liste est grande."
   ]
  },
  {
   "cell_type": "markdown",
   "metadata": {},
   "source": [
    "### Ce qu'il faut retenir"
   ]
  },
  {
   "cell_type": "markdown",
   "metadata": {},
   "source": [
    "Pour résumer ce complément, retenez que&nbsp;: \n",
    "\n",
    " * la **construction d'une liste**, surtout si elle est très longue, peut avoir un **coût non négligeable** en temps et en mémoire;\n",
    " * aussi c'est une bonne idée de s'efforcer de **ne créer une liste** que lorsque c'est **réellement nécessaire**;\n",
    " * et dans tous les autres cas, c'est à dire à chaque fois que la liste n'est qu'un **accessoire de calcul**, et ne représente pas une fin en soi, il faut **préférer** l'utilisation d'**itérateurs**."
   ]
  },
  {
   "cell_type": "markdown",
   "metadata": {},
   "source": [
    "## Complément - niveau intermédiaire"
   ]
  },
  {
   "cell_type": "markdown",
   "metadata": {},
   "source": [
    "### Allouer et initialiser de la mémoire prend du temps"
   ]
  },
  {
   "cell_type": "markdown",
   "metadata": {},
   "source": [
    "Ce phénomène peut vous paraître surprenant si vous n'êtes pas familier avec l'informatique. À première vue, si on juge superficiellement, on peut se demander ce qui se passe. \n",
    "\n",
    "En fait, pour créer la liste des `taille` premiers entiers, il faut\n",
    " * d'abord allouer suffisamment de mémoire pour tous les ranger\n",
    " * et ensuite remplir les `taille` cases de la liste avec les valeurs\n",
    "\n",
    "Ces deux opérations semblent banales, mais elles prennent néanmoins un peu de temps, qui à grande échelle devient sensible, comme nous venons de l'expérimenter."
   ]
  },
  {
   "cell_type": "markdown",
   "metadata": {},
   "source": [
    "### Un itérateur est un objet minuscule"
   ]
  },
  {
   "cell_type": "markdown",
   "metadata": {},
   "source": [
    "A contrario, un itérateur du type `xrange` ne **contient presque rien**. Cela sera approfondi en semaine 6, mais pour anticiper un peu la fonction d'un iterateur `xrange` consiste uniquement à mémoriser les paramètres de la boucle, et à quelle étape on en est rendu à un moment donné. \n",
    "\n",
    "Ce qui explique le temps très faible, et constant en fonction de `taille`, que l'on a observé pour la création de nos itérateurs."
   ]
  },
  {
   "cell_type": "markdown",
   "metadata": {},
   "source": [
    "### Des itérateurs pour tout"
   ]
  },
  {
   "cell_type": "markdown",
   "metadata": {},
   "source": [
    "Au fur et à mesure de l'évolution de python-2, on a petit à petit ajouté des utilitaires pour calculer des itérateurs plutôt que des listes. C'est le cas par exemple avec les fonctions et méthodes suivantes&nbsp;:\n",
    "\n",
    "<table>\n",
    "<tr> <th>Original</th>  <th>Amélioré</th>  </tr>\n",
    "<tr> <td>`range`</td>  <td>`xrange`</td>  </tr>\n",
    "<tr> <td>`dict.keys`</td>  <td>`dict.iterkeys`</td>  </tr>\n",
    "<tr> <td>`dict.values`</td>  <td>`dict.itervalues`</td>  </tr>\n",
    "<tr> <td>`dict.items`</td>  <td>`dict.iteritems`</td>  </tr>\n",
    "</table>"
   ]
  },
  {
   "cell_type": "markdown",
   "metadata": {},
   "source": [
    "### python-3"
   ]
  },
  {
   "cell_type": "markdown",
   "metadata": {},
   "source": [
    "Parmi les grandes différences entre python-2 et python-3, il y a ceci&nbsp;: pour toutes les méthodes ci-dessus, la sémantique est sytématiquement de retourner un itérateur. \n",
    "\n",
    "Ainsi en python-3, `range(10)` retourne un objet itérateur. Et il n'y a pas de fonction `xrange`, sachant qu'on peut toujours construire une liste liste en appelant explicitement la fonction `list` comme ceci&nbsp;:"
   ]
  },
  {
   "cell_type": "markdown",
   "metadata": {},
   "source": [
    "    ~ $ python3\n",
    "    Python 3.4.1 (default, Sep 20 2014, 19:44:17)\n",
    "    [GCC 4.2.1 Compatible Apple LLVM 5.1 (clang-503.0.40)] on darwin\n",
    "    Type \"help\", \"copyright\", \"credits\" or \"license\" for more information.\n",
    "    >>>\n",
    "    >>> range(10)\n",
    "    range(0, 10)\n",
    "    >>>\n",
    "    >>> xrange(10)\n",
    "    Traceback (most recent call last):\n",
    "      File \"<stdin>\", line 1, in <module>\n",
    "    NameError: name 'xrange' is not defined\n",
    "    >>>\n",
    "    >>> list(range(10))\n",
    "    [0, 1, 2, 3, 4, 5, 6, 7, 8, 9]\n",
    "    >>>"
   ]
  },
  {
   "cell_type": "markdown",
   "metadata": {},
   "source": [
    "## Complément - niveau avancé"
   ]
  },
  {
   "cell_type": "markdown",
   "metadata": {},
   "source": [
    "Pour finir, et pour revenir sur les mesures de performances, voici une astuce qui permet de lancer  de petits benchmarkes dans un terminal&nbsp;:"
   ]
  },
  {
   "cell_type": "markdown",
   "metadata": {},
   "source": [
    "    $ python -m timeit 'liste=range(10**6)' 'for x in liste: x+1'\n",
    "    10 loops, best of 3: 50.5 msec per loop"
   ]
  },
  {
   "cell_type": "markdown",
   "metadata": {},
   "source": [
    "Ceci met en jeu un certain nombre de choses nouvelles:\n",
    " * python avec l'option -m permet d'importer un module, en l'occurrence ici [le module `timeit`](https://docs.python.org/2/library/timeit.html);\n",
    " * avec cette forme on peut passer à `timeit` plusieurs instructions; ici nous avons deux instructions, une pour initialiser `liste`, la seconde pour lancer la boucle `for`;\n",
    " * il est possible d'écrire des instructions sur une seule ligne. Ici le dernier argument passé à python est \n",
    " \n",
    "    for x in liste: x+1\n",
    "    \n",
    "   qui est interprété comme une seule ligne. Cette pratique doit absolument rester limitée à de tels usages spécifiques.\n"
   ]
  },
  {
   "cell_type": "markdown",
   "metadata": {},
   "source": [
    "Cette forme est pratique notamment parce que `timeit` fait, comme on le voit, plusieurs essais successifs qui donnent un résultat plus représentatif. C'est pourquoi vous la trouverez fréquemment utilisée dans les forums de discussion autour de python."
   ]
  }
 ],
 "metadata": {
  "kernelspec": {
   "display_name": "Python 2",
   "language": "python",
   "name": "python2"
  },
  "language_info": {
   "codemirror_mode": {
    "name": "ipython",
    "version": 2
   },
   "file_extension": ".py",
   "mimetype": "text/x-python",
   "name": "python",
   "nbconvert_exporter": "python",
   "pygments_lexer": "ipython2",
   "version": "2.7.11"
  },
  "notebookname": "Itérateurs et performances",
  "version": "2.0"
 },
 "nbformat": 4,
 "nbformat_minor": 0
}
