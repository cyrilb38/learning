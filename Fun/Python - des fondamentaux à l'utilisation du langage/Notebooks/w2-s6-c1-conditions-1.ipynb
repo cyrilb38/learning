{
 "cells": [
  {
   "cell_type": "markdown",
   "metadata": {},
   "source": [
    "<span style=\"float:left;\">Licence CC BY-NC-ND</span><span style=\"float:right;\">Thierry Parmentelat &amp; Arnaud Legout&nbsp;<img src=\"media/inria-25.png\" style=\"display:inline\"></span><br/>"
   ]
  },
  {
   "cell_type": "markdown",
   "metadata": {},
   "source": [
    "# Conditions & Expressions Booléennes"
   ]
  },
  {
   "cell_type": "markdown",
   "metadata": {},
   "source": [
    "## Complément : niveau basique"
   ]
  },
  {
   "cell_type": "markdown",
   "metadata": {},
   "source": [
    "Nous présentons rapidement dans ce notebook comment construire la condition qui contrôle l'exécution d'un `if`"
   ]
  },
  {
   "cell_type": "markdown",
   "metadata": {},
   "source": [
    "### Tests considérés comme vrai"
   ]
  },
  {
   "cell_type": "markdown",
   "metadata": {},
   "source": [
    "Lorsqu'on écrit une instuction comme\n",
    "\n",
    "    if <expression>:\n",
    "       <do_something>\n",
    "    \n",
    "le résultat de l'expression peut **ne pas être un booléen**. Pour la plupart des types, il existe des valeurs particulières qui **sont** considérées comme fausses. \n",
    "\n",
    "Par exemple, pour n'importe quel type numérique, la valeur 0 est considérée comme fausse. Cela signifie que"
   ]
  },
  {
   "cell_type": "code",
   "execution_count": null,
   "metadata": {
    "collapsed": false
   },
   "outputs": [],
   "source": [
    "if 3 - 3:\n",
    "    print \"ne passera pas par là\""
   ]
  },
  {
   "cell_type": "markdown",
   "metadata": {},
   "source": [
    "De même, une chaîne vide, une liste vide, un tuple vide, sont considérés comme faux. Bref, vous voyez l'idée générale."
   ]
  },
  {
   "cell_type": "code",
   "execution_count": null,
   "metadata": {
    "collapsed": false
   },
   "outputs": [],
   "source": [
    "if \"\": \n",
    "    print \"ne passera pas par là\"\n",
    "if []: \n",
    "    print \"ne passera pas par là\"\n",
    "if ():\n",
    "    print \"ne passera pas par là\""
   ]
  },
  {
   "cell_type": "markdown",
   "metadata": {},
   "source": [
    "Enfin le singleton `None`, que nous verrons bientôt, est lui aussi considéré comme faux. "
   ]
  },
  {
   "cell_type": "markdown",
   "metadata": {},
   "source": [
    "### Égalité"
   ]
  },
  {
   "cell_type": "markdown",
   "metadata": {},
   "source": [
    "Les tests les plus simples se font à l'aide des opérateurs d'égalité, qui fonctionnent sur presque tous les objets (nous verrons un contre-exemple dans la section sur les références partagées). Comme nous l'avons déjà vu, l'opérateur `==` vérifie si deux objets ont la même valeur"
   ]
  },
  {
   "cell_type": "code",
   "execution_count": null,
   "metadata": {
    "collapsed": false
   },
   "outputs": [],
   "source": [
    "bas = 12\n",
    "haut = 25.82\n",
    "# égalité \n",
    "if bas == haut:\n",
    "    print '=='\n",
    "# non égalité\n",
    "if bas != haut:\n",
    "    print '!='"
   ]
  },
  {
   "cell_type": "markdown",
   "metadata": {},
   "source": [
    "En genéral, deux objets de types différents ne peuvent pas être égaux."
   ]
  },
  {
   "cell_type": "code",
   "execution_count": null,
   "metadata": {
    "collapsed": false
   },
   "outputs": [],
   "source": [
    "if [1, 2] != (1, 2):\n",
    "    print '!='"
   ]
  },
  {
   "cell_type": "markdown",
   "metadata": {},
   "source": [
    "Par contre, des `float`, des `int` et des `long` peuvent être égaux entre eux."
   ]
  },
  {
   "cell_type": "code",
   "execution_count": null,
   "metadata": {
    "collapsed": false
   },
   "outputs": [],
   "source": [
    "bas_reel = 12.\n",
    "if bas == bas_reel:\n",
    "    print '=='"
   ]
  },
  {
   "cell_type": "markdown",
   "metadata": {},
   "source": [
    "Signalons à titre un peu anecdotique une syntaxe ancienne: historiquement on pouvait aussi noter `<>` le test de non égalité. On trouve ceci dans du code ancien mais il faut éviter de l'utiliser"
   ]
  },
  {
   "cell_type": "code",
   "execution_count": null,
   "metadata": {
    "collapsed": false
   },
   "outputs": [],
   "source": [
    "# l'ancienne forme de !=\n",
    "if bas <> haut:\n",
    "    print '<> est obsolete'\n"
   ]
  },
  {
   "cell_type": "markdown",
   "metadata": {},
   "source": [
    "### Les opérateurs de comparaison "
   ]
  },
  {
   "cell_type": "markdown",
   "metadata": {},
   "source": [
    "Sans grande surprise on peut aussi écrire"
   ]
  },
  {
   "cell_type": "code",
   "execution_count": null,
   "metadata": {
    "collapsed": false
   },
   "outputs": [],
   "source": [
    "if bas <= haut:\n",
    "    print '<='\n",
    "if bas < haut:\n",
    "    print '<'\n",
    "if bas >= haut:\n",
    "    print '>='\n",
    "if bas > haut:\n",
    "    print '>'\n"
   ]
  },
  {
   "cell_type": "markdown",
   "metadata": {},
   "source": [
    "On peut là aussi les utiliser sur une palette assez large de types, comme par exemple avec les listes"
   ]
  },
  {
   "cell_type": "code",
   "execution_count": null,
   "metadata": {
    "collapsed": false
   },
   "outputs": [],
   "source": [
    "[1, 2] <= [2, 3]"
   ]
  },
  {
   "cell_type": "markdown",
   "metadata": {},
   "source": [
    "Il est parfois utile de vérifier le sens qui est donné à ces opérateurs selon le type; ainsi par exemple ils désignent l'inclusion sur les ensembles - que nous verrons bientôt. \n",
    "\n",
    "Il faut aussi se méfier avec les types numériques, si un complexe est impliqué, comme par exemple:\n",
    "\n",
    "    >>> 3 <= 3j\n",
    "    Traceback (most recent call last):\n",
    "      File \"<stdin>\", line 1, in <module>\n",
    "    TypeError: no ordering relation is defined for complex numbers\n"
   ]
  },
  {
   "cell_type": "markdown",
   "metadata": {},
   "source": [
    "### Connecteurs logiques et / ou / non"
   ]
  },
  {
   "cell_type": "markdown",
   "metadata": {},
   "source": [
    "On peut bien sûr combiner facilement plusieurs expressions entre elles, grâce aux opérateurs `and`, `or` et `not`"
   ]
  },
  {
   "cell_type": "code",
   "execution_count": null,
   "metadata": {
    "collapsed": false
   },
   "outputs": [],
   "source": [
    "# il ne faut pas faire ceci, mettez des parenthèses\n",
    "if 12 <= 25. or [1, 2] <= [2, 3] and not 12 <= 32 :\n",
    "    print \"OK mais pourrait être mieux\""
   ]
  },
  {
   "cell_type": "markdown",
   "metadata": {},
   "source": [
    "En termes de priorités: le plus simple si vous avez une expression compliquée reste de mettre les parenthèses qui rendent son évaluation claire et lisible pour tous. Aussi on préfèrera de beaucoup la formulation équivalente"
   ]
  },
  {
   "cell_type": "code",
   "execution_count": null,
   "metadata": {
    "collapsed": false
   },
   "outputs": [],
   "source": [
    "# c'est mieux\n",
    "if 12 <= 25. or ([1, 2] <= [2, 3] and not 12 <= 32) :\n",
    "    print \"OK, c'est équivalent et plus clair\"\n",
    "\n",
    "# c'est bien le parenthésage ci-dessus, puisque:\n",
    "if (12 <= 25. or [1, 2] <= [2, 3]) and not 12 <= 32 :\n",
    "    print \"ce n'est pas équivalent, ne passera pas par là\""
   ]
  },
  {
   "cell_type": "markdown",
   "metadata": {},
   "source": [
    "### Pour en savoir plus"
   ]
  },
  {
   "cell_type": "markdown",
   "metadata": {},
   "source": [
    "Reportez-vous à la section sur les [opérateurs booléens](https://docs.python.org/2/library/stdtypes.html#truth-value-testing) dans la documentation python"
   ]
  }
 ],
 "metadata": {
  "kernelspec": {
   "display_name": "Python 2",
   "language": "python",
   "name": "python2"
  },
  "notebookname": "Conditions",
  "version": "2.0"
 },
 "nbformat": 4,
 "nbformat_minor": 0
}