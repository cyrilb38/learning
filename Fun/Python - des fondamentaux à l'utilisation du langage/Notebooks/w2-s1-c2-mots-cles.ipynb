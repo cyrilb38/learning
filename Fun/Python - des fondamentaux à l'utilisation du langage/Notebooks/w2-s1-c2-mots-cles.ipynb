{
 "cells": [
  {
   "cell_type": "markdown",
   "metadata": {},
   "source": [
    "<span style=\"float:left;\">Licence CC BY-NC-ND</span><span style=\"float:right;\">Thierry Parmentelat &amp; Arnaud Legout&nbsp;<img src=\"media/inria-25.png\" style=\"display:inline\"></span><br/>"
   ]
  },
  {
   "cell_type": "markdown",
   "metadata": {},
   "source": [
    "# Les mots-clés de python"
   ]
  },
  {
   "cell_type": "markdown",
   "metadata": {},
   "source": [
    "### Mots réservés"
   ]
  },
  {
   "cell_type": "markdown",
   "metadata": {},
   "source": [
    "Il existe en python certains mots spéciaux, qu'on appelle des mots-clés, ou `keywords` en anglais, qui sont réservés et **ne peuvent pas être utilisés** comme identifiants, c'est-à-dire comme un nom de variable."
   ]
  },
  {
   "cell_type": "markdown",
   "metadata": {},
   "source": [
    "C'est le cas par exemple pour l'instruction `print`, que nous verrons prochainement, et qui comme son nom l'indique imprime un résultat"
   ]
  },
  {
   "cell_type": "code",
   "execution_count": null,
   "metadata": {
    "collapsed": false
   },
   "outputs": [],
   "source": [
    "print \"Hello world !\""
   ]
  },
  {
   "cell_type": "markdown",
   "metadata": {},
   "source": [
    "À cause de la présence de cette instruction dans le langage, il n'est pas autorisé d'appeler une variable `print`:"
   ]
  },
  {
   "cell_type": "code",
   "execution_count": null,
   "metadata": {
    "collapsed": false
   },
   "outputs": [],
   "source": [
    "# interdit\n",
    "print = 1"
   ]
  },
  {
   "cell_type": "markdown",
   "metadata": {},
   "source": [
    "### Liste complète"
   ]
  },
  {
   "cell_type": "markdown",
   "metadata": {},
   "source": [
    "Voici la liste complète des mots-clés:"
   ]
  },
  {
   "cell_type": "markdown",
   "metadata": {},
   "source": [
    "<table border=\"0\"><tbody>\n",
    "<tr><td>`and`</td>       <td>`del`</td>       <td>`from`</td>      <td>`not`</td>       <td>`while`</td></tr>\n",
    "<tr><td>`as`</td>        <td>`elif`</td>      <td>`global`</td>    <td>`or`</td>        <td>`with`</td></tr>\n",
    "<tr><td>`assert`</td>    <td>`else`</td>      <td>`if`</td>        <td>`pass`</td>      <td>`yield`</td></tr>\n",
    "<tr><td>`break`</td>     <td>`except`</td>    <td>`import`</td>    <td>`print`</td> <td></td> </tr>\n",
    "<tr><td>`class`</td>     <td>`exec`</td>      <td>`in`</td>        <td>`raise`</td> <td></td> </tr>\n",
    "<tr><td>`continue`</td>  <td>`finally`</td>   <td>`is`</td>        <td>`return`</td> <td></td> </tr>\n",
    "<tr><td>`def`</td>       <td>`for`</td>       <td>`lambda`</td>    <td>`try`</td> <td></td> </tr>\n",
    "</tbody></table>"
   ]
  },
  {
   "cell_type": "markdown",
   "metadata": {},
   "source": [
    "Il vous faudra donc y prêter attention, surtout au début; avec un tout petit peu d'habitude vous saurez rapidement les éviter. Vous remarquerez aussi que tous les bons éditeurs de texte supportant du code Python vont colorer les mots-clès différemment des variables. Par exemple, IDLE colorie les mots-clès en orange, vous pouvez donc très facilement vous rendre compte que vous allez, par erreur, en utiliser un comme nom de variable. On appelle cette fonctionalité la coloration syntaxique, et elle permet d'identifier facilement (grâce à un code de couleur) le rôle de différents éléments de votre code (variable, mots-clès, etc.) D'une manière générale, nous vous déconseillons fortement d'utiliser un éditeur de texte qui n'offre pas cette fonctionalité de coloration syntaxique. En particulier, IDLE, emacs et eclipse offrent un support approprié, incluant la coloration syntaxique, pour programmer en Python. "
   ]
  },
  {
   "cell_type": "markdown",
   "metadata": {},
   "source": [
    "### Pour en savoir plus"
   ]
  },
  {
   "cell_type": "markdown",
   "metadata": {},
   "source": [
    "On peut se reporter à cette page\n",
    "\n",
    "https://docs.python.org/2/reference/lexical_analysis.html#keywords"
   ]
  }
 ],
 "metadata": {
  "kernelspec": {
   "display_name": "Python 2",
   "language": "python",
   "name": "python2"
  },
  "notebookname": "Les mots-clés",
  "version": "2.0"
 },
 "nbformat": 4,
 "nbformat_minor": 0
}